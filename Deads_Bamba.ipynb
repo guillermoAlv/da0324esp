{
 "cells": [
  {
   "cell_type": "markdown",
   "metadata": {},
   "source": [
    "## Importar las librerías"
   ]
  },
  {
   "cell_type": "code",
   "execution_count": 3,
   "metadata": {},
   "outputs": [],
   "source": [
    "#Librerías para el manejo de datos\n",
    "import pandas as pd\n",
    "import numpy as np\n",
    "\n",
    "#Librerías para la visualización de los datos\n",
    "import matplotlib.pyplot as plt\n",
    "import plotly.express as px\n",
    "import plotly.graph_objs as go\n",
    "import seaborn as sns\n",
    "\n",
    "\n",
    "# Expresiones regulares\n",
    "import re\n",
    "from fuzzywuzzy import process\n",
    "\n",
    "import warnings\n",
    "warnings.filterwarnings('ignore')"
   ]
  },
  {
   "cell_type": "code",
   "execution_count": 2,
   "metadata": {},
   "outputs": [],
   "source": [
    "df_dead=pd.read_csv(r\"C:\\Users\\usuario\\Desktop\\Master Data Analytics\\PROYECTO FINAL - HEALTH ANALYTICS\\Dato\\annual_number_of_deaths_by_cause.csv\")"
   ]
  },
  {
   "cell_type": "code",
   "execution_count": 3,
   "metadata": {},
   "outputs": [],
   "source": [
    "def check_df(df):\n",
    "    print(\"Cuál es la forma del dataframe?\")\n",
    "    display(df.shape)\n",
    "    print(\"\\n------------------------------------------------------------------------------------------------------------------------------------\")\n",
    "    print(\"Cuáles son las columnas del dataframe?\")\n",
    "    print(df.columns)\n",
    "    print(\"\\n------------------------------------------------------------------------------------------------------------------------------------\")\n",
    "    print(\"Cuáles son las primeras 5 filas del dataframe?\")\n",
    "    display(df.head())\n",
    "    print(\"\\n------------------------------------------------------------------------------------------------------------------------------------\")\n",
    "    print(\"Cuáles son las 5 últimas filas?\")\n",
    "    display(df.tail())\n",
    "    print(\"\\n------------------------------------------------------------------------------------------------------------------------------------\")\n",
    "    print(\"Muéstrame 5 filas aleatorias del dataframe\")\n",
    "    display(df.sample(5))\n",
    "    print(\"\\n------------------------------------------------------------------------------------------------------------------------------------\")\n",
    "    print(\"Información sobre la tipología de datos:\")\n",
    "    print(df.dtypes)\n",
    "    print(\"\\n------------------------------------------------------------------------------------------------------------------------------------\")\n",
    "    print(\"Principales datos estadísticos:\")\n",
    "    display(df.describe())\n",
    "    print(\"\\n------------------------------------------------------------------------------------------------------------------------------------\")\n",
    "    print(\"Existen columnas con valores nulos?\")\n",
    "    print(df.isnull().sum())\n",
    "    print(\"\\n------------------------------------------------------------------------------------------------------------------------------------\")\n",
    "    print(\"Existen columnas con valores duplicados?\")\n",
    "    print(df.duplicated().sum())"
   ]
  },
  {
   "cell_type": "code",
   "execution_count": 4,
   "metadata": {},
   "outputs": [
    {
     "name": "stdout",
     "output_type": "stream",
     "text": [
      "Cuál es la forma del dataframe?\n"
     ]
    },
    {
     "data": {
      "text/plain": [
       "(6840, 34)"
      ]
     },
     "metadata": {},
     "output_type": "display_data"
    },
    {
     "name": "stdout",
     "output_type": "stream",
     "text": [
      "\n",
      "------------------------------------------------------------------------------------------------------------------------------------\n",
      "Cuáles son las columnas del dataframe?\n",
      "Index(['Entity', 'Code', 'Year',\n",
      "       'Deaths - Meningitis - Sex: Both - Age: All Ages (Number)',\n",
      "       'Deaths - Alzheimer's disease and other dementias - Sex: Both - Age: All Ages (Number)',\n",
      "       'Deaths - Parkinson's disease - Sex: Both - Age: All Ages (Number)',\n",
      "       'Deaths - Nutritional deficiencies - Sex: Both - Age: All Ages (Number)',\n",
      "       'Deaths - Malaria - Sex: Both - Age: All Ages (Number)',\n",
      "       'Deaths - Drowning - Sex: Both - Age: All Ages (Number)',\n",
      "       'Deaths - Interpersonal violence - Sex: Both - Age: All Ages (Number)',\n",
      "       'Deaths - Maternal disorders - Sex: Both - Age: All Ages (Number)',\n",
      "       'Deaths - HIV/AIDS - Sex: Both - Age: All Ages (Number)',\n",
      "       'Deaths - Drug use disorders - Sex: Both - Age: All Ages (Number)',\n",
      "       'Deaths - Tuberculosis - Sex: Both - Age: All Ages (Number)',\n",
      "       'Deaths - Cardiovascular diseases - Sex: Both - Age: All Ages (Number)',\n",
      "       'Deaths - Lower respiratory infections - Sex: Both - Age: All Ages (Number)',\n",
      "       'Deaths - Neonatal disorders - Sex: Both - Age: All Ages (Number)',\n",
      "       'Deaths - Alcohol use disorders - Sex: Both - Age: All Ages (Number)',\n",
      "       'Deaths - Self-harm - Sex: Both - Age: All Ages (Number)',\n",
      "       'Deaths - Exposure to forces of nature - Sex: Both - Age: All Ages (Number)',\n",
      "       'Deaths - Diarrheal diseases - Sex: Both - Age: All Ages (Number)',\n",
      "       'Deaths - Environmental heat and cold exposure - Sex: Both - Age: All Ages (Number)',\n",
      "       'Deaths - Neoplasms - Sex: Both - Age: All Ages (Number)',\n",
      "       'Deaths - Conflict and terrorism - Sex: Both - Age: All Ages (Number)',\n",
      "       'Deaths - Diabetes mellitus - Sex: Both - Age: All Ages (Number)',\n",
      "       'Deaths - Chronic kidney disease - Sex: Both - Age: All Ages (Number)',\n",
      "       'Deaths - Poisonings - Sex: Both - Age: All Ages (Number)',\n",
      "       'Deaths - Protein-energy malnutrition - Sex: Both - Age: All Ages (Number)',\n",
      "       'Deaths - Road injuries - Sex: Both - Age: All Ages (Number)',\n",
      "       'Deaths - Chronic respiratory diseases - Sex: Both - Age: All Ages (Number)',\n",
      "       'Deaths - Cirrhosis and other chronic liver diseases - Sex: Both - Age: All Ages (Number)',\n",
      "       'Deaths - Digestive diseases - Sex: Both - Age: All Ages (Number)',\n",
      "       'Deaths - Fire, heat, and hot substances - Sex: Both - Age: All Ages (Number)',\n",
      "       'Deaths - Acute hepatitis - Sex: Both - Age: All Ages (Number)'],\n",
      "      dtype='object')\n",
      "\n",
      "------------------------------------------------------------------------------------------------------------------------------------\n",
      "Cuáles son las primeras 5 filas del dataframe?\n"
     ]
    },
    {
     "data": {
      "text/html": [
       "<div>\n",
       "<style scoped>\n",
       "    .dataframe tbody tr th:only-of-type {\n",
       "        vertical-align: middle;\n",
       "    }\n",
       "\n",
       "    .dataframe tbody tr th {\n",
       "        vertical-align: top;\n",
       "    }\n",
       "\n",
       "    .dataframe thead th {\n",
       "        text-align: right;\n",
       "    }\n",
       "</style>\n",
       "<table border=\"1\" class=\"dataframe\">\n",
       "  <thead>\n",
       "    <tr style=\"text-align: right;\">\n",
       "      <th></th>\n",
       "      <th>Entity</th>\n",
       "      <th>Code</th>\n",
       "      <th>Year</th>\n",
       "      <th>Deaths - Meningitis - Sex: Both - Age: All Ages (Number)</th>\n",
       "      <th>Deaths - Alzheimer's disease and other dementias - Sex: Both - Age: All Ages (Number)</th>\n",
       "      <th>Deaths - Parkinson's disease - Sex: Both - Age: All Ages (Number)</th>\n",
       "      <th>Deaths - Nutritional deficiencies - Sex: Both - Age: All Ages (Number)</th>\n",
       "      <th>Deaths - Malaria - Sex: Both - Age: All Ages (Number)</th>\n",
       "      <th>Deaths - Drowning - Sex: Both - Age: All Ages (Number)</th>\n",
       "      <th>Deaths - Interpersonal violence - Sex: Both - Age: All Ages (Number)</th>\n",
       "      <th>...</th>\n",
       "      <th>Deaths - Diabetes mellitus - Sex: Both - Age: All Ages (Number)</th>\n",
       "      <th>Deaths - Chronic kidney disease - Sex: Both - Age: All Ages (Number)</th>\n",
       "      <th>Deaths - Poisonings - Sex: Both - Age: All Ages (Number)</th>\n",
       "      <th>Deaths - Protein-energy malnutrition - Sex: Both - Age: All Ages (Number)</th>\n",
       "      <th>Deaths - Road injuries - Sex: Both - Age: All Ages (Number)</th>\n",
       "      <th>Deaths - Chronic respiratory diseases - Sex: Both - Age: All Ages (Number)</th>\n",
       "      <th>Deaths - Cirrhosis and other chronic liver diseases - Sex: Both - Age: All Ages (Number)</th>\n",
       "      <th>Deaths - Digestive diseases - Sex: Both - Age: All Ages (Number)</th>\n",
       "      <th>Deaths - Fire, heat, and hot substances - Sex: Both - Age: All Ages (Number)</th>\n",
       "      <th>Deaths - Acute hepatitis - Sex: Both - Age: All Ages (Number)</th>\n",
       "    </tr>\n",
       "  </thead>\n",
       "  <tbody>\n",
       "    <tr>\n",
       "      <th>0</th>\n",
       "      <td>Afghanistan</td>\n",
       "      <td>AFG</td>\n",
       "      <td>1990</td>\n",
       "      <td>2159</td>\n",
       "      <td>1116</td>\n",
       "      <td>371</td>\n",
       "      <td>2087</td>\n",
       "      <td>93</td>\n",
       "      <td>1370</td>\n",
       "      <td>1538</td>\n",
       "      <td>...</td>\n",
       "      <td>2108</td>\n",
       "      <td>3709</td>\n",
       "      <td>338</td>\n",
       "      <td>2054</td>\n",
       "      <td>4154</td>\n",
       "      <td>5945</td>\n",
       "      <td>2673</td>\n",
       "      <td>5005</td>\n",
       "      <td>323</td>\n",
       "      <td>2985</td>\n",
       "    </tr>\n",
       "    <tr>\n",
       "      <th>1</th>\n",
       "      <td>Afghanistan</td>\n",
       "      <td>AFG</td>\n",
       "      <td>1991</td>\n",
       "      <td>2218</td>\n",
       "      <td>1136</td>\n",
       "      <td>374</td>\n",
       "      <td>2153</td>\n",
       "      <td>189</td>\n",
       "      <td>1391</td>\n",
       "      <td>2001</td>\n",
       "      <td>...</td>\n",
       "      <td>2120</td>\n",
       "      <td>3724</td>\n",
       "      <td>351</td>\n",
       "      <td>2119</td>\n",
       "      <td>4472</td>\n",
       "      <td>6050</td>\n",
       "      <td>2728</td>\n",
       "      <td>5120</td>\n",
       "      <td>332</td>\n",
       "      <td>3092</td>\n",
       "    </tr>\n",
       "    <tr>\n",
       "      <th>2</th>\n",
       "      <td>Afghanistan</td>\n",
       "      <td>AFG</td>\n",
       "      <td>1992</td>\n",
       "      <td>2475</td>\n",
       "      <td>1162</td>\n",
       "      <td>378</td>\n",
       "      <td>2441</td>\n",
       "      <td>239</td>\n",
       "      <td>1514</td>\n",
       "      <td>2299</td>\n",
       "      <td>...</td>\n",
       "      <td>2153</td>\n",
       "      <td>3776</td>\n",
       "      <td>386</td>\n",
       "      <td>2404</td>\n",
       "      <td>5106</td>\n",
       "      <td>6223</td>\n",
       "      <td>2830</td>\n",
       "      <td>5335</td>\n",
       "      <td>360</td>\n",
       "      <td>3325</td>\n",
       "    </tr>\n",
       "    <tr>\n",
       "      <th>3</th>\n",
       "      <td>Afghanistan</td>\n",
       "      <td>AFG</td>\n",
       "      <td>1993</td>\n",
       "      <td>2812</td>\n",
       "      <td>1187</td>\n",
       "      <td>384</td>\n",
       "      <td>2837</td>\n",
       "      <td>108</td>\n",
       "      <td>1687</td>\n",
       "      <td>2589</td>\n",
       "      <td>...</td>\n",
       "      <td>2195</td>\n",
       "      <td>3862</td>\n",
       "      <td>425</td>\n",
       "      <td>2797</td>\n",
       "      <td>5681</td>\n",
       "      <td>6445</td>\n",
       "      <td>2943</td>\n",
       "      <td>5568</td>\n",
       "      <td>396</td>\n",
       "      <td>3601</td>\n",
       "    </tr>\n",
       "    <tr>\n",
       "      <th>4</th>\n",
       "      <td>Afghanistan</td>\n",
       "      <td>AFG</td>\n",
       "      <td>1994</td>\n",
       "      <td>3027</td>\n",
       "      <td>1211</td>\n",
       "      <td>391</td>\n",
       "      <td>3081</td>\n",
       "      <td>211</td>\n",
       "      <td>1809</td>\n",
       "      <td>2849</td>\n",
       "      <td>...</td>\n",
       "      <td>2231</td>\n",
       "      <td>3932</td>\n",
       "      <td>451</td>\n",
       "      <td>3038</td>\n",
       "      <td>6001</td>\n",
       "      <td>6664</td>\n",
       "      <td>3027</td>\n",
       "      <td>5739</td>\n",
       "      <td>420</td>\n",
       "      <td>3816</td>\n",
       "    </tr>\n",
       "  </tbody>\n",
       "</table>\n",
       "<p>5 rows × 34 columns</p>\n",
       "</div>"
      ],
      "text/plain": [
       "        Entity Code  Year  \\\n",
       "0  Afghanistan  AFG  1990   \n",
       "1  Afghanistan  AFG  1991   \n",
       "2  Afghanistan  AFG  1992   \n",
       "3  Afghanistan  AFG  1993   \n",
       "4  Afghanistan  AFG  1994   \n",
       "\n",
       "   Deaths - Meningitis - Sex: Both - Age: All Ages (Number)  \\\n",
       "0                                               2159          \n",
       "1                                               2218          \n",
       "2                                               2475          \n",
       "3                                               2812          \n",
       "4                                               3027          \n",
       "\n",
       "   Deaths - Alzheimer's disease and other dementias - Sex: Both - Age: All Ages (Number)  \\\n",
       "0                                               1116                                       \n",
       "1                                               1136                                       \n",
       "2                                               1162                                       \n",
       "3                                               1187                                       \n",
       "4                                               1211                                       \n",
       "\n",
       "   Deaths - Parkinson's disease - Sex: Both - Age: All Ages (Number)  \\\n",
       "0                                                371                   \n",
       "1                                                374                   \n",
       "2                                                378                   \n",
       "3                                                384                   \n",
       "4                                                391                   \n",
       "\n",
       "   Deaths - Nutritional deficiencies - Sex: Both - Age: All Ages (Number)  \\\n",
       "0                                               2087                        \n",
       "1                                               2153                        \n",
       "2                                               2441                        \n",
       "3                                               2837                        \n",
       "4                                               3081                        \n",
       "\n",
       "   Deaths - Malaria - Sex: Both - Age: All Ages (Number)  \\\n",
       "0                                                 93       \n",
       "1                                                189       \n",
       "2                                                239       \n",
       "3                                                108       \n",
       "4                                                211       \n",
       "\n",
       "   Deaths - Drowning - Sex: Both - Age: All Ages (Number)  \\\n",
       "0                                               1370        \n",
       "1                                               1391        \n",
       "2                                               1514        \n",
       "3                                               1687        \n",
       "4                                               1809        \n",
       "\n",
       "   Deaths - Interpersonal violence - Sex: Both - Age: All Ages (Number)  ...  \\\n",
       "0                                               1538                     ...   \n",
       "1                                               2001                     ...   \n",
       "2                                               2299                     ...   \n",
       "3                                               2589                     ...   \n",
       "4                                               2849                     ...   \n",
       "\n",
       "   Deaths - Diabetes mellitus - Sex: Both - Age: All Ages (Number)  \\\n",
       "0                                               2108                 \n",
       "1                                               2120                 \n",
       "2                                               2153                 \n",
       "3                                               2195                 \n",
       "4                                               2231                 \n",
       "\n",
       "   Deaths - Chronic kidney disease - Sex: Both - Age: All Ages (Number)  \\\n",
       "0                                               3709                      \n",
       "1                                               3724                      \n",
       "2                                               3776                      \n",
       "3                                               3862                      \n",
       "4                                               3932                      \n",
       "\n",
       "   Deaths - Poisonings - Sex: Both - Age: All Ages (Number)  \\\n",
       "0                                                338          \n",
       "1                                                351          \n",
       "2                                                386          \n",
       "3                                                425          \n",
       "4                                                451          \n",
       "\n",
       "   Deaths - Protein-energy malnutrition - Sex: Both - Age: All Ages (Number)  \\\n",
       "0                                               2054                           \n",
       "1                                               2119                           \n",
       "2                                               2404                           \n",
       "3                                               2797                           \n",
       "4                                               3038                           \n",
       "\n",
       "   Deaths - Road injuries - Sex: Both - Age: All Ages (Number)  \\\n",
       "0                                               4154             \n",
       "1                                               4472             \n",
       "2                                               5106             \n",
       "3                                               5681             \n",
       "4                                               6001             \n",
       "\n",
       "   Deaths - Chronic respiratory diseases - Sex: Both - Age: All Ages (Number)  \\\n",
       "0                                               5945                            \n",
       "1                                               6050                            \n",
       "2                                               6223                            \n",
       "3                                               6445                            \n",
       "4                                               6664                            \n",
       "\n",
       "   Deaths - Cirrhosis and other chronic liver diseases - Sex: Both - Age: All Ages (Number)  \\\n",
       "0                                               2673                                          \n",
       "1                                               2728                                          \n",
       "2                                               2830                                          \n",
       "3                                               2943                                          \n",
       "4                                               3027                                          \n",
       "\n",
       "   Deaths - Digestive diseases - Sex: Both - Age: All Ages (Number)  \\\n",
       "0                                               5005                  \n",
       "1                                               5120                  \n",
       "2                                               5335                  \n",
       "3                                               5568                  \n",
       "4                                               5739                  \n",
       "\n",
       "   Deaths - Fire, heat, and hot substances - Sex: Both - Age: All Ages (Number)  \\\n",
       "0                                                323                              \n",
       "1                                                332                              \n",
       "2                                                360                              \n",
       "3                                                396                              \n",
       "4                                                420                              \n",
       "\n",
       "   Deaths - Acute hepatitis - Sex: Both - Age: All Ages (Number)  \n",
       "0                                               2985              \n",
       "1                                               3092              \n",
       "2                                               3325              \n",
       "3                                               3601              \n",
       "4                                               3816              \n",
       "\n",
       "[5 rows x 34 columns]"
      ]
     },
     "metadata": {},
     "output_type": "display_data"
    },
    {
     "name": "stdout",
     "output_type": "stream",
     "text": [
      "\n",
      "------------------------------------------------------------------------------------------------------------------------------------\n",
      "Cuáles son las 5 últimas filas?\n"
     ]
    },
    {
     "data": {
      "text/html": [
       "<div>\n",
       "<style scoped>\n",
       "    .dataframe tbody tr th:only-of-type {\n",
       "        vertical-align: middle;\n",
       "    }\n",
       "\n",
       "    .dataframe tbody tr th {\n",
       "        vertical-align: top;\n",
       "    }\n",
       "\n",
       "    .dataframe thead th {\n",
       "        text-align: right;\n",
       "    }\n",
       "</style>\n",
       "<table border=\"1\" class=\"dataframe\">\n",
       "  <thead>\n",
       "    <tr style=\"text-align: right;\">\n",
       "      <th></th>\n",
       "      <th>Entity</th>\n",
       "      <th>Code</th>\n",
       "      <th>Year</th>\n",
       "      <th>Deaths - Meningitis - Sex: Both - Age: All Ages (Number)</th>\n",
       "      <th>Deaths - Alzheimer's disease and other dementias - Sex: Both - Age: All Ages (Number)</th>\n",
       "      <th>Deaths - Parkinson's disease - Sex: Both - Age: All Ages (Number)</th>\n",
       "      <th>Deaths - Nutritional deficiencies - Sex: Both - Age: All Ages (Number)</th>\n",
       "      <th>Deaths - Malaria - Sex: Both - Age: All Ages (Number)</th>\n",
       "      <th>Deaths - Drowning - Sex: Both - Age: All Ages (Number)</th>\n",
       "      <th>Deaths - Interpersonal violence - Sex: Both - Age: All Ages (Number)</th>\n",
       "      <th>...</th>\n",
       "      <th>Deaths - Diabetes mellitus - Sex: Both - Age: All Ages (Number)</th>\n",
       "      <th>Deaths - Chronic kidney disease - Sex: Both - Age: All Ages (Number)</th>\n",
       "      <th>Deaths - Poisonings - Sex: Both - Age: All Ages (Number)</th>\n",
       "      <th>Deaths - Protein-energy malnutrition - Sex: Both - Age: All Ages (Number)</th>\n",
       "      <th>Deaths - Road injuries - Sex: Both - Age: All Ages (Number)</th>\n",
       "      <th>Deaths - Chronic respiratory diseases - Sex: Both - Age: All Ages (Number)</th>\n",
       "      <th>Deaths - Cirrhosis and other chronic liver diseases - Sex: Both - Age: All Ages (Number)</th>\n",
       "      <th>Deaths - Digestive diseases - Sex: Both - Age: All Ages (Number)</th>\n",
       "      <th>Deaths - Fire, heat, and hot substances - Sex: Both - Age: All Ages (Number)</th>\n",
       "      <th>Deaths - Acute hepatitis - Sex: Both - Age: All Ages (Number)</th>\n",
       "    </tr>\n",
       "  </thead>\n",
       "  <tbody>\n",
       "    <tr>\n",
       "      <th>6835</th>\n",
       "      <td>Zimbabwe</td>\n",
       "      <td>ZWE</td>\n",
       "      <td>2015</td>\n",
       "      <td>1439</td>\n",
       "      <td>754</td>\n",
       "      <td>215</td>\n",
       "      <td>3019</td>\n",
       "      <td>2518</td>\n",
       "      <td>770</td>\n",
       "      <td>1302</td>\n",
       "      <td>...</td>\n",
       "      <td>3176</td>\n",
       "      <td>2108</td>\n",
       "      <td>381</td>\n",
       "      <td>2990</td>\n",
       "      <td>2373</td>\n",
       "      <td>2751</td>\n",
       "      <td>1956</td>\n",
       "      <td>4202</td>\n",
       "      <td>632</td>\n",
       "      <td>146</td>\n",
       "    </tr>\n",
       "    <tr>\n",
       "      <th>6836</th>\n",
       "      <td>Zimbabwe</td>\n",
       "      <td>ZWE</td>\n",
       "      <td>2016</td>\n",
       "      <td>1457</td>\n",
       "      <td>767</td>\n",
       "      <td>219</td>\n",
       "      <td>3056</td>\n",
       "      <td>2050</td>\n",
       "      <td>801</td>\n",
       "      <td>1342</td>\n",
       "      <td>...</td>\n",
       "      <td>3259</td>\n",
       "      <td>2160</td>\n",
       "      <td>393</td>\n",
       "      <td>3027</td>\n",
       "      <td>2436</td>\n",
       "      <td>2788</td>\n",
       "      <td>1962</td>\n",
       "      <td>4264</td>\n",
       "      <td>648</td>\n",
       "      <td>146</td>\n",
       "    </tr>\n",
       "    <tr>\n",
       "      <th>6837</th>\n",
       "      <td>Zimbabwe</td>\n",
       "      <td>ZWE</td>\n",
       "      <td>2017</td>\n",
       "      <td>1460</td>\n",
       "      <td>781</td>\n",
       "      <td>223</td>\n",
       "      <td>2990</td>\n",
       "      <td>2116</td>\n",
       "      <td>818</td>\n",
       "      <td>1363</td>\n",
       "      <td>...</td>\n",
       "      <td>3313</td>\n",
       "      <td>2196</td>\n",
       "      <td>398</td>\n",
       "      <td>2962</td>\n",
       "      <td>2473</td>\n",
       "      <td>2818</td>\n",
       "      <td>2007</td>\n",
       "      <td>4342</td>\n",
       "      <td>654</td>\n",
       "      <td>144</td>\n",
       "    </tr>\n",
       "    <tr>\n",
       "      <th>6838</th>\n",
       "      <td>Zimbabwe</td>\n",
       "      <td>ZWE</td>\n",
       "      <td>2018</td>\n",
       "      <td>1450</td>\n",
       "      <td>795</td>\n",
       "      <td>227</td>\n",
       "      <td>2918</td>\n",
       "      <td>2088</td>\n",
       "      <td>825</td>\n",
       "      <td>1396</td>\n",
       "      <td>...</td>\n",
       "      <td>3381</td>\n",
       "      <td>2240</td>\n",
       "      <td>400</td>\n",
       "      <td>2890</td>\n",
       "      <td>2509</td>\n",
       "      <td>2849</td>\n",
       "      <td>2030</td>\n",
       "      <td>4377</td>\n",
       "      <td>657</td>\n",
       "      <td>139</td>\n",
       "    </tr>\n",
       "    <tr>\n",
       "      <th>6839</th>\n",
       "      <td>Zimbabwe</td>\n",
       "      <td>ZWE</td>\n",
       "      <td>2019</td>\n",
       "      <td>1450</td>\n",
       "      <td>812</td>\n",
       "      <td>232</td>\n",
       "      <td>2884</td>\n",
       "      <td>2068</td>\n",
       "      <td>827</td>\n",
       "      <td>1434</td>\n",
       "      <td>...</td>\n",
       "      <td>3460</td>\n",
       "      <td>2292</td>\n",
       "      <td>405</td>\n",
       "      <td>2855</td>\n",
       "      <td>2554</td>\n",
       "      <td>2891</td>\n",
       "      <td>2065</td>\n",
       "      <td>4437</td>\n",
       "      <td>662</td>\n",
       "      <td>136</td>\n",
       "    </tr>\n",
       "  </tbody>\n",
       "</table>\n",
       "<p>5 rows × 34 columns</p>\n",
       "</div>"
      ],
      "text/plain": [
       "        Entity Code  Year  \\\n",
       "6835  Zimbabwe  ZWE  2015   \n",
       "6836  Zimbabwe  ZWE  2016   \n",
       "6837  Zimbabwe  ZWE  2017   \n",
       "6838  Zimbabwe  ZWE  2018   \n",
       "6839  Zimbabwe  ZWE  2019   \n",
       "\n",
       "      Deaths - Meningitis - Sex: Both - Age: All Ages (Number)  \\\n",
       "6835                                               1439          \n",
       "6836                                               1457          \n",
       "6837                                               1460          \n",
       "6838                                               1450          \n",
       "6839                                               1450          \n",
       "\n",
       "      Deaths - Alzheimer's disease and other dementias - Sex: Both - Age: All Ages (Number)  \\\n",
       "6835                                                754                                       \n",
       "6836                                                767                                       \n",
       "6837                                                781                                       \n",
       "6838                                                795                                       \n",
       "6839                                                812                                       \n",
       "\n",
       "      Deaths - Parkinson's disease - Sex: Both - Age: All Ages (Number)  \\\n",
       "6835                                                215                   \n",
       "6836                                                219                   \n",
       "6837                                                223                   \n",
       "6838                                                227                   \n",
       "6839                                                232                   \n",
       "\n",
       "      Deaths - Nutritional deficiencies - Sex: Both - Age: All Ages (Number)  \\\n",
       "6835                                               3019                        \n",
       "6836                                               3056                        \n",
       "6837                                               2990                        \n",
       "6838                                               2918                        \n",
       "6839                                               2884                        \n",
       "\n",
       "      Deaths - Malaria - Sex: Both - Age: All Ages (Number)  \\\n",
       "6835                                               2518       \n",
       "6836                                               2050       \n",
       "6837                                               2116       \n",
       "6838                                               2088       \n",
       "6839                                               2068       \n",
       "\n",
       "      Deaths - Drowning - Sex: Both - Age: All Ages (Number)  \\\n",
       "6835                                                770        \n",
       "6836                                                801        \n",
       "6837                                                818        \n",
       "6838                                                825        \n",
       "6839                                                827        \n",
       "\n",
       "      Deaths - Interpersonal violence - Sex: Both - Age: All Ages (Number)  \\\n",
       "6835                                               1302                      \n",
       "6836                                               1342                      \n",
       "6837                                               1363                      \n",
       "6838                                               1396                      \n",
       "6839                                               1434                      \n",
       "\n",
       "      ...  Deaths - Diabetes mellitus - Sex: Both - Age: All Ages (Number)  \\\n",
       "6835  ...                                               3176                 \n",
       "6836  ...                                               3259                 \n",
       "6837  ...                                               3313                 \n",
       "6838  ...                                               3381                 \n",
       "6839  ...                                               3460                 \n",
       "\n",
       "      Deaths - Chronic kidney disease - Sex: Both - Age: All Ages (Number)  \\\n",
       "6835                                               2108                      \n",
       "6836                                               2160                      \n",
       "6837                                               2196                      \n",
       "6838                                               2240                      \n",
       "6839                                               2292                      \n",
       "\n",
       "      Deaths - Poisonings - Sex: Both - Age: All Ages (Number)  \\\n",
       "6835                                                381          \n",
       "6836                                                393          \n",
       "6837                                                398          \n",
       "6838                                                400          \n",
       "6839                                                405          \n",
       "\n",
       "      Deaths - Protein-energy malnutrition - Sex: Both - Age: All Ages (Number)  \\\n",
       "6835                                               2990                           \n",
       "6836                                               3027                           \n",
       "6837                                               2962                           \n",
       "6838                                               2890                           \n",
       "6839                                               2855                           \n",
       "\n",
       "      Deaths - Road injuries - Sex: Both - Age: All Ages (Number)  \\\n",
       "6835                                               2373             \n",
       "6836                                               2436             \n",
       "6837                                               2473             \n",
       "6838                                               2509             \n",
       "6839                                               2554             \n",
       "\n",
       "      Deaths - Chronic respiratory diseases - Sex: Both - Age: All Ages (Number)  \\\n",
       "6835                                               2751                            \n",
       "6836                                               2788                            \n",
       "6837                                               2818                            \n",
       "6838                                               2849                            \n",
       "6839                                               2891                            \n",
       "\n",
       "      Deaths - Cirrhosis and other chronic liver diseases - Sex: Both - Age: All Ages (Number)  \\\n",
       "6835                                               1956                                          \n",
       "6836                                               1962                                          \n",
       "6837                                               2007                                          \n",
       "6838                                               2030                                          \n",
       "6839                                               2065                                          \n",
       "\n",
       "      Deaths - Digestive diseases - Sex: Both - Age: All Ages (Number)  \\\n",
       "6835                                               4202                  \n",
       "6836                                               4264                  \n",
       "6837                                               4342                  \n",
       "6838                                               4377                  \n",
       "6839                                               4437                  \n",
       "\n",
       "      Deaths - Fire, heat, and hot substances - Sex: Both - Age: All Ages (Number)  \\\n",
       "6835                                                632                              \n",
       "6836                                                648                              \n",
       "6837                                                654                              \n",
       "6838                                                657                              \n",
       "6839                                                662                              \n",
       "\n",
       "      Deaths - Acute hepatitis - Sex: Both - Age: All Ages (Number)  \n",
       "6835                                                146              \n",
       "6836                                                146              \n",
       "6837                                                144              \n",
       "6838                                                139              \n",
       "6839                                                136              \n",
       "\n",
       "[5 rows x 34 columns]"
      ]
     },
     "metadata": {},
     "output_type": "display_data"
    },
    {
     "name": "stdout",
     "output_type": "stream",
     "text": [
      "\n",
      "------------------------------------------------------------------------------------------------------------------------------------\n",
      "Muéstrame 5 filas aleatorias del dataframe\n"
     ]
    },
    {
     "data": {
      "text/html": [
       "<div>\n",
       "<style scoped>\n",
       "    .dataframe tbody tr th:only-of-type {\n",
       "        vertical-align: middle;\n",
       "    }\n",
       "\n",
       "    .dataframe tbody tr th {\n",
       "        vertical-align: top;\n",
       "    }\n",
       "\n",
       "    .dataframe thead th {\n",
       "        text-align: right;\n",
       "    }\n",
       "</style>\n",
       "<table border=\"1\" class=\"dataframe\">\n",
       "  <thead>\n",
       "    <tr style=\"text-align: right;\">\n",
       "      <th></th>\n",
       "      <th>Entity</th>\n",
       "      <th>Code</th>\n",
       "      <th>Year</th>\n",
       "      <th>Deaths - Meningitis - Sex: Both - Age: All Ages (Number)</th>\n",
       "      <th>Deaths - Alzheimer's disease and other dementias - Sex: Both - Age: All Ages (Number)</th>\n",
       "      <th>Deaths - Parkinson's disease - Sex: Both - Age: All Ages (Number)</th>\n",
       "      <th>Deaths - Nutritional deficiencies - Sex: Both - Age: All Ages (Number)</th>\n",
       "      <th>Deaths - Malaria - Sex: Both - Age: All Ages (Number)</th>\n",
       "      <th>Deaths - Drowning - Sex: Both - Age: All Ages (Number)</th>\n",
       "      <th>Deaths - Interpersonal violence - Sex: Both - Age: All Ages (Number)</th>\n",
       "      <th>...</th>\n",
       "      <th>Deaths - Diabetes mellitus - Sex: Both - Age: All Ages (Number)</th>\n",
       "      <th>Deaths - Chronic kidney disease - Sex: Both - Age: All Ages (Number)</th>\n",
       "      <th>Deaths - Poisonings - Sex: Both - Age: All Ages (Number)</th>\n",
       "      <th>Deaths - Protein-energy malnutrition - Sex: Both - Age: All Ages (Number)</th>\n",
       "      <th>Deaths - Road injuries - Sex: Both - Age: All Ages (Number)</th>\n",
       "      <th>Deaths - Chronic respiratory diseases - Sex: Both - Age: All Ages (Number)</th>\n",
       "      <th>Deaths - Cirrhosis and other chronic liver diseases - Sex: Both - Age: All Ages (Number)</th>\n",
       "      <th>Deaths - Digestive diseases - Sex: Both - Age: All Ages (Number)</th>\n",
       "      <th>Deaths - Fire, heat, and hot substances - Sex: Both - Age: All Ages (Number)</th>\n",
       "      <th>Deaths - Acute hepatitis - Sex: Both - Age: All Ages (Number)</th>\n",
       "    </tr>\n",
       "  </thead>\n",
       "  <tbody>\n",
       "    <tr>\n",
       "      <th>125</th>\n",
       "      <td>American Samoa</td>\n",
       "      <td>ASM</td>\n",
       "      <td>1995</td>\n",
       "      <td>1</td>\n",
       "      <td>3</td>\n",
       "      <td>2</td>\n",
       "      <td>2</td>\n",
       "      <td>0</td>\n",
       "      <td>4</td>\n",
       "      <td>4</td>\n",
       "      <td>...</td>\n",
       "      <td>23</td>\n",
       "      <td>11</td>\n",
       "      <td>0</td>\n",
       "      <td>2</td>\n",
       "      <td>6</td>\n",
       "      <td>19</td>\n",
       "      <td>5</td>\n",
       "      <td>10</td>\n",
       "      <td>0</td>\n",
       "      <td>0</td>\n",
       "    </tr>\n",
       "    <tr>\n",
       "      <th>2484</th>\n",
       "      <td>Guinea</td>\n",
       "      <td>GIN</td>\n",
       "      <td>2014</td>\n",
       "      <td>3546</td>\n",
       "      <td>897</td>\n",
       "      <td>267</td>\n",
       "      <td>2111</td>\n",
       "      <td>13599</td>\n",
       "      <td>547</td>\n",
       "      <td>875</td>\n",
       "      <td>...</td>\n",
       "      <td>1960</td>\n",
       "      <td>1896</td>\n",
       "      <td>287</td>\n",
       "      <td>2048</td>\n",
       "      <td>2241</td>\n",
       "      <td>2842</td>\n",
       "      <td>2394</td>\n",
       "      <td>3957</td>\n",
       "      <td>398</td>\n",
       "      <td>305</td>\n",
       "    </tr>\n",
       "    <tr>\n",
       "      <th>2753</th>\n",
       "      <td>Iran</td>\n",
       "      <td>IRN</td>\n",
       "      <td>2013</td>\n",
       "      <td>847</td>\n",
       "      <td>10647</td>\n",
       "      <td>2319</td>\n",
       "      <td>265</td>\n",
       "      <td>0</td>\n",
       "      <td>1201</td>\n",
       "      <td>2558</td>\n",
       "      <td>...</td>\n",
       "      <td>10783</td>\n",
       "      <td>10008</td>\n",
       "      <td>964</td>\n",
       "      <td>211</td>\n",
       "      <td>24364</td>\n",
       "      <td>14757</td>\n",
       "      <td>5975</td>\n",
       "      <td>10062</td>\n",
       "      <td>2036</td>\n",
       "      <td>437</td>\n",
       "    </tr>\n",
       "    <tr>\n",
       "      <th>5345</th>\n",
       "      <td>Slovakia</td>\n",
       "      <td>SVK</td>\n",
       "      <td>1995</td>\n",
       "      <td>33</td>\n",
       "      <td>1218</td>\n",
       "      <td>257</td>\n",
       "      <td>8</td>\n",
       "      <td>0</td>\n",
       "      <td>177</td>\n",
       "      <td>166</td>\n",
       "      <td>...</td>\n",
       "      <td>737</td>\n",
       "      <td>637</td>\n",
       "      <td>42</td>\n",
       "      <td>5</td>\n",
       "      <td>898</td>\n",
       "      <td>917</td>\n",
       "      <td>1443</td>\n",
       "      <td>2373</td>\n",
       "      <td>67</td>\n",
       "      <td>3</td>\n",
       "    </tr>\n",
       "    <tr>\n",
       "      <th>1873</th>\n",
       "      <td>Eritrea</td>\n",
       "      <td>ERI</td>\n",
       "      <td>2003</td>\n",
       "      <td>973</td>\n",
       "      <td>109</td>\n",
       "      <td>36</td>\n",
       "      <td>1889</td>\n",
       "      <td>293</td>\n",
       "      <td>170</td>\n",
       "      <td>457</td>\n",
       "      <td>...</td>\n",
       "      <td>650</td>\n",
       "      <td>431</td>\n",
       "      <td>127</td>\n",
       "      <td>1829</td>\n",
       "      <td>871</td>\n",
       "      <td>857</td>\n",
       "      <td>1071</td>\n",
       "      <td>1684</td>\n",
       "      <td>140</td>\n",
       "      <td>102</td>\n",
       "    </tr>\n",
       "  </tbody>\n",
       "</table>\n",
       "<p>5 rows × 34 columns</p>\n",
       "</div>"
      ],
      "text/plain": [
       "              Entity Code  Year  \\\n",
       "125   American Samoa  ASM  1995   \n",
       "2484          Guinea  GIN  2014   \n",
       "2753            Iran  IRN  2013   \n",
       "5345        Slovakia  SVK  1995   \n",
       "1873         Eritrea  ERI  2003   \n",
       "\n",
       "      Deaths - Meningitis - Sex: Both - Age: All Ages (Number)  \\\n",
       "125                                                   1          \n",
       "2484                                               3546          \n",
       "2753                                                847          \n",
       "5345                                                 33          \n",
       "1873                                                973          \n",
       "\n",
       "      Deaths - Alzheimer's disease and other dementias - Sex: Both - Age: All Ages (Number)  \\\n",
       "125                                                   3                                       \n",
       "2484                                                897                                       \n",
       "2753                                              10647                                       \n",
       "5345                                               1218                                       \n",
       "1873                                                109                                       \n",
       "\n",
       "      Deaths - Parkinson's disease - Sex: Both - Age: All Ages (Number)  \\\n",
       "125                                                   2                   \n",
       "2484                                                267                   \n",
       "2753                                               2319                   \n",
       "5345                                                257                   \n",
       "1873                                                 36                   \n",
       "\n",
       "      Deaths - Nutritional deficiencies - Sex: Both - Age: All Ages (Number)  \\\n",
       "125                                                   2                        \n",
       "2484                                               2111                        \n",
       "2753                                                265                        \n",
       "5345                                                  8                        \n",
       "1873                                               1889                        \n",
       "\n",
       "      Deaths - Malaria - Sex: Both - Age: All Ages (Number)  \\\n",
       "125                                                   0       \n",
       "2484                                              13599       \n",
       "2753                                                  0       \n",
       "5345                                                  0       \n",
       "1873                                                293       \n",
       "\n",
       "      Deaths - Drowning - Sex: Both - Age: All Ages (Number)  \\\n",
       "125                                                   4        \n",
       "2484                                                547        \n",
       "2753                                               1201        \n",
       "5345                                                177        \n",
       "1873                                                170        \n",
       "\n",
       "      Deaths - Interpersonal violence - Sex: Both - Age: All Ages (Number)  \\\n",
       "125                                                   4                      \n",
       "2484                                                875                      \n",
       "2753                                               2558                      \n",
       "5345                                                166                      \n",
       "1873                                                457                      \n",
       "\n",
       "      ...  Deaths - Diabetes mellitus - Sex: Both - Age: All Ages (Number)  \\\n",
       "125   ...                                                 23                 \n",
       "2484  ...                                               1960                 \n",
       "2753  ...                                              10783                 \n",
       "5345  ...                                                737                 \n",
       "1873  ...                                                650                 \n",
       "\n",
       "      Deaths - Chronic kidney disease - Sex: Both - Age: All Ages (Number)  \\\n",
       "125                                                  11                      \n",
       "2484                                               1896                      \n",
       "2753                                              10008                      \n",
       "5345                                                637                      \n",
       "1873                                                431                      \n",
       "\n",
       "      Deaths - Poisonings - Sex: Both - Age: All Ages (Number)  \\\n",
       "125                                                   0          \n",
       "2484                                                287          \n",
       "2753                                                964          \n",
       "5345                                                 42          \n",
       "1873                                                127          \n",
       "\n",
       "      Deaths - Protein-energy malnutrition - Sex: Both - Age: All Ages (Number)  \\\n",
       "125                                                   2                           \n",
       "2484                                               2048                           \n",
       "2753                                                211                           \n",
       "5345                                                  5                           \n",
       "1873                                               1829                           \n",
       "\n",
       "      Deaths - Road injuries - Sex: Both - Age: All Ages (Number)  \\\n",
       "125                                                   6             \n",
       "2484                                               2241             \n",
       "2753                                              24364             \n",
       "5345                                                898             \n",
       "1873                                                871             \n",
       "\n",
       "      Deaths - Chronic respiratory diseases - Sex: Both - Age: All Ages (Number)  \\\n",
       "125                                                  19                            \n",
       "2484                                               2842                            \n",
       "2753                                              14757                            \n",
       "5345                                                917                            \n",
       "1873                                                857                            \n",
       "\n",
       "      Deaths - Cirrhosis and other chronic liver diseases - Sex: Both - Age: All Ages (Number)  \\\n",
       "125                                                   5                                          \n",
       "2484                                               2394                                          \n",
       "2753                                               5975                                          \n",
       "5345                                               1443                                          \n",
       "1873                                               1071                                          \n",
       "\n",
       "      Deaths - Digestive diseases - Sex: Both - Age: All Ages (Number)  \\\n",
       "125                                                  10                  \n",
       "2484                                               3957                  \n",
       "2753                                              10062                  \n",
       "5345                                               2373                  \n",
       "1873                                               1684                  \n",
       "\n",
       "      Deaths - Fire, heat, and hot substances - Sex: Both - Age: All Ages (Number)  \\\n",
       "125                                                   0                              \n",
       "2484                                                398                              \n",
       "2753                                               2036                              \n",
       "5345                                                 67                              \n",
       "1873                                                140                              \n",
       "\n",
       "      Deaths - Acute hepatitis - Sex: Both - Age: All Ages (Number)  \n",
       "125                                                   0              \n",
       "2484                                                305              \n",
       "2753                                                437              \n",
       "5345                                                  3              \n",
       "1873                                                102              \n",
       "\n",
       "[5 rows x 34 columns]"
      ]
     },
     "metadata": {},
     "output_type": "display_data"
    },
    {
     "name": "stdout",
     "output_type": "stream",
     "text": [
      "\n",
      "------------------------------------------------------------------------------------------------------------------------------------\n",
      "Información sobre la tipología de datos:\n",
      "Entity                                                                                      object\n",
      "Code                                                                                        object\n",
      "Year                                                                                         int64\n",
      "Deaths - Meningitis - Sex: Both - Age: All Ages (Number)                                     int64\n",
      "Deaths - Alzheimer's disease and other dementias - Sex: Both - Age: All Ages (Number)        int64\n",
      "Deaths - Parkinson's disease - Sex: Both - Age: All Ages (Number)                            int64\n",
      "Deaths - Nutritional deficiencies - Sex: Both - Age: All Ages (Number)                       int64\n",
      "Deaths - Malaria - Sex: Both - Age: All Ages (Number)                                        int64\n",
      "Deaths - Drowning - Sex: Both - Age: All Ages (Number)                                       int64\n",
      "Deaths - Interpersonal violence - Sex: Both - Age: All Ages (Number)                         int64\n",
      "Deaths - Maternal disorders - Sex: Both - Age: All Ages (Number)                             int64\n",
      "Deaths - HIV/AIDS - Sex: Both - Age: All Ages (Number)                                       int64\n",
      "Deaths - Drug use disorders - Sex: Both - Age: All Ages (Number)                             int64\n",
      "Deaths - Tuberculosis - Sex: Both - Age: All Ages (Number)                                   int64\n",
      "Deaths - Cardiovascular diseases - Sex: Both - Age: All Ages (Number)                        int64\n",
      "Deaths - Lower respiratory infections - Sex: Both - Age: All Ages (Number)                   int64\n",
      "Deaths - Neonatal disorders - Sex: Both - Age: All Ages (Number)                             int64\n",
      "Deaths - Alcohol use disorders - Sex: Both - Age: All Ages (Number)                          int64\n",
      "Deaths - Self-harm - Sex: Both - Age: All Ages (Number)                                      int64\n",
      "Deaths - Exposure to forces of nature - Sex: Both - Age: All Ages (Number)                   int64\n",
      "Deaths - Diarrheal diseases - Sex: Both - Age: All Ages (Number)                             int64\n",
      "Deaths - Environmental heat and cold exposure - Sex: Both - Age: All Ages (Number)           int64\n",
      "Deaths - Neoplasms - Sex: Both - Age: All Ages (Number)                                      int64\n",
      "Deaths - Conflict and terrorism - Sex: Both - Age: All Ages (Number)                         int64\n",
      "Deaths - Diabetes mellitus - Sex: Both - Age: All Ages (Number)                              int64\n",
      "Deaths - Chronic kidney disease - Sex: Both - Age: All Ages (Number)                         int64\n",
      "Deaths - Poisonings - Sex: Both - Age: All Ages (Number)                                     int64\n",
      "Deaths - Protein-energy malnutrition - Sex: Both - Age: All Ages (Number)                    int64\n",
      "Deaths - Road injuries - Sex: Both - Age: All Ages (Number)                                  int64\n",
      "Deaths - Chronic respiratory diseases - Sex: Both - Age: All Ages (Number)                   int64\n",
      "Deaths - Cirrhosis and other chronic liver diseases - Sex: Both - Age: All Ages (Number)     int64\n",
      "Deaths - Digestive diseases - Sex: Both - Age: All Ages (Number)                             int64\n",
      "Deaths - Fire, heat, and hot substances - Sex: Both - Age: All Ages (Number)                 int64\n",
      "Deaths - Acute hepatitis - Sex: Both - Age: All Ages (Number)                                int64\n",
      "dtype: object\n",
      "\n",
      "------------------------------------------------------------------------------------------------------------------------------------\n",
      "Principales datos estadísticos:\n"
     ]
    },
    {
     "data": {
      "text/html": [
       "<div>\n",
       "<style scoped>\n",
       "    .dataframe tbody tr th:only-of-type {\n",
       "        vertical-align: middle;\n",
       "    }\n",
       "\n",
       "    .dataframe tbody tr th {\n",
       "        vertical-align: top;\n",
       "    }\n",
       "\n",
       "    .dataframe thead th {\n",
       "        text-align: right;\n",
       "    }\n",
       "</style>\n",
       "<table border=\"1\" class=\"dataframe\">\n",
       "  <thead>\n",
       "    <tr style=\"text-align: right;\">\n",
       "      <th></th>\n",
       "      <th>Year</th>\n",
       "      <th>Deaths - Meningitis - Sex: Both - Age: All Ages (Number)</th>\n",
       "      <th>Deaths - Alzheimer's disease and other dementias - Sex: Both - Age: All Ages (Number)</th>\n",
       "      <th>Deaths - Parkinson's disease - Sex: Both - Age: All Ages (Number)</th>\n",
       "      <th>Deaths - Nutritional deficiencies - Sex: Both - Age: All Ages (Number)</th>\n",
       "      <th>Deaths - Malaria - Sex: Both - Age: All Ages (Number)</th>\n",
       "      <th>Deaths - Drowning - Sex: Both - Age: All Ages (Number)</th>\n",
       "      <th>Deaths - Interpersonal violence - Sex: Both - Age: All Ages (Number)</th>\n",
       "      <th>Deaths - Maternal disorders - Sex: Both - Age: All Ages (Number)</th>\n",
       "      <th>Deaths - HIV/AIDS - Sex: Both - Age: All Ages (Number)</th>\n",
       "      <th>...</th>\n",
       "      <th>Deaths - Diabetes mellitus - Sex: Both - Age: All Ages (Number)</th>\n",
       "      <th>Deaths - Chronic kidney disease - Sex: Both - Age: All Ages (Number)</th>\n",
       "      <th>Deaths - Poisonings - Sex: Both - Age: All Ages (Number)</th>\n",
       "      <th>Deaths - Protein-energy malnutrition - Sex: Both - Age: All Ages (Number)</th>\n",
       "      <th>Deaths - Road injuries - Sex: Both - Age: All Ages (Number)</th>\n",
       "      <th>Deaths - Chronic respiratory diseases - Sex: Both - Age: All Ages (Number)</th>\n",
       "      <th>Deaths - Cirrhosis and other chronic liver diseases - Sex: Both - Age: All Ages (Number)</th>\n",
       "      <th>Deaths - Digestive diseases - Sex: Both - Age: All Ages (Number)</th>\n",
       "      <th>Deaths - Fire, heat, and hot substances - Sex: Both - Age: All Ages (Number)</th>\n",
       "      <th>Deaths - Acute hepatitis - Sex: Both - Age: All Ages (Number)</th>\n",
       "    </tr>\n",
       "  </thead>\n",
       "  <tbody>\n",
       "    <tr>\n",
       "      <th>count</th>\n",
       "      <td>6840.000000</td>\n",
       "      <td>6840.000000</td>\n",
       "      <td>6.840000e+03</td>\n",
       "      <td>6840.000000</td>\n",
       "      <td>6840.000000</td>\n",
       "      <td>6840.000000</td>\n",
       "      <td>6840.000000</td>\n",
       "      <td>6840.000000</td>\n",
       "      <td>6840.000000</td>\n",
       "      <td>6.840000e+03</td>\n",
       "      <td>...</td>\n",
       "      <td>6.840000e+03</td>\n",
       "      <td>6.840000e+03</td>\n",
       "      <td>6840.000000</td>\n",
       "      <td>6840.000000</td>\n",
       "      <td>6.840000e+03</td>\n",
       "      <td>6.840000e+03</td>\n",
       "      <td>6.840000e+03</td>\n",
       "      <td>6.840000e+03</td>\n",
       "      <td>6840.000000</td>\n",
       "      <td>6840.000000</td>\n",
       "    </tr>\n",
       "    <tr>\n",
       "      <th>mean</th>\n",
       "      <td>2004.500000</td>\n",
       "      <td>8213.149561</td>\n",
       "      <td>2.736319e+04</td>\n",
       "      <td>6493.627339</td>\n",
       "      <td>11006.353947</td>\n",
       "      <td>18903.160234</td>\n",
       "      <td>8619.055117</td>\n",
       "      <td>10636.648684</td>\n",
       "      <td>6131.066959</td>\n",
       "      <td>2.814125e+04</td>\n",
       "      <td>...</td>\n",
       "      <td>2.714301e+04</td>\n",
       "      <td>2.506893e+04</td>\n",
       "      <td>2145.455848</td>\n",
       "      <td>9531.528801</td>\n",
       "      <td>3.063496e+04</td>\n",
       "      <td>9.130390e+04</td>\n",
       "      <td>3.189892e+04</td>\n",
       "      <td>5.652551e+04</td>\n",
       "      <td>3006.043275</td>\n",
       "      <td>3112.066520</td>\n",
       "    </tr>\n",
       "    <tr>\n",
       "      <th>std</th>\n",
       "      <td>8.656074</td>\n",
       "      <td>34982.933895</td>\n",
       "      <td>1.113146e+05</td>\n",
       "      <td>25767.447063</td>\n",
       "      <td>48289.687100</td>\n",
       "      <td>97346.780570</td>\n",
       "      <td>35879.406010</td>\n",
       "      <td>40888.793762</td>\n",
       "      <td>26355.210370</td>\n",
       "      <td>1.391973e+05</td>\n",
       "      <td>...</td>\n",
       "      <td>1.033752e+05</td>\n",
       "      <td>9.600839e+04</td>\n",
       "      <td>8433.507625</td>\n",
       "      <td>41689.675155</td>\n",
       "      <td>1.166999e+05</td>\n",
       "      <td>3.772013e+05</td>\n",
       "      <td>1.194387e+05</td>\n",
       "      <td>2.109884e+05</td>\n",
       "      <td>11211.885249</td>\n",
       "      <td>14440.219516</td>\n",
       "    </tr>\n",
       "    <tr>\n",
       "      <th>min</th>\n",
       "      <td>1990.000000</td>\n",
       "      <td>0.000000</td>\n",
       "      <td>0.000000e+00</td>\n",
       "      <td>0.000000</td>\n",
       "      <td>0.000000</td>\n",
       "      <td>0.000000</td>\n",
       "      <td>0.000000</td>\n",
       "      <td>0.000000</td>\n",
       "      <td>0.000000</td>\n",
       "      <td>0.000000e+00</td>\n",
       "      <td>...</td>\n",
       "      <td>1.000000e+00</td>\n",
       "      <td>0.000000e+00</td>\n",
       "      <td>0.000000</td>\n",
       "      <td>0.000000</td>\n",
       "      <td>0.000000e+00</td>\n",
       "      <td>1.000000e+00</td>\n",
       "      <td>0.000000e+00</td>\n",
       "      <td>0.000000e+00</td>\n",
       "      <td>0.000000</td>\n",
       "      <td>0.000000</td>\n",
       "    </tr>\n",
       "    <tr>\n",
       "      <th>25%</th>\n",
       "      <td>1997.000000</td>\n",
       "      <td>19.000000</td>\n",
       "      <td>1.287500e+02</td>\n",
       "      <td>37.000000</td>\n",
       "      <td>11.000000</td>\n",
       "      <td>0.000000</td>\n",
       "      <td>39.000000</td>\n",
       "      <td>48.000000</td>\n",
       "      <td>6.000000</td>\n",
       "      <td>1.400000e+01</td>\n",
       "      <td>...</td>\n",
       "      <td>2.860000e+02</td>\n",
       "      <td>2.140000e+02</td>\n",
       "      <td>8.000000</td>\n",
       "      <td>6.000000</td>\n",
       "      <td>2.077500e+02</td>\n",
       "      <td>3.685000e+02</td>\n",
       "      <td>2.047500e+02</td>\n",
       "      <td>4.000000e+02</td>\n",
       "      <td>21.000000</td>\n",
       "      <td>2.000000</td>\n",
       "    </tr>\n",
       "    <tr>\n",
       "      <th>50%</th>\n",
       "      <td>2004.500000</td>\n",
       "      <td>150.500000</td>\n",
       "      <td>8.455000e+02</td>\n",
       "      <td>209.000000</td>\n",
       "      <td>159.000000</td>\n",
       "      <td>0.000000</td>\n",
       "      <td>253.000000</td>\n",
       "      <td>342.000000</td>\n",
       "      <td>70.500000</td>\n",
       "      <td>1.870000e+02</td>\n",
       "      <td>...</td>\n",
       "      <td>1.324000e+03</td>\n",
       "      <td>1.080000e+03</td>\n",
       "      <td>72.000000</td>\n",
       "      <td>120.000000</td>\n",
       "      <td>1.239500e+03</td>\n",
       "      <td>2.104000e+03</td>\n",
       "      <td>1.541000e+03</td>\n",
       "      <td>2.778500e+03</td>\n",
       "      <td>152.000000</td>\n",
       "      <td>21.500000</td>\n",
       "    </tr>\n",
       "    <tr>\n",
       "      <th>75%</th>\n",
       "      <td>2012.000000</td>\n",
       "      <td>1622.250000</td>\n",
       "      <td>4.251000e+03</td>\n",
       "      <td>984.000000</td>\n",
       "      <td>2204.000000</td>\n",
       "      <td>1017.250000</td>\n",
       "      <td>1014.250000</td>\n",
       "      <td>1391.250000</td>\n",
       "      <td>1244.500000</td>\n",
       "      <td>3.836500e+03</td>\n",
       "      <td>...</td>\n",
       "      <td>4.743750e+03</td>\n",
       "      <td>4.497500e+03</td>\n",
       "      <td>371.000000</td>\n",
       "      <td>2120.000000</td>\n",
       "      <td>5.786250e+03</td>\n",
       "      <td>9.013250e+03</td>\n",
       "      <td>5.670500e+03</td>\n",
       "      <td>9.594000e+03</td>\n",
       "      <td>593.250000</td>\n",
       "      <td>264.000000</td>\n",
       "    </tr>\n",
       "    <tr>\n",
       "      <th>max</th>\n",
       "      <td>2019.000000</td>\n",
       "      <td>432524.000000</td>\n",
       "      <td>1.623276e+06</td>\n",
       "      <td>362907.000000</td>\n",
       "      <td>757152.000000</td>\n",
       "      <td>961129.000000</td>\n",
       "      <td>460665.000000</td>\n",
       "      <td>463129.000000</td>\n",
       "      <td>302586.000000</td>\n",
       "      <td>1.844490e+06</td>\n",
       "      <td>...</td>\n",
       "      <td>1.551170e+06</td>\n",
       "      <td>1.427232e+06</td>\n",
       "      <td>92101.000000</td>\n",
       "      <td>656314.000000</td>\n",
       "      <td>1.285039e+06</td>\n",
       "      <td>3.974315e+06</td>\n",
       "      <td>1.472012e+06</td>\n",
       "      <td>2.557689e+06</td>\n",
       "      <td>129705.000000</td>\n",
       "      <td>166405.000000</td>\n",
       "    </tr>\n",
       "  </tbody>\n",
       "</table>\n",
       "<p>8 rows × 32 columns</p>\n",
       "</div>"
      ],
      "text/plain": [
       "              Year  Deaths - Meningitis - Sex: Both - Age: All Ages (Number)  \\\n",
       "count  6840.000000                                        6840.000000          \n",
       "mean   2004.500000                                        8213.149561          \n",
       "std       8.656074                                       34982.933895          \n",
       "min    1990.000000                                           0.000000          \n",
       "25%    1997.000000                                          19.000000          \n",
       "50%    2004.500000                                         150.500000          \n",
       "75%    2012.000000                                        1622.250000          \n",
       "max    2019.000000                                      432524.000000          \n",
       "\n",
       "       Deaths - Alzheimer's disease and other dementias - Sex: Both - Age: All Ages (Number)  \\\n",
       "count                                       6.840000e+03                                       \n",
       "mean                                        2.736319e+04                                       \n",
       "std                                         1.113146e+05                                       \n",
       "min                                         0.000000e+00                                       \n",
       "25%                                         1.287500e+02                                       \n",
       "50%                                         8.455000e+02                                       \n",
       "75%                                         4.251000e+03                                       \n",
       "max                                         1.623276e+06                                       \n",
       "\n",
       "       Deaths - Parkinson's disease - Sex: Both - Age: All Ages (Number)  \\\n",
       "count                                        6840.000000                   \n",
       "mean                                         6493.627339                   \n",
       "std                                         25767.447063                   \n",
       "min                                             0.000000                   \n",
       "25%                                            37.000000                   \n",
       "50%                                           209.000000                   \n",
       "75%                                           984.000000                   \n",
       "max                                        362907.000000                   \n",
       "\n",
       "       Deaths - Nutritional deficiencies - Sex: Both - Age: All Ages (Number)  \\\n",
       "count                                        6840.000000                        \n",
       "mean                                        11006.353947                        \n",
       "std                                         48289.687100                        \n",
       "min                                             0.000000                        \n",
       "25%                                            11.000000                        \n",
       "50%                                           159.000000                        \n",
       "75%                                          2204.000000                        \n",
       "max                                        757152.000000                        \n",
       "\n",
       "       Deaths - Malaria - Sex: Both - Age: All Ages (Number)  \\\n",
       "count                                        6840.000000       \n",
       "mean                                        18903.160234       \n",
       "std                                         97346.780570       \n",
       "min                                             0.000000       \n",
       "25%                                             0.000000       \n",
       "50%                                             0.000000       \n",
       "75%                                          1017.250000       \n",
       "max                                        961129.000000       \n",
       "\n",
       "       Deaths - Drowning - Sex: Both - Age: All Ages (Number)  \\\n",
       "count                                        6840.000000        \n",
       "mean                                         8619.055117        \n",
       "std                                         35879.406010        \n",
       "min                                             0.000000        \n",
       "25%                                            39.000000        \n",
       "50%                                           253.000000        \n",
       "75%                                          1014.250000        \n",
       "max                                        460665.000000        \n",
       "\n",
       "       Deaths - Interpersonal violence - Sex: Both - Age: All Ages (Number)  \\\n",
       "count                                        6840.000000                      \n",
       "mean                                        10636.648684                      \n",
       "std                                         40888.793762                      \n",
       "min                                             0.000000                      \n",
       "25%                                            48.000000                      \n",
       "50%                                           342.000000                      \n",
       "75%                                          1391.250000                      \n",
       "max                                        463129.000000                      \n",
       "\n",
       "       Deaths - Maternal disorders - Sex: Both - Age: All Ages (Number)  \\\n",
       "count                                        6840.000000                  \n",
       "mean                                         6131.066959                  \n",
       "std                                         26355.210370                  \n",
       "min                                             0.000000                  \n",
       "25%                                             6.000000                  \n",
       "50%                                            70.500000                  \n",
       "75%                                          1244.500000                  \n",
       "max                                        302586.000000                  \n",
       "\n",
       "       Deaths - HIV/AIDS - Sex: Both - Age: All Ages (Number)  ...  \\\n",
       "count                                       6.840000e+03       ...   \n",
       "mean                                        2.814125e+04       ...   \n",
       "std                                         1.391973e+05       ...   \n",
       "min                                         0.000000e+00       ...   \n",
       "25%                                         1.400000e+01       ...   \n",
       "50%                                         1.870000e+02       ...   \n",
       "75%                                         3.836500e+03       ...   \n",
       "max                                         1.844490e+06       ...   \n",
       "\n",
       "       Deaths - Diabetes mellitus - Sex: Both - Age: All Ages (Number)  \\\n",
       "count                                       6.840000e+03                 \n",
       "mean                                        2.714301e+04                 \n",
       "std                                         1.033752e+05                 \n",
       "min                                         1.000000e+00                 \n",
       "25%                                         2.860000e+02                 \n",
       "50%                                         1.324000e+03                 \n",
       "75%                                         4.743750e+03                 \n",
       "max                                         1.551170e+06                 \n",
       "\n",
       "       Deaths - Chronic kidney disease - Sex: Both - Age: All Ages (Number)  \\\n",
       "count                                       6.840000e+03                      \n",
       "mean                                        2.506893e+04                      \n",
       "std                                         9.600839e+04                      \n",
       "min                                         0.000000e+00                      \n",
       "25%                                         2.140000e+02                      \n",
       "50%                                         1.080000e+03                      \n",
       "75%                                         4.497500e+03                      \n",
       "max                                         1.427232e+06                      \n",
       "\n",
       "       Deaths - Poisonings - Sex: Both - Age: All Ages (Number)  \\\n",
       "count                                        6840.000000          \n",
       "mean                                         2145.455848          \n",
       "std                                          8433.507625          \n",
       "min                                             0.000000          \n",
       "25%                                             8.000000          \n",
       "50%                                            72.000000          \n",
       "75%                                           371.000000          \n",
       "max                                         92101.000000          \n",
       "\n",
       "       Deaths - Protein-energy malnutrition - Sex: Both - Age: All Ages (Number)  \\\n",
       "count                                        6840.000000                           \n",
       "mean                                         9531.528801                           \n",
       "std                                         41689.675155                           \n",
       "min                                             0.000000                           \n",
       "25%                                             6.000000                           \n",
       "50%                                           120.000000                           \n",
       "75%                                          2120.000000                           \n",
       "max                                        656314.000000                           \n",
       "\n",
       "       Deaths - Road injuries - Sex: Both - Age: All Ages (Number)  \\\n",
       "count                                       6.840000e+03             \n",
       "mean                                        3.063496e+04             \n",
       "std                                         1.166999e+05             \n",
       "min                                         0.000000e+00             \n",
       "25%                                         2.077500e+02             \n",
       "50%                                         1.239500e+03             \n",
       "75%                                         5.786250e+03             \n",
       "max                                         1.285039e+06             \n",
       "\n",
       "       Deaths - Chronic respiratory diseases - Sex: Both - Age: All Ages (Number)  \\\n",
       "count                                       6.840000e+03                            \n",
       "mean                                        9.130390e+04                            \n",
       "std                                         3.772013e+05                            \n",
       "min                                         1.000000e+00                            \n",
       "25%                                         3.685000e+02                            \n",
       "50%                                         2.104000e+03                            \n",
       "75%                                         9.013250e+03                            \n",
       "max                                         3.974315e+06                            \n",
       "\n",
       "       Deaths - Cirrhosis and other chronic liver diseases - Sex: Both - Age: All Ages (Number)  \\\n",
       "count                                       6.840000e+03                                          \n",
       "mean                                        3.189892e+04                                          \n",
       "std                                         1.194387e+05                                          \n",
       "min                                         0.000000e+00                                          \n",
       "25%                                         2.047500e+02                                          \n",
       "50%                                         1.541000e+03                                          \n",
       "75%                                         5.670500e+03                                          \n",
       "max                                         1.472012e+06                                          \n",
       "\n",
       "       Deaths - Digestive diseases - Sex: Both - Age: All Ages (Number)  \\\n",
       "count                                       6.840000e+03                  \n",
       "mean                                        5.652551e+04                  \n",
       "std                                         2.109884e+05                  \n",
       "min                                         0.000000e+00                  \n",
       "25%                                         4.000000e+02                  \n",
       "50%                                         2.778500e+03                  \n",
       "75%                                         9.594000e+03                  \n",
       "max                                         2.557689e+06                  \n",
       "\n",
       "       Deaths - Fire, heat, and hot substances - Sex: Both - Age: All Ages (Number)  \\\n",
       "count                                        6840.000000                              \n",
       "mean                                         3006.043275                              \n",
       "std                                         11211.885249                              \n",
       "min                                             0.000000                              \n",
       "25%                                            21.000000                              \n",
       "50%                                           152.000000                              \n",
       "75%                                           593.250000                              \n",
       "max                                        129705.000000                              \n",
       "\n",
       "       Deaths - Acute hepatitis - Sex: Both - Age: All Ages (Number)  \n",
       "count                                        6840.000000              \n",
       "mean                                         3112.066520              \n",
       "std                                         14440.219516              \n",
       "min                                             0.000000              \n",
       "25%                                             2.000000              \n",
       "50%                                            21.500000              \n",
       "75%                                           264.000000              \n",
       "max                                        166405.000000              \n",
       "\n",
       "[8 rows x 32 columns]"
      ]
     },
     "metadata": {},
     "output_type": "display_data"
    },
    {
     "name": "stdout",
     "output_type": "stream",
     "text": [
      "\n",
      "------------------------------------------------------------------------------------------------------------------------------------\n",
      "Existen columnas con valores nulos?\n",
      "Entity                                                                                        0\n",
      "Code                                                                                        690\n",
      "Year                                                                                          0\n",
      "Deaths - Meningitis - Sex: Both - Age: All Ages (Number)                                      0\n",
      "Deaths - Alzheimer's disease and other dementias - Sex: Both - Age: All Ages (Number)         0\n",
      "Deaths - Parkinson's disease - Sex: Both - Age: All Ages (Number)                             0\n",
      "Deaths - Nutritional deficiencies - Sex: Both - Age: All Ages (Number)                        0\n",
      "Deaths - Malaria - Sex: Both - Age: All Ages (Number)                                         0\n",
      "Deaths - Drowning - Sex: Both - Age: All Ages (Number)                                        0\n",
      "Deaths - Interpersonal violence - Sex: Both - Age: All Ages (Number)                          0\n",
      "Deaths - Maternal disorders - Sex: Both - Age: All Ages (Number)                              0\n",
      "Deaths - HIV/AIDS - Sex: Both - Age: All Ages (Number)                                        0\n",
      "Deaths - Drug use disorders - Sex: Both - Age: All Ages (Number)                              0\n",
      "Deaths - Tuberculosis - Sex: Both - Age: All Ages (Number)                                    0\n",
      "Deaths - Cardiovascular diseases - Sex: Both - Age: All Ages (Number)                         0\n",
      "Deaths - Lower respiratory infections - Sex: Both - Age: All Ages (Number)                    0\n",
      "Deaths - Neonatal disorders - Sex: Both - Age: All Ages (Number)                              0\n",
      "Deaths - Alcohol use disorders - Sex: Both - Age: All Ages (Number)                           0\n",
      "Deaths - Self-harm - Sex: Both - Age: All Ages (Number)                                       0\n",
      "Deaths - Exposure to forces of nature - Sex: Both - Age: All Ages (Number)                    0\n",
      "Deaths - Diarrheal diseases - Sex: Both - Age: All Ages (Number)                              0\n",
      "Deaths - Environmental heat and cold exposure - Sex: Both - Age: All Ages (Number)            0\n",
      "Deaths - Neoplasms - Sex: Both - Age: All Ages (Number)                                       0\n",
      "Deaths - Conflict and terrorism - Sex: Both - Age: All Ages (Number)                          0\n",
      "Deaths - Diabetes mellitus - Sex: Both - Age: All Ages (Number)                               0\n",
      "Deaths - Chronic kidney disease - Sex: Both - Age: All Ages (Number)                          0\n",
      "Deaths - Poisonings - Sex: Both - Age: All Ages (Number)                                      0\n",
      "Deaths - Protein-energy malnutrition - Sex: Both - Age: All Ages (Number)                     0\n",
      "Deaths - Road injuries - Sex: Both - Age: All Ages (Number)                                   0\n",
      "Deaths - Chronic respiratory diseases - Sex: Both - Age: All Ages (Number)                    0\n",
      "Deaths - Cirrhosis and other chronic liver diseases - Sex: Both - Age: All Ages (Number)      0\n",
      "Deaths - Digestive diseases - Sex: Both - Age: All Ages (Number)                              0\n",
      "Deaths - Fire, heat, and hot substances - Sex: Both - Age: All Ages (Number)                  0\n",
      "Deaths - Acute hepatitis - Sex: Both - Age: All Ages (Number)                                 0\n",
      "dtype: int64\n",
      "\n",
      "------------------------------------------------------------------------------------------------------------------------------------\n",
      "Existen columnas con valores duplicados?\n",
      "0\n"
     ]
    }
   ],
   "source": [
    "check_df(df_dead)"
   ]
  },
  {
   "cell_type": "markdown",
   "metadata": {},
   "source": [
    "## Análisis de los datos"
   ]
  },
  {
   "cell_type": "code",
   "execution_count": 5,
   "metadata": {},
   "outputs": [
    {
     "data": {
      "text/html": [
       "<div>\n",
       "<style scoped>\n",
       "    .dataframe tbody tr th:only-of-type {\n",
       "        vertical-align: middle;\n",
       "    }\n",
       "\n",
       "    .dataframe tbody tr th {\n",
       "        vertical-align: top;\n",
       "    }\n",
       "\n",
       "    .dataframe thead th {\n",
       "        text-align: right;\n",
       "    }\n",
       "</style>\n",
       "<table border=\"1\" class=\"dataframe\">\n",
       "  <thead>\n",
       "    <tr style=\"text-align: right;\">\n",
       "      <th></th>\n",
       "      <th>Entity</th>\n",
       "      <th>Code</th>\n",
       "      <th>Year</th>\n",
       "      <th>Deaths - Meningitis - Sex: Both - Age: All Ages (Number)</th>\n",
       "      <th>Deaths - Alzheimer's disease and other dementias - Sex: Both - Age: All Ages (Number)</th>\n",
       "      <th>Deaths - Parkinson's disease - Sex: Both - Age: All Ages (Number)</th>\n",
       "      <th>Deaths - Nutritional deficiencies - Sex: Both - Age: All Ages (Number)</th>\n",
       "      <th>Deaths - Malaria - Sex: Both - Age: All Ages (Number)</th>\n",
       "      <th>Deaths - Drowning - Sex: Both - Age: All Ages (Number)</th>\n",
       "      <th>Deaths - Interpersonal violence - Sex: Both - Age: All Ages (Number)</th>\n",
       "      <th>...</th>\n",
       "      <th>Deaths - Diabetes mellitus - Sex: Both - Age: All Ages (Number)</th>\n",
       "      <th>Deaths - Chronic kidney disease - Sex: Both - Age: All Ages (Number)</th>\n",
       "      <th>Deaths - Poisonings - Sex: Both - Age: All Ages (Number)</th>\n",
       "      <th>Deaths - Protein-energy malnutrition - Sex: Both - Age: All Ages (Number)</th>\n",
       "      <th>Deaths - Road injuries - Sex: Both - Age: All Ages (Number)</th>\n",
       "      <th>Deaths - Chronic respiratory diseases - Sex: Both - Age: All Ages (Number)</th>\n",
       "      <th>Deaths - Cirrhosis and other chronic liver diseases - Sex: Both - Age: All Ages (Number)</th>\n",
       "      <th>Deaths - Digestive diseases - Sex: Both - Age: All Ages (Number)</th>\n",
       "      <th>Deaths - Fire, heat, and hot substances - Sex: Both - Age: All Ages (Number)</th>\n",
       "      <th>Deaths - Acute hepatitis - Sex: Both - Age: All Ages (Number)</th>\n",
       "    </tr>\n",
       "  </thead>\n",
       "  <tbody>\n",
       "    <tr>\n",
       "      <th>30</th>\n",
       "      <td>African Region (WHO)</td>\n",
       "      <td>NaN</td>\n",
       "      <td>1990</td>\n",
       "      <td>172206</td>\n",
       "      <td>24312</td>\n",
       "      <td>6573</td>\n",
       "      <td>215934</td>\n",
       "      <td>588508</td>\n",
       "      <td>27182</td>\n",
       "      <td>50714</td>\n",
       "      <td>...</td>\n",
       "      <td>74790</td>\n",
       "      <td>64609</td>\n",
       "      <td>17453</td>\n",
       "      <td>208628</td>\n",
       "      <td>130403</td>\n",
       "      <td>123351</td>\n",
       "      <td>119201</td>\n",
       "      <td>198446</td>\n",
       "      <td>19552</td>\n",
       "      <td>17666</td>\n",
       "    </tr>\n",
       "    <tr>\n",
       "      <th>31</th>\n",
       "      <td>African Region (WHO)</td>\n",
       "      <td>NaN</td>\n",
       "      <td>1991</td>\n",
       "      <td>174087</td>\n",
       "      <td>25173</td>\n",
       "      <td>6754</td>\n",
       "      <td>216068</td>\n",
       "      <td>607330</td>\n",
       "      <td>27357</td>\n",
       "      <td>52671</td>\n",
       "      <td>...</td>\n",
       "      <td>76945</td>\n",
       "      <td>66230</td>\n",
       "      <td>17461</td>\n",
       "      <td>208785</td>\n",
       "      <td>132658</td>\n",
       "      <td>125505</td>\n",
       "      <td>121587</td>\n",
       "      <td>202452</td>\n",
       "      <td>19696</td>\n",
       "      <td>17844</td>\n",
       "    </tr>\n",
       "    <tr>\n",
       "      <th>32</th>\n",
       "      <td>African Region (WHO)</td>\n",
       "      <td>NaN</td>\n",
       "      <td>1992</td>\n",
       "      <td>178190</td>\n",
       "      <td>26141</td>\n",
       "      <td>6988</td>\n",
       "      <td>217480</td>\n",
       "      <td>620445</td>\n",
       "      <td>27469</td>\n",
       "      <td>56013</td>\n",
       "      <td>...</td>\n",
       "      <td>79846</td>\n",
       "      <td>68274</td>\n",
       "      <td>17712</td>\n",
       "      <td>210192</td>\n",
       "      <td>136413</td>\n",
       "      <td>128229</td>\n",
       "      <td>124268</td>\n",
       "      <td>207105</td>\n",
       "      <td>20040</td>\n",
       "      <td>18069</td>\n",
       "    </tr>\n",
       "    <tr>\n",
       "      <th>33</th>\n",
       "      <td>African Region (WHO)</td>\n",
       "      <td>NaN</td>\n",
       "      <td>1993</td>\n",
       "      <td>179299</td>\n",
       "      <td>27051</td>\n",
       "      <td>7182</td>\n",
       "      <td>217090</td>\n",
       "      <td>638935</td>\n",
       "      <td>27435</td>\n",
       "      <td>59415</td>\n",
       "      <td>...</td>\n",
       "      <td>81711</td>\n",
       "      <td>69626</td>\n",
       "      <td>17734</td>\n",
       "      <td>209852</td>\n",
       "      <td>136847</td>\n",
       "      <td>129724</td>\n",
       "      <td>126184</td>\n",
       "      <td>210463</td>\n",
       "      <td>20066</td>\n",
       "      <td>18164</td>\n",
       "    </tr>\n",
       "    <tr>\n",
       "      <th>34</th>\n",
       "      <td>African Region (WHO)</td>\n",
       "      <td>NaN</td>\n",
       "      <td>1994</td>\n",
       "      <td>178971</td>\n",
       "      <td>28014</td>\n",
       "      <td>7414</td>\n",
       "      <td>215874</td>\n",
       "      <td>650973</td>\n",
       "      <td>27428</td>\n",
       "      <td>58643</td>\n",
       "      <td>...</td>\n",
       "      <td>84769</td>\n",
       "      <td>71447</td>\n",
       "      <td>17835</td>\n",
       "      <td>208675</td>\n",
       "      <td>139782</td>\n",
       "      <td>132378</td>\n",
       "      <td>128478</td>\n",
       "      <td>214555</td>\n",
       "      <td>20307</td>\n",
       "      <td>18447</td>\n",
       "    </tr>\n",
       "  </tbody>\n",
       "</table>\n",
       "<p>5 rows × 34 columns</p>\n",
       "</div>"
      ],
      "text/plain": [
       "                  Entity Code  Year  \\\n",
       "30  African Region (WHO)  NaN  1990   \n",
       "31  African Region (WHO)  NaN  1991   \n",
       "32  African Region (WHO)  NaN  1992   \n",
       "33  African Region (WHO)  NaN  1993   \n",
       "34  African Region (WHO)  NaN  1994   \n",
       "\n",
       "    Deaths - Meningitis - Sex: Both - Age: All Ages (Number)  \\\n",
       "30                                             172206          \n",
       "31                                             174087          \n",
       "32                                             178190          \n",
       "33                                             179299          \n",
       "34                                             178971          \n",
       "\n",
       "    Deaths - Alzheimer's disease and other dementias - Sex: Both - Age: All Ages (Number)  \\\n",
       "30                                              24312                                       \n",
       "31                                              25173                                       \n",
       "32                                              26141                                       \n",
       "33                                              27051                                       \n",
       "34                                              28014                                       \n",
       "\n",
       "    Deaths - Parkinson's disease - Sex: Both - Age: All Ages (Number)  \\\n",
       "30                                               6573                   \n",
       "31                                               6754                   \n",
       "32                                               6988                   \n",
       "33                                               7182                   \n",
       "34                                               7414                   \n",
       "\n",
       "    Deaths - Nutritional deficiencies - Sex: Both - Age: All Ages (Number)  \\\n",
       "30                                             215934                        \n",
       "31                                             216068                        \n",
       "32                                             217480                        \n",
       "33                                             217090                        \n",
       "34                                             215874                        \n",
       "\n",
       "    Deaths - Malaria - Sex: Both - Age: All Ages (Number)  \\\n",
       "30                                             588508       \n",
       "31                                             607330       \n",
       "32                                             620445       \n",
       "33                                             638935       \n",
       "34                                             650973       \n",
       "\n",
       "    Deaths - Drowning - Sex: Both - Age: All Ages (Number)  \\\n",
       "30                                              27182        \n",
       "31                                              27357        \n",
       "32                                              27469        \n",
       "33                                              27435        \n",
       "34                                              27428        \n",
       "\n",
       "    Deaths - Interpersonal violence - Sex: Both - Age: All Ages (Number)  ...  \\\n",
       "30                                              50714                     ...   \n",
       "31                                              52671                     ...   \n",
       "32                                              56013                     ...   \n",
       "33                                              59415                     ...   \n",
       "34                                              58643                     ...   \n",
       "\n",
       "    Deaths - Diabetes mellitus - Sex: Both - Age: All Ages (Number)  \\\n",
       "30                                              74790                 \n",
       "31                                              76945                 \n",
       "32                                              79846                 \n",
       "33                                              81711                 \n",
       "34                                              84769                 \n",
       "\n",
       "    Deaths - Chronic kidney disease - Sex: Both - Age: All Ages (Number)  \\\n",
       "30                                              64609                      \n",
       "31                                              66230                      \n",
       "32                                              68274                      \n",
       "33                                              69626                      \n",
       "34                                              71447                      \n",
       "\n",
       "    Deaths - Poisonings - Sex: Both - Age: All Ages (Number)  \\\n",
       "30                                              17453          \n",
       "31                                              17461          \n",
       "32                                              17712          \n",
       "33                                              17734          \n",
       "34                                              17835          \n",
       "\n",
       "    Deaths - Protein-energy malnutrition - Sex: Both - Age: All Ages (Number)  \\\n",
       "30                                             208628                           \n",
       "31                                             208785                           \n",
       "32                                             210192                           \n",
       "33                                             209852                           \n",
       "34                                             208675                           \n",
       "\n",
       "    Deaths - Road injuries - Sex: Both - Age: All Ages (Number)  \\\n",
       "30                                             130403             \n",
       "31                                             132658             \n",
       "32                                             136413             \n",
       "33                                             136847             \n",
       "34                                             139782             \n",
       "\n",
       "    Deaths - Chronic respiratory diseases - Sex: Both - Age: All Ages (Number)  \\\n",
       "30                                             123351                            \n",
       "31                                             125505                            \n",
       "32                                             128229                            \n",
       "33                                             129724                            \n",
       "34                                             132378                            \n",
       "\n",
       "    Deaths - Cirrhosis and other chronic liver diseases - Sex: Both - Age: All Ages (Number)  \\\n",
       "30                                             119201                                          \n",
       "31                                             121587                                          \n",
       "32                                             124268                                          \n",
       "33                                             126184                                          \n",
       "34                                             128478                                          \n",
       "\n",
       "    Deaths - Digestive diseases - Sex: Both - Age: All Ages (Number)  \\\n",
       "30                                             198446                  \n",
       "31                                             202452                  \n",
       "32                                             207105                  \n",
       "33                                             210463                  \n",
       "34                                             214555                  \n",
       "\n",
       "    Deaths - Fire, heat, and hot substances - Sex: Both - Age: All Ages (Number)  \\\n",
       "30                                              19552                              \n",
       "31                                              19696                              \n",
       "32                                              20040                              \n",
       "33                                              20066                              \n",
       "34                                              20307                              \n",
       "\n",
       "    Deaths - Acute hepatitis - Sex: Both - Age: All Ages (Number)  \n",
       "30                                              17666              \n",
       "31                                              17844              \n",
       "32                                              18069              \n",
       "33                                              18164              \n",
       "34                                              18447              \n",
       "\n",
       "[5 rows x 34 columns]"
      ]
     },
     "execution_count": 5,
     "metadata": {},
     "output_type": "execute_result"
    }
   ],
   "source": [
    "# en primer lugar, veremos los países que en el dataframe no tienen código\n",
    "df_null=df_dead[df_dead[\"Code\"].isnull()]\n",
    "df_null.head()\n"
   ]
  },
  {
   "cell_type": "code",
   "execution_count": 6,
   "metadata": {},
   "outputs": [
    {
     "data": {
      "text/plain": [
       "array(['African Region (WHO)', 'East Asia & Pacific (WB)',\n",
       "       'Eastern Mediterranean Region (WHO)', 'England',\n",
       "       'Europe & Central Asia (WB)', 'European Region (WHO)', 'G20',\n",
       "       'Latin America & Caribbean (WB)',\n",
       "       'Middle East & North Africa (WB)', 'North America (WB)',\n",
       "       'Northern Ireland', 'OECD Countries',\n",
       "       'Region of the Americas (WHO)', 'Scotland', 'South Asia (WB)',\n",
       "       'South-East Asia Region (WHO)', 'Sub-Saharan Africa (WB)', 'Wales',\n",
       "       'Western Pacific Region (WHO)', 'World Bank High Income',\n",
       "       'World Bank Low Income', 'World Bank Lower Middle Income',\n",
       "       'World Bank Upper Middle Income'], dtype=object)"
      ]
     },
     "execution_count": 6,
     "metadata": {},
     "output_type": "execute_result"
    }
   ],
   "source": [
    "df_null[\"Entity\"].unique()"
   ]
  },
  {
   "cell_type": "markdown",
   "metadata": {},
   "source": [
    "Como podemos ver por lo general los países sin código son agrupaciones de países. No son agrupaciones:\n",
    "- England.\n",
    "- Nothern Ireland.\n",
    "- Scotland.\n",
    "- Wales."
   ]
  },
  {
   "cell_type": "code",
   "execution_count": 7,
   "metadata": {},
   "outputs": [
    {
     "data": {
      "text/html": [
       "<div>\n",
       "<style scoped>\n",
       "    .dataframe tbody tr th:only-of-type {\n",
       "        vertical-align: middle;\n",
       "    }\n",
       "\n",
       "    .dataframe tbody tr th {\n",
       "        vertical-align: top;\n",
       "    }\n",
       "\n",
       "    .dataframe thead th {\n",
       "        text-align: right;\n",
       "    }\n",
       "</style>\n",
       "<table border=\"1\" class=\"dataframe\">\n",
       "  <thead>\n",
       "    <tr style=\"text-align: right;\">\n",
       "      <th></th>\n",
       "      <th>Entity</th>\n",
       "      <th>Code</th>\n",
       "      <th>Year</th>\n",
       "      <th>Deaths - Meningitis - Sex: Both - Age: All Ages (Number)</th>\n",
       "      <th>Deaths - Alzheimer's disease and other dementias - Sex: Both - Age: All Ages (Number)</th>\n",
       "      <th>Deaths - Parkinson's disease - Sex: Both - Age: All Ages (Number)</th>\n",
       "      <th>Deaths - Nutritional deficiencies - Sex: Both - Age: All Ages (Number)</th>\n",
       "      <th>Deaths - Malaria - Sex: Both - Age: All Ages (Number)</th>\n",
       "      <th>Deaths - Drowning - Sex: Both - Age: All Ages (Number)</th>\n",
       "      <th>Deaths - Interpersonal violence - Sex: Both - Age: All Ages (Number)</th>\n",
       "      <th>...</th>\n",
       "      <th>Deaths - Diabetes mellitus - Sex: Both - Age: All Ages (Number)</th>\n",
       "      <th>Deaths - Chronic kidney disease - Sex: Both - Age: All Ages (Number)</th>\n",
       "      <th>Deaths - Poisonings - Sex: Both - Age: All Ages (Number)</th>\n",
       "      <th>Deaths - Protein-energy malnutrition - Sex: Both - Age: All Ages (Number)</th>\n",
       "      <th>Deaths - Road injuries - Sex: Both - Age: All Ages (Number)</th>\n",
       "      <th>Deaths - Chronic respiratory diseases - Sex: Both - Age: All Ages (Number)</th>\n",
       "      <th>Deaths - Cirrhosis and other chronic liver diseases - Sex: Both - Age: All Ages (Number)</th>\n",
       "      <th>Deaths - Digestive diseases - Sex: Both - Age: All Ages (Number)</th>\n",
       "      <th>Deaths - Fire, heat, and hot substances - Sex: Both - Age: All Ages (Number)</th>\n",
       "      <th>Deaths - Acute hepatitis - Sex: Both - Age: All Ages (Number)</th>\n",
       "    </tr>\n",
       "  </thead>\n",
       "  <tbody>\n",
       "    <tr>\n",
       "      <th>6630</th>\n",
       "      <td>World Bank High Income</td>\n",
       "      <td>NaN</td>\n",
       "      <td>1990</td>\n",
       "      <td>8568</td>\n",
       "      <td>259091</td>\n",
       "      <td>55008</td>\n",
       "      <td>9351</td>\n",
       "      <td>96</td>\n",
       "      <td>24031</td>\n",
       "      <td>41172</td>\n",
       "      <td>...</td>\n",
       "      <td>176546</td>\n",
       "      <td>127338</td>\n",
       "      <td>7465</td>\n",
       "      <td>7246</td>\n",
       "      <td>193137</td>\n",
       "      <td>392727</td>\n",
       "      <td>201622</td>\n",
       "      <td>386987</td>\n",
       "      <td>16755</td>\n",
       "      <td>1283</td>\n",
       "    </tr>\n",
       "    <tr>\n",
       "      <th>6631</th>\n",
       "      <td>World Bank High Income</td>\n",
       "      <td>NaN</td>\n",
       "      <td>1991</td>\n",
       "      <td>8206</td>\n",
       "      <td>271968</td>\n",
       "      <td>56319</td>\n",
       "      <td>9466</td>\n",
       "      <td>151</td>\n",
       "      <td>23836</td>\n",
       "      <td>42170</td>\n",
       "      <td>...</td>\n",
       "      <td>181157</td>\n",
       "      <td>129202</td>\n",
       "      <td>7355</td>\n",
       "      <td>7393</td>\n",
       "      <td>192173</td>\n",
       "      <td>398250</td>\n",
       "      <td>203220</td>\n",
       "      <td>389930</td>\n",
       "      <td>16719</td>\n",
       "      <td>1276</td>\n",
       "    </tr>\n",
       "    <tr>\n",
       "      <th>6632</th>\n",
       "      <td>World Bank High Income</td>\n",
       "      <td>NaN</td>\n",
       "      <td>1992</td>\n",
       "      <td>7749</td>\n",
       "      <td>284715</td>\n",
       "      <td>57508</td>\n",
       "      <td>9646</td>\n",
       "      <td>174</td>\n",
       "      <td>23519</td>\n",
       "      <td>41688</td>\n",
       "      <td>...</td>\n",
       "      <td>184733</td>\n",
       "      <td>131470</td>\n",
       "      <td>7024</td>\n",
       "      <td>7594</td>\n",
       "      <td>188590</td>\n",
       "      <td>402777</td>\n",
       "      <td>204180</td>\n",
       "      <td>391984</td>\n",
       "      <td>16201</td>\n",
       "      <td>1267</td>\n",
       "    </tr>\n",
       "  </tbody>\n",
       "</table>\n",
       "<p>3 rows × 34 columns</p>\n",
       "</div>"
      ],
      "text/plain": [
       "                      Entity Code  Year  \\\n",
       "6630  World Bank High Income  NaN  1990   \n",
       "6631  World Bank High Income  NaN  1991   \n",
       "6632  World Bank High Income  NaN  1992   \n",
       "\n",
       "      Deaths - Meningitis - Sex: Both - Age: All Ages (Number)  \\\n",
       "6630                                               8568          \n",
       "6631                                               8206          \n",
       "6632                                               7749          \n",
       "\n",
       "      Deaths - Alzheimer's disease and other dementias - Sex: Both - Age: All Ages (Number)  \\\n",
       "6630                                             259091                                       \n",
       "6631                                             271968                                       \n",
       "6632                                             284715                                       \n",
       "\n",
       "      Deaths - Parkinson's disease - Sex: Both - Age: All Ages (Number)  \\\n",
       "6630                                              55008                   \n",
       "6631                                              56319                   \n",
       "6632                                              57508                   \n",
       "\n",
       "      Deaths - Nutritional deficiencies - Sex: Both - Age: All Ages (Number)  \\\n",
       "6630                                               9351                        \n",
       "6631                                               9466                        \n",
       "6632                                               9646                        \n",
       "\n",
       "      Deaths - Malaria - Sex: Both - Age: All Ages (Number)  \\\n",
       "6630                                                 96       \n",
       "6631                                                151       \n",
       "6632                                                174       \n",
       "\n",
       "      Deaths - Drowning - Sex: Both - Age: All Ages (Number)  \\\n",
       "6630                                              24031        \n",
       "6631                                              23836        \n",
       "6632                                              23519        \n",
       "\n",
       "      Deaths - Interpersonal violence - Sex: Both - Age: All Ages (Number)  \\\n",
       "6630                                              41172                      \n",
       "6631                                              42170                      \n",
       "6632                                              41688                      \n",
       "\n",
       "      ...  Deaths - Diabetes mellitus - Sex: Both - Age: All Ages (Number)  \\\n",
       "6630  ...                                             176546                 \n",
       "6631  ...                                             181157                 \n",
       "6632  ...                                             184733                 \n",
       "\n",
       "      Deaths - Chronic kidney disease - Sex: Both - Age: All Ages (Number)  \\\n",
       "6630                                             127338                      \n",
       "6631                                             129202                      \n",
       "6632                                             131470                      \n",
       "\n",
       "      Deaths - Poisonings - Sex: Both - Age: All Ages (Number)  \\\n",
       "6630                                               7465          \n",
       "6631                                               7355          \n",
       "6632                                               7024          \n",
       "\n",
       "      Deaths - Protein-energy malnutrition - Sex: Both - Age: All Ages (Number)  \\\n",
       "6630                                               7246                           \n",
       "6631                                               7393                           \n",
       "6632                                               7594                           \n",
       "\n",
       "      Deaths - Road injuries - Sex: Both - Age: All Ages (Number)  \\\n",
       "6630                                             193137             \n",
       "6631                                             192173             \n",
       "6632                                             188590             \n",
       "\n",
       "      Deaths - Chronic respiratory diseases - Sex: Both - Age: All Ages (Number)  \\\n",
       "6630                                             392727                            \n",
       "6631                                             398250                            \n",
       "6632                                             402777                            \n",
       "\n",
       "      Deaths - Cirrhosis and other chronic liver diseases - Sex: Both - Age: All Ages (Number)  \\\n",
       "6630                                             201622                                          \n",
       "6631                                             203220                                          \n",
       "6632                                             204180                                          \n",
       "\n",
       "      Deaths - Digestive diseases - Sex: Both - Age: All Ages (Number)  \\\n",
       "6630                                             386987                  \n",
       "6631                                             389930                  \n",
       "6632                                             391984                  \n",
       "\n",
       "      Deaths - Fire, heat, and hot substances - Sex: Both - Age: All Ages (Number)  \\\n",
       "6630                                              16755                              \n",
       "6631                                              16719                              \n",
       "6632                                              16201                              \n",
       "\n",
       "      Deaths - Acute hepatitis - Sex: Both - Age: All Ages (Number)  \n",
       "6630                                               1283              \n",
       "6631                                               1276              \n",
       "6632                                               1267              \n",
       "\n",
       "[3 rows x 34 columns]"
      ]
     },
     "execution_count": 7,
     "metadata": {},
     "output_type": "execute_result"
    }
   ],
   "source": [
    "# Un análisis interesante sería analizar como se distrubuyen las muertes por cada agrupación de países\n",
    "# No es necesario ajustar la fecha porque comprende el marco temporal 1990-2019\n",
    "income_filter=[\"World Bank High Income\", \"World Bank Upper Middle Income\", \"World Bank Lower Middle Income\", \"World Bank Low Income\"]\n",
    "df_income=df_dead[df_dead[\"Entity\"].isin(income_filter)]\n",
    "df_income.head(3)\n"
   ]
  },
  {
   "cell_type": "code",
   "execution_count": 27,
   "metadata": {},
   "outputs": [
    {
     "data": {
      "text/html": [
       "<div>\n",
       "<style scoped>\n",
       "    .dataframe tbody tr th:only-of-type {\n",
       "        vertical-align: middle;\n",
       "    }\n",
       "\n",
       "    .dataframe tbody tr th {\n",
       "        vertical-align: top;\n",
       "    }\n",
       "\n",
       "    .dataframe thead th {\n",
       "        text-align: right;\n",
       "    }\n",
       "</style>\n",
       "<table border=\"1\" class=\"dataframe\">\n",
       "  <thead>\n",
       "    <tr style=\"text-align: right;\">\n",
       "      <th></th>\n",
       "      <th>Entity</th>\n",
       "      <th>Code</th>\n",
       "      <th>Year</th>\n",
       "      <th>Deaths - Meningitis - Sex: Both - Age: All Ages (Number)</th>\n",
       "      <th>Deaths - Alzheimer's disease and other dementias - Sex: Both - Age: All Ages (Number)</th>\n",
       "      <th>Deaths - Parkinson's disease - Sex: Both - Age: All Ages (Number)</th>\n",
       "      <th>Deaths - Nutritional deficiencies - Sex: Both - Age: All Ages (Number)</th>\n",
       "      <th>Deaths - Malaria - Sex: Both - Age: All Ages (Number)</th>\n",
       "      <th>Deaths - Drowning - Sex: Both - Age: All Ages (Number)</th>\n",
       "      <th>Deaths - Interpersonal violence - Sex: Both - Age: All Ages (Number)</th>\n",
       "      <th>...</th>\n",
       "      <th>Deaths - Diabetes mellitus - Sex: Both - Age: All Ages (Number)</th>\n",
       "      <th>Deaths - Chronic kidney disease - Sex: Both - Age: All Ages (Number)</th>\n",
       "      <th>Deaths - Poisonings - Sex: Both - Age: All Ages (Number)</th>\n",
       "      <th>Deaths - Protein-energy malnutrition - Sex: Both - Age: All Ages (Number)</th>\n",
       "      <th>Deaths - Road injuries - Sex: Both - Age: All Ages (Number)</th>\n",
       "      <th>Deaths - Chronic respiratory diseases - Sex: Both - Age: All Ages (Number)</th>\n",
       "      <th>Deaths - Cirrhosis and other chronic liver diseases - Sex: Both - Age: All Ages (Number)</th>\n",
       "      <th>Deaths - Digestive diseases - Sex: Both - Age: All Ages (Number)</th>\n",
       "      <th>Deaths - Fire, heat, and hot substances - Sex: Both - Age: All Ages (Number)</th>\n",
       "      <th>Deaths - Acute hepatitis - Sex: Both - Age: All Ages (Number)</th>\n",
       "    </tr>\n",
       "  </thead>\n",
       "  <tbody>\n",
       "    <tr>\n",
       "      <th>30</th>\n",
       "      <td>African Region (WHO)</td>\n",
       "      <td>NaN</td>\n",
       "      <td>1990</td>\n",
       "      <td>172206</td>\n",
       "      <td>24312</td>\n",
       "      <td>6573</td>\n",
       "      <td>215934</td>\n",
       "      <td>588508</td>\n",
       "      <td>27182</td>\n",
       "      <td>50714</td>\n",
       "      <td>...</td>\n",
       "      <td>74790</td>\n",
       "      <td>64609</td>\n",
       "      <td>17453</td>\n",
       "      <td>208628</td>\n",
       "      <td>130403</td>\n",
       "      <td>123351</td>\n",
       "      <td>119201</td>\n",
       "      <td>198446</td>\n",
       "      <td>19552</td>\n",
       "      <td>17666</td>\n",
       "    </tr>\n",
       "    <tr>\n",
       "      <th>31</th>\n",
       "      <td>African Region (WHO)</td>\n",
       "      <td>NaN</td>\n",
       "      <td>1991</td>\n",
       "      <td>174087</td>\n",
       "      <td>25173</td>\n",
       "      <td>6754</td>\n",
       "      <td>216068</td>\n",
       "      <td>607330</td>\n",
       "      <td>27357</td>\n",
       "      <td>52671</td>\n",
       "      <td>...</td>\n",
       "      <td>76945</td>\n",
       "      <td>66230</td>\n",
       "      <td>17461</td>\n",
       "      <td>208785</td>\n",
       "      <td>132658</td>\n",
       "      <td>125505</td>\n",
       "      <td>121587</td>\n",
       "      <td>202452</td>\n",
       "      <td>19696</td>\n",
       "      <td>17844</td>\n",
       "    </tr>\n",
       "    <tr>\n",
       "      <th>32</th>\n",
       "      <td>African Region (WHO)</td>\n",
       "      <td>NaN</td>\n",
       "      <td>1992</td>\n",
       "      <td>178190</td>\n",
       "      <td>26141</td>\n",
       "      <td>6988</td>\n",
       "      <td>217480</td>\n",
       "      <td>620445</td>\n",
       "      <td>27469</td>\n",
       "      <td>56013</td>\n",
       "      <td>...</td>\n",
       "      <td>79846</td>\n",
       "      <td>68274</td>\n",
       "      <td>17712</td>\n",
       "      <td>210192</td>\n",
       "      <td>136413</td>\n",
       "      <td>128229</td>\n",
       "      <td>124268</td>\n",
       "      <td>207105</td>\n",
       "      <td>20040</td>\n",
       "      <td>18069</td>\n",
       "    </tr>\n",
       "  </tbody>\n",
       "</table>\n",
       "<p>3 rows × 34 columns</p>\n",
       "</div>"
      ],
      "text/plain": [
       "                  Entity Code  Year  \\\n",
       "30  African Region (WHO)  NaN  1990   \n",
       "31  African Region (WHO)  NaN  1991   \n",
       "32  African Region (WHO)  NaN  1992   \n",
       "\n",
       "    Deaths - Meningitis - Sex: Both - Age: All Ages (Number)  \\\n",
       "30                                             172206          \n",
       "31                                             174087          \n",
       "32                                             178190          \n",
       "\n",
       "    Deaths - Alzheimer's disease and other dementias - Sex: Both - Age: All Ages (Number)  \\\n",
       "30                                              24312                                       \n",
       "31                                              25173                                       \n",
       "32                                              26141                                       \n",
       "\n",
       "    Deaths - Parkinson's disease - Sex: Both - Age: All Ages (Number)  \\\n",
       "30                                               6573                   \n",
       "31                                               6754                   \n",
       "32                                               6988                   \n",
       "\n",
       "    Deaths - Nutritional deficiencies - Sex: Both - Age: All Ages (Number)  \\\n",
       "30                                             215934                        \n",
       "31                                             216068                        \n",
       "32                                             217480                        \n",
       "\n",
       "    Deaths - Malaria - Sex: Both - Age: All Ages (Number)  \\\n",
       "30                                             588508       \n",
       "31                                             607330       \n",
       "32                                             620445       \n",
       "\n",
       "    Deaths - Drowning - Sex: Both - Age: All Ages (Number)  \\\n",
       "30                                              27182        \n",
       "31                                              27357        \n",
       "32                                              27469        \n",
       "\n",
       "    Deaths - Interpersonal violence - Sex: Both - Age: All Ages (Number)  ...  \\\n",
       "30                                              50714                     ...   \n",
       "31                                              52671                     ...   \n",
       "32                                              56013                     ...   \n",
       "\n",
       "    Deaths - Diabetes mellitus - Sex: Both - Age: All Ages (Number)  \\\n",
       "30                                              74790                 \n",
       "31                                              76945                 \n",
       "32                                              79846                 \n",
       "\n",
       "    Deaths - Chronic kidney disease - Sex: Both - Age: All Ages (Number)  \\\n",
       "30                                              64609                      \n",
       "31                                              66230                      \n",
       "32                                              68274                      \n",
       "\n",
       "    Deaths - Poisonings - Sex: Both - Age: All Ages (Number)  \\\n",
       "30                                              17453          \n",
       "31                                              17461          \n",
       "32                                              17712          \n",
       "\n",
       "    Deaths - Protein-energy malnutrition - Sex: Both - Age: All Ages (Number)  \\\n",
       "30                                             208628                           \n",
       "31                                             208785                           \n",
       "32                                             210192                           \n",
       "\n",
       "    Deaths - Road injuries - Sex: Both - Age: All Ages (Number)  \\\n",
       "30                                             130403             \n",
       "31                                             132658             \n",
       "32                                             136413             \n",
       "\n",
       "    Deaths - Chronic respiratory diseases - Sex: Both - Age: All Ages (Number)  \\\n",
       "30                                             123351                            \n",
       "31                                             125505                            \n",
       "32                                             128229                            \n",
       "\n",
       "    Deaths - Cirrhosis and other chronic liver diseases - Sex: Both - Age: All Ages (Number)  \\\n",
       "30                                             119201                                          \n",
       "31                                             121587                                          \n",
       "32                                             124268                                          \n",
       "\n",
       "    Deaths - Digestive diseases - Sex: Both - Age: All Ages (Number)  \\\n",
       "30                                             198446                  \n",
       "31                                             202452                  \n",
       "32                                             207105                  \n",
       "\n",
       "    Deaths - Fire, heat, and hot substances - Sex: Both - Age: All Ages (Number)  \\\n",
       "30                                              19552                              \n",
       "31                                              19696                              \n",
       "32                                              20040                              \n",
       "\n",
       "    Deaths - Acute hepatitis - Sex: Both - Age: All Ages (Number)  \n",
       "30                                              17666              \n",
       "31                                              17844              \n",
       "32                                              18069              \n",
       "\n",
       "[3 rows x 34 columns]"
      ]
     },
     "execution_count": 27,
     "metadata": {},
     "output_type": "execute_result"
    }
   ],
   "source": [
    "continent_filter=[\"African Region (WHO)\", \"Eastern Mediterranean Region (WHO)\", \"European Region (WHO)\", \"Region of the Americas (WHO)\", \"South-East Asia Region (WHO)\", \"Western Pacific Region (WHO)\"]\n",
    "df_continent=df_dead[df_dead[\"Entity\"].isin(continent_filter)]\n",
    "df_continent.head(3)\n"
   ]
  },
  {
   "cell_type": "markdown",
   "metadata": {},
   "source": [
    "Podemos enfocar el análisis de dos formas:\n",
    "- Ver en un una de las entidades aisladas la principal causa de muerte.\n",
    "- Ver un gráfico temporal en cada causa de muerte con los grupos en función del nivel de renta"
   ]
  },
  {
   "cell_type": "markdown",
   "metadata": {},
   "source": [
    "## Meningitis"
   ]
  },
  {
   "cell_type": "code",
   "execution_count": 8,
   "metadata": {},
   "outputs": [
    {
     "data": {
      "application/vnd.plotly.v1+json": {
       "config": {
        "plotlyServerURL": "https://plot.ly"
       },
       "data": [
        {
         "hovertemplate": "Entity=World Bank High Income<br>Year=%{x}<br>Deaths - Meningitis - Sex: Both - Age: All Ages (Number)=%{y}<extra></extra>",
         "legendgroup": "World Bank High Income",
         "line": {
          "color": "#636efa",
          "dash": "solid"
         },
         "marker": {
          "symbol": "circle"
         },
         "mode": "lines",
         "name": "World Bank High Income",
         "orientation": "v",
         "showlegend": true,
         "type": "scatter",
         "x": [
          1990,
          1991,
          1992,
          1993,
          1994,
          1995,
          1996,
          1997,
          1998,
          1999,
          2000,
          2001,
          2002,
          2003,
          2004,
          2005,
          2006,
          2007,
          2008,
          2009,
          2010,
          2011,
          2012,
          2013,
          2014,
          2015,
          2016,
          2017,
          2018,
          2019
         ],
         "xaxis": "x",
         "y": [
          8568,
          8206,
          7749,
          7516,
          7266,
          7054,
          6787,
          6606,
          6413,
          6297,
          6062,
          5869,
          5533,
          5410,
          5187,
          5093,
          4897,
          4822,
          4718,
          4580,
          4483,
          4285,
          4210,
          4151,
          4086,
          4100,
          4080,
          4045,
          4047,
          4052
         ],
         "yaxis": "y"
        },
        {
         "hovertemplate": "Entity=World Bank Low Income<br>Year=%{x}<br>Deaths - Meningitis - Sex: Both - Age: All Ages (Number)=%{y}<extra></extra>",
         "legendgroup": "World Bank Low Income",
         "line": {
          "color": "#EF553B",
          "dash": "solid"
         },
         "marker": {
          "symbol": "circle"
         },
         "mode": "lines",
         "name": "World Bank Low Income",
         "orientation": "v",
         "showlegend": true,
         "type": "scatter",
         "x": [
          1990,
          1991,
          1992,
          1993,
          1994,
          1995,
          1996,
          1997,
          1998,
          1999,
          2000,
          2001,
          2002,
          2003,
          2004,
          2005,
          2006,
          2007,
          2008,
          2009,
          2010,
          2011,
          2012,
          2013,
          2014,
          2015,
          2016,
          2017,
          2018,
          2019
         ],
         "xaxis": "x",
         "y": [
          114623,
          114812,
          116674,
          117168,
          115897,
          117665,
          120481,
          118902,
          117184,
          118431,
          119156,
          120533,
          118272,
          121062,
          119101,
          119209,
          118412,
          116632,
          112840,
          108213,
          107323,
          101165,
          99936,
          93466,
          91100,
          87573,
          86785,
          85255,
          83057,
          81439
         ],
         "yaxis": "y"
        },
        {
         "hovertemplate": "Entity=World Bank Lower Middle Income<br>Year=%{x}<br>Deaths - Meningitis - Sex: Both - Age: All Ages (Number)=%{y}<extra></extra>",
         "legendgroup": "World Bank Lower Middle Income",
         "line": {
          "color": "#00cc96",
          "dash": "solid"
         },
         "marker": {
          "symbol": "circle"
         },
         "mode": "lines",
         "name": "World Bank Lower Middle Income",
         "orientation": "v",
         "showlegend": true,
         "type": "scatter",
         "x": [
          1990,
          1991,
          1992,
          1993,
          1994,
          1995,
          1996,
          1997,
          1998,
          1999,
          2000,
          2001,
          2002,
          2003,
          2004,
          2005,
          2006,
          2007,
          2008,
          2009,
          2010,
          2011,
          2012,
          2013,
          2014,
          2015,
          2016,
          2017,
          2018,
          2019
         ],
         "xaxis": "x",
         "y": [
          241139,
          239606,
          238400,
          234614,
          230967,
          228922,
          237503,
          226774,
          224687,
          223595,
          221822,
          217331,
          214608,
          210576,
          208516,
          208137,
          207843,
          204449,
          199815,
          198534,
          190535,
          183952,
          173362,
          169960,
          164035,
          155499,
          150263,
          141452,
          135914,
          132489
         ],
         "yaxis": "y"
        },
        {
         "hovertemplate": "Entity=World Bank Upper Middle Income<br>Year=%{x}<br>Deaths - Meningitis - Sex: Both - Age: All Ages (Number)=%{y}<extra></extra>",
         "legendgroup": "World Bank Upper Middle Income",
         "line": {
          "color": "#ab63fa",
          "dash": "solid"
         },
         "marker": {
          "symbol": "circle"
         },
         "mode": "lines",
         "name": "World Bank Upper Middle Income",
         "orientation": "v",
         "showlegend": true,
         "type": "scatter",
         "x": [
          1990,
          1991,
          1992,
          1993,
          1994,
          1995,
          1996,
          1997,
          1998,
          1999,
          2000,
          2001,
          2002,
          2003,
          2004,
          2005,
          2006,
          2007,
          2008,
          2009,
          2010,
          2011,
          2012,
          2013,
          2014,
          2015,
          2016,
          2017,
          2018,
          2019
         ],
         "xaxis": "x",
         "y": [
          67918,
          65988,
          63617,
          61532,
          59668,
          56187,
          52486,
          48609,
          45087,
          41811,
          38955,
          36175,
          33878,
          32123,
          30647,
          29365,
          27821,
          26847,
          26083,
          25549,
          24436,
          23334,
          22592,
          21928,
          21220,
          20614,
          20123,
          19379,
          18651,
          18104
         ],
         "yaxis": "y"
        }
       ],
       "layout": {
        "legend": {
         "title": {
          "text": "Entity"
         },
         "tracegroupgap": 0
        },
        "template": {
         "data": {
          "bar": [
           {
            "error_x": {
             "color": "#2a3f5f"
            },
            "error_y": {
             "color": "#2a3f5f"
            },
            "marker": {
             "line": {
              "color": "#E5ECF6",
              "width": 0.5
             },
             "pattern": {
              "fillmode": "overlay",
              "size": 10,
              "solidity": 0.2
             }
            },
            "type": "bar"
           }
          ],
          "barpolar": [
           {
            "marker": {
             "line": {
              "color": "#E5ECF6",
              "width": 0.5
             },
             "pattern": {
              "fillmode": "overlay",
              "size": 10,
              "solidity": 0.2
             }
            },
            "type": "barpolar"
           }
          ],
          "carpet": [
           {
            "aaxis": {
             "endlinecolor": "#2a3f5f",
             "gridcolor": "white",
             "linecolor": "white",
             "minorgridcolor": "white",
             "startlinecolor": "#2a3f5f"
            },
            "baxis": {
             "endlinecolor": "#2a3f5f",
             "gridcolor": "white",
             "linecolor": "white",
             "minorgridcolor": "white",
             "startlinecolor": "#2a3f5f"
            },
            "type": "carpet"
           }
          ],
          "choropleth": [
           {
            "colorbar": {
             "outlinewidth": 0,
             "ticks": ""
            },
            "type": "choropleth"
           }
          ],
          "contour": [
           {
            "colorbar": {
             "outlinewidth": 0,
             "ticks": ""
            },
            "colorscale": [
             [
              0,
              "#0d0887"
             ],
             [
              0.1111111111111111,
              "#46039f"
             ],
             [
              0.2222222222222222,
              "#7201a8"
             ],
             [
              0.3333333333333333,
              "#9c179e"
             ],
             [
              0.4444444444444444,
              "#bd3786"
             ],
             [
              0.5555555555555556,
              "#d8576b"
             ],
             [
              0.6666666666666666,
              "#ed7953"
             ],
             [
              0.7777777777777778,
              "#fb9f3a"
             ],
             [
              0.8888888888888888,
              "#fdca26"
             ],
             [
              1,
              "#f0f921"
             ]
            ],
            "type": "contour"
           }
          ],
          "contourcarpet": [
           {
            "colorbar": {
             "outlinewidth": 0,
             "ticks": ""
            },
            "type": "contourcarpet"
           }
          ],
          "heatmap": [
           {
            "colorbar": {
             "outlinewidth": 0,
             "ticks": ""
            },
            "colorscale": [
             [
              0,
              "#0d0887"
             ],
             [
              0.1111111111111111,
              "#46039f"
             ],
             [
              0.2222222222222222,
              "#7201a8"
             ],
             [
              0.3333333333333333,
              "#9c179e"
             ],
             [
              0.4444444444444444,
              "#bd3786"
             ],
             [
              0.5555555555555556,
              "#d8576b"
             ],
             [
              0.6666666666666666,
              "#ed7953"
             ],
             [
              0.7777777777777778,
              "#fb9f3a"
             ],
             [
              0.8888888888888888,
              "#fdca26"
             ],
             [
              1,
              "#f0f921"
             ]
            ],
            "type": "heatmap"
           }
          ],
          "heatmapgl": [
           {
            "colorbar": {
             "outlinewidth": 0,
             "ticks": ""
            },
            "colorscale": [
             [
              0,
              "#0d0887"
             ],
             [
              0.1111111111111111,
              "#46039f"
             ],
             [
              0.2222222222222222,
              "#7201a8"
             ],
             [
              0.3333333333333333,
              "#9c179e"
             ],
             [
              0.4444444444444444,
              "#bd3786"
             ],
             [
              0.5555555555555556,
              "#d8576b"
             ],
             [
              0.6666666666666666,
              "#ed7953"
             ],
             [
              0.7777777777777778,
              "#fb9f3a"
             ],
             [
              0.8888888888888888,
              "#fdca26"
             ],
             [
              1,
              "#f0f921"
             ]
            ],
            "type": "heatmapgl"
           }
          ],
          "histogram": [
           {
            "marker": {
             "pattern": {
              "fillmode": "overlay",
              "size": 10,
              "solidity": 0.2
             }
            },
            "type": "histogram"
           }
          ],
          "histogram2d": [
           {
            "colorbar": {
             "outlinewidth": 0,
             "ticks": ""
            },
            "colorscale": [
             [
              0,
              "#0d0887"
             ],
             [
              0.1111111111111111,
              "#46039f"
             ],
             [
              0.2222222222222222,
              "#7201a8"
             ],
             [
              0.3333333333333333,
              "#9c179e"
             ],
             [
              0.4444444444444444,
              "#bd3786"
             ],
             [
              0.5555555555555556,
              "#d8576b"
             ],
             [
              0.6666666666666666,
              "#ed7953"
             ],
             [
              0.7777777777777778,
              "#fb9f3a"
             ],
             [
              0.8888888888888888,
              "#fdca26"
             ],
             [
              1,
              "#f0f921"
             ]
            ],
            "type": "histogram2d"
           }
          ],
          "histogram2dcontour": [
           {
            "colorbar": {
             "outlinewidth": 0,
             "ticks": ""
            },
            "colorscale": [
             [
              0,
              "#0d0887"
             ],
             [
              0.1111111111111111,
              "#46039f"
             ],
             [
              0.2222222222222222,
              "#7201a8"
             ],
             [
              0.3333333333333333,
              "#9c179e"
             ],
             [
              0.4444444444444444,
              "#bd3786"
             ],
             [
              0.5555555555555556,
              "#d8576b"
             ],
             [
              0.6666666666666666,
              "#ed7953"
             ],
             [
              0.7777777777777778,
              "#fb9f3a"
             ],
             [
              0.8888888888888888,
              "#fdca26"
             ],
             [
              1,
              "#f0f921"
             ]
            ],
            "type": "histogram2dcontour"
           }
          ],
          "mesh3d": [
           {
            "colorbar": {
             "outlinewidth": 0,
             "ticks": ""
            },
            "type": "mesh3d"
           }
          ],
          "parcoords": [
           {
            "line": {
             "colorbar": {
              "outlinewidth": 0,
              "ticks": ""
             }
            },
            "type": "parcoords"
           }
          ],
          "pie": [
           {
            "automargin": true,
            "type": "pie"
           }
          ],
          "scatter": [
           {
            "fillpattern": {
             "fillmode": "overlay",
             "size": 10,
             "solidity": 0.2
            },
            "type": "scatter"
           }
          ],
          "scatter3d": [
           {
            "line": {
             "colorbar": {
              "outlinewidth": 0,
              "ticks": ""
             }
            },
            "marker": {
             "colorbar": {
              "outlinewidth": 0,
              "ticks": ""
             }
            },
            "type": "scatter3d"
           }
          ],
          "scattercarpet": [
           {
            "marker": {
             "colorbar": {
              "outlinewidth": 0,
              "ticks": ""
             }
            },
            "type": "scattercarpet"
           }
          ],
          "scattergeo": [
           {
            "marker": {
             "colorbar": {
              "outlinewidth": 0,
              "ticks": ""
             }
            },
            "type": "scattergeo"
           }
          ],
          "scattergl": [
           {
            "marker": {
             "colorbar": {
              "outlinewidth": 0,
              "ticks": ""
             }
            },
            "type": "scattergl"
           }
          ],
          "scattermapbox": [
           {
            "marker": {
             "colorbar": {
              "outlinewidth": 0,
              "ticks": ""
             }
            },
            "type": "scattermapbox"
           }
          ],
          "scatterpolar": [
           {
            "marker": {
             "colorbar": {
              "outlinewidth": 0,
              "ticks": ""
             }
            },
            "type": "scatterpolar"
           }
          ],
          "scatterpolargl": [
           {
            "marker": {
             "colorbar": {
              "outlinewidth": 0,
              "ticks": ""
             }
            },
            "type": "scatterpolargl"
           }
          ],
          "scatterternary": [
           {
            "marker": {
             "colorbar": {
              "outlinewidth": 0,
              "ticks": ""
             }
            },
            "type": "scatterternary"
           }
          ],
          "surface": [
           {
            "colorbar": {
             "outlinewidth": 0,
             "ticks": ""
            },
            "colorscale": [
             [
              0,
              "#0d0887"
             ],
             [
              0.1111111111111111,
              "#46039f"
             ],
             [
              0.2222222222222222,
              "#7201a8"
             ],
             [
              0.3333333333333333,
              "#9c179e"
             ],
             [
              0.4444444444444444,
              "#bd3786"
             ],
             [
              0.5555555555555556,
              "#d8576b"
             ],
             [
              0.6666666666666666,
              "#ed7953"
             ],
             [
              0.7777777777777778,
              "#fb9f3a"
             ],
             [
              0.8888888888888888,
              "#fdca26"
             ],
             [
              1,
              "#f0f921"
             ]
            ],
            "type": "surface"
           }
          ],
          "table": [
           {
            "cells": {
             "fill": {
              "color": "#EBF0F8"
             },
             "line": {
              "color": "white"
             }
            },
            "header": {
             "fill": {
              "color": "#C8D4E3"
             },
             "line": {
              "color": "white"
             }
            },
            "type": "table"
           }
          ]
         },
         "layout": {
          "annotationdefaults": {
           "arrowcolor": "#2a3f5f",
           "arrowhead": 0,
           "arrowwidth": 1
          },
          "autotypenumbers": "strict",
          "coloraxis": {
           "colorbar": {
            "outlinewidth": 0,
            "ticks": ""
           }
          },
          "colorscale": {
           "diverging": [
            [
             0,
             "#8e0152"
            ],
            [
             0.1,
             "#c51b7d"
            ],
            [
             0.2,
             "#de77ae"
            ],
            [
             0.3,
             "#f1b6da"
            ],
            [
             0.4,
             "#fde0ef"
            ],
            [
             0.5,
             "#f7f7f7"
            ],
            [
             0.6,
             "#e6f5d0"
            ],
            [
             0.7,
             "#b8e186"
            ],
            [
             0.8,
             "#7fbc41"
            ],
            [
             0.9,
             "#4d9221"
            ],
            [
             1,
             "#276419"
            ]
           ],
           "sequential": [
            [
             0,
             "#0d0887"
            ],
            [
             0.1111111111111111,
             "#46039f"
            ],
            [
             0.2222222222222222,
             "#7201a8"
            ],
            [
             0.3333333333333333,
             "#9c179e"
            ],
            [
             0.4444444444444444,
             "#bd3786"
            ],
            [
             0.5555555555555556,
             "#d8576b"
            ],
            [
             0.6666666666666666,
             "#ed7953"
            ],
            [
             0.7777777777777778,
             "#fb9f3a"
            ],
            [
             0.8888888888888888,
             "#fdca26"
            ],
            [
             1,
             "#f0f921"
            ]
           ],
           "sequentialminus": [
            [
             0,
             "#0d0887"
            ],
            [
             0.1111111111111111,
             "#46039f"
            ],
            [
             0.2222222222222222,
             "#7201a8"
            ],
            [
             0.3333333333333333,
             "#9c179e"
            ],
            [
             0.4444444444444444,
             "#bd3786"
            ],
            [
             0.5555555555555556,
             "#d8576b"
            ],
            [
             0.6666666666666666,
             "#ed7953"
            ],
            [
             0.7777777777777778,
             "#fb9f3a"
            ],
            [
             0.8888888888888888,
             "#fdca26"
            ],
            [
             1,
             "#f0f921"
            ]
           ]
          },
          "colorway": [
           "#636efa",
           "#EF553B",
           "#00cc96",
           "#ab63fa",
           "#FFA15A",
           "#19d3f3",
           "#FF6692",
           "#B6E880",
           "#FF97FF",
           "#FECB52"
          ],
          "font": {
           "color": "#2a3f5f"
          },
          "geo": {
           "bgcolor": "white",
           "lakecolor": "white",
           "landcolor": "#E5ECF6",
           "showlakes": true,
           "showland": true,
           "subunitcolor": "white"
          },
          "hoverlabel": {
           "align": "left"
          },
          "hovermode": "closest",
          "mapbox": {
           "style": "light"
          },
          "paper_bgcolor": "white",
          "plot_bgcolor": "#E5ECF6",
          "polar": {
           "angularaxis": {
            "gridcolor": "white",
            "linecolor": "white",
            "ticks": ""
           },
           "bgcolor": "#E5ECF6",
           "radialaxis": {
            "gridcolor": "white",
            "linecolor": "white",
            "ticks": ""
           }
          },
          "scene": {
           "xaxis": {
            "backgroundcolor": "#E5ECF6",
            "gridcolor": "white",
            "gridwidth": 2,
            "linecolor": "white",
            "showbackground": true,
            "ticks": "",
            "zerolinecolor": "white"
           },
           "yaxis": {
            "backgroundcolor": "#E5ECF6",
            "gridcolor": "white",
            "gridwidth": 2,
            "linecolor": "white",
            "showbackground": true,
            "ticks": "",
            "zerolinecolor": "white"
           },
           "zaxis": {
            "backgroundcolor": "#E5ECF6",
            "gridcolor": "white",
            "gridwidth": 2,
            "linecolor": "white",
            "showbackground": true,
            "ticks": "",
            "zerolinecolor": "white"
           }
          },
          "shapedefaults": {
           "line": {
            "color": "#2a3f5f"
           }
          },
          "ternary": {
           "aaxis": {
            "gridcolor": "white",
            "linecolor": "white",
            "ticks": ""
           },
           "baxis": {
            "gridcolor": "white",
            "linecolor": "white",
            "ticks": ""
           },
           "bgcolor": "#E5ECF6",
           "caxis": {
            "gridcolor": "white",
            "linecolor": "white",
            "ticks": ""
           }
          },
          "title": {
           "x": 0.05
          },
          "xaxis": {
           "automargin": true,
           "gridcolor": "white",
           "linecolor": "white",
           "ticks": "",
           "title": {
            "standoff": 15
           },
           "zerolinecolor": "white",
           "zerolinewidth": 2
          },
          "yaxis": {
           "automargin": true,
           "gridcolor": "white",
           "linecolor": "white",
           "ticks": "",
           "title": {
            "standoff": 15
           },
           "zerolinecolor": "white",
           "zerolinewidth": 2
          }
         }
        },
        "title": {
         "text": "Muertes por Meningitis",
         "x": 0.5,
         "xanchor": "center"
        },
        "xaxis": {
         "anchor": "y",
         "domain": [
          0,
          1
         ],
         "title": {
          "text": "Year"
         }
        },
        "yaxis": {
         "anchor": "x",
         "domain": [
          0,
          1
         ],
         "title": {
          "text": "Deaths - Meningitis - Sex: Both - Age: All Ages (Number)"
         }
        }
       }
      }
     },
     "metadata": {},
     "output_type": "display_data"
    }
   ],
   "source": [
    "fig=px.line(\n",
    "    data_frame=df_income,\n",
    "    y=\"Deaths - Meningitis - Sex: Both - Age: All Ages (Number)\",\n",
    "    x=\"Year\",\n",
    "    color=\"Entity\",\n",
    "    title= \"Muertes por Meningitis\"\n",
    "            \n",
    "    )\n",
    "fig.update_layout(\n",
    "    title={\n",
    "        'text': \"Muertes por Meningitis\",\n",
    "        'x': 0.5,\n",
    "        'xanchor':'center'\n",
    "\n",
    "    }\n",
    ")"
   ]
  },
  {
   "cell_type": "markdown",
   "metadata": {},
   "source": [
    "Vemos que los países de renta media baja tiene un mayor nivel de muertes en términos absolutos.  Posteriormente le sihen los países con renta baja y al final los países de renta medio-alta y alta.\n",
    "\n",
    "A modo de críticas del trabajo sería mejor verlo con cifras relativas, ya que serían datos más veraces de los que podríamos sacar insights más valiosos."
   ]
  },
  {
   "cell_type": "code",
   "execution_count": 28,
   "metadata": {},
   "outputs": [
    {
     "data": {
      "application/vnd.plotly.v1+json": {
       "config": {
        "plotlyServerURL": "https://plot.ly"
       },
       "data": [
        {
         "hovertemplate": "Entity=African Region (WHO)<br>Year=%{x}<br>Deaths - Meningitis - Sex: Both - Age: All Ages (Number)=%{y}<extra></extra>",
         "legendgroup": "African Region (WHO)",
         "line": {
          "color": "#636efa",
          "dash": "solid"
         },
         "marker": {
          "symbol": "circle"
         },
         "mode": "lines",
         "name": "African Region (WHO)",
         "orientation": "v",
         "showlegend": true,
         "type": "scatter",
         "x": [
          1990,
          1991,
          1992,
          1993,
          1994,
          1995,
          1996,
          1997,
          1998,
          1999,
          2000,
          2001,
          2002,
          2003,
          2004,
          2005,
          2006,
          2007,
          2008,
          2009,
          2010,
          2011,
          2012,
          2013,
          2014,
          2015,
          2016,
          2017,
          2018,
          2019
         ],
         "xaxis": "x",
         "y": [
          172206,
          174087,
          178190,
          179299,
          178971,
          181068,
          196542,
          186353,
          186059,
          188150,
          190368,
          191541,
          191641,
          195470,
          193935,
          194506,
          196650,
          195161,
          189839,
          187657,
          182351,
          172992,
          169244,
          161754,
          158749,
          151136,
          150715,
          148223,
          142925,
          139590
         ],
         "yaxis": "y"
        },
        {
         "hovertemplate": "Entity=Eastern Mediterranean Region (WHO)<br>Year=%{x}<br>Deaths - Meningitis - Sex: Both - Age: All Ages (Number)=%{y}<extra></extra>",
         "legendgroup": "Eastern Mediterranean Region (WHO)",
         "line": {
          "color": "#EF553B",
          "dash": "solid"
         },
         "marker": {
          "symbol": "circle"
         },
         "mode": "lines",
         "name": "Eastern Mediterranean Region (WHO)",
         "orientation": "v",
         "showlegend": true,
         "type": "scatter",
         "x": [
          1990,
          1991,
          1992,
          1993,
          1994,
          1995,
          1996,
          1997,
          1998,
          1999,
          2000,
          2001,
          2002,
          2003,
          2004,
          2005,
          2006,
          2007,
          2008,
          2009,
          2010,
          2011,
          2012,
          2013,
          2014,
          2015,
          2016,
          2017,
          2018,
          2019
         ],
         "xaxis": "x",
         "y": [
          43526,
          42857,
          42962,
          42941,
          43553,
          44120,
          43978,
          44059,
          44002,
          44638,
          43343,
          42645,
          42451,
          41937,
          41546,
          40773,
          40719,
          40080,
          39077,
          39379,
          39024,
          38338,
          32761,
          32355,
          31713,
          31384,
          31281,
          30362,
          28886,
          28368
         ],
         "yaxis": "y"
        },
        {
         "hovertemplate": "Entity=European Region (WHO)<br>Year=%{x}<br>Deaths - Meningitis - Sex: Both - Age: All Ages (Number)=%{y}<extra></extra>",
         "legendgroup": "European Region (WHO)",
         "line": {
          "color": "#00cc96",
          "dash": "solid"
         },
         "marker": {
          "symbol": "circle"
         },
         "mode": "lines",
         "name": "European Region (WHO)",
         "orientation": "v",
         "showlegend": true,
         "type": "scatter",
         "x": [
          1990,
          1991,
          1992,
          1993,
          1994,
          1995,
          1996,
          1997,
          1998,
          1999,
          2000,
          2001,
          2002,
          2003,
          2004,
          2005,
          2006,
          2007,
          2008,
          2009,
          2010,
          2011,
          2012,
          2013,
          2014,
          2015,
          2016,
          2017,
          2018,
          2019
         ],
         "xaxis": "x",
         "y": [
          13373,
          12745,
          12410,
          12377,
          12478,
          12122,
          11483,
          10962,
          10495,
          10331,
          10068,
          9810,
          9439,
          9131,
          8639,
          8403,
          7684,
          7300,
          6781,
          6349,
          6089,
          5832,
          5636,
          5447,
          5224,
          5154,
          4942,
          4663,
          4556,
          4480
         ],
         "yaxis": "y"
        },
        {
         "hovertemplate": "Entity=Region of the Americas (WHO)<br>Year=%{x}<br>Deaths - Meningitis - Sex: Both - Age: All Ages (Number)=%{y}<extra></extra>",
         "legendgroup": "Region of the Americas (WHO)",
         "line": {
          "color": "#ab63fa",
          "dash": "solid"
         },
         "marker": {
          "symbol": "circle"
         },
         "mode": "lines",
         "name": "Region of the Americas (WHO)",
         "orientation": "v",
         "showlegend": true,
         "type": "scatter",
         "x": [
          1990,
          1991,
          1992,
          1993,
          1994,
          1995,
          1996,
          1997,
          1998,
          1999,
          2000,
          2001,
          2002,
          2003,
          2004,
          2005,
          2006,
          2007,
          2008,
          2009,
          2010,
          2011,
          2012,
          2013,
          2014,
          2015,
          2016,
          2017,
          2018,
          2019
         ],
         "xaxis": "x",
         "y": [
          21043,
          20055,
          19316,
          18895,
          18212,
          17663,
          16913,
          16114,
          15268,
          14177,
          13284,
          12608,
          12094,
          11743,
          11462,
          11143,
          10700,
          10566,
          10350,
          10220,
          9484,
          8978,
          8543,
          8260,
          8105,
          7937,
          7848,
          7669,
          7458,
          7319
         ],
         "yaxis": "y"
        },
        {
         "hovertemplate": "Entity=South-East Asia Region (WHO)<br>Year=%{x}<br>Deaths - Meningitis - Sex: Both - Age: All Ages (Number)=%{y}<extra></extra>",
         "legendgroup": "South-East Asia Region (WHO)",
         "line": {
          "color": "#FFA15A",
          "dash": "solid"
         },
         "marker": {
          "symbol": "circle"
         },
         "mode": "lines",
         "name": "South-East Asia Region (WHO)",
         "orientation": "v",
         "showlegend": true,
         "type": "scatter",
         "x": [
          1990,
          1991,
          1992,
          1993,
          1994,
          1995,
          1996,
          1997,
          1998,
          1999,
          2000,
          2001,
          2002,
          2003,
          2004,
          2005,
          2006,
          2007,
          2008,
          2009,
          2010,
          2011,
          2012,
          2013,
          2014,
          2015,
          2016,
          2017,
          2018,
          2019
         ],
         "xaxis": "x",
         "y": [
          133474,
          130811,
          127346,
          123111,
          118505,
          115460,
          112074,
          110393,
          107296,
          104974,
          103695,
          100469,
          95964,
          91941,
          90184,
          89985,
          87053,
          84040,
          81892,
          77865,
          74963,
          72184,
          69644,
          67786,
          63178,
          58832,
          53535,
          46800,
          46115,
          45100
         ],
         "yaxis": "y"
        },
        {
         "hovertemplate": "Entity=Western Pacific Region (WHO)<br>Year=%{x}<br>Deaths - Meningitis - Sex: Both - Age: All Ages (Number)=%{y}<extra></extra>",
         "legendgroup": "Western Pacific Region (WHO)",
         "line": {
          "color": "#19d3f3",
          "dash": "solid"
         },
         "marker": {
          "symbol": "circle"
         },
         "mode": "lines",
         "name": "Western Pacific Region (WHO)",
         "orientation": "v",
         "showlegend": true,
         "type": "scatter",
         "x": [
          1990,
          1991,
          1992,
          1993,
          1994,
          1995,
          1996,
          1997,
          1998,
          1999,
          2000,
          2001,
          2002,
          2003,
          2004,
          2005,
          2006,
          2007,
          2008,
          2009,
          2010,
          2011,
          2012,
          2013,
          2014,
          2015,
          2016,
          2017,
          2018,
          2019
         ],
         "xaxis": "x",
         "y": [
          48430,
          47870,
          46033,
          44030,
          41912,
          39232,
          36111,
          32861,
          30110,
          27729,
          25111,
          22715,
          20589,
          18838,
          17577,
          16885,
          16060,
          15505,
          15420,
          15310,
          14772,
          14327,
          14191,
          13824,
          13397,
          13271,
          12857,
          12346,
          11660,
          11158
         ],
         "yaxis": "y"
        }
       ],
       "layout": {
        "legend": {
         "title": {
          "text": "Entity"
         },
         "tracegroupgap": 0
        },
        "template": {
         "data": {
          "bar": [
           {
            "error_x": {
             "color": "#2a3f5f"
            },
            "error_y": {
             "color": "#2a3f5f"
            },
            "marker": {
             "line": {
              "color": "#E5ECF6",
              "width": 0.5
             },
             "pattern": {
              "fillmode": "overlay",
              "size": 10,
              "solidity": 0.2
             }
            },
            "type": "bar"
           }
          ],
          "barpolar": [
           {
            "marker": {
             "line": {
              "color": "#E5ECF6",
              "width": 0.5
             },
             "pattern": {
              "fillmode": "overlay",
              "size": 10,
              "solidity": 0.2
             }
            },
            "type": "barpolar"
           }
          ],
          "carpet": [
           {
            "aaxis": {
             "endlinecolor": "#2a3f5f",
             "gridcolor": "white",
             "linecolor": "white",
             "minorgridcolor": "white",
             "startlinecolor": "#2a3f5f"
            },
            "baxis": {
             "endlinecolor": "#2a3f5f",
             "gridcolor": "white",
             "linecolor": "white",
             "minorgridcolor": "white",
             "startlinecolor": "#2a3f5f"
            },
            "type": "carpet"
           }
          ],
          "choropleth": [
           {
            "colorbar": {
             "outlinewidth": 0,
             "ticks": ""
            },
            "type": "choropleth"
           }
          ],
          "contour": [
           {
            "colorbar": {
             "outlinewidth": 0,
             "ticks": ""
            },
            "colorscale": [
             [
              0,
              "#0d0887"
             ],
             [
              0.1111111111111111,
              "#46039f"
             ],
             [
              0.2222222222222222,
              "#7201a8"
             ],
             [
              0.3333333333333333,
              "#9c179e"
             ],
             [
              0.4444444444444444,
              "#bd3786"
             ],
             [
              0.5555555555555556,
              "#d8576b"
             ],
             [
              0.6666666666666666,
              "#ed7953"
             ],
             [
              0.7777777777777778,
              "#fb9f3a"
             ],
             [
              0.8888888888888888,
              "#fdca26"
             ],
             [
              1,
              "#f0f921"
             ]
            ],
            "type": "contour"
           }
          ],
          "contourcarpet": [
           {
            "colorbar": {
             "outlinewidth": 0,
             "ticks": ""
            },
            "type": "contourcarpet"
           }
          ],
          "heatmap": [
           {
            "colorbar": {
             "outlinewidth": 0,
             "ticks": ""
            },
            "colorscale": [
             [
              0,
              "#0d0887"
             ],
             [
              0.1111111111111111,
              "#46039f"
             ],
             [
              0.2222222222222222,
              "#7201a8"
             ],
             [
              0.3333333333333333,
              "#9c179e"
             ],
             [
              0.4444444444444444,
              "#bd3786"
             ],
             [
              0.5555555555555556,
              "#d8576b"
             ],
             [
              0.6666666666666666,
              "#ed7953"
             ],
             [
              0.7777777777777778,
              "#fb9f3a"
             ],
             [
              0.8888888888888888,
              "#fdca26"
             ],
             [
              1,
              "#f0f921"
             ]
            ],
            "type": "heatmap"
           }
          ],
          "heatmapgl": [
           {
            "colorbar": {
             "outlinewidth": 0,
             "ticks": ""
            },
            "colorscale": [
             [
              0,
              "#0d0887"
             ],
             [
              0.1111111111111111,
              "#46039f"
             ],
             [
              0.2222222222222222,
              "#7201a8"
             ],
             [
              0.3333333333333333,
              "#9c179e"
             ],
             [
              0.4444444444444444,
              "#bd3786"
             ],
             [
              0.5555555555555556,
              "#d8576b"
             ],
             [
              0.6666666666666666,
              "#ed7953"
             ],
             [
              0.7777777777777778,
              "#fb9f3a"
             ],
             [
              0.8888888888888888,
              "#fdca26"
             ],
             [
              1,
              "#f0f921"
             ]
            ],
            "type": "heatmapgl"
           }
          ],
          "histogram": [
           {
            "marker": {
             "pattern": {
              "fillmode": "overlay",
              "size": 10,
              "solidity": 0.2
             }
            },
            "type": "histogram"
           }
          ],
          "histogram2d": [
           {
            "colorbar": {
             "outlinewidth": 0,
             "ticks": ""
            },
            "colorscale": [
             [
              0,
              "#0d0887"
             ],
             [
              0.1111111111111111,
              "#46039f"
             ],
             [
              0.2222222222222222,
              "#7201a8"
             ],
             [
              0.3333333333333333,
              "#9c179e"
             ],
             [
              0.4444444444444444,
              "#bd3786"
             ],
             [
              0.5555555555555556,
              "#d8576b"
             ],
             [
              0.6666666666666666,
              "#ed7953"
             ],
             [
              0.7777777777777778,
              "#fb9f3a"
             ],
             [
              0.8888888888888888,
              "#fdca26"
             ],
             [
              1,
              "#f0f921"
             ]
            ],
            "type": "histogram2d"
           }
          ],
          "histogram2dcontour": [
           {
            "colorbar": {
             "outlinewidth": 0,
             "ticks": ""
            },
            "colorscale": [
             [
              0,
              "#0d0887"
             ],
             [
              0.1111111111111111,
              "#46039f"
             ],
             [
              0.2222222222222222,
              "#7201a8"
             ],
             [
              0.3333333333333333,
              "#9c179e"
             ],
             [
              0.4444444444444444,
              "#bd3786"
             ],
             [
              0.5555555555555556,
              "#d8576b"
             ],
             [
              0.6666666666666666,
              "#ed7953"
             ],
             [
              0.7777777777777778,
              "#fb9f3a"
             ],
             [
              0.8888888888888888,
              "#fdca26"
             ],
             [
              1,
              "#f0f921"
             ]
            ],
            "type": "histogram2dcontour"
           }
          ],
          "mesh3d": [
           {
            "colorbar": {
             "outlinewidth": 0,
             "ticks": ""
            },
            "type": "mesh3d"
           }
          ],
          "parcoords": [
           {
            "line": {
             "colorbar": {
              "outlinewidth": 0,
              "ticks": ""
             }
            },
            "type": "parcoords"
           }
          ],
          "pie": [
           {
            "automargin": true,
            "type": "pie"
           }
          ],
          "scatter": [
           {
            "fillpattern": {
             "fillmode": "overlay",
             "size": 10,
             "solidity": 0.2
            },
            "type": "scatter"
           }
          ],
          "scatter3d": [
           {
            "line": {
             "colorbar": {
              "outlinewidth": 0,
              "ticks": ""
             }
            },
            "marker": {
             "colorbar": {
              "outlinewidth": 0,
              "ticks": ""
             }
            },
            "type": "scatter3d"
           }
          ],
          "scattercarpet": [
           {
            "marker": {
             "colorbar": {
              "outlinewidth": 0,
              "ticks": ""
             }
            },
            "type": "scattercarpet"
           }
          ],
          "scattergeo": [
           {
            "marker": {
             "colorbar": {
              "outlinewidth": 0,
              "ticks": ""
             }
            },
            "type": "scattergeo"
           }
          ],
          "scattergl": [
           {
            "marker": {
             "colorbar": {
              "outlinewidth": 0,
              "ticks": ""
             }
            },
            "type": "scattergl"
           }
          ],
          "scattermapbox": [
           {
            "marker": {
             "colorbar": {
              "outlinewidth": 0,
              "ticks": ""
             }
            },
            "type": "scattermapbox"
           }
          ],
          "scatterpolar": [
           {
            "marker": {
             "colorbar": {
              "outlinewidth": 0,
              "ticks": ""
             }
            },
            "type": "scatterpolar"
           }
          ],
          "scatterpolargl": [
           {
            "marker": {
             "colorbar": {
              "outlinewidth": 0,
              "ticks": ""
             }
            },
            "type": "scatterpolargl"
           }
          ],
          "scatterternary": [
           {
            "marker": {
             "colorbar": {
              "outlinewidth": 0,
              "ticks": ""
             }
            },
            "type": "scatterternary"
           }
          ],
          "surface": [
           {
            "colorbar": {
             "outlinewidth": 0,
             "ticks": ""
            },
            "colorscale": [
             [
              0,
              "#0d0887"
             ],
             [
              0.1111111111111111,
              "#46039f"
             ],
             [
              0.2222222222222222,
              "#7201a8"
             ],
             [
              0.3333333333333333,
              "#9c179e"
             ],
             [
              0.4444444444444444,
              "#bd3786"
             ],
             [
              0.5555555555555556,
              "#d8576b"
             ],
             [
              0.6666666666666666,
              "#ed7953"
             ],
             [
              0.7777777777777778,
              "#fb9f3a"
             ],
             [
              0.8888888888888888,
              "#fdca26"
             ],
             [
              1,
              "#f0f921"
             ]
            ],
            "type": "surface"
           }
          ],
          "table": [
           {
            "cells": {
             "fill": {
              "color": "#EBF0F8"
             },
             "line": {
              "color": "white"
             }
            },
            "header": {
             "fill": {
              "color": "#C8D4E3"
             },
             "line": {
              "color": "white"
             }
            },
            "type": "table"
           }
          ]
         },
         "layout": {
          "annotationdefaults": {
           "arrowcolor": "#2a3f5f",
           "arrowhead": 0,
           "arrowwidth": 1
          },
          "autotypenumbers": "strict",
          "coloraxis": {
           "colorbar": {
            "outlinewidth": 0,
            "ticks": ""
           }
          },
          "colorscale": {
           "diverging": [
            [
             0,
             "#8e0152"
            ],
            [
             0.1,
             "#c51b7d"
            ],
            [
             0.2,
             "#de77ae"
            ],
            [
             0.3,
             "#f1b6da"
            ],
            [
             0.4,
             "#fde0ef"
            ],
            [
             0.5,
             "#f7f7f7"
            ],
            [
             0.6,
             "#e6f5d0"
            ],
            [
             0.7,
             "#b8e186"
            ],
            [
             0.8,
             "#7fbc41"
            ],
            [
             0.9,
             "#4d9221"
            ],
            [
             1,
             "#276419"
            ]
           ],
           "sequential": [
            [
             0,
             "#0d0887"
            ],
            [
             0.1111111111111111,
             "#46039f"
            ],
            [
             0.2222222222222222,
             "#7201a8"
            ],
            [
             0.3333333333333333,
             "#9c179e"
            ],
            [
             0.4444444444444444,
             "#bd3786"
            ],
            [
             0.5555555555555556,
             "#d8576b"
            ],
            [
             0.6666666666666666,
             "#ed7953"
            ],
            [
             0.7777777777777778,
             "#fb9f3a"
            ],
            [
             0.8888888888888888,
             "#fdca26"
            ],
            [
             1,
             "#f0f921"
            ]
           ],
           "sequentialminus": [
            [
             0,
             "#0d0887"
            ],
            [
             0.1111111111111111,
             "#46039f"
            ],
            [
             0.2222222222222222,
             "#7201a8"
            ],
            [
             0.3333333333333333,
             "#9c179e"
            ],
            [
             0.4444444444444444,
             "#bd3786"
            ],
            [
             0.5555555555555556,
             "#d8576b"
            ],
            [
             0.6666666666666666,
             "#ed7953"
            ],
            [
             0.7777777777777778,
             "#fb9f3a"
            ],
            [
             0.8888888888888888,
             "#fdca26"
            ],
            [
             1,
             "#f0f921"
            ]
           ]
          },
          "colorway": [
           "#636efa",
           "#EF553B",
           "#00cc96",
           "#ab63fa",
           "#FFA15A",
           "#19d3f3",
           "#FF6692",
           "#B6E880",
           "#FF97FF",
           "#FECB52"
          ],
          "font": {
           "color": "#2a3f5f"
          },
          "geo": {
           "bgcolor": "white",
           "lakecolor": "white",
           "landcolor": "#E5ECF6",
           "showlakes": true,
           "showland": true,
           "subunitcolor": "white"
          },
          "hoverlabel": {
           "align": "left"
          },
          "hovermode": "closest",
          "mapbox": {
           "style": "light"
          },
          "paper_bgcolor": "white",
          "plot_bgcolor": "#E5ECF6",
          "polar": {
           "angularaxis": {
            "gridcolor": "white",
            "linecolor": "white",
            "ticks": ""
           },
           "bgcolor": "#E5ECF6",
           "radialaxis": {
            "gridcolor": "white",
            "linecolor": "white",
            "ticks": ""
           }
          },
          "scene": {
           "xaxis": {
            "backgroundcolor": "#E5ECF6",
            "gridcolor": "white",
            "gridwidth": 2,
            "linecolor": "white",
            "showbackground": true,
            "ticks": "",
            "zerolinecolor": "white"
           },
           "yaxis": {
            "backgroundcolor": "#E5ECF6",
            "gridcolor": "white",
            "gridwidth": 2,
            "linecolor": "white",
            "showbackground": true,
            "ticks": "",
            "zerolinecolor": "white"
           },
           "zaxis": {
            "backgroundcolor": "#E5ECF6",
            "gridcolor": "white",
            "gridwidth": 2,
            "linecolor": "white",
            "showbackground": true,
            "ticks": "",
            "zerolinecolor": "white"
           }
          },
          "shapedefaults": {
           "line": {
            "color": "#2a3f5f"
           }
          },
          "ternary": {
           "aaxis": {
            "gridcolor": "white",
            "linecolor": "white",
            "ticks": ""
           },
           "baxis": {
            "gridcolor": "white",
            "linecolor": "white",
            "ticks": ""
           },
           "bgcolor": "#E5ECF6",
           "caxis": {
            "gridcolor": "white",
            "linecolor": "white",
            "ticks": ""
           }
          },
          "title": {
           "x": 0.05
          },
          "xaxis": {
           "automargin": true,
           "gridcolor": "white",
           "linecolor": "white",
           "ticks": "",
           "title": {
            "standoff": 15
           },
           "zerolinecolor": "white",
           "zerolinewidth": 2
          },
          "yaxis": {
           "automargin": true,
           "gridcolor": "white",
           "linecolor": "white",
           "ticks": "",
           "title": {
            "standoff": 15
           },
           "zerolinecolor": "white",
           "zerolinewidth": 2
          }
         }
        },
        "title": {
         "text": "Muertes por Meningitis",
         "x": 0.5,
         "xanchor": "center"
        },
        "xaxis": {
         "anchor": "y",
         "domain": [
          0,
          1
         ],
         "title": {
          "text": "Year"
         }
        },
        "yaxis": {
         "anchor": "x",
         "domain": [
          0,
          1
         ],
         "title": {
          "text": "Deaths - Meningitis - Sex: Both - Age: All Ages (Number)"
         }
        }
       }
      }
     },
     "metadata": {},
     "output_type": "display_data"
    }
   ],
   "source": [
    "# Hacemos también un análisis por regiones geográficas\n",
    "\n",
    "fig=px.line(\n",
    "    data_frame=df_continent,\n",
    "    y=\"Deaths - Meningitis - Sex: Both - Age: All Ages (Number)\",\n",
    "    x=\"Year\",\n",
    "    color=\"Entity\",\n",
    "    title= \"Muertes por Meningitis\"\n",
    "            \n",
    "    )\n",
    "fig.update_layout(\n",
    "    title={\n",
    "        'text': \"Muertes por Meningitis\",\n",
    "        'x': 0.5,\n",
    "        'xanchor':'center'\n",
    "\n",
    "    }\n",
    ")\n"
   ]
  },
  {
   "cell_type": "markdown",
   "metadata": {},
   "source": [
    "El continente que lidera las muertes por meningitis esñAfrica seguido del sureste de Asia. En el caso del sureste asiático observamos que la disminución es muy pronunciada llegando a niveles bajos. En el caso de África vemos que hay una disminución desde inicios de los 2000 pero los niveles son muy superiores al resto de continentes."
   ]
  },
  {
   "cell_type": "code",
   "execution_count": 63,
   "metadata": {},
   "outputs": [
    {
     "data": {
      "text/html": [
       "<div>\n",
       "<style scoped>\n",
       "    .dataframe tbody tr th:only-of-type {\n",
       "        vertical-align: middle;\n",
       "    }\n",
       "\n",
       "    .dataframe tbody tr th {\n",
       "        vertical-align: top;\n",
       "    }\n",
       "\n",
       "    .dataframe thead th {\n",
       "        text-align: right;\n",
       "    }\n",
       "</style>\n",
       "<table border=\"1\" class=\"dataframe\">\n",
       "  <thead>\n",
       "    <tr style=\"text-align: right;\">\n",
       "      <th></th>\n",
       "      <th>Entity</th>\n",
       "      <th>Code</th>\n",
       "      <th>Year</th>\n",
       "      <th>Deaths - Meningitis - Sex: Both - Age: All Ages (Number)</th>\n",
       "      <th>Deaths - Alzheimer's disease and other dementias - Sex: Both - Age: All Ages (Number)</th>\n",
       "      <th>Deaths - Parkinson's disease - Sex: Both - Age: All Ages (Number)</th>\n",
       "      <th>Deaths - Nutritional deficiencies - Sex: Both - Age: All Ages (Number)</th>\n",
       "      <th>Deaths - Malaria - Sex: Both - Age: All Ages (Number)</th>\n",
       "      <th>Deaths - Drowning - Sex: Both - Age: All Ages (Number)</th>\n",
       "      <th>Deaths - Interpersonal violence - Sex: Both - Age: All Ages (Number)</th>\n",
       "      <th>...</th>\n",
       "      <th>Deaths - Diabetes mellitus - Sex: Both - Age: All Ages (Number)</th>\n",
       "      <th>Deaths - Chronic kidney disease - Sex: Both - Age: All Ages (Number)</th>\n",
       "      <th>Deaths - Poisonings - Sex: Both - Age: All Ages (Number)</th>\n",
       "      <th>Deaths - Protein-energy malnutrition - Sex: Both - Age: All Ages (Number)</th>\n",
       "      <th>Deaths - Road injuries - Sex: Both - Age: All Ages (Number)</th>\n",
       "      <th>Deaths - Chronic respiratory diseases - Sex: Both - Age: All Ages (Number)</th>\n",
       "      <th>Deaths - Cirrhosis and other chronic liver diseases - Sex: Both - Age: All Ages (Number)</th>\n",
       "      <th>Deaths - Digestive diseases - Sex: Both - Age: All Ages (Number)</th>\n",
       "      <th>Deaths - Fire, heat, and hot substances - Sex: Both - Age: All Ages (Number)</th>\n",
       "      <th>Deaths - Acute hepatitis - Sex: Both - Age: All Ages (Number)</th>\n",
       "    </tr>\n",
       "  </thead>\n",
       "  <tbody>\n",
       "    <tr>\n",
       "      <th>2670</th>\n",
       "      <td>India</td>\n",
       "      <td>IND</td>\n",
       "      <td>1990</td>\n",
       "      <td>98358</td>\n",
       "      <td>24195</td>\n",
       "      <td>13419</td>\n",
       "      <td>268223</td>\n",
       "      <td>162369</td>\n",
       "      <td>88688</td>\n",
       "      <td>38720</td>\n",
       "      <td>...</td>\n",
       "      <td>78789</td>\n",
       "      <td>92805</td>\n",
       "      <td>7257</td>\n",
       "      <td>202241</td>\n",
       "      <td>129821</td>\n",
       "      <td>601995</td>\n",
       "      <td>144247</td>\n",
       "      <td>315248</td>\n",
       "      <td>23032</td>\n",
       "      <td>61782</td>\n",
       "    </tr>\n",
       "    <tr>\n",
       "      <th>2671</th>\n",
       "      <td>India</td>\n",
       "      <td>IND</td>\n",
       "      <td>1991</td>\n",
       "      <td>97134</td>\n",
       "      <td>24862</td>\n",
       "      <td>14011</td>\n",
       "      <td>253431</td>\n",
       "      <td>159473</td>\n",
       "      <td>88014</td>\n",
       "      <td>37806</td>\n",
       "      <td>...</td>\n",
       "      <td>82661</td>\n",
       "      <td>97100</td>\n",
       "      <td>7337</td>\n",
       "      <td>188418</td>\n",
       "      <td>135557</td>\n",
       "      <td>621913</td>\n",
       "      <td>146547</td>\n",
       "      <td>321460</td>\n",
       "      <td>23373</td>\n",
       "      <td>63189</td>\n",
       "    </tr>\n",
       "    <tr>\n",
       "      <th>2672</th>\n",
       "      <td>India</td>\n",
       "      <td>IND</td>\n",
       "      <td>1992</td>\n",
       "      <td>94891</td>\n",
       "      <td>25353</td>\n",
       "      <td>14394</td>\n",
       "      <td>237280</td>\n",
       "      <td>151759</td>\n",
       "      <td>86073</td>\n",
       "      <td>38859</td>\n",
       "      <td>...</td>\n",
       "      <td>85848</td>\n",
       "      <td>100695</td>\n",
       "      <td>7355</td>\n",
       "      <td>174878</td>\n",
       "      <td>138623</td>\n",
       "      <td>635103</td>\n",
       "      <td>147875</td>\n",
       "      <td>325680</td>\n",
       "      <td>23576</td>\n",
       "      <td>63765</td>\n",
       "    </tr>\n",
       "  </tbody>\n",
       "</table>\n",
       "<p>3 rows × 34 columns</p>\n",
       "</div>"
      ],
      "text/plain": [
       "     Entity Code  Year  \\\n",
       "2670  India  IND  1990   \n",
       "2671  India  IND  1991   \n",
       "2672  India  IND  1992   \n",
       "\n",
       "      Deaths - Meningitis - Sex: Both - Age: All Ages (Number)  \\\n",
       "2670                                              98358          \n",
       "2671                                              97134          \n",
       "2672                                              94891          \n",
       "\n",
       "      Deaths - Alzheimer's disease and other dementias - Sex: Both - Age: All Ages (Number)  \\\n",
       "2670                                              24195                                       \n",
       "2671                                              24862                                       \n",
       "2672                                              25353                                       \n",
       "\n",
       "      Deaths - Parkinson's disease - Sex: Both - Age: All Ages (Number)  \\\n",
       "2670                                              13419                   \n",
       "2671                                              14011                   \n",
       "2672                                              14394                   \n",
       "\n",
       "      Deaths - Nutritional deficiencies - Sex: Both - Age: All Ages (Number)  \\\n",
       "2670                                             268223                        \n",
       "2671                                             253431                        \n",
       "2672                                             237280                        \n",
       "\n",
       "      Deaths - Malaria - Sex: Both - Age: All Ages (Number)  \\\n",
       "2670                                             162369       \n",
       "2671                                             159473       \n",
       "2672                                             151759       \n",
       "\n",
       "      Deaths - Drowning - Sex: Both - Age: All Ages (Number)  \\\n",
       "2670                                              88688        \n",
       "2671                                              88014        \n",
       "2672                                              86073        \n",
       "\n",
       "      Deaths - Interpersonal violence - Sex: Both - Age: All Ages (Number)  \\\n",
       "2670                                              38720                      \n",
       "2671                                              37806                      \n",
       "2672                                              38859                      \n",
       "\n",
       "      ...  Deaths - Diabetes mellitus - Sex: Both - Age: All Ages (Number)  \\\n",
       "2670  ...                                              78789                 \n",
       "2671  ...                                              82661                 \n",
       "2672  ...                                              85848                 \n",
       "\n",
       "      Deaths - Chronic kidney disease - Sex: Both - Age: All Ages (Number)  \\\n",
       "2670                                              92805                      \n",
       "2671                                              97100                      \n",
       "2672                                             100695                      \n",
       "\n",
       "      Deaths - Poisonings - Sex: Both - Age: All Ages (Number)  \\\n",
       "2670                                               7257          \n",
       "2671                                               7337          \n",
       "2672                                               7355          \n",
       "\n",
       "      Deaths - Protein-energy malnutrition - Sex: Both - Age: All Ages (Number)  \\\n",
       "2670                                             202241                           \n",
       "2671                                             188418                           \n",
       "2672                                             174878                           \n",
       "\n",
       "      Deaths - Road injuries - Sex: Both - Age: All Ages (Number)  \\\n",
       "2670                                             129821             \n",
       "2671                                             135557             \n",
       "2672                                             138623             \n",
       "\n",
       "      Deaths - Chronic respiratory diseases - Sex: Both - Age: All Ages (Number)  \\\n",
       "2670                                             601995                            \n",
       "2671                                             621913                            \n",
       "2672                                             635103                            \n",
       "\n",
       "      Deaths - Cirrhosis and other chronic liver diseases - Sex: Both - Age: All Ages (Number)  \\\n",
       "2670                                             144247                                          \n",
       "2671                                             146547                                          \n",
       "2672                                             147875                                          \n",
       "\n",
       "      Deaths - Digestive diseases - Sex: Both - Age: All Ages (Number)  \\\n",
       "2670                                             315248                  \n",
       "2671                                             321460                  \n",
       "2672                                             325680                  \n",
       "\n",
       "      Deaths - Fire, heat, and hot substances - Sex: Both - Age: All Ages (Number)  \\\n",
       "2670                                              23032                              \n",
       "2671                                              23373                              \n",
       "2672                                              23576                              \n",
       "\n",
       "      Deaths - Acute hepatitis - Sex: Both - Age: All Ages (Number)  \n",
       "2670                                              61782              \n",
       "2671                                              63189              \n",
       "2672                                              63765              \n",
       "\n",
       "[3 rows x 34 columns]"
      ]
     },
     "execution_count": 63,
     "metadata": {},
     "output_type": "execute_result"
    }
   ],
   "source": [
    "# Qué países registran un mayor número de muertes por meningitis\n",
    "#Exluimos los países sin código, ya que son agrupaciones y, por consigueinte las cifras son mayores\n",
    "df=df_dead.dropna()\n",
    "#Excluimos las agrupaciones con código también\n",
    "ind_drop=df[df[\"Entity\"]==\"World\"].index\n",
    "df=df.drop(ind_drop)\n",
    "\n",
    "df.sort_values(by=\"Deaths - Meningitis - Sex: Both - Age: All Ages (Number)\", ascending=False).head(3)"
   ]
  },
  {
   "cell_type": "markdown",
   "metadata": {},
   "source": [
    "## Alzheimer"
   ]
  },
  {
   "cell_type": "code",
   "execution_count": 33,
   "metadata": {},
   "outputs": [
    {
     "data": {
      "application/vnd.plotly.v1+json": {
       "config": {
        "plotlyServerURL": "https://plot.ly"
       },
       "data": [
        {
         "hovertemplate": "Entity=World Bank High Income<br>Year=%{x}<br>Deaths - Alzheimer's disease and other dementias - Sex: Both - Age: All Ages (Number)=%{y}<extra></extra>",
         "legendgroup": "World Bank High Income",
         "line": {
          "color": "#636efa",
          "dash": "solid"
         },
         "marker": {
          "symbol": "circle"
         },
         "mode": "lines",
         "name": "World Bank High Income",
         "orientation": "v",
         "showlegend": true,
         "type": "scatter",
         "x": [
          1990,
          1991,
          1992,
          1993,
          1994,
          1995,
          1996,
          1997,
          1998,
          1999,
          2000,
          2001,
          2002,
          2003,
          2004,
          2005,
          2006,
          2007,
          2008,
          2009,
          2010,
          2011,
          2012,
          2013,
          2014,
          2015,
          2016,
          2017,
          2018,
          2019
         ],
         "xaxis": "x",
         "y": [
          259091,
          271968,
          284715,
          297919,
          310010,
          322227,
          331957,
          340163,
          348669,
          357625,
          367349,
          378978,
          392330,
          406013,
          418668,
          434650,
          449698,
          466455,
          484132,
          501108,
          520681,
          540189,
          558154,
          574664,
          590861,
          610933,
          628243,
          644658,
          662914,
          678988
         ],
         "yaxis": "y"
        },
        {
         "hovertemplate": "Entity=World Bank Low Income<br>Year=%{x}<br>Deaths - Alzheimer's disease and other dementias - Sex: Both - Age: All Ages (Number)=%{y}<extra></extra>",
         "legendgroup": "World Bank Low Income",
         "line": {
          "color": "#EF553B",
          "dash": "solid"
         },
         "marker": {
          "symbol": "circle"
         },
         "mode": "lines",
         "name": "World Bank Low Income",
         "orientation": "v",
         "showlegend": true,
         "type": "scatter",
         "x": [
          1990,
          1991,
          1992,
          1993,
          1994,
          1995,
          1996,
          1997,
          1998,
          1999,
          2000,
          2001,
          2002,
          2003,
          2004,
          2005,
          2006,
          2007,
          2008,
          2009,
          2010,
          2011,
          2012,
          2013,
          2014,
          2015,
          2016,
          2017,
          2018,
          2019
         ],
         "xaxis": "x",
         "y": [
          15071,
          15569,
          16112,
          16660,
          17208,
          17704,
          18196,
          18744,
          19371,
          20003,
          20694,
          21314,
          22130,
          22908,
          23835,
          24773,
          25762,
          26642,
          27683,
          28700,
          29787,
          30953,
          32131,
          33345,
          34475,
          35746,
          37079,
          38588,
          40203,
          41753
         ],
         "yaxis": "y"
        },
        {
         "hovertemplate": "Entity=World Bank Lower Middle Income<br>Year=%{x}<br>Deaths - Alzheimer's disease and other dementias - Sex: Both - Age: All Ages (Number)=%{y}<extra></extra>",
         "legendgroup": "World Bank Lower Middle Income",
         "line": {
          "color": "#00cc96",
          "dash": "solid"
         },
         "marker": {
          "symbol": "circle"
         },
         "mode": "lines",
         "name": "World Bank Lower Middle Income",
         "orientation": "v",
         "showlegend": true,
         "type": "scatter",
         "x": [
          1990,
          1991,
          1992,
          1993,
          1994,
          1995,
          1996,
          1997,
          1998,
          1999,
          2000,
          2001,
          2002,
          2003,
          2004,
          2005,
          2006,
          2007,
          2008,
          2009,
          2010,
          2011,
          2012,
          2013,
          2014,
          2015,
          2016,
          2017,
          2018,
          2019
         ],
         "xaxis": "x",
         "y": [
          95964,
          98776,
          101594,
          104752,
          108030,
          111256,
          114665,
          118283,
          121580,
          124515,
          128153,
          132331,
          136994,
          141426,
          146333,
          152549,
          158927,
          165074,
          171928,
          178670,
          186026,
          195160,
          207292,
          221461,
          234248,
          245056,
          256619,
          269652,
          284473,
          297323
         ],
         "yaxis": "y"
        },
        {
         "hovertemplate": "Entity=World Bank Upper Middle Income<br>Year=%{x}<br>Deaths - Alzheimer's disease and other dementias - Sex: Both - Age: All Ages (Number)=%{y}<extra></extra>",
         "legendgroup": "World Bank Upper Middle Income",
         "line": {
          "color": "#ab63fa",
          "dash": "solid"
         },
         "marker": {
          "symbol": "circle"
         },
         "mode": "lines",
         "name": "World Bank Upper Middle Income",
         "orientation": "v",
         "showlegend": true,
         "type": "scatter",
         "x": [
          1990,
          1991,
          1992,
          1993,
          1994,
          1995,
          1996,
          1997,
          1998,
          1999,
          2000,
          2001,
          2002,
          2003,
          2004,
          2005,
          2006,
          2007,
          2008,
          2009,
          2010,
          2011,
          2012,
          2013,
          2014,
          2015,
          2016,
          2017,
          2018,
          2019
         ],
         "xaxis": "x",
         "y": [
          190487,
          196850,
          203470,
          210243,
          216925,
          223626,
          231847,
          240146,
          249146,
          259477,
          270419,
          281906,
          294237,
          306663,
          320313,
          333641,
          347912,
          363889,
          381557,
          400919,
          419449,
          434839,
          449933,
          465229,
          484174,
          503209,
          529898,
          556742,
          581026,
          604357
         ],
         "yaxis": "y"
        }
       ],
       "layout": {
        "legend": {
         "title": {
          "text": "Entity"
         },
         "tracegroupgap": 0
        },
        "template": {
         "data": {
          "bar": [
           {
            "error_x": {
             "color": "#2a3f5f"
            },
            "error_y": {
             "color": "#2a3f5f"
            },
            "marker": {
             "line": {
              "color": "#E5ECF6",
              "width": 0.5
             },
             "pattern": {
              "fillmode": "overlay",
              "size": 10,
              "solidity": 0.2
             }
            },
            "type": "bar"
           }
          ],
          "barpolar": [
           {
            "marker": {
             "line": {
              "color": "#E5ECF6",
              "width": 0.5
             },
             "pattern": {
              "fillmode": "overlay",
              "size": 10,
              "solidity": 0.2
             }
            },
            "type": "barpolar"
           }
          ],
          "carpet": [
           {
            "aaxis": {
             "endlinecolor": "#2a3f5f",
             "gridcolor": "white",
             "linecolor": "white",
             "minorgridcolor": "white",
             "startlinecolor": "#2a3f5f"
            },
            "baxis": {
             "endlinecolor": "#2a3f5f",
             "gridcolor": "white",
             "linecolor": "white",
             "minorgridcolor": "white",
             "startlinecolor": "#2a3f5f"
            },
            "type": "carpet"
           }
          ],
          "choropleth": [
           {
            "colorbar": {
             "outlinewidth": 0,
             "ticks": ""
            },
            "type": "choropleth"
           }
          ],
          "contour": [
           {
            "colorbar": {
             "outlinewidth": 0,
             "ticks": ""
            },
            "colorscale": [
             [
              0,
              "#0d0887"
             ],
             [
              0.1111111111111111,
              "#46039f"
             ],
             [
              0.2222222222222222,
              "#7201a8"
             ],
             [
              0.3333333333333333,
              "#9c179e"
             ],
             [
              0.4444444444444444,
              "#bd3786"
             ],
             [
              0.5555555555555556,
              "#d8576b"
             ],
             [
              0.6666666666666666,
              "#ed7953"
             ],
             [
              0.7777777777777778,
              "#fb9f3a"
             ],
             [
              0.8888888888888888,
              "#fdca26"
             ],
             [
              1,
              "#f0f921"
             ]
            ],
            "type": "contour"
           }
          ],
          "contourcarpet": [
           {
            "colorbar": {
             "outlinewidth": 0,
             "ticks": ""
            },
            "type": "contourcarpet"
           }
          ],
          "heatmap": [
           {
            "colorbar": {
             "outlinewidth": 0,
             "ticks": ""
            },
            "colorscale": [
             [
              0,
              "#0d0887"
             ],
             [
              0.1111111111111111,
              "#46039f"
             ],
             [
              0.2222222222222222,
              "#7201a8"
             ],
             [
              0.3333333333333333,
              "#9c179e"
             ],
             [
              0.4444444444444444,
              "#bd3786"
             ],
             [
              0.5555555555555556,
              "#d8576b"
             ],
             [
              0.6666666666666666,
              "#ed7953"
             ],
             [
              0.7777777777777778,
              "#fb9f3a"
             ],
             [
              0.8888888888888888,
              "#fdca26"
             ],
             [
              1,
              "#f0f921"
             ]
            ],
            "type": "heatmap"
           }
          ],
          "heatmapgl": [
           {
            "colorbar": {
             "outlinewidth": 0,
             "ticks": ""
            },
            "colorscale": [
             [
              0,
              "#0d0887"
             ],
             [
              0.1111111111111111,
              "#46039f"
             ],
             [
              0.2222222222222222,
              "#7201a8"
             ],
             [
              0.3333333333333333,
              "#9c179e"
             ],
             [
              0.4444444444444444,
              "#bd3786"
             ],
             [
              0.5555555555555556,
              "#d8576b"
             ],
             [
              0.6666666666666666,
              "#ed7953"
             ],
             [
              0.7777777777777778,
              "#fb9f3a"
             ],
             [
              0.8888888888888888,
              "#fdca26"
             ],
             [
              1,
              "#f0f921"
             ]
            ],
            "type": "heatmapgl"
           }
          ],
          "histogram": [
           {
            "marker": {
             "pattern": {
              "fillmode": "overlay",
              "size": 10,
              "solidity": 0.2
             }
            },
            "type": "histogram"
           }
          ],
          "histogram2d": [
           {
            "colorbar": {
             "outlinewidth": 0,
             "ticks": ""
            },
            "colorscale": [
             [
              0,
              "#0d0887"
             ],
             [
              0.1111111111111111,
              "#46039f"
             ],
             [
              0.2222222222222222,
              "#7201a8"
             ],
             [
              0.3333333333333333,
              "#9c179e"
             ],
             [
              0.4444444444444444,
              "#bd3786"
             ],
             [
              0.5555555555555556,
              "#d8576b"
             ],
             [
              0.6666666666666666,
              "#ed7953"
             ],
             [
              0.7777777777777778,
              "#fb9f3a"
             ],
             [
              0.8888888888888888,
              "#fdca26"
             ],
             [
              1,
              "#f0f921"
             ]
            ],
            "type": "histogram2d"
           }
          ],
          "histogram2dcontour": [
           {
            "colorbar": {
             "outlinewidth": 0,
             "ticks": ""
            },
            "colorscale": [
             [
              0,
              "#0d0887"
             ],
             [
              0.1111111111111111,
              "#46039f"
             ],
             [
              0.2222222222222222,
              "#7201a8"
             ],
             [
              0.3333333333333333,
              "#9c179e"
             ],
             [
              0.4444444444444444,
              "#bd3786"
             ],
             [
              0.5555555555555556,
              "#d8576b"
             ],
             [
              0.6666666666666666,
              "#ed7953"
             ],
             [
              0.7777777777777778,
              "#fb9f3a"
             ],
             [
              0.8888888888888888,
              "#fdca26"
             ],
             [
              1,
              "#f0f921"
             ]
            ],
            "type": "histogram2dcontour"
           }
          ],
          "mesh3d": [
           {
            "colorbar": {
             "outlinewidth": 0,
             "ticks": ""
            },
            "type": "mesh3d"
           }
          ],
          "parcoords": [
           {
            "line": {
             "colorbar": {
              "outlinewidth": 0,
              "ticks": ""
             }
            },
            "type": "parcoords"
           }
          ],
          "pie": [
           {
            "automargin": true,
            "type": "pie"
           }
          ],
          "scatter": [
           {
            "fillpattern": {
             "fillmode": "overlay",
             "size": 10,
             "solidity": 0.2
            },
            "type": "scatter"
           }
          ],
          "scatter3d": [
           {
            "line": {
             "colorbar": {
              "outlinewidth": 0,
              "ticks": ""
             }
            },
            "marker": {
             "colorbar": {
              "outlinewidth": 0,
              "ticks": ""
             }
            },
            "type": "scatter3d"
           }
          ],
          "scattercarpet": [
           {
            "marker": {
             "colorbar": {
              "outlinewidth": 0,
              "ticks": ""
             }
            },
            "type": "scattercarpet"
           }
          ],
          "scattergeo": [
           {
            "marker": {
             "colorbar": {
              "outlinewidth": 0,
              "ticks": ""
             }
            },
            "type": "scattergeo"
           }
          ],
          "scattergl": [
           {
            "marker": {
             "colorbar": {
              "outlinewidth": 0,
              "ticks": ""
             }
            },
            "type": "scattergl"
           }
          ],
          "scattermapbox": [
           {
            "marker": {
             "colorbar": {
              "outlinewidth": 0,
              "ticks": ""
             }
            },
            "type": "scattermapbox"
           }
          ],
          "scatterpolar": [
           {
            "marker": {
             "colorbar": {
              "outlinewidth": 0,
              "ticks": ""
             }
            },
            "type": "scatterpolar"
           }
          ],
          "scatterpolargl": [
           {
            "marker": {
             "colorbar": {
              "outlinewidth": 0,
              "ticks": ""
             }
            },
            "type": "scatterpolargl"
           }
          ],
          "scatterternary": [
           {
            "marker": {
             "colorbar": {
              "outlinewidth": 0,
              "ticks": ""
             }
            },
            "type": "scatterternary"
           }
          ],
          "surface": [
           {
            "colorbar": {
             "outlinewidth": 0,
             "ticks": ""
            },
            "colorscale": [
             [
              0,
              "#0d0887"
             ],
             [
              0.1111111111111111,
              "#46039f"
             ],
             [
              0.2222222222222222,
              "#7201a8"
             ],
             [
              0.3333333333333333,
              "#9c179e"
             ],
             [
              0.4444444444444444,
              "#bd3786"
             ],
             [
              0.5555555555555556,
              "#d8576b"
             ],
             [
              0.6666666666666666,
              "#ed7953"
             ],
             [
              0.7777777777777778,
              "#fb9f3a"
             ],
             [
              0.8888888888888888,
              "#fdca26"
             ],
             [
              1,
              "#f0f921"
             ]
            ],
            "type": "surface"
           }
          ],
          "table": [
           {
            "cells": {
             "fill": {
              "color": "#EBF0F8"
             },
             "line": {
              "color": "white"
             }
            },
            "header": {
             "fill": {
              "color": "#C8D4E3"
             },
             "line": {
              "color": "white"
             }
            },
            "type": "table"
           }
          ]
         },
         "layout": {
          "annotationdefaults": {
           "arrowcolor": "#2a3f5f",
           "arrowhead": 0,
           "arrowwidth": 1
          },
          "autotypenumbers": "strict",
          "coloraxis": {
           "colorbar": {
            "outlinewidth": 0,
            "ticks": ""
           }
          },
          "colorscale": {
           "diverging": [
            [
             0,
             "#8e0152"
            ],
            [
             0.1,
             "#c51b7d"
            ],
            [
             0.2,
             "#de77ae"
            ],
            [
             0.3,
             "#f1b6da"
            ],
            [
             0.4,
             "#fde0ef"
            ],
            [
             0.5,
             "#f7f7f7"
            ],
            [
             0.6,
             "#e6f5d0"
            ],
            [
             0.7,
             "#b8e186"
            ],
            [
             0.8,
             "#7fbc41"
            ],
            [
             0.9,
             "#4d9221"
            ],
            [
             1,
             "#276419"
            ]
           ],
           "sequential": [
            [
             0,
             "#0d0887"
            ],
            [
             0.1111111111111111,
             "#46039f"
            ],
            [
             0.2222222222222222,
             "#7201a8"
            ],
            [
             0.3333333333333333,
             "#9c179e"
            ],
            [
             0.4444444444444444,
             "#bd3786"
            ],
            [
             0.5555555555555556,
             "#d8576b"
            ],
            [
             0.6666666666666666,
             "#ed7953"
            ],
            [
             0.7777777777777778,
             "#fb9f3a"
            ],
            [
             0.8888888888888888,
             "#fdca26"
            ],
            [
             1,
             "#f0f921"
            ]
           ],
           "sequentialminus": [
            [
             0,
             "#0d0887"
            ],
            [
             0.1111111111111111,
             "#46039f"
            ],
            [
             0.2222222222222222,
             "#7201a8"
            ],
            [
             0.3333333333333333,
             "#9c179e"
            ],
            [
             0.4444444444444444,
             "#bd3786"
            ],
            [
             0.5555555555555556,
             "#d8576b"
            ],
            [
             0.6666666666666666,
             "#ed7953"
            ],
            [
             0.7777777777777778,
             "#fb9f3a"
            ],
            [
             0.8888888888888888,
             "#fdca26"
            ],
            [
             1,
             "#f0f921"
            ]
           ]
          },
          "colorway": [
           "#636efa",
           "#EF553B",
           "#00cc96",
           "#ab63fa",
           "#FFA15A",
           "#19d3f3",
           "#FF6692",
           "#B6E880",
           "#FF97FF",
           "#FECB52"
          ],
          "font": {
           "color": "#2a3f5f"
          },
          "geo": {
           "bgcolor": "white",
           "lakecolor": "white",
           "landcolor": "#E5ECF6",
           "showlakes": true,
           "showland": true,
           "subunitcolor": "white"
          },
          "hoverlabel": {
           "align": "left"
          },
          "hovermode": "closest",
          "mapbox": {
           "style": "light"
          },
          "paper_bgcolor": "white",
          "plot_bgcolor": "#E5ECF6",
          "polar": {
           "angularaxis": {
            "gridcolor": "white",
            "linecolor": "white",
            "ticks": ""
           },
           "bgcolor": "#E5ECF6",
           "radialaxis": {
            "gridcolor": "white",
            "linecolor": "white",
            "ticks": ""
           }
          },
          "scene": {
           "xaxis": {
            "backgroundcolor": "#E5ECF6",
            "gridcolor": "white",
            "gridwidth": 2,
            "linecolor": "white",
            "showbackground": true,
            "ticks": "",
            "zerolinecolor": "white"
           },
           "yaxis": {
            "backgroundcolor": "#E5ECF6",
            "gridcolor": "white",
            "gridwidth": 2,
            "linecolor": "white",
            "showbackground": true,
            "ticks": "",
            "zerolinecolor": "white"
           },
           "zaxis": {
            "backgroundcolor": "#E5ECF6",
            "gridcolor": "white",
            "gridwidth": 2,
            "linecolor": "white",
            "showbackground": true,
            "ticks": "",
            "zerolinecolor": "white"
           }
          },
          "shapedefaults": {
           "line": {
            "color": "#2a3f5f"
           }
          },
          "ternary": {
           "aaxis": {
            "gridcolor": "white",
            "linecolor": "white",
            "ticks": ""
           },
           "baxis": {
            "gridcolor": "white",
            "linecolor": "white",
            "ticks": ""
           },
           "bgcolor": "#E5ECF6",
           "caxis": {
            "gridcolor": "white",
            "linecolor": "white",
            "ticks": ""
           }
          },
          "title": {
           "x": 0.05
          },
          "xaxis": {
           "automargin": true,
           "gridcolor": "white",
           "linecolor": "white",
           "ticks": "",
           "title": {
            "standoff": 15
           },
           "zerolinecolor": "white",
           "zerolinewidth": 2
          },
          "yaxis": {
           "automargin": true,
           "gridcolor": "white",
           "linecolor": "white",
           "ticks": "",
           "title": {
            "standoff": 15
           },
           "zerolinecolor": "white",
           "zerolinewidth": 2
          }
         }
        },
        "title": {
         "text": "Muertes por Alzheimer por nivel de renta",
         "x": 0.5,
         "xanchor": "center"
        },
        "xaxis": {
         "anchor": "y",
         "domain": [
          0,
          1
         ],
         "title": {
          "text": "Year"
         }
        },
        "yaxis": {
         "anchor": "x",
         "domain": [
          0,
          1
         ],
         "title": {
          "text": "Deaths - Alzheimer's disease and other dementias - Sex: Both - Age: All Ages (Number)"
         }
        }
       }
      }
     },
     "metadata": {},
     "output_type": "display_data"
    }
   ],
   "source": [
    "fig=px.line(\n",
    "    data_frame=df_income,\n",
    "    y=\"Deaths - Alzheimer's disease and other dementias - Sex: Both - Age: All Ages (Number)\",\n",
    "    x=\"Year\",\n",
    "    color=\"Entity\",\n",
    "    title= \"Muertes por Alzheimer\"\n",
    "            \n",
    "    )\n",
    "fig.update_layout(\n",
    "    title={\n",
    "        'text': \"Muertes por Alzheimer por nivel de renta\",\n",
    "        'x': 0.5,\n",
    "        'xanchor':'center'\n",
    "\n",
    "    }\n",
    ")"
   ]
  },
  {
   "cell_type": "markdown",
   "metadata": {},
   "source": [
    "Las muertes por Alzeimer son más habituales en países con renta alta. No obstante, hemos de tener en cuenta que en los países desarrollados hay más conciencia de ello y, por consiguites, hay mayores estudios estadísticos. La tendencia es ascendente debido a que conforme avanzamos en el tiempo la esperanza de vida es mayor y el principal factor de esta enfermeda es la edad."
   ]
  },
  {
   "cell_type": "code",
   "execution_count": 34,
   "metadata": {},
   "outputs": [
    {
     "data": {
      "application/vnd.plotly.v1+json": {
       "config": {
        "plotlyServerURL": "https://plot.ly"
       },
       "data": [
        {
         "hovertemplate": "Entity=African Region (WHO)<br>Year=%{x}<br>Deaths - Alzheimer's disease and other dementias - Sex: Both - Age: All Ages (Number)=%{y}<extra></extra>",
         "legendgroup": "African Region (WHO)",
         "line": {
          "color": "#636efa",
          "dash": "solid"
         },
         "marker": {
          "symbol": "circle"
         },
         "mode": "lines",
         "name": "African Region (WHO)",
         "orientation": "v",
         "showlegend": true,
         "type": "scatter",
         "x": [
          1990,
          1991,
          1992,
          1993,
          1994,
          1995,
          1996,
          1997,
          1998,
          1999,
          2000,
          2001,
          2002,
          2003,
          2004,
          2005,
          2006,
          2007,
          2008,
          2009,
          2010,
          2011,
          2012,
          2013,
          2014,
          2015,
          2016,
          2017,
          2018,
          2019
         ],
         "xaxis": "x",
         "y": [
          24312,
          25173,
          26141,
          27051,
          28014,
          28896,
          29893,
          30890,
          31883,
          32834,
          33987,
          34988,
          36412,
          37641,
          39085,
          40564,
          42185,
          43425,
          45053,
          46598,
          48285,
          50114,
          51923,
          53737,
          55350,
          57349,
          59145,
          61384,
          63753,
          66124
         ],
         "yaxis": "y"
        },
        {
         "hovertemplate": "Entity=Eastern Mediterranean Region (WHO)<br>Year=%{x}<br>Deaths - Alzheimer's disease and other dementias - Sex: Both - Age: All Ages (Number)=%{y}<extra></extra>",
         "legendgroup": "Eastern Mediterranean Region (WHO)",
         "line": {
          "color": "#EF553B",
          "dash": "solid"
         },
         "marker": {
          "symbol": "circle"
         },
         "mode": "lines",
         "name": "Eastern Mediterranean Region (WHO)",
         "orientation": "v",
         "showlegend": true,
         "type": "scatter",
         "x": [
          1990,
          1991,
          1992,
          1993,
          1994,
          1995,
          1996,
          1997,
          1998,
          1999,
          2000,
          2001,
          2002,
          2003,
          2004,
          2005,
          2006,
          2007,
          2008,
          2009,
          2010,
          2011,
          2012,
          2013,
          2014,
          2015,
          2016,
          2017,
          2018,
          2019
         ],
         "xaxis": "x",
         "y": [
          22997,
          23552,
          24118,
          24662,
          25264,
          25966,
          26656,
          27358,
          28068,
          28813,
          29687,
          30721,
          31800,
          32838,
          33849,
          34941,
          36097,
          37363,
          38721,
          40150,
          41614,
          43110,
          44690,
          46343,
          47946,
          49508,
          51206,
          52940,
          54796,
          56679
         ],
         "yaxis": "y"
        },
        {
         "hovertemplate": "Entity=European Region (WHO)<br>Year=%{x}<br>Deaths - Alzheimer's disease and other dementias - Sex: Both - Age: All Ages (Number)=%{y}<extra></extra>",
         "legendgroup": "European Region (WHO)",
         "line": {
          "color": "#00cc96",
          "dash": "solid"
         },
         "marker": {
          "symbol": "circle"
         },
         "mode": "lines",
         "name": "European Region (WHO)",
         "orientation": "v",
         "showlegend": true,
         "type": "scatter",
         "x": [
          1990,
          1991,
          1992,
          1993,
          1994,
          1995,
          1996,
          1997,
          1998,
          1999,
          2000,
          2001,
          2002,
          2003,
          2004,
          2005,
          2006,
          2007,
          2008,
          2009,
          2010,
          2011,
          2012,
          2013,
          2014,
          2015,
          2016,
          2017,
          2018,
          2019
         ],
         "xaxis": "x",
         "y": [
          197173,
          204226,
          210666,
          217330,
          223389,
          228659,
          233196,
          236939,
          241075,
          246092,
          250336,
          255264,
          260741,
          266418,
          272118,
          279619,
          286750,
          294092,
          302021,
          311252,
          321570,
          332625,
          343765,
          353687,
          364242,
          376536,
          387073,
          397402,
          407625,
          417167
         ],
         "yaxis": "y"
        },
        {
         "hovertemplate": "Entity=Region of the Americas (WHO)<br>Year=%{x}<br>Deaths - Alzheimer's disease and other dementias - Sex: Both - Age: All Ages (Number)=%{y}<extra></extra>",
         "legendgroup": "Region of the Americas (WHO)",
         "line": {
          "color": "#ab63fa",
          "dash": "solid"
         },
         "marker": {
          "symbol": "circle"
         },
         "mode": "lines",
         "name": "Region of the Americas (WHO)",
         "orientation": "v",
         "showlegend": true,
         "type": "scatter",
         "x": [
          1990,
          1991,
          1992,
          1993,
          1994,
          1995,
          1996,
          1997,
          1998,
          1999,
          2000,
          2001,
          2002,
          2003,
          2004,
          2005,
          2006,
          2007,
          2008,
          2009,
          2010,
          2011,
          2012,
          2013,
          2014,
          2015,
          2016,
          2017,
          2018,
          2019
         ],
         "xaxis": "x",
         "y": [
          119929,
          127157,
          134098,
          141269,
          147452,
          153533,
          157958,
          160573,
          163115,
          165940,
          170078,
          175733,
          182231,
          189009,
          195377,
          202549,
          209032,
          215722,
          222762,
          229482,
          237195,
          244626,
          251615,
          258866,
          265447,
          273114,
          281594,
          290020,
          298593,
          306271
         ],
         "yaxis": "y"
        },
        {
         "hovertemplate": "Entity=South-East Asia Region (WHO)<br>Year=%{x}<br>Deaths - Alzheimer's disease and other dementias - Sex: Both - Age: All Ages (Number)=%{y}<extra></extra>",
         "legendgroup": "South-East Asia Region (WHO)",
         "line": {
          "color": "#FFA15A",
          "dash": "solid"
         },
         "marker": {
          "symbol": "circle"
         },
         "mode": "lines",
         "name": "South-East Asia Region (WHO)",
         "orientation": "v",
         "showlegend": true,
         "type": "scatter",
         "x": [
          1990,
          1991,
          1992,
          1993,
          1994,
          1995,
          1996,
          1997,
          1998,
          1999,
          2000,
          2001,
          2002,
          2003,
          2004,
          2005,
          2006,
          2007,
          2008,
          2009,
          2010,
          2011,
          2012,
          2013,
          2014,
          2015,
          2016,
          2017,
          2018,
          2019
         ],
         "xaxis": "x",
         "y": [
          49738,
          51342,
          52978,
          55071,
          57407,
          59740,
          62418,
          65348,
          68054,
          70459,
          73228,
          76365,
          79777,
          82908,
          86510,
          91168,
          95830,
          100411,
          105269,
          110084,
          115351,
          122259,
          132146,
          144275,
          155418,
          164224,
          174271,
          185438,
          198328,
          209371
         ],
         "yaxis": "y"
        },
        {
         "hovertemplate": "Entity=Western Pacific Region (WHO)<br>Year=%{x}<br>Deaths - Alzheimer's disease and other dementias - Sex: Both - Age: All Ages (Number)=%{y}<extra></extra>",
         "legendgroup": "Western Pacific Region (WHO)",
         "line": {
          "color": "#19d3f3",
          "dash": "solid"
         },
         "marker": {
          "symbol": "circle"
         },
         "mode": "lines",
         "name": "Western Pacific Region (WHO)",
         "orientation": "v",
         "showlegend": true,
         "type": "scatter",
         "x": [
          1990,
          1991,
          1992,
          1993,
          1994,
          1995,
          1996,
          1997,
          1998,
          1999,
          2000,
          2001,
          2002,
          2003,
          2004,
          2005,
          2006,
          2007,
          2008,
          2009,
          2010,
          2011,
          2012,
          2013,
          2014,
          2015,
          2016,
          2017,
          2018,
          2019
         ],
         "xaxis": "x",
         "y": [
          144824,
          149994,
          156080,
          162283,
          168647,
          175904,
          184317,
          193874,
          204073,
          214845,
          226512,
          238513,
          251603,
          264846,
          278642,
          292999,
          308415,
          326783,
          346913,
          366991,
          386835,
          403065,
          417792,
          432051,
          449441,
          468015,
          492045,
          515722,
          538514,
          559566
         ],
         "yaxis": "y"
        }
       ],
       "layout": {
        "legend": {
         "title": {
          "text": "Entity"
         },
         "tracegroupgap": 0
        },
        "template": {
         "data": {
          "bar": [
           {
            "error_x": {
             "color": "#2a3f5f"
            },
            "error_y": {
             "color": "#2a3f5f"
            },
            "marker": {
             "line": {
              "color": "#E5ECF6",
              "width": 0.5
             },
             "pattern": {
              "fillmode": "overlay",
              "size": 10,
              "solidity": 0.2
             }
            },
            "type": "bar"
           }
          ],
          "barpolar": [
           {
            "marker": {
             "line": {
              "color": "#E5ECF6",
              "width": 0.5
             },
             "pattern": {
              "fillmode": "overlay",
              "size": 10,
              "solidity": 0.2
             }
            },
            "type": "barpolar"
           }
          ],
          "carpet": [
           {
            "aaxis": {
             "endlinecolor": "#2a3f5f",
             "gridcolor": "white",
             "linecolor": "white",
             "minorgridcolor": "white",
             "startlinecolor": "#2a3f5f"
            },
            "baxis": {
             "endlinecolor": "#2a3f5f",
             "gridcolor": "white",
             "linecolor": "white",
             "minorgridcolor": "white",
             "startlinecolor": "#2a3f5f"
            },
            "type": "carpet"
           }
          ],
          "choropleth": [
           {
            "colorbar": {
             "outlinewidth": 0,
             "ticks": ""
            },
            "type": "choropleth"
           }
          ],
          "contour": [
           {
            "colorbar": {
             "outlinewidth": 0,
             "ticks": ""
            },
            "colorscale": [
             [
              0,
              "#0d0887"
             ],
             [
              0.1111111111111111,
              "#46039f"
             ],
             [
              0.2222222222222222,
              "#7201a8"
             ],
             [
              0.3333333333333333,
              "#9c179e"
             ],
             [
              0.4444444444444444,
              "#bd3786"
             ],
             [
              0.5555555555555556,
              "#d8576b"
             ],
             [
              0.6666666666666666,
              "#ed7953"
             ],
             [
              0.7777777777777778,
              "#fb9f3a"
             ],
             [
              0.8888888888888888,
              "#fdca26"
             ],
             [
              1,
              "#f0f921"
             ]
            ],
            "type": "contour"
           }
          ],
          "contourcarpet": [
           {
            "colorbar": {
             "outlinewidth": 0,
             "ticks": ""
            },
            "type": "contourcarpet"
           }
          ],
          "heatmap": [
           {
            "colorbar": {
             "outlinewidth": 0,
             "ticks": ""
            },
            "colorscale": [
             [
              0,
              "#0d0887"
             ],
             [
              0.1111111111111111,
              "#46039f"
             ],
             [
              0.2222222222222222,
              "#7201a8"
             ],
             [
              0.3333333333333333,
              "#9c179e"
             ],
             [
              0.4444444444444444,
              "#bd3786"
             ],
             [
              0.5555555555555556,
              "#d8576b"
             ],
             [
              0.6666666666666666,
              "#ed7953"
             ],
             [
              0.7777777777777778,
              "#fb9f3a"
             ],
             [
              0.8888888888888888,
              "#fdca26"
             ],
             [
              1,
              "#f0f921"
             ]
            ],
            "type": "heatmap"
           }
          ],
          "heatmapgl": [
           {
            "colorbar": {
             "outlinewidth": 0,
             "ticks": ""
            },
            "colorscale": [
             [
              0,
              "#0d0887"
             ],
             [
              0.1111111111111111,
              "#46039f"
             ],
             [
              0.2222222222222222,
              "#7201a8"
             ],
             [
              0.3333333333333333,
              "#9c179e"
             ],
             [
              0.4444444444444444,
              "#bd3786"
             ],
             [
              0.5555555555555556,
              "#d8576b"
             ],
             [
              0.6666666666666666,
              "#ed7953"
             ],
             [
              0.7777777777777778,
              "#fb9f3a"
             ],
             [
              0.8888888888888888,
              "#fdca26"
             ],
             [
              1,
              "#f0f921"
             ]
            ],
            "type": "heatmapgl"
           }
          ],
          "histogram": [
           {
            "marker": {
             "pattern": {
              "fillmode": "overlay",
              "size": 10,
              "solidity": 0.2
             }
            },
            "type": "histogram"
           }
          ],
          "histogram2d": [
           {
            "colorbar": {
             "outlinewidth": 0,
             "ticks": ""
            },
            "colorscale": [
             [
              0,
              "#0d0887"
             ],
             [
              0.1111111111111111,
              "#46039f"
             ],
             [
              0.2222222222222222,
              "#7201a8"
             ],
             [
              0.3333333333333333,
              "#9c179e"
             ],
             [
              0.4444444444444444,
              "#bd3786"
             ],
             [
              0.5555555555555556,
              "#d8576b"
             ],
             [
              0.6666666666666666,
              "#ed7953"
             ],
             [
              0.7777777777777778,
              "#fb9f3a"
             ],
             [
              0.8888888888888888,
              "#fdca26"
             ],
             [
              1,
              "#f0f921"
             ]
            ],
            "type": "histogram2d"
           }
          ],
          "histogram2dcontour": [
           {
            "colorbar": {
             "outlinewidth": 0,
             "ticks": ""
            },
            "colorscale": [
             [
              0,
              "#0d0887"
             ],
             [
              0.1111111111111111,
              "#46039f"
             ],
             [
              0.2222222222222222,
              "#7201a8"
             ],
             [
              0.3333333333333333,
              "#9c179e"
             ],
             [
              0.4444444444444444,
              "#bd3786"
             ],
             [
              0.5555555555555556,
              "#d8576b"
             ],
             [
              0.6666666666666666,
              "#ed7953"
             ],
             [
              0.7777777777777778,
              "#fb9f3a"
             ],
             [
              0.8888888888888888,
              "#fdca26"
             ],
             [
              1,
              "#f0f921"
             ]
            ],
            "type": "histogram2dcontour"
           }
          ],
          "mesh3d": [
           {
            "colorbar": {
             "outlinewidth": 0,
             "ticks": ""
            },
            "type": "mesh3d"
           }
          ],
          "parcoords": [
           {
            "line": {
             "colorbar": {
              "outlinewidth": 0,
              "ticks": ""
             }
            },
            "type": "parcoords"
           }
          ],
          "pie": [
           {
            "automargin": true,
            "type": "pie"
           }
          ],
          "scatter": [
           {
            "fillpattern": {
             "fillmode": "overlay",
             "size": 10,
             "solidity": 0.2
            },
            "type": "scatter"
           }
          ],
          "scatter3d": [
           {
            "line": {
             "colorbar": {
              "outlinewidth": 0,
              "ticks": ""
             }
            },
            "marker": {
             "colorbar": {
              "outlinewidth": 0,
              "ticks": ""
             }
            },
            "type": "scatter3d"
           }
          ],
          "scattercarpet": [
           {
            "marker": {
             "colorbar": {
              "outlinewidth": 0,
              "ticks": ""
             }
            },
            "type": "scattercarpet"
           }
          ],
          "scattergeo": [
           {
            "marker": {
             "colorbar": {
              "outlinewidth": 0,
              "ticks": ""
             }
            },
            "type": "scattergeo"
           }
          ],
          "scattergl": [
           {
            "marker": {
             "colorbar": {
              "outlinewidth": 0,
              "ticks": ""
             }
            },
            "type": "scattergl"
           }
          ],
          "scattermapbox": [
           {
            "marker": {
             "colorbar": {
              "outlinewidth": 0,
              "ticks": ""
             }
            },
            "type": "scattermapbox"
           }
          ],
          "scatterpolar": [
           {
            "marker": {
             "colorbar": {
              "outlinewidth": 0,
              "ticks": ""
             }
            },
            "type": "scatterpolar"
           }
          ],
          "scatterpolargl": [
           {
            "marker": {
             "colorbar": {
              "outlinewidth": 0,
              "ticks": ""
             }
            },
            "type": "scatterpolargl"
           }
          ],
          "scatterternary": [
           {
            "marker": {
             "colorbar": {
              "outlinewidth": 0,
              "ticks": ""
             }
            },
            "type": "scatterternary"
           }
          ],
          "surface": [
           {
            "colorbar": {
             "outlinewidth": 0,
             "ticks": ""
            },
            "colorscale": [
             [
              0,
              "#0d0887"
             ],
             [
              0.1111111111111111,
              "#46039f"
             ],
             [
              0.2222222222222222,
              "#7201a8"
             ],
             [
              0.3333333333333333,
              "#9c179e"
             ],
             [
              0.4444444444444444,
              "#bd3786"
             ],
             [
              0.5555555555555556,
              "#d8576b"
             ],
             [
              0.6666666666666666,
              "#ed7953"
             ],
             [
              0.7777777777777778,
              "#fb9f3a"
             ],
             [
              0.8888888888888888,
              "#fdca26"
             ],
             [
              1,
              "#f0f921"
             ]
            ],
            "type": "surface"
           }
          ],
          "table": [
           {
            "cells": {
             "fill": {
              "color": "#EBF0F8"
             },
             "line": {
              "color": "white"
             }
            },
            "header": {
             "fill": {
              "color": "#C8D4E3"
             },
             "line": {
              "color": "white"
             }
            },
            "type": "table"
           }
          ]
         },
         "layout": {
          "annotationdefaults": {
           "arrowcolor": "#2a3f5f",
           "arrowhead": 0,
           "arrowwidth": 1
          },
          "autotypenumbers": "strict",
          "coloraxis": {
           "colorbar": {
            "outlinewidth": 0,
            "ticks": ""
           }
          },
          "colorscale": {
           "diverging": [
            [
             0,
             "#8e0152"
            ],
            [
             0.1,
             "#c51b7d"
            ],
            [
             0.2,
             "#de77ae"
            ],
            [
             0.3,
             "#f1b6da"
            ],
            [
             0.4,
             "#fde0ef"
            ],
            [
             0.5,
             "#f7f7f7"
            ],
            [
             0.6,
             "#e6f5d0"
            ],
            [
             0.7,
             "#b8e186"
            ],
            [
             0.8,
             "#7fbc41"
            ],
            [
             0.9,
             "#4d9221"
            ],
            [
             1,
             "#276419"
            ]
           ],
           "sequential": [
            [
             0,
             "#0d0887"
            ],
            [
             0.1111111111111111,
             "#46039f"
            ],
            [
             0.2222222222222222,
             "#7201a8"
            ],
            [
             0.3333333333333333,
             "#9c179e"
            ],
            [
             0.4444444444444444,
             "#bd3786"
            ],
            [
             0.5555555555555556,
             "#d8576b"
            ],
            [
             0.6666666666666666,
             "#ed7953"
            ],
            [
             0.7777777777777778,
             "#fb9f3a"
            ],
            [
             0.8888888888888888,
             "#fdca26"
            ],
            [
             1,
             "#f0f921"
            ]
           ],
           "sequentialminus": [
            [
             0,
             "#0d0887"
            ],
            [
             0.1111111111111111,
             "#46039f"
            ],
            [
             0.2222222222222222,
             "#7201a8"
            ],
            [
             0.3333333333333333,
             "#9c179e"
            ],
            [
             0.4444444444444444,
             "#bd3786"
            ],
            [
             0.5555555555555556,
             "#d8576b"
            ],
            [
             0.6666666666666666,
             "#ed7953"
            ],
            [
             0.7777777777777778,
             "#fb9f3a"
            ],
            [
             0.8888888888888888,
             "#fdca26"
            ],
            [
             1,
             "#f0f921"
            ]
           ]
          },
          "colorway": [
           "#636efa",
           "#EF553B",
           "#00cc96",
           "#ab63fa",
           "#FFA15A",
           "#19d3f3",
           "#FF6692",
           "#B6E880",
           "#FF97FF",
           "#FECB52"
          ],
          "font": {
           "color": "#2a3f5f"
          },
          "geo": {
           "bgcolor": "white",
           "lakecolor": "white",
           "landcolor": "#E5ECF6",
           "showlakes": true,
           "showland": true,
           "subunitcolor": "white"
          },
          "hoverlabel": {
           "align": "left"
          },
          "hovermode": "closest",
          "mapbox": {
           "style": "light"
          },
          "paper_bgcolor": "white",
          "plot_bgcolor": "#E5ECF6",
          "polar": {
           "angularaxis": {
            "gridcolor": "white",
            "linecolor": "white",
            "ticks": ""
           },
           "bgcolor": "#E5ECF6",
           "radialaxis": {
            "gridcolor": "white",
            "linecolor": "white",
            "ticks": ""
           }
          },
          "scene": {
           "xaxis": {
            "backgroundcolor": "#E5ECF6",
            "gridcolor": "white",
            "gridwidth": 2,
            "linecolor": "white",
            "showbackground": true,
            "ticks": "",
            "zerolinecolor": "white"
           },
           "yaxis": {
            "backgroundcolor": "#E5ECF6",
            "gridcolor": "white",
            "gridwidth": 2,
            "linecolor": "white",
            "showbackground": true,
            "ticks": "",
            "zerolinecolor": "white"
           },
           "zaxis": {
            "backgroundcolor": "#E5ECF6",
            "gridcolor": "white",
            "gridwidth": 2,
            "linecolor": "white",
            "showbackground": true,
            "ticks": "",
            "zerolinecolor": "white"
           }
          },
          "shapedefaults": {
           "line": {
            "color": "#2a3f5f"
           }
          },
          "ternary": {
           "aaxis": {
            "gridcolor": "white",
            "linecolor": "white",
            "ticks": ""
           },
           "baxis": {
            "gridcolor": "white",
            "linecolor": "white",
            "ticks": ""
           },
           "bgcolor": "#E5ECF6",
           "caxis": {
            "gridcolor": "white",
            "linecolor": "white",
            "ticks": ""
           }
          },
          "title": {
           "x": 0.05
          },
          "xaxis": {
           "automargin": true,
           "gridcolor": "white",
           "linecolor": "white",
           "ticks": "",
           "title": {
            "standoff": 15
           },
           "zerolinecolor": "white",
           "zerolinewidth": 2
          },
          "yaxis": {
           "automargin": true,
           "gridcolor": "white",
           "linecolor": "white",
           "ticks": "",
           "title": {
            "standoff": 15
           },
           "zerolinecolor": "white",
           "zerolinewidth": 2
          }
         }
        },
        "title": {
         "text": "Muertes por Alzheimer  por región",
         "x": 0.5,
         "xanchor": "center"
        },
        "xaxis": {
         "anchor": "y",
         "domain": [
          0,
          1
         ],
         "title": {
          "text": "Year"
         }
        },
        "yaxis": {
         "anchor": "x",
         "domain": [
          0,
          1
         ],
         "title": {
          "text": "Deaths - Alzheimer's disease and other dementias - Sex: Both - Age: All Ages (Number)"
         }
        }
       }
      }
     },
     "metadata": {},
     "output_type": "display_data"
    }
   ],
   "source": [
    "fig=px.line(\n",
    "    data_frame=df_continent,\n",
    "    y=\"Deaths - Alzheimer's disease and other dementias - Sex: Both - Age: All Ages (Number)\",\n",
    "    x=\"Year\",\n",
    "    color=\"Entity\",\n",
    "    title= \"Muertes por Alzheimer\"\n",
    "            \n",
    "    )\n",
    "fig.update_layout(\n",
    "    title={\n",
    "        'text': \"Muertes por Alzheimer  por región\",\n",
    "        'x': 0.5,\n",
    "        'xanchor':'center'\n",
    "\n",
    "    }\n",
    ")"
   ]
  },
  {
   "cell_type": "markdown",
   "metadata": {},
   "source": [
    "Si atendemos por zonas podemos llegasr a la conclusión de que los las muertes por alzheimer son más habituales en regiones desarroladas debido a que la población es más longeba y, por consiguiente, son más frecuentes este tipo de enfermedad."
   ]
  },
  {
   "cell_type": "code",
   "execution_count": 64,
   "metadata": {},
   "outputs": [
    {
     "data": {
      "text/html": [
       "<div>\n",
       "<style scoped>\n",
       "    .dataframe tbody tr th:only-of-type {\n",
       "        vertical-align: middle;\n",
       "    }\n",
       "\n",
       "    .dataframe tbody tr th {\n",
       "        vertical-align: top;\n",
       "    }\n",
       "\n",
       "    .dataframe thead th {\n",
       "        text-align: right;\n",
       "    }\n",
       "</style>\n",
       "<table border=\"1\" class=\"dataframe\">\n",
       "  <thead>\n",
       "    <tr style=\"text-align: right;\">\n",
       "      <th></th>\n",
       "      <th>Entity</th>\n",
       "      <th>Code</th>\n",
       "      <th>Year</th>\n",
       "      <th>Deaths - Meningitis - Sex: Both - Age: All Ages (Number)</th>\n",
       "      <th>Deaths - Alzheimer's disease and other dementias - Sex: Both - Age: All Ages (Number)</th>\n",
       "      <th>Deaths - Parkinson's disease - Sex: Both - Age: All Ages (Number)</th>\n",
       "      <th>Deaths - Nutritional deficiencies - Sex: Both - Age: All Ages (Number)</th>\n",
       "      <th>Deaths - Malaria - Sex: Both - Age: All Ages (Number)</th>\n",
       "      <th>Deaths - Drowning - Sex: Both - Age: All Ages (Number)</th>\n",
       "      <th>Deaths - Interpersonal violence - Sex: Both - Age: All Ages (Number)</th>\n",
       "      <th>...</th>\n",
       "      <th>Deaths - Diabetes mellitus - Sex: Both - Age: All Ages (Number)</th>\n",
       "      <th>Deaths - Chronic kidney disease - Sex: Both - Age: All Ages (Number)</th>\n",
       "      <th>Deaths - Poisonings - Sex: Both - Age: All Ages (Number)</th>\n",
       "      <th>Deaths - Protein-energy malnutrition - Sex: Both - Age: All Ages (Number)</th>\n",
       "      <th>Deaths - Road injuries - Sex: Both - Age: All Ages (Number)</th>\n",
       "      <th>Deaths - Chronic respiratory diseases - Sex: Both - Age: All Ages (Number)</th>\n",
       "      <th>Deaths - Cirrhosis and other chronic liver diseases - Sex: Both - Age: All Ages (Number)</th>\n",
       "      <th>Deaths - Digestive diseases - Sex: Both - Age: All Ages (Number)</th>\n",
       "      <th>Deaths - Fire, heat, and hot substances - Sex: Both - Age: All Ages (Number)</th>\n",
       "      <th>Deaths - Acute hepatitis - Sex: Both - Age: All Ages (Number)</th>\n",
       "    </tr>\n",
       "  </thead>\n",
       "  <tbody>\n",
       "    <tr>\n",
       "      <th>1169</th>\n",
       "      <td>China</td>\n",
       "      <td>CHN</td>\n",
       "      <td>2019</td>\n",
       "      <td>6465</td>\n",
       "      <td>320715</td>\n",
       "      <td>76990</td>\n",
       "      <td>16863</td>\n",
       "      <td>0</td>\n",
       "      <td>56524</td>\n",
       "      <td>11970</td>\n",
       "      <td>...</td>\n",
       "      <td>172892</td>\n",
       "      <td>196726</td>\n",
       "      <td>27084</td>\n",
       "      <td>13099</td>\n",
       "      <td>250025</td>\n",
       "      <td>1085273</td>\n",
       "      <td>152262</td>\n",
       "      <td>277142</td>\n",
       "      <td>11096</td>\n",
       "      <td>3726</td>\n",
       "    </tr>\n",
       "    <tr>\n",
       "      <th>1168</th>\n",
       "      <td>China</td>\n",
       "      <td>CHN</td>\n",
       "      <td>2018</td>\n",
       "      <td>6798</td>\n",
       "      <td>306747</td>\n",
       "      <td>73789</td>\n",
       "      <td>16630</td>\n",
       "      <td>0</td>\n",
       "      <td>57898</td>\n",
       "      <td>12197</td>\n",
       "      <td>...</td>\n",
       "      <td>166694</td>\n",
       "      <td>191351</td>\n",
       "      <td>27623</td>\n",
       "      <td>12907</td>\n",
       "      <td>253799</td>\n",
       "      <td>1054610</td>\n",
       "      <td>149792</td>\n",
       "      <td>273223</td>\n",
       "      <td>10914</td>\n",
       "      <td>3843</td>\n",
       "    </tr>\n",
       "    <tr>\n",
       "      <th>1167</th>\n",
       "      <td>China</td>\n",
       "      <td>CHN</td>\n",
       "      <td>2017</td>\n",
       "      <td>7228</td>\n",
       "      <td>291962</td>\n",
       "      <td>71490</td>\n",
       "      <td>16572</td>\n",
       "      <td>0</td>\n",
       "      <td>59354</td>\n",
       "      <td>12523</td>\n",
       "      <td>...</td>\n",
       "      <td>161250</td>\n",
       "      <td>187685</td>\n",
       "      <td>28345</td>\n",
       "      <td>12850</td>\n",
       "      <td>257068</td>\n",
       "      <td>1040384</td>\n",
       "      <td>149472</td>\n",
       "      <td>273724</td>\n",
       "      <td>10829</td>\n",
       "      <td>4080</td>\n",
       "    </tr>\n",
       "  </tbody>\n",
       "</table>\n",
       "<p>3 rows × 34 columns</p>\n",
       "</div>"
      ],
      "text/plain": [
       "     Entity Code  Year  \\\n",
       "1169  China  CHN  2019   \n",
       "1168  China  CHN  2018   \n",
       "1167  China  CHN  2017   \n",
       "\n",
       "      Deaths - Meningitis - Sex: Both - Age: All Ages (Number)  \\\n",
       "1169                                               6465          \n",
       "1168                                               6798          \n",
       "1167                                               7228          \n",
       "\n",
       "      Deaths - Alzheimer's disease and other dementias - Sex: Both - Age: All Ages (Number)  \\\n",
       "1169                                             320715                                       \n",
       "1168                                             306747                                       \n",
       "1167                                             291962                                       \n",
       "\n",
       "      Deaths - Parkinson's disease - Sex: Both - Age: All Ages (Number)  \\\n",
       "1169                                              76990                   \n",
       "1168                                              73789                   \n",
       "1167                                              71490                   \n",
       "\n",
       "      Deaths - Nutritional deficiencies - Sex: Both - Age: All Ages (Number)  \\\n",
       "1169                                              16863                        \n",
       "1168                                              16630                        \n",
       "1167                                              16572                        \n",
       "\n",
       "      Deaths - Malaria - Sex: Both - Age: All Ages (Number)  \\\n",
       "1169                                                  0       \n",
       "1168                                                  0       \n",
       "1167                                                  0       \n",
       "\n",
       "      Deaths - Drowning - Sex: Both - Age: All Ages (Number)  \\\n",
       "1169                                              56524        \n",
       "1168                                              57898        \n",
       "1167                                              59354        \n",
       "\n",
       "      Deaths - Interpersonal violence - Sex: Both - Age: All Ages (Number)  \\\n",
       "1169                                              11970                      \n",
       "1168                                              12197                      \n",
       "1167                                              12523                      \n",
       "\n",
       "      ...  Deaths - Diabetes mellitus - Sex: Both - Age: All Ages (Number)  \\\n",
       "1169  ...                                             172892                 \n",
       "1168  ...                                             166694                 \n",
       "1167  ...                                             161250                 \n",
       "\n",
       "      Deaths - Chronic kidney disease - Sex: Both - Age: All Ages (Number)  \\\n",
       "1169                                             196726                      \n",
       "1168                                             191351                      \n",
       "1167                                             187685                      \n",
       "\n",
       "      Deaths - Poisonings - Sex: Both - Age: All Ages (Number)  \\\n",
       "1169                                              27084          \n",
       "1168                                              27623          \n",
       "1167                                              28345          \n",
       "\n",
       "      Deaths - Protein-energy malnutrition - Sex: Both - Age: All Ages (Number)  \\\n",
       "1169                                              13099                           \n",
       "1168                                              12907                           \n",
       "1167                                              12850                           \n",
       "\n",
       "      Deaths - Road injuries - Sex: Both - Age: All Ages (Number)  \\\n",
       "1169                                             250025             \n",
       "1168                                             253799             \n",
       "1167                                             257068             \n",
       "\n",
       "      Deaths - Chronic respiratory diseases - Sex: Both - Age: All Ages (Number)  \\\n",
       "1169                                            1085273                            \n",
       "1168                                            1054610                            \n",
       "1167                                            1040384                            \n",
       "\n",
       "      Deaths - Cirrhosis and other chronic liver diseases - Sex: Both - Age: All Ages (Number)  \\\n",
       "1169                                             152262                                          \n",
       "1168                                             149792                                          \n",
       "1167                                             149472                                          \n",
       "\n",
       "      Deaths - Digestive diseases - Sex: Both - Age: All Ages (Number)  \\\n",
       "1169                                             277142                  \n",
       "1168                                             273223                  \n",
       "1167                                             273724                  \n",
       "\n",
       "      Deaths - Fire, heat, and hot substances - Sex: Both - Age: All Ages (Number)  \\\n",
       "1169                                              11096                              \n",
       "1168                                              10914                              \n",
       "1167                                              10829                              \n",
       "\n",
       "      Deaths - Acute hepatitis - Sex: Both - Age: All Ages (Number)  \n",
       "1169                                               3726              \n",
       "1168                                               3843              \n",
       "1167                                               4080              \n",
       "\n",
       "[3 rows x 34 columns]"
      ]
     },
     "execution_count": 64,
     "metadata": {},
     "output_type": "execute_result"
    }
   ],
   "source": [
    "#El país con más muertes por Alzeimer es:\n",
    "df.sort_values(by=\"Deaths - Alzheimer's disease and other dementias - Sex: Both - Age: All Ages (Number)\", ascending=False).head(3)"
   ]
  },
  {
   "cell_type": "markdown",
   "metadata": {},
   "source": [
    "## Parkinson"
   ]
  },
  {
   "cell_type": "code",
   "execution_count": 32,
   "metadata": {},
   "outputs": [
    {
     "data": {
      "application/vnd.plotly.v1+json": {
       "config": {
        "plotlyServerURL": "https://plot.ly"
       },
       "data": [
        {
         "hovertemplate": "Entity=World Bank High Income<br>Year=%{x}<br>Deaths - Parkinson's disease - Sex: Both - Age: All Ages (Number)=%{y}<extra></extra>",
         "legendgroup": "World Bank High Income",
         "line": {
          "color": "#636efa",
          "dash": "solid"
         },
         "marker": {
          "symbol": "circle"
         },
         "mode": "lines",
         "name": "World Bank High Income",
         "orientation": "v",
         "showlegend": true,
         "type": "scatter",
         "x": [
          1990,
          1991,
          1992,
          1993,
          1994,
          1995,
          1996,
          1997,
          1998,
          1999,
          2000,
          2001,
          2002,
          2003,
          2004,
          2005,
          2006,
          2007,
          2008,
          2009,
          2010,
          2011,
          2012,
          2013,
          2014,
          2015,
          2016,
          2017,
          2018,
          2019
         ],
         "xaxis": "x",
         "y": [
          55008,
          56319,
          57508,
          59281,
          60635,
          62738,
          64438,
          66122,
          68544,
          71201,
          73286,
          75889,
          79109,
          82197,
          83891,
          87080,
          89544,
          92604,
          95839,
          98416,
          101193,
          104516,
          107817,
          110456,
          112704,
          116306,
          118317,
          120137,
          123787,
          126925
         ],
         "yaxis": "y"
        },
        {
         "hovertemplate": "Entity=World Bank Low Income<br>Year=%{x}<br>Deaths - Parkinson's disease - Sex: Both - Age: All Ages (Number)=%{y}<extra></extra>",
         "legendgroup": "World Bank Low Income",
         "line": {
          "color": "#EF553B",
          "dash": "solid"
         },
         "marker": {
          "symbol": "circle"
         },
         "mode": "lines",
         "name": "World Bank Low Income",
         "orientation": "v",
         "showlegend": true,
         "type": "scatter",
         "x": [
          1990,
          1991,
          1992,
          1993,
          1994,
          1995,
          1996,
          1997,
          1998,
          1999,
          2000,
          2001,
          2002,
          2003,
          2004,
          2005,
          2006,
          2007,
          2008,
          2009,
          2010,
          2011,
          2012,
          2013,
          2014,
          2015,
          2016,
          2017,
          2018,
          2019
         ],
         "xaxis": "x",
         "y": [
          4534,
          4647,
          4772,
          4898,
          5019,
          5150,
          5260,
          5374,
          5510,
          5631,
          5787,
          5920,
          6103,
          6272,
          6477,
          6672,
          6889,
          7075,
          7316,
          7544,
          7775,
          8024,
          8280,
          8535,
          8748,
          9007,
          9250,
          9541,
          9894,
          10219
         ],
         "yaxis": "y"
        },
        {
         "hovertemplate": "Entity=World Bank Lower Middle Income<br>Year=%{x}<br>Deaths - Parkinson's disease - Sex: Both - Age: All Ages (Number)=%{y}<extra></extra>",
         "legendgroup": "World Bank Lower Middle Income",
         "line": {
          "color": "#00cc96",
          "dash": "solid"
         },
         "marker": {
          "symbol": "circle"
         },
         "mode": "lines",
         "name": "World Bank Lower Middle Income",
         "orientation": "v",
         "showlegend": true,
         "type": "scatter",
         "x": [
          1990,
          1991,
          1992,
          1993,
          1994,
          1995,
          1996,
          1997,
          1998,
          1999,
          2000,
          2001,
          2002,
          2003,
          2004,
          2005,
          2006,
          2007,
          2008,
          2009,
          2010,
          2011,
          2012,
          2013,
          2014,
          2015,
          2016,
          2017,
          2018,
          2019
         ],
         "xaxis": "x",
         "y": [
          32781,
          33820,
          34866,
          36015,
          37038,
          38009,
          39327,
          41387,
          42728,
          43365,
          44921,
          46929,
          48875,
          50057,
          50573,
          53269,
          56058,
          58358,
          60933,
          61247,
          62186,
          64410,
          67324,
          72074,
          75625,
          77847,
          80292,
          83484,
          88017,
          91120
         ],
         "yaxis": "y"
        },
        {
         "hovertemplate": "Entity=World Bank Upper Middle Income<br>Year=%{x}<br>Deaths - Parkinson's disease - Sex: Both - Age: All Ages (Number)=%{y}<extra></extra>",
         "legendgroup": "World Bank Upper Middle Income",
         "line": {
          "color": "#ab63fa",
          "dash": "solid"
         },
         "marker": {
          "symbol": "circle"
         },
         "mode": "lines",
         "name": "World Bank Upper Middle Income",
         "orientation": "v",
         "showlegend": true,
         "type": "scatter",
         "x": [
          1990,
          1991,
          1992,
          1993,
          1994,
          1995,
          1996,
          1997,
          1998,
          1999,
          2000,
          2001,
          2002,
          2003,
          2004,
          2005,
          2006,
          2007,
          2008,
          2009,
          2010,
          2011,
          2012,
          2013,
          2014,
          2015,
          2016,
          2017,
          2018,
          2019
         ],
         "xaxis": "x",
         "y": [
          54833,
          56085,
          57746,
          60059,
          61690,
          62984,
          64795,
          66462,
          68311,
          71344,
          74548,
          77459,
          80846,
          83723,
          86750,
          89479,
          90257,
          92435,
          96294,
          100528,
          105027,
          107535,
          109700,
          112414,
          115852,
          118621,
          122871,
          126187,
          129622,
          134442
         ],
         "yaxis": "y"
        }
       ],
       "layout": {
        "legend": {
         "title": {
          "text": "Entity"
         },
         "tracegroupgap": 0
        },
        "template": {
         "data": {
          "bar": [
           {
            "error_x": {
             "color": "#2a3f5f"
            },
            "error_y": {
             "color": "#2a3f5f"
            },
            "marker": {
             "line": {
              "color": "#E5ECF6",
              "width": 0.5
             },
             "pattern": {
              "fillmode": "overlay",
              "size": 10,
              "solidity": 0.2
             }
            },
            "type": "bar"
           }
          ],
          "barpolar": [
           {
            "marker": {
             "line": {
              "color": "#E5ECF6",
              "width": 0.5
             },
             "pattern": {
              "fillmode": "overlay",
              "size": 10,
              "solidity": 0.2
             }
            },
            "type": "barpolar"
           }
          ],
          "carpet": [
           {
            "aaxis": {
             "endlinecolor": "#2a3f5f",
             "gridcolor": "white",
             "linecolor": "white",
             "minorgridcolor": "white",
             "startlinecolor": "#2a3f5f"
            },
            "baxis": {
             "endlinecolor": "#2a3f5f",
             "gridcolor": "white",
             "linecolor": "white",
             "minorgridcolor": "white",
             "startlinecolor": "#2a3f5f"
            },
            "type": "carpet"
           }
          ],
          "choropleth": [
           {
            "colorbar": {
             "outlinewidth": 0,
             "ticks": ""
            },
            "type": "choropleth"
           }
          ],
          "contour": [
           {
            "colorbar": {
             "outlinewidth": 0,
             "ticks": ""
            },
            "colorscale": [
             [
              0,
              "#0d0887"
             ],
             [
              0.1111111111111111,
              "#46039f"
             ],
             [
              0.2222222222222222,
              "#7201a8"
             ],
             [
              0.3333333333333333,
              "#9c179e"
             ],
             [
              0.4444444444444444,
              "#bd3786"
             ],
             [
              0.5555555555555556,
              "#d8576b"
             ],
             [
              0.6666666666666666,
              "#ed7953"
             ],
             [
              0.7777777777777778,
              "#fb9f3a"
             ],
             [
              0.8888888888888888,
              "#fdca26"
             ],
             [
              1,
              "#f0f921"
             ]
            ],
            "type": "contour"
           }
          ],
          "contourcarpet": [
           {
            "colorbar": {
             "outlinewidth": 0,
             "ticks": ""
            },
            "type": "contourcarpet"
           }
          ],
          "heatmap": [
           {
            "colorbar": {
             "outlinewidth": 0,
             "ticks": ""
            },
            "colorscale": [
             [
              0,
              "#0d0887"
             ],
             [
              0.1111111111111111,
              "#46039f"
             ],
             [
              0.2222222222222222,
              "#7201a8"
             ],
             [
              0.3333333333333333,
              "#9c179e"
             ],
             [
              0.4444444444444444,
              "#bd3786"
             ],
             [
              0.5555555555555556,
              "#d8576b"
             ],
             [
              0.6666666666666666,
              "#ed7953"
             ],
             [
              0.7777777777777778,
              "#fb9f3a"
             ],
             [
              0.8888888888888888,
              "#fdca26"
             ],
             [
              1,
              "#f0f921"
             ]
            ],
            "type": "heatmap"
           }
          ],
          "heatmapgl": [
           {
            "colorbar": {
             "outlinewidth": 0,
             "ticks": ""
            },
            "colorscale": [
             [
              0,
              "#0d0887"
             ],
             [
              0.1111111111111111,
              "#46039f"
             ],
             [
              0.2222222222222222,
              "#7201a8"
             ],
             [
              0.3333333333333333,
              "#9c179e"
             ],
             [
              0.4444444444444444,
              "#bd3786"
             ],
             [
              0.5555555555555556,
              "#d8576b"
             ],
             [
              0.6666666666666666,
              "#ed7953"
             ],
             [
              0.7777777777777778,
              "#fb9f3a"
             ],
             [
              0.8888888888888888,
              "#fdca26"
             ],
             [
              1,
              "#f0f921"
             ]
            ],
            "type": "heatmapgl"
           }
          ],
          "histogram": [
           {
            "marker": {
             "pattern": {
              "fillmode": "overlay",
              "size": 10,
              "solidity": 0.2
             }
            },
            "type": "histogram"
           }
          ],
          "histogram2d": [
           {
            "colorbar": {
             "outlinewidth": 0,
             "ticks": ""
            },
            "colorscale": [
             [
              0,
              "#0d0887"
             ],
             [
              0.1111111111111111,
              "#46039f"
             ],
             [
              0.2222222222222222,
              "#7201a8"
             ],
             [
              0.3333333333333333,
              "#9c179e"
             ],
             [
              0.4444444444444444,
              "#bd3786"
             ],
             [
              0.5555555555555556,
              "#d8576b"
             ],
             [
              0.6666666666666666,
              "#ed7953"
             ],
             [
              0.7777777777777778,
              "#fb9f3a"
             ],
             [
              0.8888888888888888,
              "#fdca26"
             ],
             [
              1,
              "#f0f921"
             ]
            ],
            "type": "histogram2d"
           }
          ],
          "histogram2dcontour": [
           {
            "colorbar": {
             "outlinewidth": 0,
             "ticks": ""
            },
            "colorscale": [
             [
              0,
              "#0d0887"
             ],
             [
              0.1111111111111111,
              "#46039f"
             ],
             [
              0.2222222222222222,
              "#7201a8"
             ],
             [
              0.3333333333333333,
              "#9c179e"
             ],
             [
              0.4444444444444444,
              "#bd3786"
             ],
             [
              0.5555555555555556,
              "#d8576b"
             ],
             [
              0.6666666666666666,
              "#ed7953"
             ],
             [
              0.7777777777777778,
              "#fb9f3a"
             ],
             [
              0.8888888888888888,
              "#fdca26"
             ],
             [
              1,
              "#f0f921"
             ]
            ],
            "type": "histogram2dcontour"
           }
          ],
          "mesh3d": [
           {
            "colorbar": {
             "outlinewidth": 0,
             "ticks": ""
            },
            "type": "mesh3d"
           }
          ],
          "parcoords": [
           {
            "line": {
             "colorbar": {
              "outlinewidth": 0,
              "ticks": ""
             }
            },
            "type": "parcoords"
           }
          ],
          "pie": [
           {
            "automargin": true,
            "type": "pie"
           }
          ],
          "scatter": [
           {
            "fillpattern": {
             "fillmode": "overlay",
             "size": 10,
             "solidity": 0.2
            },
            "type": "scatter"
           }
          ],
          "scatter3d": [
           {
            "line": {
             "colorbar": {
              "outlinewidth": 0,
              "ticks": ""
             }
            },
            "marker": {
             "colorbar": {
              "outlinewidth": 0,
              "ticks": ""
             }
            },
            "type": "scatter3d"
           }
          ],
          "scattercarpet": [
           {
            "marker": {
             "colorbar": {
              "outlinewidth": 0,
              "ticks": ""
             }
            },
            "type": "scattercarpet"
           }
          ],
          "scattergeo": [
           {
            "marker": {
             "colorbar": {
              "outlinewidth": 0,
              "ticks": ""
             }
            },
            "type": "scattergeo"
           }
          ],
          "scattergl": [
           {
            "marker": {
             "colorbar": {
              "outlinewidth": 0,
              "ticks": ""
             }
            },
            "type": "scattergl"
           }
          ],
          "scattermapbox": [
           {
            "marker": {
             "colorbar": {
              "outlinewidth": 0,
              "ticks": ""
             }
            },
            "type": "scattermapbox"
           }
          ],
          "scatterpolar": [
           {
            "marker": {
             "colorbar": {
              "outlinewidth": 0,
              "ticks": ""
             }
            },
            "type": "scatterpolar"
           }
          ],
          "scatterpolargl": [
           {
            "marker": {
             "colorbar": {
              "outlinewidth": 0,
              "ticks": ""
             }
            },
            "type": "scatterpolargl"
           }
          ],
          "scatterternary": [
           {
            "marker": {
             "colorbar": {
              "outlinewidth": 0,
              "ticks": ""
             }
            },
            "type": "scatterternary"
           }
          ],
          "surface": [
           {
            "colorbar": {
             "outlinewidth": 0,
             "ticks": ""
            },
            "colorscale": [
             [
              0,
              "#0d0887"
             ],
             [
              0.1111111111111111,
              "#46039f"
             ],
             [
              0.2222222222222222,
              "#7201a8"
             ],
             [
              0.3333333333333333,
              "#9c179e"
             ],
             [
              0.4444444444444444,
              "#bd3786"
             ],
             [
              0.5555555555555556,
              "#d8576b"
             ],
             [
              0.6666666666666666,
              "#ed7953"
             ],
             [
              0.7777777777777778,
              "#fb9f3a"
             ],
             [
              0.8888888888888888,
              "#fdca26"
             ],
             [
              1,
              "#f0f921"
             ]
            ],
            "type": "surface"
           }
          ],
          "table": [
           {
            "cells": {
             "fill": {
              "color": "#EBF0F8"
             },
             "line": {
              "color": "white"
             }
            },
            "header": {
             "fill": {
              "color": "#C8D4E3"
             },
             "line": {
              "color": "white"
             }
            },
            "type": "table"
           }
          ]
         },
         "layout": {
          "annotationdefaults": {
           "arrowcolor": "#2a3f5f",
           "arrowhead": 0,
           "arrowwidth": 1
          },
          "autotypenumbers": "strict",
          "coloraxis": {
           "colorbar": {
            "outlinewidth": 0,
            "ticks": ""
           }
          },
          "colorscale": {
           "diverging": [
            [
             0,
             "#8e0152"
            ],
            [
             0.1,
             "#c51b7d"
            ],
            [
             0.2,
             "#de77ae"
            ],
            [
             0.3,
             "#f1b6da"
            ],
            [
             0.4,
             "#fde0ef"
            ],
            [
             0.5,
             "#f7f7f7"
            ],
            [
             0.6,
             "#e6f5d0"
            ],
            [
             0.7,
             "#b8e186"
            ],
            [
             0.8,
             "#7fbc41"
            ],
            [
             0.9,
             "#4d9221"
            ],
            [
             1,
             "#276419"
            ]
           ],
           "sequential": [
            [
             0,
             "#0d0887"
            ],
            [
             0.1111111111111111,
             "#46039f"
            ],
            [
             0.2222222222222222,
             "#7201a8"
            ],
            [
             0.3333333333333333,
             "#9c179e"
            ],
            [
             0.4444444444444444,
             "#bd3786"
            ],
            [
             0.5555555555555556,
             "#d8576b"
            ],
            [
             0.6666666666666666,
             "#ed7953"
            ],
            [
             0.7777777777777778,
             "#fb9f3a"
            ],
            [
             0.8888888888888888,
             "#fdca26"
            ],
            [
             1,
             "#f0f921"
            ]
           ],
           "sequentialminus": [
            [
             0,
             "#0d0887"
            ],
            [
             0.1111111111111111,
             "#46039f"
            ],
            [
             0.2222222222222222,
             "#7201a8"
            ],
            [
             0.3333333333333333,
             "#9c179e"
            ],
            [
             0.4444444444444444,
             "#bd3786"
            ],
            [
             0.5555555555555556,
             "#d8576b"
            ],
            [
             0.6666666666666666,
             "#ed7953"
            ],
            [
             0.7777777777777778,
             "#fb9f3a"
            ],
            [
             0.8888888888888888,
             "#fdca26"
            ],
            [
             1,
             "#f0f921"
            ]
           ]
          },
          "colorway": [
           "#636efa",
           "#EF553B",
           "#00cc96",
           "#ab63fa",
           "#FFA15A",
           "#19d3f3",
           "#FF6692",
           "#B6E880",
           "#FF97FF",
           "#FECB52"
          ],
          "font": {
           "color": "#2a3f5f"
          },
          "geo": {
           "bgcolor": "white",
           "lakecolor": "white",
           "landcolor": "#E5ECF6",
           "showlakes": true,
           "showland": true,
           "subunitcolor": "white"
          },
          "hoverlabel": {
           "align": "left"
          },
          "hovermode": "closest",
          "mapbox": {
           "style": "light"
          },
          "paper_bgcolor": "white",
          "plot_bgcolor": "#E5ECF6",
          "polar": {
           "angularaxis": {
            "gridcolor": "white",
            "linecolor": "white",
            "ticks": ""
           },
           "bgcolor": "#E5ECF6",
           "radialaxis": {
            "gridcolor": "white",
            "linecolor": "white",
            "ticks": ""
           }
          },
          "scene": {
           "xaxis": {
            "backgroundcolor": "#E5ECF6",
            "gridcolor": "white",
            "gridwidth": 2,
            "linecolor": "white",
            "showbackground": true,
            "ticks": "",
            "zerolinecolor": "white"
           },
           "yaxis": {
            "backgroundcolor": "#E5ECF6",
            "gridcolor": "white",
            "gridwidth": 2,
            "linecolor": "white",
            "showbackground": true,
            "ticks": "",
            "zerolinecolor": "white"
           },
           "zaxis": {
            "backgroundcolor": "#E5ECF6",
            "gridcolor": "white",
            "gridwidth": 2,
            "linecolor": "white",
            "showbackground": true,
            "ticks": "",
            "zerolinecolor": "white"
           }
          },
          "shapedefaults": {
           "line": {
            "color": "#2a3f5f"
           }
          },
          "ternary": {
           "aaxis": {
            "gridcolor": "white",
            "linecolor": "white",
            "ticks": ""
           },
           "baxis": {
            "gridcolor": "white",
            "linecolor": "white",
            "ticks": ""
           },
           "bgcolor": "#E5ECF6",
           "caxis": {
            "gridcolor": "white",
            "linecolor": "white",
            "ticks": ""
           }
          },
          "title": {
           "x": 0.05
          },
          "xaxis": {
           "automargin": true,
           "gridcolor": "white",
           "linecolor": "white",
           "ticks": "",
           "title": {
            "standoff": 15
           },
           "zerolinecolor": "white",
           "zerolinewidth": 2
          },
          "yaxis": {
           "automargin": true,
           "gridcolor": "white",
           "linecolor": "white",
           "ticks": "",
           "title": {
            "standoff": 15
           },
           "zerolinecolor": "white",
           "zerolinewidth": 2
          }
         }
        },
        "title": {
         "text": "Muertes por Parkinson por nivel de renta",
         "x": 0.5,
         "xanchor": "center"
        },
        "xaxis": {
         "anchor": "y",
         "domain": [
          0,
          1
         ],
         "title": {
          "text": "Year"
         }
        },
        "yaxis": {
         "anchor": "x",
         "domain": [
          0,
          1
         ],
         "title": {
          "text": "Deaths - Parkinson's disease - Sex: Both - Age: All Ages (Number)"
         }
        }
       }
      }
     },
     "metadata": {},
     "output_type": "display_data"
    }
   ],
   "source": [
    "fig=px.line(\n",
    "    data_frame=df_income,\n",
    "    y=\"Deaths - Parkinson's disease - Sex: Both - Age: All Ages (Number)\",\n",
    "    x=\"Year\",\n",
    "    color=\"Entity\",\n",
    "    title= \"Muertes por Parkinson\"\n",
    "            \n",
    "    )\n",
    "fig.update_layout(\n",
    "    title={\n",
    "        'text': \"Muertes por Parkinson por nivel de renta\",\n",
    "        'x': 0.5,\n",
    "        'xanchor':'center'\n",
    "\n",
    "    }\n",
    ")"
   ]
  },
  {
   "cell_type": "markdown",
   "metadata": {},
   "source": [
    "En los paíes con mayor renta es mucho más habitual. Hay que destacar que en todos los paíes a excepción de los de renta baja hay una tendencia ascendente.  Esto se explica porque conforme avanzamos en el tiempo la esperanza de vida es mayor y el principal factor de la aparición de esta enfermedad es la edad."
   ]
  },
  {
   "cell_type": "code",
   "execution_count": 31,
   "metadata": {},
   "outputs": [
    {
     "data": {
      "application/vnd.plotly.v1+json": {
       "config": {
        "plotlyServerURL": "https://plot.ly"
       },
       "data": [
        {
         "hovertemplate": "Entity=African Region (WHO)<br>Year=%{x}<br>Deaths - Parkinson's disease - Sex: Both - Age: All Ages (Number)=%{y}<extra></extra>",
         "legendgroup": "African Region (WHO)",
         "line": {
          "color": "#636efa",
          "dash": "solid"
         },
         "marker": {
          "symbol": "circle"
         },
         "mode": "lines",
         "name": "African Region (WHO)",
         "orientation": "v",
         "showlegend": true,
         "type": "scatter",
         "x": [
          1990,
          1991,
          1992,
          1993,
          1994,
          1995,
          1996,
          1997,
          1998,
          1999,
          2000,
          2001,
          2002,
          2003,
          2004,
          2005,
          2006,
          2007,
          2008,
          2009,
          2010,
          2011,
          2012,
          2013,
          2014,
          2015,
          2016,
          2017,
          2018,
          2019
         ],
         "xaxis": "x",
         "y": [
          6573,
          6754,
          6988,
          7182,
          7414,
          7628,
          7886,
          8162,
          8386,
          8559,
          8862,
          9103,
          9472,
          9750,
          10072,
          10406,
          10811,
          11069,
          11469,
          11840,
          12232,
          12632,
          13039,
          13440,
          13760,
          14219,
          14537,
          14956,
          15435,
          15930
         ],
         "yaxis": "y"
        },
        {
         "hovertemplate": "Entity=Eastern Mediterranean Region (WHO)<br>Year=%{x}<br>Deaths - Parkinson's disease - Sex: Both - Age: All Ages (Number)=%{y}<extra></extra>",
         "legendgroup": "Eastern Mediterranean Region (WHO)",
         "line": {
          "color": "#EF553B",
          "dash": "solid"
         },
         "marker": {
          "symbol": "circle"
         },
         "mode": "lines",
         "name": "Eastern Mediterranean Region (WHO)",
         "orientation": "v",
         "showlegend": true,
         "type": "scatter",
         "x": [
          1990,
          1991,
          1992,
          1993,
          1994,
          1995,
          1996,
          1997,
          1998,
          1999,
          2000,
          2001,
          2002,
          2003,
          2004,
          2005,
          2006,
          2007,
          2008,
          2009,
          2010,
          2011,
          2012,
          2013,
          2014,
          2015,
          2016,
          2017,
          2018,
          2019
         ],
         "xaxis": "x",
         "y": [
          6428,
          6632,
          6839,
          7086,
          7326,
          7574,
          7786,
          8022,
          8245,
          8463,
          8633,
          8958,
          9311,
          9682,
          9944,
          10197,
          10477,
          10771,
          11133,
          11505,
          11887,
          12240,
          12651,
          13180,
          13632,
          14165,
          14626,
          14992,
          15468,
          15983
         ],
         "yaxis": "y"
        },
        {
         "hovertemplate": "Entity=European Region (WHO)<br>Year=%{x}<br>Deaths - Parkinson's disease - Sex: Both - Age: All Ages (Number)=%{y}<extra></extra>",
         "legendgroup": "European Region (WHO)",
         "line": {
          "color": "#00cc96",
          "dash": "solid"
         },
         "marker": {
          "symbol": "circle"
         },
         "mode": "lines",
         "name": "European Region (WHO)",
         "orientation": "v",
         "showlegend": true,
         "type": "scatter",
         "x": [
          1990,
          1991,
          1992,
          1993,
          1994,
          1995,
          1996,
          1997,
          1998,
          1999,
          2000,
          2001,
          2002,
          2003,
          2004,
          2005,
          2006,
          2007,
          2008,
          2009,
          2010,
          2011,
          2012,
          2013,
          2014,
          2015,
          2016,
          2017,
          2018,
          2019
         ],
         "xaxis": "x",
         "y": [
          46786,
          47695,
          48524,
          50107,
          51070,
          51882,
          52404,
          52930,
          53709,
          55123,
          56052,
          57545,
          59866,
          61900,
          62583,
          64702,
          66027,
          68165,
          70648,
          72285,
          74056,
          75342,
          77426,
          78782,
          79964,
          82630,
          83415,
          84296,
          85863,
          87348
         ],
         "yaxis": "y"
        },
        {
         "hovertemplate": "Entity=Region of the Americas (WHO)<br>Year=%{x}<br>Deaths - Parkinson's disease - Sex: Both - Age: All Ages (Number)=%{y}<extra></extra>",
         "legendgroup": "Region of the Americas (WHO)",
         "line": {
          "color": "#ab63fa",
          "dash": "solid"
         },
         "marker": {
          "symbol": "circle"
         },
         "mode": "lines",
         "name": "Region of the Americas (WHO)",
         "orientation": "v",
         "showlegend": true,
         "type": "scatter",
         "x": [
          1990,
          1991,
          1992,
          1993,
          1994,
          1995,
          1996,
          1997,
          1998,
          1999,
          2000,
          2001,
          2002,
          2003,
          2004,
          2005,
          2006,
          2007,
          2008,
          2009,
          2010,
          2011,
          2012,
          2013,
          2014,
          2015,
          2016,
          2017,
          2018,
          2019
         ],
         "xaxis": "x",
         "y": [
          23921,
          24565,
          25477,
          26794,
          27781,
          28985,
          30064,
          31176,
          32674,
          34261,
          35660,
          37190,
          38905,
          40396,
          41409,
          42877,
          44075,
          45358,
          46926,
          48413,
          49923,
          51530,
          53048,
          54825,
          56364,
          58203,
          59905,
          61076,
          63342,
          65407
         ],
         "yaxis": "y"
        },
        {
         "hovertemplate": "Entity=South-East Asia Region (WHO)<br>Year=%{x}<br>Deaths - Parkinson's disease - Sex: Both - Age: All Ages (Number)=%{y}<extra></extra>",
         "legendgroup": "South-East Asia Region (WHO)",
         "line": {
          "color": "#FFA15A",
          "dash": "solid"
         },
         "marker": {
          "symbol": "circle"
         },
         "mode": "lines",
         "name": "South-East Asia Region (WHO)",
         "orientation": "v",
         "showlegend": true,
         "type": "scatter",
         "x": [
          1990,
          1991,
          1992,
          1993,
          1994,
          1995,
          1996,
          1997,
          1998,
          1999,
          2000,
          2001,
          2002,
          2003,
          2004,
          2005,
          2006,
          2007,
          2008,
          2009,
          2010,
          2011,
          2012,
          2013,
          2014,
          2015,
          2016,
          2017,
          2018,
          2019
         ],
         "xaxis": "x",
         "y": [
          20751,
          21460,
          22139,
          22845,
          23497,
          24147,
          25334,
          27142,
          28375,
          28816,
          29979,
          31424,
          32748,
          33347,
          33457,
          35620,
          38008,
          39878,
          41856,
          41788,
          42237,
          43958,
          46209,
          50375,
          53657,
          54972,
          57048,
          59853,
          63753,
          66316
         ],
         "yaxis": "y"
        },
        {
         "hovertemplate": "Entity=Western Pacific Region (WHO)<br>Year=%{x}<br>Deaths - Parkinson's disease - Sex: Both - Age: All Ages (Number)=%{y}<extra></extra>",
         "legendgroup": "Western Pacific Region (WHO)",
         "line": {
          "color": "#19d3f3",
          "dash": "solid"
         },
         "marker": {
          "symbol": "circle"
         },
         "mode": "lines",
         "name": "Western Pacific Region (WHO)",
         "orientation": "v",
         "showlegend": true,
         "type": "scatter",
         "x": [
          1990,
          1991,
          1992,
          1993,
          1994,
          1995,
          1996,
          1997,
          1998,
          1999,
          2000,
          2001,
          2002,
          2003,
          2004,
          2005,
          2006,
          2007,
          2008,
          2009,
          2010,
          2011,
          2012,
          2013,
          2014,
          2015,
          2016,
          2017,
          2018,
          2019
         ],
         "xaxis": "x",
         "y": [
          42278,
          43329,
          44468,
          45766,
          46807,
          48151,
          49820,
          51373,
          53136,
          55737,
          58753,
          61350,
          63986,
          66489,
          69510,
          71959,
          72598,
          74443,
          77532,
          81054,
          84975,
          87868,
          89798,
          91904,
          94561,
          96555,
          100118,
          103083,
          106324,
          110560
         ],
         "yaxis": "y"
        }
       ],
       "layout": {
        "legend": {
         "title": {
          "text": "Entity"
         },
         "tracegroupgap": 0
        },
        "template": {
         "data": {
          "bar": [
           {
            "error_x": {
             "color": "#2a3f5f"
            },
            "error_y": {
             "color": "#2a3f5f"
            },
            "marker": {
             "line": {
              "color": "#E5ECF6",
              "width": 0.5
             },
             "pattern": {
              "fillmode": "overlay",
              "size": 10,
              "solidity": 0.2
             }
            },
            "type": "bar"
           }
          ],
          "barpolar": [
           {
            "marker": {
             "line": {
              "color": "#E5ECF6",
              "width": 0.5
             },
             "pattern": {
              "fillmode": "overlay",
              "size": 10,
              "solidity": 0.2
             }
            },
            "type": "barpolar"
           }
          ],
          "carpet": [
           {
            "aaxis": {
             "endlinecolor": "#2a3f5f",
             "gridcolor": "white",
             "linecolor": "white",
             "minorgridcolor": "white",
             "startlinecolor": "#2a3f5f"
            },
            "baxis": {
             "endlinecolor": "#2a3f5f",
             "gridcolor": "white",
             "linecolor": "white",
             "minorgridcolor": "white",
             "startlinecolor": "#2a3f5f"
            },
            "type": "carpet"
           }
          ],
          "choropleth": [
           {
            "colorbar": {
             "outlinewidth": 0,
             "ticks": ""
            },
            "type": "choropleth"
           }
          ],
          "contour": [
           {
            "colorbar": {
             "outlinewidth": 0,
             "ticks": ""
            },
            "colorscale": [
             [
              0,
              "#0d0887"
             ],
             [
              0.1111111111111111,
              "#46039f"
             ],
             [
              0.2222222222222222,
              "#7201a8"
             ],
             [
              0.3333333333333333,
              "#9c179e"
             ],
             [
              0.4444444444444444,
              "#bd3786"
             ],
             [
              0.5555555555555556,
              "#d8576b"
             ],
             [
              0.6666666666666666,
              "#ed7953"
             ],
             [
              0.7777777777777778,
              "#fb9f3a"
             ],
             [
              0.8888888888888888,
              "#fdca26"
             ],
             [
              1,
              "#f0f921"
             ]
            ],
            "type": "contour"
           }
          ],
          "contourcarpet": [
           {
            "colorbar": {
             "outlinewidth": 0,
             "ticks": ""
            },
            "type": "contourcarpet"
           }
          ],
          "heatmap": [
           {
            "colorbar": {
             "outlinewidth": 0,
             "ticks": ""
            },
            "colorscale": [
             [
              0,
              "#0d0887"
             ],
             [
              0.1111111111111111,
              "#46039f"
             ],
             [
              0.2222222222222222,
              "#7201a8"
             ],
             [
              0.3333333333333333,
              "#9c179e"
             ],
             [
              0.4444444444444444,
              "#bd3786"
             ],
             [
              0.5555555555555556,
              "#d8576b"
             ],
             [
              0.6666666666666666,
              "#ed7953"
             ],
             [
              0.7777777777777778,
              "#fb9f3a"
             ],
             [
              0.8888888888888888,
              "#fdca26"
             ],
             [
              1,
              "#f0f921"
             ]
            ],
            "type": "heatmap"
           }
          ],
          "heatmapgl": [
           {
            "colorbar": {
             "outlinewidth": 0,
             "ticks": ""
            },
            "colorscale": [
             [
              0,
              "#0d0887"
             ],
             [
              0.1111111111111111,
              "#46039f"
             ],
             [
              0.2222222222222222,
              "#7201a8"
             ],
             [
              0.3333333333333333,
              "#9c179e"
             ],
             [
              0.4444444444444444,
              "#bd3786"
             ],
             [
              0.5555555555555556,
              "#d8576b"
             ],
             [
              0.6666666666666666,
              "#ed7953"
             ],
             [
              0.7777777777777778,
              "#fb9f3a"
             ],
             [
              0.8888888888888888,
              "#fdca26"
             ],
             [
              1,
              "#f0f921"
             ]
            ],
            "type": "heatmapgl"
           }
          ],
          "histogram": [
           {
            "marker": {
             "pattern": {
              "fillmode": "overlay",
              "size": 10,
              "solidity": 0.2
             }
            },
            "type": "histogram"
           }
          ],
          "histogram2d": [
           {
            "colorbar": {
             "outlinewidth": 0,
             "ticks": ""
            },
            "colorscale": [
             [
              0,
              "#0d0887"
             ],
             [
              0.1111111111111111,
              "#46039f"
             ],
             [
              0.2222222222222222,
              "#7201a8"
             ],
             [
              0.3333333333333333,
              "#9c179e"
             ],
             [
              0.4444444444444444,
              "#bd3786"
             ],
             [
              0.5555555555555556,
              "#d8576b"
             ],
             [
              0.6666666666666666,
              "#ed7953"
             ],
             [
              0.7777777777777778,
              "#fb9f3a"
             ],
             [
              0.8888888888888888,
              "#fdca26"
             ],
             [
              1,
              "#f0f921"
             ]
            ],
            "type": "histogram2d"
           }
          ],
          "histogram2dcontour": [
           {
            "colorbar": {
             "outlinewidth": 0,
             "ticks": ""
            },
            "colorscale": [
             [
              0,
              "#0d0887"
             ],
             [
              0.1111111111111111,
              "#46039f"
             ],
             [
              0.2222222222222222,
              "#7201a8"
             ],
             [
              0.3333333333333333,
              "#9c179e"
             ],
             [
              0.4444444444444444,
              "#bd3786"
             ],
             [
              0.5555555555555556,
              "#d8576b"
             ],
             [
              0.6666666666666666,
              "#ed7953"
             ],
             [
              0.7777777777777778,
              "#fb9f3a"
             ],
             [
              0.8888888888888888,
              "#fdca26"
             ],
             [
              1,
              "#f0f921"
             ]
            ],
            "type": "histogram2dcontour"
           }
          ],
          "mesh3d": [
           {
            "colorbar": {
             "outlinewidth": 0,
             "ticks": ""
            },
            "type": "mesh3d"
           }
          ],
          "parcoords": [
           {
            "line": {
             "colorbar": {
              "outlinewidth": 0,
              "ticks": ""
             }
            },
            "type": "parcoords"
           }
          ],
          "pie": [
           {
            "automargin": true,
            "type": "pie"
           }
          ],
          "scatter": [
           {
            "fillpattern": {
             "fillmode": "overlay",
             "size": 10,
             "solidity": 0.2
            },
            "type": "scatter"
           }
          ],
          "scatter3d": [
           {
            "line": {
             "colorbar": {
              "outlinewidth": 0,
              "ticks": ""
             }
            },
            "marker": {
             "colorbar": {
              "outlinewidth": 0,
              "ticks": ""
             }
            },
            "type": "scatter3d"
           }
          ],
          "scattercarpet": [
           {
            "marker": {
             "colorbar": {
              "outlinewidth": 0,
              "ticks": ""
             }
            },
            "type": "scattercarpet"
           }
          ],
          "scattergeo": [
           {
            "marker": {
             "colorbar": {
              "outlinewidth": 0,
              "ticks": ""
             }
            },
            "type": "scattergeo"
           }
          ],
          "scattergl": [
           {
            "marker": {
             "colorbar": {
              "outlinewidth": 0,
              "ticks": ""
             }
            },
            "type": "scattergl"
           }
          ],
          "scattermapbox": [
           {
            "marker": {
             "colorbar": {
              "outlinewidth": 0,
              "ticks": ""
             }
            },
            "type": "scattermapbox"
           }
          ],
          "scatterpolar": [
           {
            "marker": {
             "colorbar": {
              "outlinewidth": 0,
              "ticks": ""
             }
            },
            "type": "scatterpolar"
           }
          ],
          "scatterpolargl": [
           {
            "marker": {
             "colorbar": {
              "outlinewidth": 0,
              "ticks": ""
             }
            },
            "type": "scatterpolargl"
           }
          ],
          "scatterternary": [
           {
            "marker": {
             "colorbar": {
              "outlinewidth": 0,
              "ticks": ""
             }
            },
            "type": "scatterternary"
           }
          ],
          "surface": [
           {
            "colorbar": {
             "outlinewidth": 0,
             "ticks": ""
            },
            "colorscale": [
             [
              0,
              "#0d0887"
             ],
             [
              0.1111111111111111,
              "#46039f"
             ],
             [
              0.2222222222222222,
              "#7201a8"
             ],
             [
              0.3333333333333333,
              "#9c179e"
             ],
             [
              0.4444444444444444,
              "#bd3786"
             ],
             [
              0.5555555555555556,
              "#d8576b"
             ],
             [
              0.6666666666666666,
              "#ed7953"
             ],
             [
              0.7777777777777778,
              "#fb9f3a"
             ],
             [
              0.8888888888888888,
              "#fdca26"
             ],
             [
              1,
              "#f0f921"
             ]
            ],
            "type": "surface"
           }
          ],
          "table": [
           {
            "cells": {
             "fill": {
              "color": "#EBF0F8"
             },
             "line": {
              "color": "white"
             }
            },
            "header": {
             "fill": {
              "color": "#C8D4E3"
             },
             "line": {
              "color": "white"
             }
            },
            "type": "table"
           }
          ]
         },
         "layout": {
          "annotationdefaults": {
           "arrowcolor": "#2a3f5f",
           "arrowhead": 0,
           "arrowwidth": 1
          },
          "autotypenumbers": "strict",
          "coloraxis": {
           "colorbar": {
            "outlinewidth": 0,
            "ticks": ""
           }
          },
          "colorscale": {
           "diverging": [
            [
             0,
             "#8e0152"
            ],
            [
             0.1,
             "#c51b7d"
            ],
            [
             0.2,
             "#de77ae"
            ],
            [
             0.3,
             "#f1b6da"
            ],
            [
             0.4,
             "#fde0ef"
            ],
            [
             0.5,
             "#f7f7f7"
            ],
            [
             0.6,
             "#e6f5d0"
            ],
            [
             0.7,
             "#b8e186"
            ],
            [
             0.8,
             "#7fbc41"
            ],
            [
             0.9,
             "#4d9221"
            ],
            [
             1,
             "#276419"
            ]
           ],
           "sequential": [
            [
             0,
             "#0d0887"
            ],
            [
             0.1111111111111111,
             "#46039f"
            ],
            [
             0.2222222222222222,
             "#7201a8"
            ],
            [
             0.3333333333333333,
             "#9c179e"
            ],
            [
             0.4444444444444444,
             "#bd3786"
            ],
            [
             0.5555555555555556,
             "#d8576b"
            ],
            [
             0.6666666666666666,
             "#ed7953"
            ],
            [
             0.7777777777777778,
             "#fb9f3a"
            ],
            [
             0.8888888888888888,
             "#fdca26"
            ],
            [
             1,
             "#f0f921"
            ]
           ],
           "sequentialminus": [
            [
             0,
             "#0d0887"
            ],
            [
             0.1111111111111111,
             "#46039f"
            ],
            [
             0.2222222222222222,
             "#7201a8"
            ],
            [
             0.3333333333333333,
             "#9c179e"
            ],
            [
             0.4444444444444444,
             "#bd3786"
            ],
            [
             0.5555555555555556,
             "#d8576b"
            ],
            [
             0.6666666666666666,
             "#ed7953"
            ],
            [
             0.7777777777777778,
             "#fb9f3a"
            ],
            [
             0.8888888888888888,
             "#fdca26"
            ],
            [
             1,
             "#f0f921"
            ]
           ]
          },
          "colorway": [
           "#636efa",
           "#EF553B",
           "#00cc96",
           "#ab63fa",
           "#FFA15A",
           "#19d3f3",
           "#FF6692",
           "#B6E880",
           "#FF97FF",
           "#FECB52"
          ],
          "font": {
           "color": "#2a3f5f"
          },
          "geo": {
           "bgcolor": "white",
           "lakecolor": "white",
           "landcolor": "#E5ECF6",
           "showlakes": true,
           "showland": true,
           "subunitcolor": "white"
          },
          "hoverlabel": {
           "align": "left"
          },
          "hovermode": "closest",
          "mapbox": {
           "style": "light"
          },
          "paper_bgcolor": "white",
          "plot_bgcolor": "#E5ECF6",
          "polar": {
           "angularaxis": {
            "gridcolor": "white",
            "linecolor": "white",
            "ticks": ""
           },
           "bgcolor": "#E5ECF6",
           "radialaxis": {
            "gridcolor": "white",
            "linecolor": "white",
            "ticks": ""
           }
          },
          "scene": {
           "xaxis": {
            "backgroundcolor": "#E5ECF6",
            "gridcolor": "white",
            "gridwidth": 2,
            "linecolor": "white",
            "showbackground": true,
            "ticks": "",
            "zerolinecolor": "white"
           },
           "yaxis": {
            "backgroundcolor": "#E5ECF6",
            "gridcolor": "white",
            "gridwidth": 2,
            "linecolor": "white",
            "showbackground": true,
            "ticks": "",
            "zerolinecolor": "white"
           },
           "zaxis": {
            "backgroundcolor": "#E5ECF6",
            "gridcolor": "white",
            "gridwidth": 2,
            "linecolor": "white",
            "showbackground": true,
            "ticks": "",
            "zerolinecolor": "white"
           }
          },
          "shapedefaults": {
           "line": {
            "color": "#2a3f5f"
           }
          },
          "ternary": {
           "aaxis": {
            "gridcolor": "white",
            "linecolor": "white",
            "ticks": ""
           },
           "baxis": {
            "gridcolor": "white",
            "linecolor": "white",
            "ticks": ""
           },
           "bgcolor": "#E5ECF6",
           "caxis": {
            "gridcolor": "white",
            "linecolor": "white",
            "ticks": ""
           }
          },
          "title": {
           "x": 0.05
          },
          "xaxis": {
           "automargin": true,
           "gridcolor": "white",
           "linecolor": "white",
           "ticks": "",
           "title": {
            "standoff": 15
           },
           "zerolinecolor": "white",
           "zerolinewidth": 2
          },
          "yaxis": {
           "automargin": true,
           "gridcolor": "white",
           "linecolor": "white",
           "ticks": "",
           "title": {
            "standoff": 15
           },
           "zerolinecolor": "white",
           "zerolinewidth": 2
          }
         }
        },
        "title": {
         "text": "Muertes por Parkinson por región",
         "x": 0.5,
         "xanchor": "center"
        },
        "xaxis": {
         "anchor": "y",
         "domain": [
          0,
          1
         ],
         "title": {
          "text": "Year"
         }
        },
        "yaxis": {
         "anchor": "x",
         "domain": [
          0,
          1
         ],
         "title": {
          "text": "Deaths - Parkinson's disease - Sex: Both - Age: All Ages (Number)"
         }
        }
       }
      }
     },
     "metadata": {},
     "output_type": "display_data"
    }
   ],
   "source": [
    "fig=px.line(\n",
    "    data_frame=df_continent,\n",
    "    y=\"Deaths - Parkinson's disease - Sex: Both - Age: All Ages (Number)\",\n",
    "    x=\"Year\",\n",
    "    color=\"Entity\",\n",
    "    title= \"Muertes por Parkinson\"\n",
    "            \n",
    "    )\n",
    "fig.update_layout(\n",
    "    title={\n",
    "        'text': \"Muertes por Parkinson por región\",\n",
    "        'x': 0.5,\n",
    "        'xanchor':'center'\n",
    "\n",
    "    }\n",
    ")"
   ]
  },
  {
   "cell_type": "markdown",
   "metadata": {},
   "source": [
    "Mismas conclusiones que en el Alzheimer"
   ]
  },
  {
   "cell_type": "code",
   "execution_count": 65,
   "metadata": {},
   "outputs": [
    {
     "data": {
      "text/html": [
       "<div>\n",
       "<style scoped>\n",
       "    .dataframe tbody tr th:only-of-type {\n",
       "        vertical-align: middle;\n",
       "    }\n",
       "\n",
       "    .dataframe tbody tr th {\n",
       "        vertical-align: top;\n",
       "    }\n",
       "\n",
       "    .dataframe thead th {\n",
       "        text-align: right;\n",
       "    }\n",
       "</style>\n",
       "<table border=\"1\" class=\"dataframe\">\n",
       "  <thead>\n",
       "    <tr style=\"text-align: right;\">\n",
       "      <th></th>\n",
       "      <th>Entity</th>\n",
       "      <th>Code</th>\n",
       "      <th>Year</th>\n",
       "      <th>Deaths - Meningitis - Sex: Both - Age: All Ages (Number)</th>\n",
       "      <th>Deaths - Alzheimer's disease and other dementias - Sex: Both - Age: All Ages (Number)</th>\n",
       "      <th>Deaths - Parkinson's disease - Sex: Both - Age: All Ages (Number)</th>\n",
       "      <th>Deaths - Nutritional deficiencies - Sex: Both - Age: All Ages (Number)</th>\n",
       "      <th>Deaths - Malaria - Sex: Both - Age: All Ages (Number)</th>\n",
       "      <th>Deaths - Drowning - Sex: Both - Age: All Ages (Number)</th>\n",
       "      <th>Deaths - Interpersonal violence - Sex: Both - Age: All Ages (Number)</th>\n",
       "      <th>...</th>\n",
       "      <th>Deaths - Diabetes mellitus - Sex: Both - Age: All Ages (Number)</th>\n",
       "      <th>Deaths - Chronic kidney disease - Sex: Both - Age: All Ages (Number)</th>\n",
       "      <th>Deaths - Poisonings - Sex: Both - Age: All Ages (Number)</th>\n",
       "      <th>Deaths - Protein-energy malnutrition - Sex: Both - Age: All Ages (Number)</th>\n",
       "      <th>Deaths - Road injuries - Sex: Both - Age: All Ages (Number)</th>\n",
       "      <th>Deaths - Chronic respiratory diseases - Sex: Both - Age: All Ages (Number)</th>\n",
       "      <th>Deaths - Cirrhosis and other chronic liver diseases - Sex: Both - Age: All Ages (Number)</th>\n",
       "      <th>Deaths - Digestive diseases - Sex: Both - Age: All Ages (Number)</th>\n",
       "      <th>Deaths - Fire, heat, and hot substances - Sex: Both - Age: All Ages (Number)</th>\n",
       "      <th>Deaths - Acute hepatitis - Sex: Both - Age: All Ages (Number)</th>\n",
       "    </tr>\n",
       "  </thead>\n",
       "  <tbody>\n",
       "    <tr>\n",
       "      <th>1169</th>\n",
       "      <td>China</td>\n",
       "      <td>CHN</td>\n",
       "      <td>2019</td>\n",
       "      <td>6465</td>\n",
       "      <td>320715</td>\n",
       "      <td>76990</td>\n",
       "      <td>16863</td>\n",
       "      <td>0</td>\n",
       "      <td>56524</td>\n",
       "      <td>11970</td>\n",
       "      <td>...</td>\n",
       "      <td>172892</td>\n",
       "      <td>196726</td>\n",
       "      <td>27084</td>\n",
       "      <td>13099</td>\n",
       "      <td>250025</td>\n",
       "      <td>1085273</td>\n",
       "      <td>152262</td>\n",
       "      <td>277142</td>\n",
       "      <td>11096</td>\n",
       "      <td>3726</td>\n",
       "    </tr>\n",
       "    <tr>\n",
       "      <th>1168</th>\n",
       "      <td>China</td>\n",
       "      <td>CHN</td>\n",
       "      <td>2018</td>\n",
       "      <td>6798</td>\n",
       "      <td>306747</td>\n",
       "      <td>73789</td>\n",
       "      <td>16630</td>\n",
       "      <td>0</td>\n",
       "      <td>57898</td>\n",
       "      <td>12197</td>\n",
       "      <td>...</td>\n",
       "      <td>166694</td>\n",
       "      <td>191351</td>\n",
       "      <td>27623</td>\n",
       "      <td>12907</td>\n",
       "      <td>253799</td>\n",
       "      <td>1054610</td>\n",
       "      <td>149792</td>\n",
       "      <td>273223</td>\n",
       "      <td>10914</td>\n",
       "      <td>3843</td>\n",
       "    </tr>\n",
       "    <tr>\n",
       "      <th>1167</th>\n",
       "      <td>China</td>\n",
       "      <td>CHN</td>\n",
       "      <td>2017</td>\n",
       "      <td>7228</td>\n",
       "      <td>291962</td>\n",
       "      <td>71490</td>\n",
       "      <td>16572</td>\n",
       "      <td>0</td>\n",
       "      <td>59354</td>\n",
       "      <td>12523</td>\n",
       "      <td>...</td>\n",
       "      <td>161250</td>\n",
       "      <td>187685</td>\n",
       "      <td>28345</td>\n",
       "      <td>12850</td>\n",
       "      <td>257068</td>\n",
       "      <td>1040384</td>\n",
       "      <td>149472</td>\n",
       "      <td>273724</td>\n",
       "      <td>10829</td>\n",
       "      <td>4080</td>\n",
       "    </tr>\n",
       "  </tbody>\n",
       "</table>\n",
       "<p>3 rows × 34 columns</p>\n",
       "</div>"
      ],
      "text/plain": [
       "     Entity Code  Year  \\\n",
       "1169  China  CHN  2019   \n",
       "1168  China  CHN  2018   \n",
       "1167  China  CHN  2017   \n",
       "\n",
       "      Deaths - Meningitis - Sex: Both - Age: All Ages (Number)  \\\n",
       "1169                                               6465          \n",
       "1168                                               6798          \n",
       "1167                                               7228          \n",
       "\n",
       "      Deaths - Alzheimer's disease and other dementias - Sex: Both - Age: All Ages (Number)  \\\n",
       "1169                                             320715                                       \n",
       "1168                                             306747                                       \n",
       "1167                                             291962                                       \n",
       "\n",
       "      Deaths - Parkinson's disease - Sex: Both - Age: All Ages (Number)  \\\n",
       "1169                                              76990                   \n",
       "1168                                              73789                   \n",
       "1167                                              71490                   \n",
       "\n",
       "      Deaths - Nutritional deficiencies - Sex: Both - Age: All Ages (Number)  \\\n",
       "1169                                              16863                        \n",
       "1168                                              16630                        \n",
       "1167                                              16572                        \n",
       "\n",
       "      Deaths - Malaria - Sex: Both - Age: All Ages (Number)  \\\n",
       "1169                                                  0       \n",
       "1168                                                  0       \n",
       "1167                                                  0       \n",
       "\n",
       "      Deaths - Drowning - Sex: Both - Age: All Ages (Number)  \\\n",
       "1169                                              56524        \n",
       "1168                                              57898        \n",
       "1167                                              59354        \n",
       "\n",
       "      Deaths - Interpersonal violence - Sex: Both - Age: All Ages (Number)  \\\n",
       "1169                                              11970                      \n",
       "1168                                              12197                      \n",
       "1167                                              12523                      \n",
       "\n",
       "      ...  Deaths - Diabetes mellitus - Sex: Both - Age: All Ages (Number)  \\\n",
       "1169  ...                                             172892                 \n",
       "1168  ...                                             166694                 \n",
       "1167  ...                                             161250                 \n",
       "\n",
       "      Deaths - Chronic kidney disease - Sex: Both - Age: All Ages (Number)  \\\n",
       "1169                                             196726                      \n",
       "1168                                             191351                      \n",
       "1167                                             187685                      \n",
       "\n",
       "      Deaths - Poisonings - Sex: Both - Age: All Ages (Number)  \\\n",
       "1169                                              27084          \n",
       "1168                                              27623          \n",
       "1167                                              28345          \n",
       "\n",
       "      Deaths - Protein-energy malnutrition - Sex: Both - Age: All Ages (Number)  \\\n",
       "1169                                              13099                           \n",
       "1168                                              12907                           \n",
       "1167                                              12850                           \n",
       "\n",
       "      Deaths - Road injuries - Sex: Both - Age: All Ages (Number)  \\\n",
       "1169                                             250025             \n",
       "1168                                             253799             \n",
       "1167                                             257068             \n",
       "\n",
       "      Deaths - Chronic respiratory diseases - Sex: Both - Age: All Ages (Number)  \\\n",
       "1169                                            1085273                            \n",
       "1168                                            1054610                            \n",
       "1167                                            1040384                            \n",
       "\n",
       "      Deaths - Cirrhosis and other chronic liver diseases - Sex: Both - Age: All Ages (Number)  \\\n",
       "1169                                             152262                                          \n",
       "1168                                             149792                                          \n",
       "1167                                             149472                                          \n",
       "\n",
       "      Deaths - Digestive diseases - Sex: Both - Age: All Ages (Number)  \\\n",
       "1169                                             277142                  \n",
       "1168                                             273223                  \n",
       "1167                                             273724                  \n",
       "\n",
       "      Deaths - Fire, heat, and hot substances - Sex: Both - Age: All Ages (Number)  \\\n",
       "1169                                              11096                              \n",
       "1168                                              10914                              \n",
       "1167                                              10829                              \n",
       "\n",
       "      Deaths - Acute hepatitis - Sex: Both - Age: All Ages (Number)  \n",
       "1169                                               3726              \n",
       "1168                                               3843              \n",
       "1167                                               4080              \n",
       "\n",
       "[3 rows x 34 columns]"
      ]
     },
     "execution_count": 65,
     "metadata": {},
     "output_type": "execute_result"
    }
   ],
   "source": [
    "#El país que registra más muertes por Parkinson es:\n",
    "df.sort_values(by=\"Deaths - Parkinson's disease - Sex: Both - Age: All Ages (Number)\", ascending=False).head(3)"
   ]
  },
  {
   "cell_type": "markdown",
   "metadata": {},
   "source": [
    "## Deficiencias nutricionales"
   ]
  },
  {
   "cell_type": "code",
   "execution_count": 35,
   "metadata": {},
   "outputs": [
    {
     "data": {
      "application/vnd.plotly.v1+json": {
       "config": {
        "plotlyServerURL": "https://plot.ly"
       },
       "data": [
        {
         "hovertemplate": "Entity=World Bank High Income<br>Year=%{x}<br>Deaths - Nutritional deficiencies - Sex: Both - Age: All Ages (Number)=%{y}<extra></extra>",
         "legendgroup": "World Bank High Income",
         "line": {
          "color": "#636efa",
          "dash": "solid"
         },
         "marker": {
          "symbol": "circle"
         },
         "mode": "lines",
         "name": "World Bank High Income",
         "orientation": "v",
         "showlegend": true,
         "type": "scatter",
         "x": [
          1990,
          1991,
          1992,
          1993,
          1994,
          1995,
          1996,
          1997,
          1998,
          1999,
          2000,
          2001,
          2002,
          2003,
          2004,
          2005,
          2006,
          2007,
          2008,
          2009,
          2010,
          2011,
          2012,
          2013,
          2014,
          2015,
          2016,
          2017,
          2018,
          2019
         ],
         "xaxis": "x",
         "y": [
          9351,
          9466,
          9646,
          9991,
          10295,
          10775,
          11143,
          11566,
          12160,
          12775,
          13021,
          13079,
          13240,
          13326,
          13025,
          13168,
          13144,
          13358,
          13666,
          13894,
          14257,
          14678,
          15143,
          15532,
          15976,
          16860,
          17416,
          17537,
          17950,
          18390
         ],
         "yaxis": "y"
        },
        {
         "hovertemplate": "Entity=World Bank Low Income<br>Year=%{x}<br>Deaths - Nutritional deficiencies - Sex: Both - Age: All Ages (Number)=%{y}<extra></extra>",
         "legendgroup": "World Bank Low Income",
         "line": {
          "color": "#EF553B",
          "dash": "solid"
         },
         "marker": {
          "symbol": "circle"
         },
         "mode": "lines",
         "name": "World Bank Low Income",
         "orientation": "v",
         "showlegend": true,
         "type": "scatter",
         "x": [
          1990,
          1991,
          1992,
          1993,
          1994,
          1995,
          1996,
          1997,
          1998,
          1999,
          2000,
          2001,
          2002,
          2003,
          2004,
          2005,
          2006,
          2007,
          2008,
          2009,
          2010,
          2011,
          2012,
          2013,
          2014,
          2015,
          2016,
          2017,
          2018,
          2019
         ],
         "xaxis": "x",
         "y": [
          188448,
          187392,
          188294,
          188121,
          186830,
          282597,
          255482,
          252587,
          250013,
          247171,
          242288,
          235744,
          231027,
          150829,
          144571,
          141601,
          136148,
          130457,
          124616,
          118974,
          123710,
          120326,
          106609,
          104357,
          102055,
          99555,
          98341,
          96454,
          91831,
          87986
         ],
         "yaxis": "y"
        },
        {
         "hovertemplate": "Entity=World Bank Lower Middle Income<br>Year=%{x}<br>Deaths - Nutritional deficiencies - Sex: Both - Age: All Ages (Number)=%{y}<extra></extra>",
         "legendgroup": "World Bank Lower Middle Income",
         "line": {
          "color": "#00cc96",
          "dash": "solid"
         },
         "marker": {
          "symbol": "circle"
         },
         "mode": "lines",
         "name": "World Bank Lower Middle Income",
         "orientation": "v",
         "showlegend": true,
         "type": "scatter",
         "x": [
          1990,
          1991,
          1992,
          1993,
          1994,
          1995,
          1996,
          1997,
          1998,
          1999,
          2000,
          2001,
          2002,
          2003,
          2004,
          2005,
          2006,
          2007,
          2008,
          2009,
          2010,
          2011,
          2012,
          2013,
          2014,
          2015,
          2016,
          2017,
          2018,
          2019
         ],
         "xaxis": "x",
         "y": [
          463736,
          438797,
          415035,
          392581,
          372959,
          354344,
          333557,
          315451,
          293709,
          272375,
          255588,
          239242,
          221753,
          203722,
          189701,
          177442,
          170581,
          162598,
          157024,
          149900,
          144188,
          139534,
          136550,
          131055,
          125532,
          120585,
          114287,
          109496,
          103855,
          99836
         ],
         "yaxis": "y"
        },
        {
         "hovertemplate": "Entity=World Bank Upper Middle Income<br>Year=%{x}<br>Deaths - Nutritional deficiencies - Sex: Both - Age: All Ages (Number)=%{y}<extra></extra>",
         "legendgroup": "World Bank Upper Middle Income",
         "line": {
          "color": "#ab63fa",
          "dash": "solid"
         },
         "marker": {
          "symbol": "circle"
         },
         "mode": "lines",
         "name": "World Bank Upper Middle Income",
         "orientation": "v",
         "showlegend": true,
         "type": "scatter",
         "x": [
          1990,
          1991,
          1992,
          1993,
          1994,
          1995,
          1996,
          1997,
          1998,
          1999,
          2000,
          2001,
          2002,
          2003,
          2004,
          2005,
          2006,
          2007,
          2008,
          2009,
          2010,
          2011,
          2012,
          2013,
          2014,
          2015,
          2016,
          2017,
          2018,
          2019
         ],
         "xaxis": "x",
         "y": [
          95265,
          93483,
          87690,
          83524,
          79720,
          75371,
          71794,
          68084,
          64610,
          61101,
          57566,
          54503,
          51735,
          49390,
          46655,
          44528,
          42601,
          40990,
          40311,
          40107,
          40032,
          39795,
          39815,
          40501,
          41015,
          41793,
          43157,
          43975,
          44456,
          45195
         ],
         "yaxis": "y"
        }
       ],
       "layout": {
        "legend": {
         "title": {
          "text": "Entity"
         },
         "tracegroupgap": 0
        },
        "template": {
         "data": {
          "bar": [
           {
            "error_x": {
             "color": "#2a3f5f"
            },
            "error_y": {
             "color": "#2a3f5f"
            },
            "marker": {
             "line": {
              "color": "#E5ECF6",
              "width": 0.5
             },
             "pattern": {
              "fillmode": "overlay",
              "size": 10,
              "solidity": 0.2
             }
            },
            "type": "bar"
           }
          ],
          "barpolar": [
           {
            "marker": {
             "line": {
              "color": "#E5ECF6",
              "width": 0.5
             },
             "pattern": {
              "fillmode": "overlay",
              "size": 10,
              "solidity": 0.2
             }
            },
            "type": "barpolar"
           }
          ],
          "carpet": [
           {
            "aaxis": {
             "endlinecolor": "#2a3f5f",
             "gridcolor": "white",
             "linecolor": "white",
             "minorgridcolor": "white",
             "startlinecolor": "#2a3f5f"
            },
            "baxis": {
             "endlinecolor": "#2a3f5f",
             "gridcolor": "white",
             "linecolor": "white",
             "minorgridcolor": "white",
             "startlinecolor": "#2a3f5f"
            },
            "type": "carpet"
           }
          ],
          "choropleth": [
           {
            "colorbar": {
             "outlinewidth": 0,
             "ticks": ""
            },
            "type": "choropleth"
           }
          ],
          "contour": [
           {
            "colorbar": {
             "outlinewidth": 0,
             "ticks": ""
            },
            "colorscale": [
             [
              0,
              "#0d0887"
             ],
             [
              0.1111111111111111,
              "#46039f"
             ],
             [
              0.2222222222222222,
              "#7201a8"
             ],
             [
              0.3333333333333333,
              "#9c179e"
             ],
             [
              0.4444444444444444,
              "#bd3786"
             ],
             [
              0.5555555555555556,
              "#d8576b"
             ],
             [
              0.6666666666666666,
              "#ed7953"
             ],
             [
              0.7777777777777778,
              "#fb9f3a"
             ],
             [
              0.8888888888888888,
              "#fdca26"
             ],
             [
              1,
              "#f0f921"
             ]
            ],
            "type": "contour"
           }
          ],
          "contourcarpet": [
           {
            "colorbar": {
             "outlinewidth": 0,
             "ticks": ""
            },
            "type": "contourcarpet"
           }
          ],
          "heatmap": [
           {
            "colorbar": {
             "outlinewidth": 0,
             "ticks": ""
            },
            "colorscale": [
             [
              0,
              "#0d0887"
             ],
             [
              0.1111111111111111,
              "#46039f"
             ],
             [
              0.2222222222222222,
              "#7201a8"
             ],
             [
              0.3333333333333333,
              "#9c179e"
             ],
             [
              0.4444444444444444,
              "#bd3786"
             ],
             [
              0.5555555555555556,
              "#d8576b"
             ],
             [
              0.6666666666666666,
              "#ed7953"
             ],
             [
              0.7777777777777778,
              "#fb9f3a"
             ],
             [
              0.8888888888888888,
              "#fdca26"
             ],
             [
              1,
              "#f0f921"
             ]
            ],
            "type": "heatmap"
           }
          ],
          "heatmapgl": [
           {
            "colorbar": {
             "outlinewidth": 0,
             "ticks": ""
            },
            "colorscale": [
             [
              0,
              "#0d0887"
             ],
             [
              0.1111111111111111,
              "#46039f"
             ],
             [
              0.2222222222222222,
              "#7201a8"
             ],
             [
              0.3333333333333333,
              "#9c179e"
             ],
             [
              0.4444444444444444,
              "#bd3786"
             ],
             [
              0.5555555555555556,
              "#d8576b"
             ],
             [
              0.6666666666666666,
              "#ed7953"
             ],
             [
              0.7777777777777778,
              "#fb9f3a"
             ],
             [
              0.8888888888888888,
              "#fdca26"
             ],
             [
              1,
              "#f0f921"
             ]
            ],
            "type": "heatmapgl"
           }
          ],
          "histogram": [
           {
            "marker": {
             "pattern": {
              "fillmode": "overlay",
              "size": 10,
              "solidity": 0.2
             }
            },
            "type": "histogram"
           }
          ],
          "histogram2d": [
           {
            "colorbar": {
             "outlinewidth": 0,
             "ticks": ""
            },
            "colorscale": [
             [
              0,
              "#0d0887"
             ],
             [
              0.1111111111111111,
              "#46039f"
             ],
             [
              0.2222222222222222,
              "#7201a8"
             ],
             [
              0.3333333333333333,
              "#9c179e"
             ],
             [
              0.4444444444444444,
              "#bd3786"
             ],
             [
              0.5555555555555556,
              "#d8576b"
             ],
             [
              0.6666666666666666,
              "#ed7953"
             ],
             [
              0.7777777777777778,
              "#fb9f3a"
             ],
             [
              0.8888888888888888,
              "#fdca26"
             ],
             [
              1,
              "#f0f921"
             ]
            ],
            "type": "histogram2d"
           }
          ],
          "histogram2dcontour": [
           {
            "colorbar": {
             "outlinewidth": 0,
             "ticks": ""
            },
            "colorscale": [
             [
              0,
              "#0d0887"
             ],
             [
              0.1111111111111111,
              "#46039f"
             ],
             [
              0.2222222222222222,
              "#7201a8"
             ],
             [
              0.3333333333333333,
              "#9c179e"
             ],
             [
              0.4444444444444444,
              "#bd3786"
             ],
             [
              0.5555555555555556,
              "#d8576b"
             ],
             [
              0.6666666666666666,
              "#ed7953"
             ],
             [
              0.7777777777777778,
              "#fb9f3a"
             ],
             [
              0.8888888888888888,
              "#fdca26"
             ],
             [
              1,
              "#f0f921"
             ]
            ],
            "type": "histogram2dcontour"
           }
          ],
          "mesh3d": [
           {
            "colorbar": {
             "outlinewidth": 0,
             "ticks": ""
            },
            "type": "mesh3d"
           }
          ],
          "parcoords": [
           {
            "line": {
             "colorbar": {
              "outlinewidth": 0,
              "ticks": ""
             }
            },
            "type": "parcoords"
           }
          ],
          "pie": [
           {
            "automargin": true,
            "type": "pie"
           }
          ],
          "scatter": [
           {
            "fillpattern": {
             "fillmode": "overlay",
             "size": 10,
             "solidity": 0.2
            },
            "type": "scatter"
           }
          ],
          "scatter3d": [
           {
            "line": {
             "colorbar": {
              "outlinewidth": 0,
              "ticks": ""
             }
            },
            "marker": {
             "colorbar": {
              "outlinewidth": 0,
              "ticks": ""
             }
            },
            "type": "scatter3d"
           }
          ],
          "scattercarpet": [
           {
            "marker": {
             "colorbar": {
              "outlinewidth": 0,
              "ticks": ""
             }
            },
            "type": "scattercarpet"
           }
          ],
          "scattergeo": [
           {
            "marker": {
             "colorbar": {
              "outlinewidth": 0,
              "ticks": ""
             }
            },
            "type": "scattergeo"
           }
          ],
          "scattergl": [
           {
            "marker": {
             "colorbar": {
              "outlinewidth": 0,
              "ticks": ""
             }
            },
            "type": "scattergl"
           }
          ],
          "scattermapbox": [
           {
            "marker": {
             "colorbar": {
              "outlinewidth": 0,
              "ticks": ""
             }
            },
            "type": "scattermapbox"
           }
          ],
          "scatterpolar": [
           {
            "marker": {
             "colorbar": {
              "outlinewidth": 0,
              "ticks": ""
             }
            },
            "type": "scatterpolar"
           }
          ],
          "scatterpolargl": [
           {
            "marker": {
             "colorbar": {
              "outlinewidth": 0,
              "ticks": ""
             }
            },
            "type": "scatterpolargl"
           }
          ],
          "scatterternary": [
           {
            "marker": {
             "colorbar": {
              "outlinewidth": 0,
              "ticks": ""
             }
            },
            "type": "scatterternary"
           }
          ],
          "surface": [
           {
            "colorbar": {
             "outlinewidth": 0,
             "ticks": ""
            },
            "colorscale": [
             [
              0,
              "#0d0887"
             ],
             [
              0.1111111111111111,
              "#46039f"
             ],
             [
              0.2222222222222222,
              "#7201a8"
             ],
             [
              0.3333333333333333,
              "#9c179e"
             ],
             [
              0.4444444444444444,
              "#bd3786"
             ],
             [
              0.5555555555555556,
              "#d8576b"
             ],
             [
              0.6666666666666666,
              "#ed7953"
             ],
             [
              0.7777777777777778,
              "#fb9f3a"
             ],
             [
              0.8888888888888888,
              "#fdca26"
             ],
             [
              1,
              "#f0f921"
             ]
            ],
            "type": "surface"
           }
          ],
          "table": [
           {
            "cells": {
             "fill": {
              "color": "#EBF0F8"
             },
             "line": {
              "color": "white"
             }
            },
            "header": {
             "fill": {
              "color": "#C8D4E3"
             },
             "line": {
              "color": "white"
             }
            },
            "type": "table"
           }
          ]
         },
         "layout": {
          "annotationdefaults": {
           "arrowcolor": "#2a3f5f",
           "arrowhead": 0,
           "arrowwidth": 1
          },
          "autotypenumbers": "strict",
          "coloraxis": {
           "colorbar": {
            "outlinewidth": 0,
            "ticks": ""
           }
          },
          "colorscale": {
           "diverging": [
            [
             0,
             "#8e0152"
            ],
            [
             0.1,
             "#c51b7d"
            ],
            [
             0.2,
             "#de77ae"
            ],
            [
             0.3,
             "#f1b6da"
            ],
            [
             0.4,
             "#fde0ef"
            ],
            [
             0.5,
             "#f7f7f7"
            ],
            [
             0.6,
             "#e6f5d0"
            ],
            [
             0.7,
             "#b8e186"
            ],
            [
             0.8,
             "#7fbc41"
            ],
            [
             0.9,
             "#4d9221"
            ],
            [
             1,
             "#276419"
            ]
           ],
           "sequential": [
            [
             0,
             "#0d0887"
            ],
            [
             0.1111111111111111,
             "#46039f"
            ],
            [
             0.2222222222222222,
             "#7201a8"
            ],
            [
             0.3333333333333333,
             "#9c179e"
            ],
            [
             0.4444444444444444,
             "#bd3786"
            ],
            [
             0.5555555555555556,
             "#d8576b"
            ],
            [
             0.6666666666666666,
             "#ed7953"
            ],
            [
             0.7777777777777778,
             "#fb9f3a"
            ],
            [
             0.8888888888888888,
             "#fdca26"
            ],
            [
             1,
             "#f0f921"
            ]
           ],
           "sequentialminus": [
            [
             0,
             "#0d0887"
            ],
            [
             0.1111111111111111,
             "#46039f"
            ],
            [
             0.2222222222222222,
             "#7201a8"
            ],
            [
             0.3333333333333333,
             "#9c179e"
            ],
            [
             0.4444444444444444,
             "#bd3786"
            ],
            [
             0.5555555555555556,
             "#d8576b"
            ],
            [
             0.6666666666666666,
             "#ed7953"
            ],
            [
             0.7777777777777778,
             "#fb9f3a"
            ],
            [
             0.8888888888888888,
             "#fdca26"
            ],
            [
             1,
             "#f0f921"
            ]
           ]
          },
          "colorway": [
           "#636efa",
           "#EF553B",
           "#00cc96",
           "#ab63fa",
           "#FFA15A",
           "#19d3f3",
           "#FF6692",
           "#B6E880",
           "#FF97FF",
           "#FECB52"
          ],
          "font": {
           "color": "#2a3f5f"
          },
          "geo": {
           "bgcolor": "white",
           "lakecolor": "white",
           "landcolor": "#E5ECF6",
           "showlakes": true,
           "showland": true,
           "subunitcolor": "white"
          },
          "hoverlabel": {
           "align": "left"
          },
          "hovermode": "closest",
          "mapbox": {
           "style": "light"
          },
          "paper_bgcolor": "white",
          "plot_bgcolor": "#E5ECF6",
          "polar": {
           "angularaxis": {
            "gridcolor": "white",
            "linecolor": "white",
            "ticks": ""
           },
           "bgcolor": "#E5ECF6",
           "radialaxis": {
            "gridcolor": "white",
            "linecolor": "white",
            "ticks": ""
           }
          },
          "scene": {
           "xaxis": {
            "backgroundcolor": "#E5ECF6",
            "gridcolor": "white",
            "gridwidth": 2,
            "linecolor": "white",
            "showbackground": true,
            "ticks": "",
            "zerolinecolor": "white"
           },
           "yaxis": {
            "backgroundcolor": "#E5ECF6",
            "gridcolor": "white",
            "gridwidth": 2,
            "linecolor": "white",
            "showbackground": true,
            "ticks": "",
            "zerolinecolor": "white"
           },
           "zaxis": {
            "backgroundcolor": "#E5ECF6",
            "gridcolor": "white",
            "gridwidth": 2,
            "linecolor": "white",
            "showbackground": true,
            "ticks": "",
            "zerolinecolor": "white"
           }
          },
          "shapedefaults": {
           "line": {
            "color": "#2a3f5f"
           }
          },
          "ternary": {
           "aaxis": {
            "gridcolor": "white",
            "linecolor": "white",
            "ticks": ""
           },
           "baxis": {
            "gridcolor": "white",
            "linecolor": "white",
            "ticks": ""
           },
           "bgcolor": "#E5ECF6",
           "caxis": {
            "gridcolor": "white",
            "linecolor": "white",
            "ticks": ""
           }
          },
          "title": {
           "x": 0.05
          },
          "xaxis": {
           "automargin": true,
           "gridcolor": "white",
           "linecolor": "white",
           "ticks": "",
           "title": {
            "standoff": 15
           },
           "zerolinecolor": "white",
           "zerolinewidth": 2
          },
          "yaxis": {
           "automargin": true,
           "gridcolor": "white",
           "linecolor": "white",
           "ticks": "",
           "title": {
            "standoff": 15
           },
           "zerolinecolor": "white",
           "zerolinewidth": 2
          }
         }
        },
        "title": {
         "text": "Muertes por  Deficiencias nutricionales por nivel de renta",
         "x": 0.5,
         "xanchor": "center"
        },
        "xaxis": {
         "anchor": "y",
         "domain": [
          0,
          1
         ],
         "title": {
          "text": "Year"
         }
        },
        "yaxis": {
         "anchor": "x",
         "domain": [
          0,
          1
         ],
         "title": {
          "text": "Deaths - Nutritional deficiencies - Sex: Both - Age: All Ages (Number)"
         }
        }
       }
      }
     },
     "metadata": {},
     "output_type": "display_data"
    }
   ],
   "source": [
    "fig=px.line(\n",
    "    data_frame=df_income,\n",
    "    y=\"Deaths - Nutritional deficiencies - Sex: Both - Age: All Ages (Number)\",\n",
    "    x=\"Year\",\n",
    "    color=\"Entity\",\n",
    "    title= \"Muertes por Deficiencias nutricionales\"\n",
    "            \n",
    "    )\n",
    "fig.update_layout(\n",
    "    title={\n",
    "        'text': \"Muertes por  Deficiencias nutricionales por nivel de renta\",\n",
    "        'x': 0.5,\n",
    "        'xanchor':'center'\n",
    "\n",
    "    }\n",
    ")"
   ]
  },
  {
   "cell_type": "markdown",
   "metadata": {},
   "source": [
    "La muerte por deficiencias notricionales afecta fundamentalmente a los países de renta baja y medio baja.  El general la tendencia es decreciente, pero no estaría mal entender las causas por las que es tan elevada previamente a los años 2000."
   ]
  },
  {
   "cell_type": "code",
   "execution_count": 36,
   "metadata": {},
   "outputs": [
    {
     "data": {
      "application/vnd.plotly.v1+json": {
       "config": {
        "plotlyServerURL": "https://plot.ly"
       },
       "data": [
        {
         "hovertemplate": "Entity=African Region (WHO)<br>Year=%{x}<br>Deaths - Nutritional deficiencies - Sex: Both - Age: All Ages (Number)=%{y}<extra></extra>",
         "legendgroup": "African Region (WHO)",
         "line": {
          "color": "#636efa",
          "dash": "solid"
         },
         "marker": {
          "symbol": "circle"
         },
         "mode": "lines",
         "name": "African Region (WHO)",
         "orientation": "v",
         "showlegend": true,
         "type": "scatter",
         "x": [
          1990,
          1991,
          1992,
          1993,
          1994,
          1995,
          1996,
          1997,
          1998,
          1999,
          2000,
          2001,
          2002,
          2003,
          2004,
          2005,
          2006,
          2007,
          2008,
          2009,
          2010,
          2011,
          2012,
          2013,
          2014,
          2015,
          2016,
          2017,
          2018,
          2019
         ],
         "xaxis": "x",
         "y": [
          215934,
          216068,
          217480,
          217090,
          215874,
          213775,
          210452,
          207241,
          204485,
          200991,
          195624,
          188347,
          182910,
          175227,
          168344,
          163907,
          158053,
          151048,
          143418,
          136904,
          131125,
          127263,
          123130,
          120077,
          117086,
          114234,
          112307,
          110048,
          103714,
          98704
         ],
         "yaxis": "y"
        },
        {
         "hovertemplate": "Entity=Eastern Mediterranean Region (WHO)<br>Year=%{x}<br>Deaths - Nutritional deficiencies - Sex: Both - Age: All Ages (Number)=%{y}<extra></extra>",
         "legendgroup": "Eastern Mediterranean Region (WHO)",
         "line": {
          "color": "#EF553B",
          "dash": "solid"
         },
         "marker": {
          "symbol": "circle"
         },
         "mode": "lines",
         "name": "Eastern Mediterranean Region (WHO)",
         "orientation": "v",
         "showlegend": true,
         "type": "scatter",
         "x": [
          1990,
          1991,
          1992,
          1993,
          1994,
          1995,
          1996,
          1997,
          1998,
          1999,
          2000,
          2001,
          2002,
          2003,
          2004,
          2005,
          2006,
          2007,
          2008,
          2009,
          2010,
          2011,
          2012,
          2013,
          2014,
          2015,
          2016,
          2017,
          2018,
          2019
         ],
         "xaxis": "x",
         "y": [
          39853,
          38949,
          38120,
          38243,
          37536,
          38077,
          37722,
          37075,
          36410,
          35717,
          35052,
          34026,
          33332,
          32079,
          31707,
          30801,
          30002,
          29515,
          30959,
          30903,
          40374,
          40093,
          29972,
          29759,
          30131,
          29797,
          30132,
          29543,
          27932,
          27165
         ],
         "yaxis": "y"
        },
        {
         "hovertemplate": "Entity=European Region (WHO)<br>Year=%{x}<br>Deaths - Nutritional deficiencies - Sex: Both - Age: All Ages (Number)=%{y}<extra></extra>",
         "legendgroup": "European Region (WHO)",
         "line": {
          "color": "#00cc96",
          "dash": "solid"
         },
         "marker": {
          "symbol": "circle"
         },
         "mode": "lines",
         "name": "European Region (WHO)",
         "orientation": "v",
         "showlegend": true,
         "type": "scatter",
         "x": [
          1990,
          1991,
          1992,
          1993,
          1994,
          1995,
          1996,
          1997,
          1998,
          1999,
          2000,
          2001,
          2002,
          2003,
          2004,
          2005,
          2006,
          2007,
          2008,
          2009,
          2010,
          2011,
          2012,
          2013,
          2014,
          2015,
          2016,
          2017,
          2018,
          2019
         ],
         "xaxis": "x",
         "y": [
          7228,
          7211,
          7274,
          7413,
          7506,
          7571,
          7512,
          7456,
          7441,
          7582,
          7642,
          7655,
          7765,
          7891,
          7643,
          7692,
          7672,
          7793,
          8015,
          8158,
          8345,
          8532,
          8871,
          9108,
          9332,
          9845,
          10111,
          10279,
          10400,
          10551
         ],
         "yaxis": "y"
        },
        {
         "hovertemplate": "Entity=Region of the Americas (WHO)<br>Year=%{x}<br>Deaths - Nutritional deficiencies - Sex: Both - Age: All Ages (Number)=%{y}<extra></extra>",
         "legendgroup": "Region of the Americas (WHO)",
         "line": {
          "color": "#ab63fa",
          "dash": "solid"
         },
         "marker": {
          "symbol": "circle"
         },
         "mode": "lines",
         "name": "Region of the Americas (WHO)",
         "orientation": "v",
         "showlegend": true,
         "type": "scatter",
         "x": [
          1990,
          1991,
          1992,
          1993,
          1994,
          1995,
          1996,
          1997,
          1998,
          1999,
          2000,
          2001,
          2002,
          2003,
          2004,
          2005,
          2006,
          2007,
          2008,
          2009,
          2010,
          2011,
          2012,
          2013,
          2014,
          2015,
          2016,
          2017,
          2018,
          2019
         ],
         "xaxis": "x",
         "y": [
          55155,
          53588,
          52378,
          51179,
          49679,
          48481,
          47816,
          47049,
          46557,
          45692,
          44370,
          43550,
          42543,
          41588,
          39710,
          38200,
          36562,
          35405,
          34607,
          34106,
          33519,
          32770,
          32259,
          32246,
          31959,
          31955,
          32124,
          32039,
          32861,
          33718
         ],
         "yaxis": "y"
        },
        {
         "hovertemplate": "Entity=South-East Asia Region (WHO)<br>Year=%{x}<br>Deaths - Nutritional deficiencies - Sex: Both - Age: All Ages (Number)=%{y}<extra></extra>",
         "legendgroup": "South-East Asia Region (WHO)",
         "line": {
          "color": "#FFA15A",
          "dash": "solid"
         },
         "marker": {
          "symbol": "circle"
         },
         "mode": "lines",
         "name": "South-East Asia Region (WHO)",
         "orientation": "v",
         "showlegend": true,
         "type": "scatter",
         "x": [
          1990,
          1991,
          1992,
          1993,
          1994,
          1995,
          1996,
          1997,
          1998,
          1999,
          2000,
          2001,
          2002,
          2003,
          2004,
          2005,
          2006,
          2007,
          2008,
          2009,
          2010,
          2011,
          2012,
          2013,
          2014,
          2015,
          2016,
          2017,
          2018,
          2019
         ],
         "xaxis": "x",
         "y": [
          380431,
          355667,
          332892,
          311048,
          292916,
          372541,
          328865,
          312211,
          291894,
          272178,
          256837,
          242122,
          226592,
          137719,
          125189,
          115293,
          109914,
          104042,
          99027,
          93073,
          88800,
          85219,
          82976,
          78762,
          73829,
          69726,
          64090,
          60481,
          58123,
          55979
         ],
         "yaxis": "y"
        },
        {
         "hovertemplate": "Entity=Western Pacific Region (WHO)<br>Year=%{x}<br>Deaths - Nutritional deficiencies - Sex: Both - Age: All Ages (Number)=%{y}<extra></extra>",
         "legendgroup": "Western Pacific Region (WHO)",
         "line": {
          "color": "#19d3f3",
          "dash": "solid"
         },
         "marker": {
          "symbol": "circle"
         },
         "mode": "lines",
         "name": "Western Pacific Region (WHO)",
         "orientation": "v",
         "showlegend": true,
         "type": "scatter",
         "x": [
          1990,
          1991,
          1992,
          1993,
          1994,
          1995,
          1996,
          1997,
          1998,
          1999,
          2000,
          2001,
          2002,
          2003,
          2004,
          2005,
          2006,
          2007,
          2008,
          2009,
          2010,
          2011,
          2012,
          2013,
          2014,
          2015,
          2016,
          2017,
          2018,
          2019
         ],
         "xaxis": "x",
         "y": [
          58076,
          57527,
          52386,
          49103,
          46150,
          42497,
          39462,
          36513,
          33554,
          31111,
          28789,
          26720,
          24467,
          22617,
          21208,
          20692,
          20122,
          19447,
          19435,
          19571,
          19866,
          20292,
          20746,
          21325,
          22072,
          23066,
          24262,
          24893,
          24877,
          25100
         ],
         "yaxis": "y"
        }
       ],
       "layout": {
        "legend": {
         "title": {
          "text": "Entity"
         },
         "tracegroupgap": 0
        },
        "template": {
         "data": {
          "bar": [
           {
            "error_x": {
             "color": "#2a3f5f"
            },
            "error_y": {
             "color": "#2a3f5f"
            },
            "marker": {
             "line": {
              "color": "#E5ECF6",
              "width": 0.5
             },
             "pattern": {
              "fillmode": "overlay",
              "size": 10,
              "solidity": 0.2
             }
            },
            "type": "bar"
           }
          ],
          "barpolar": [
           {
            "marker": {
             "line": {
              "color": "#E5ECF6",
              "width": 0.5
             },
             "pattern": {
              "fillmode": "overlay",
              "size": 10,
              "solidity": 0.2
             }
            },
            "type": "barpolar"
           }
          ],
          "carpet": [
           {
            "aaxis": {
             "endlinecolor": "#2a3f5f",
             "gridcolor": "white",
             "linecolor": "white",
             "minorgridcolor": "white",
             "startlinecolor": "#2a3f5f"
            },
            "baxis": {
             "endlinecolor": "#2a3f5f",
             "gridcolor": "white",
             "linecolor": "white",
             "minorgridcolor": "white",
             "startlinecolor": "#2a3f5f"
            },
            "type": "carpet"
           }
          ],
          "choropleth": [
           {
            "colorbar": {
             "outlinewidth": 0,
             "ticks": ""
            },
            "type": "choropleth"
           }
          ],
          "contour": [
           {
            "colorbar": {
             "outlinewidth": 0,
             "ticks": ""
            },
            "colorscale": [
             [
              0,
              "#0d0887"
             ],
             [
              0.1111111111111111,
              "#46039f"
             ],
             [
              0.2222222222222222,
              "#7201a8"
             ],
             [
              0.3333333333333333,
              "#9c179e"
             ],
             [
              0.4444444444444444,
              "#bd3786"
             ],
             [
              0.5555555555555556,
              "#d8576b"
             ],
             [
              0.6666666666666666,
              "#ed7953"
             ],
             [
              0.7777777777777778,
              "#fb9f3a"
             ],
             [
              0.8888888888888888,
              "#fdca26"
             ],
             [
              1,
              "#f0f921"
             ]
            ],
            "type": "contour"
           }
          ],
          "contourcarpet": [
           {
            "colorbar": {
             "outlinewidth": 0,
             "ticks": ""
            },
            "type": "contourcarpet"
           }
          ],
          "heatmap": [
           {
            "colorbar": {
             "outlinewidth": 0,
             "ticks": ""
            },
            "colorscale": [
             [
              0,
              "#0d0887"
             ],
             [
              0.1111111111111111,
              "#46039f"
             ],
             [
              0.2222222222222222,
              "#7201a8"
             ],
             [
              0.3333333333333333,
              "#9c179e"
             ],
             [
              0.4444444444444444,
              "#bd3786"
             ],
             [
              0.5555555555555556,
              "#d8576b"
             ],
             [
              0.6666666666666666,
              "#ed7953"
             ],
             [
              0.7777777777777778,
              "#fb9f3a"
             ],
             [
              0.8888888888888888,
              "#fdca26"
             ],
             [
              1,
              "#f0f921"
             ]
            ],
            "type": "heatmap"
           }
          ],
          "heatmapgl": [
           {
            "colorbar": {
             "outlinewidth": 0,
             "ticks": ""
            },
            "colorscale": [
             [
              0,
              "#0d0887"
             ],
             [
              0.1111111111111111,
              "#46039f"
             ],
             [
              0.2222222222222222,
              "#7201a8"
             ],
             [
              0.3333333333333333,
              "#9c179e"
             ],
             [
              0.4444444444444444,
              "#bd3786"
             ],
             [
              0.5555555555555556,
              "#d8576b"
             ],
             [
              0.6666666666666666,
              "#ed7953"
             ],
             [
              0.7777777777777778,
              "#fb9f3a"
             ],
             [
              0.8888888888888888,
              "#fdca26"
             ],
             [
              1,
              "#f0f921"
             ]
            ],
            "type": "heatmapgl"
           }
          ],
          "histogram": [
           {
            "marker": {
             "pattern": {
              "fillmode": "overlay",
              "size": 10,
              "solidity": 0.2
             }
            },
            "type": "histogram"
           }
          ],
          "histogram2d": [
           {
            "colorbar": {
             "outlinewidth": 0,
             "ticks": ""
            },
            "colorscale": [
             [
              0,
              "#0d0887"
             ],
             [
              0.1111111111111111,
              "#46039f"
             ],
             [
              0.2222222222222222,
              "#7201a8"
             ],
             [
              0.3333333333333333,
              "#9c179e"
             ],
             [
              0.4444444444444444,
              "#bd3786"
             ],
             [
              0.5555555555555556,
              "#d8576b"
             ],
             [
              0.6666666666666666,
              "#ed7953"
             ],
             [
              0.7777777777777778,
              "#fb9f3a"
             ],
             [
              0.8888888888888888,
              "#fdca26"
             ],
             [
              1,
              "#f0f921"
             ]
            ],
            "type": "histogram2d"
           }
          ],
          "histogram2dcontour": [
           {
            "colorbar": {
             "outlinewidth": 0,
             "ticks": ""
            },
            "colorscale": [
             [
              0,
              "#0d0887"
             ],
             [
              0.1111111111111111,
              "#46039f"
             ],
             [
              0.2222222222222222,
              "#7201a8"
             ],
             [
              0.3333333333333333,
              "#9c179e"
             ],
             [
              0.4444444444444444,
              "#bd3786"
             ],
             [
              0.5555555555555556,
              "#d8576b"
             ],
             [
              0.6666666666666666,
              "#ed7953"
             ],
             [
              0.7777777777777778,
              "#fb9f3a"
             ],
             [
              0.8888888888888888,
              "#fdca26"
             ],
             [
              1,
              "#f0f921"
             ]
            ],
            "type": "histogram2dcontour"
           }
          ],
          "mesh3d": [
           {
            "colorbar": {
             "outlinewidth": 0,
             "ticks": ""
            },
            "type": "mesh3d"
           }
          ],
          "parcoords": [
           {
            "line": {
             "colorbar": {
              "outlinewidth": 0,
              "ticks": ""
             }
            },
            "type": "parcoords"
           }
          ],
          "pie": [
           {
            "automargin": true,
            "type": "pie"
           }
          ],
          "scatter": [
           {
            "fillpattern": {
             "fillmode": "overlay",
             "size": 10,
             "solidity": 0.2
            },
            "type": "scatter"
           }
          ],
          "scatter3d": [
           {
            "line": {
             "colorbar": {
              "outlinewidth": 0,
              "ticks": ""
             }
            },
            "marker": {
             "colorbar": {
              "outlinewidth": 0,
              "ticks": ""
             }
            },
            "type": "scatter3d"
           }
          ],
          "scattercarpet": [
           {
            "marker": {
             "colorbar": {
              "outlinewidth": 0,
              "ticks": ""
             }
            },
            "type": "scattercarpet"
           }
          ],
          "scattergeo": [
           {
            "marker": {
             "colorbar": {
              "outlinewidth": 0,
              "ticks": ""
             }
            },
            "type": "scattergeo"
           }
          ],
          "scattergl": [
           {
            "marker": {
             "colorbar": {
              "outlinewidth": 0,
              "ticks": ""
             }
            },
            "type": "scattergl"
           }
          ],
          "scattermapbox": [
           {
            "marker": {
             "colorbar": {
              "outlinewidth": 0,
              "ticks": ""
             }
            },
            "type": "scattermapbox"
           }
          ],
          "scatterpolar": [
           {
            "marker": {
             "colorbar": {
              "outlinewidth": 0,
              "ticks": ""
             }
            },
            "type": "scatterpolar"
           }
          ],
          "scatterpolargl": [
           {
            "marker": {
             "colorbar": {
              "outlinewidth": 0,
              "ticks": ""
             }
            },
            "type": "scatterpolargl"
           }
          ],
          "scatterternary": [
           {
            "marker": {
             "colorbar": {
              "outlinewidth": 0,
              "ticks": ""
             }
            },
            "type": "scatterternary"
           }
          ],
          "surface": [
           {
            "colorbar": {
             "outlinewidth": 0,
             "ticks": ""
            },
            "colorscale": [
             [
              0,
              "#0d0887"
             ],
             [
              0.1111111111111111,
              "#46039f"
             ],
             [
              0.2222222222222222,
              "#7201a8"
             ],
             [
              0.3333333333333333,
              "#9c179e"
             ],
             [
              0.4444444444444444,
              "#bd3786"
             ],
             [
              0.5555555555555556,
              "#d8576b"
             ],
             [
              0.6666666666666666,
              "#ed7953"
             ],
             [
              0.7777777777777778,
              "#fb9f3a"
             ],
             [
              0.8888888888888888,
              "#fdca26"
             ],
             [
              1,
              "#f0f921"
             ]
            ],
            "type": "surface"
           }
          ],
          "table": [
           {
            "cells": {
             "fill": {
              "color": "#EBF0F8"
             },
             "line": {
              "color": "white"
             }
            },
            "header": {
             "fill": {
              "color": "#C8D4E3"
             },
             "line": {
              "color": "white"
             }
            },
            "type": "table"
           }
          ]
         },
         "layout": {
          "annotationdefaults": {
           "arrowcolor": "#2a3f5f",
           "arrowhead": 0,
           "arrowwidth": 1
          },
          "autotypenumbers": "strict",
          "coloraxis": {
           "colorbar": {
            "outlinewidth": 0,
            "ticks": ""
           }
          },
          "colorscale": {
           "diverging": [
            [
             0,
             "#8e0152"
            ],
            [
             0.1,
             "#c51b7d"
            ],
            [
             0.2,
             "#de77ae"
            ],
            [
             0.3,
             "#f1b6da"
            ],
            [
             0.4,
             "#fde0ef"
            ],
            [
             0.5,
             "#f7f7f7"
            ],
            [
             0.6,
             "#e6f5d0"
            ],
            [
             0.7,
             "#b8e186"
            ],
            [
             0.8,
             "#7fbc41"
            ],
            [
             0.9,
             "#4d9221"
            ],
            [
             1,
             "#276419"
            ]
           ],
           "sequential": [
            [
             0,
             "#0d0887"
            ],
            [
             0.1111111111111111,
             "#46039f"
            ],
            [
             0.2222222222222222,
             "#7201a8"
            ],
            [
             0.3333333333333333,
             "#9c179e"
            ],
            [
             0.4444444444444444,
             "#bd3786"
            ],
            [
             0.5555555555555556,
             "#d8576b"
            ],
            [
             0.6666666666666666,
             "#ed7953"
            ],
            [
             0.7777777777777778,
             "#fb9f3a"
            ],
            [
             0.8888888888888888,
             "#fdca26"
            ],
            [
             1,
             "#f0f921"
            ]
           ],
           "sequentialminus": [
            [
             0,
             "#0d0887"
            ],
            [
             0.1111111111111111,
             "#46039f"
            ],
            [
             0.2222222222222222,
             "#7201a8"
            ],
            [
             0.3333333333333333,
             "#9c179e"
            ],
            [
             0.4444444444444444,
             "#bd3786"
            ],
            [
             0.5555555555555556,
             "#d8576b"
            ],
            [
             0.6666666666666666,
             "#ed7953"
            ],
            [
             0.7777777777777778,
             "#fb9f3a"
            ],
            [
             0.8888888888888888,
             "#fdca26"
            ],
            [
             1,
             "#f0f921"
            ]
           ]
          },
          "colorway": [
           "#636efa",
           "#EF553B",
           "#00cc96",
           "#ab63fa",
           "#FFA15A",
           "#19d3f3",
           "#FF6692",
           "#B6E880",
           "#FF97FF",
           "#FECB52"
          ],
          "font": {
           "color": "#2a3f5f"
          },
          "geo": {
           "bgcolor": "white",
           "lakecolor": "white",
           "landcolor": "#E5ECF6",
           "showlakes": true,
           "showland": true,
           "subunitcolor": "white"
          },
          "hoverlabel": {
           "align": "left"
          },
          "hovermode": "closest",
          "mapbox": {
           "style": "light"
          },
          "paper_bgcolor": "white",
          "plot_bgcolor": "#E5ECF6",
          "polar": {
           "angularaxis": {
            "gridcolor": "white",
            "linecolor": "white",
            "ticks": ""
           },
           "bgcolor": "#E5ECF6",
           "radialaxis": {
            "gridcolor": "white",
            "linecolor": "white",
            "ticks": ""
           }
          },
          "scene": {
           "xaxis": {
            "backgroundcolor": "#E5ECF6",
            "gridcolor": "white",
            "gridwidth": 2,
            "linecolor": "white",
            "showbackground": true,
            "ticks": "",
            "zerolinecolor": "white"
           },
           "yaxis": {
            "backgroundcolor": "#E5ECF6",
            "gridcolor": "white",
            "gridwidth": 2,
            "linecolor": "white",
            "showbackground": true,
            "ticks": "",
            "zerolinecolor": "white"
           },
           "zaxis": {
            "backgroundcolor": "#E5ECF6",
            "gridcolor": "white",
            "gridwidth": 2,
            "linecolor": "white",
            "showbackground": true,
            "ticks": "",
            "zerolinecolor": "white"
           }
          },
          "shapedefaults": {
           "line": {
            "color": "#2a3f5f"
           }
          },
          "ternary": {
           "aaxis": {
            "gridcolor": "white",
            "linecolor": "white",
            "ticks": ""
           },
           "baxis": {
            "gridcolor": "white",
            "linecolor": "white",
            "ticks": ""
           },
           "bgcolor": "#E5ECF6",
           "caxis": {
            "gridcolor": "white",
            "linecolor": "white",
            "ticks": ""
           }
          },
          "title": {
           "x": 0.05
          },
          "xaxis": {
           "automargin": true,
           "gridcolor": "white",
           "linecolor": "white",
           "ticks": "",
           "title": {
            "standoff": 15
           },
           "zerolinecolor": "white",
           "zerolinewidth": 2
          },
          "yaxis": {
           "automargin": true,
           "gridcolor": "white",
           "linecolor": "white",
           "ticks": "",
           "title": {
            "standoff": 15
           },
           "zerolinecolor": "white",
           "zerolinewidth": 2
          }
         }
        },
        "title": {
         "text": "Muertes por  Deficiencias nutricionales por región",
         "x": 0.5,
         "xanchor": "center"
        },
        "xaxis": {
         "anchor": "y",
         "domain": [
          0,
          1
         ],
         "title": {
          "text": "Year"
         }
        },
        "yaxis": {
         "anchor": "x",
         "domain": [
          0,
          1
         ],
         "title": {
          "text": "Deaths - Nutritional deficiencies - Sex: Both - Age: All Ages (Number)"
         }
        }
       }
      }
     },
     "metadata": {},
     "output_type": "display_data"
    }
   ],
   "source": [
    "fig=px.line(\n",
    "    data_frame=df_continent,\n",
    "    y=\"Deaths - Nutritional deficiencies - Sex: Both - Age: All Ages (Number)\",\n",
    "    x=\"Year\",\n",
    "    color=\"Entity\",\n",
    "    title= \"Muertes por Deficiencias nutricionales\"\n",
    "            \n",
    "    )\n",
    "fig.update_layout(\n",
    "    title={\n",
    "        'text': \"Muertes por  Deficiencias nutricionales por región\",\n",
    "        'x': 0.5,\n",
    "        'xanchor':'center'\n",
    "\n",
    "    }\n",
    ")"
   ]
  },
  {
   "cell_type": "markdown",
   "metadata": {},
   "source": [
    "A la cabeza de las muertes por nutrición está África seguida del surente asiático. Hay que destacar que en ambas regiones la disminución es pronunciada, aunque en el sureste asiático es muy pronunciada hasta incios del nuevo siglo. "
   ]
  },
  {
   "cell_type": "code",
   "execution_count": 66,
   "metadata": {},
   "outputs": [
    {
     "data": {
      "text/html": [
       "<div>\n",
       "<style scoped>\n",
       "    .dataframe tbody tr th:only-of-type {\n",
       "        vertical-align: middle;\n",
       "    }\n",
       "\n",
       "    .dataframe tbody tr th {\n",
       "        vertical-align: top;\n",
       "    }\n",
       "\n",
       "    .dataframe thead th {\n",
       "        text-align: right;\n",
       "    }\n",
       "</style>\n",
       "<table border=\"1\" class=\"dataframe\">\n",
       "  <thead>\n",
       "    <tr style=\"text-align: right;\">\n",
       "      <th></th>\n",
       "      <th>Entity</th>\n",
       "      <th>Code</th>\n",
       "      <th>Year</th>\n",
       "      <th>Deaths - Meningitis - Sex: Both - Age: All Ages (Number)</th>\n",
       "      <th>Deaths - Alzheimer's disease and other dementias - Sex: Both - Age: All Ages (Number)</th>\n",
       "      <th>Deaths - Parkinson's disease - Sex: Both - Age: All Ages (Number)</th>\n",
       "      <th>Deaths - Nutritional deficiencies - Sex: Both - Age: All Ages (Number)</th>\n",
       "      <th>Deaths - Malaria - Sex: Both - Age: All Ages (Number)</th>\n",
       "      <th>Deaths - Drowning - Sex: Both - Age: All Ages (Number)</th>\n",
       "      <th>Deaths - Interpersonal violence - Sex: Both - Age: All Ages (Number)</th>\n",
       "      <th>...</th>\n",
       "      <th>Deaths - Diabetes mellitus - Sex: Both - Age: All Ages (Number)</th>\n",
       "      <th>Deaths - Chronic kidney disease - Sex: Both - Age: All Ages (Number)</th>\n",
       "      <th>Deaths - Poisonings - Sex: Both - Age: All Ages (Number)</th>\n",
       "      <th>Deaths - Protein-energy malnutrition - Sex: Both - Age: All Ages (Number)</th>\n",
       "      <th>Deaths - Road injuries - Sex: Both - Age: All Ages (Number)</th>\n",
       "      <th>Deaths - Chronic respiratory diseases - Sex: Both - Age: All Ages (Number)</th>\n",
       "      <th>Deaths - Cirrhosis and other chronic liver diseases - Sex: Both - Age: All Ages (Number)</th>\n",
       "      <th>Deaths - Digestive diseases - Sex: Both - Age: All Ages (Number)</th>\n",
       "      <th>Deaths - Fire, heat, and hot substances - Sex: Both - Age: All Ages (Number)</th>\n",
       "      <th>Deaths - Acute hepatitis - Sex: Both - Age: All Ages (Number)</th>\n",
       "    </tr>\n",
       "  </thead>\n",
       "  <tbody>\n",
       "    <tr>\n",
       "      <th>2670</th>\n",
       "      <td>India</td>\n",
       "      <td>IND</td>\n",
       "      <td>1990</td>\n",
       "      <td>98358</td>\n",
       "      <td>24195</td>\n",
       "      <td>13419</td>\n",
       "      <td>268223</td>\n",
       "      <td>162369</td>\n",
       "      <td>88688</td>\n",
       "      <td>38720</td>\n",
       "      <td>...</td>\n",
       "      <td>78789</td>\n",
       "      <td>92805</td>\n",
       "      <td>7257</td>\n",
       "      <td>202241</td>\n",
       "      <td>129821</td>\n",
       "      <td>601995</td>\n",
       "      <td>144247</td>\n",
       "      <td>315248</td>\n",
       "      <td>23032</td>\n",
       "      <td>61782</td>\n",
       "    </tr>\n",
       "    <tr>\n",
       "      <th>2671</th>\n",
       "      <td>India</td>\n",
       "      <td>IND</td>\n",
       "      <td>1991</td>\n",
       "      <td>97134</td>\n",
       "      <td>24862</td>\n",
       "      <td>14011</td>\n",
       "      <td>253431</td>\n",
       "      <td>159473</td>\n",
       "      <td>88014</td>\n",
       "      <td>37806</td>\n",
       "      <td>...</td>\n",
       "      <td>82661</td>\n",
       "      <td>97100</td>\n",
       "      <td>7337</td>\n",
       "      <td>188418</td>\n",
       "      <td>135557</td>\n",
       "      <td>621913</td>\n",
       "      <td>146547</td>\n",
       "      <td>321460</td>\n",
       "      <td>23373</td>\n",
       "      <td>63189</td>\n",
       "    </tr>\n",
       "    <tr>\n",
       "      <th>2672</th>\n",
       "      <td>India</td>\n",
       "      <td>IND</td>\n",
       "      <td>1992</td>\n",
       "      <td>94891</td>\n",
       "      <td>25353</td>\n",
       "      <td>14394</td>\n",
       "      <td>237280</td>\n",
       "      <td>151759</td>\n",
       "      <td>86073</td>\n",
       "      <td>38859</td>\n",
       "      <td>...</td>\n",
       "      <td>85848</td>\n",
       "      <td>100695</td>\n",
       "      <td>7355</td>\n",
       "      <td>174878</td>\n",
       "      <td>138623</td>\n",
       "      <td>635103</td>\n",
       "      <td>147875</td>\n",
       "      <td>325680</td>\n",
       "      <td>23576</td>\n",
       "      <td>63765</td>\n",
       "    </tr>\n",
       "  </tbody>\n",
       "</table>\n",
       "<p>3 rows × 34 columns</p>\n",
       "</div>"
      ],
      "text/plain": [
       "     Entity Code  Year  \\\n",
       "2670  India  IND  1990   \n",
       "2671  India  IND  1991   \n",
       "2672  India  IND  1992   \n",
       "\n",
       "      Deaths - Meningitis - Sex: Both - Age: All Ages (Number)  \\\n",
       "2670                                              98358          \n",
       "2671                                              97134          \n",
       "2672                                              94891          \n",
       "\n",
       "      Deaths - Alzheimer's disease and other dementias - Sex: Both - Age: All Ages (Number)  \\\n",
       "2670                                              24195                                       \n",
       "2671                                              24862                                       \n",
       "2672                                              25353                                       \n",
       "\n",
       "      Deaths - Parkinson's disease - Sex: Both - Age: All Ages (Number)  \\\n",
       "2670                                              13419                   \n",
       "2671                                              14011                   \n",
       "2672                                              14394                   \n",
       "\n",
       "      Deaths - Nutritional deficiencies - Sex: Both - Age: All Ages (Number)  \\\n",
       "2670                                             268223                        \n",
       "2671                                             253431                        \n",
       "2672                                             237280                        \n",
       "\n",
       "      Deaths - Malaria - Sex: Both - Age: All Ages (Number)  \\\n",
       "2670                                             162369       \n",
       "2671                                             159473       \n",
       "2672                                             151759       \n",
       "\n",
       "      Deaths - Drowning - Sex: Both - Age: All Ages (Number)  \\\n",
       "2670                                              88688        \n",
       "2671                                              88014        \n",
       "2672                                              86073        \n",
       "\n",
       "      Deaths - Interpersonal violence - Sex: Both - Age: All Ages (Number)  \\\n",
       "2670                                              38720                      \n",
       "2671                                              37806                      \n",
       "2672                                              38859                      \n",
       "\n",
       "      ...  Deaths - Diabetes mellitus - Sex: Both - Age: All Ages (Number)  \\\n",
       "2670  ...                                              78789                 \n",
       "2671  ...                                              82661                 \n",
       "2672  ...                                              85848                 \n",
       "\n",
       "      Deaths - Chronic kidney disease - Sex: Both - Age: All Ages (Number)  \\\n",
       "2670                                              92805                      \n",
       "2671                                              97100                      \n",
       "2672                                             100695                      \n",
       "\n",
       "      Deaths - Poisonings - Sex: Both - Age: All Ages (Number)  \\\n",
       "2670                                               7257          \n",
       "2671                                               7337          \n",
       "2672                                               7355          \n",
       "\n",
       "      Deaths - Protein-energy malnutrition - Sex: Both - Age: All Ages (Number)  \\\n",
       "2670                                             202241                           \n",
       "2671                                             188418                           \n",
       "2672                                             174878                           \n",
       "\n",
       "      Deaths - Road injuries - Sex: Both - Age: All Ages (Number)  \\\n",
       "2670                                             129821             \n",
       "2671                                             135557             \n",
       "2672                                             138623             \n",
       "\n",
       "      Deaths - Chronic respiratory diseases - Sex: Both - Age: All Ages (Number)  \\\n",
       "2670                                             601995                            \n",
       "2671                                             621913                            \n",
       "2672                                             635103                            \n",
       "\n",
       "      Deaths - Cirrhosis and other chronic liver diseases - Sex: Both - Age: All Ages (Number)  \\\n",
       "2670                                             144247                                          \n",
       "2671                                             146547                                          \n",
       "2672                                             147875                                          \n",
       "\n",
       "      Deaths - Digestive diseases - Sex: Both - Age: All Ages (Number)  \\\n",
       "2670                                             315248                  \n",
       "2671                                             321460                  \n",
       "2672                                             325680                  \n",
       "\n",
       "      Deaths - Fire, heat, and hot substances - Sex: Both - Age: All Ages (Number)  \\\n",
       "2670                                              23032                              \n",
       "2671                                              23373                              \n",
       "2672                                              23576                              \n",
       "\n",
       "      Deaths - Acute hepatitis - Sex: Both - Age: All Ages (Number)  \n",
       "2670                                              61782              \n",
       "2671                                              63189              \n",
       "2672                                              63765              \n",
       "\n",
       "[3 rows x 34 columns]"
      ]
     },
     "execution_count": 66,
     "metadata": {},
     "output_type": "execute_result"
    }
   ],
   "source": [
    "# El país con más muertes por desnutrición es:\n",
    "df.sort_values(by=\"Deaths - Nutritional deficiencies - Sex: Both - Age: All Ages (Number)\", ascending=False).head(3)"
   ]
  },
  {
   "cell_type": "markdown",
   "metadata": {},
   "source": [
    "## Malaria"
   ]
  },
  {
   "cell_type": "code",
   "execution_count": 38,
   "metadata": {},
   "outputs": [
    {
     "data": {
      "application/vnd.plotly.v1+json": {
       "config": {
        "plotlyServerURL": "https://plot.ly"
       },
       "data": [
        {
         "hovertemplate": "Entity=World Bank High Income<br>Year=%{x}<br>Deaths - Malaria - Sex: Both - Age: All Ages (Number)=%{y}<extra></extra>",
         "legendgroup": "World Bank High Income",
         "line": {
          "color": "#636efa",
          "dash": "solid"
         },
         "marker": {
          "symbol": "circle"
         },
         "mode": "lines",
         "name": "World Bank High Income",
         "orientation": "v",
         "showlegend": true,
         "type": "scatter",
         "x": [
          1990,
          1991,
          1992,
          1993,
          1994,
          1995,
          1996,
          1997,
          1998,
          1999,
          2000,
          2001,
          2002,
          2003,
          2004,
          2005,
          2006,
          2007,
          2008,
          2009,
          2010,
          2011,
          2012,
          2013,
          2014,
          2015,
          2016,
          2017,
          2018,
          2019
         ],
         "xaxis": "x",
         "y": [
          96,
          151,
          174,
          186,
          69,
          97,
          83,
          92,
          198,
          54,
          28,
          12,
          10,
          8,
          6,
          5,
          5,
          5,
          3,
          3,
          3,
          3,
          3,
          2,
          2,
          2,
          3,
          3,
          2,
          3
         ],
         "yaxis": "y"
        },
        {
         "hovertemplate": "Entity=World Bank Low Income<br>Year=%{x}<br>Deaths - Malaria - Sex: Both - Age: All Ages (Number)=%{y}<extra></extra>",
         "legendgroup": "World Bank Low Income",
         "line": {
          "color": "#EF553B",
          "dash": "solid"
         },
         "marker": {
          "symbol": "circle"
         },
         "mode": "lines",
         "name": "World Bank Low Income",
         "orientation": "v",
         "showlegend": true,
         "type": "scatter",
         "x": [
          1990,
          1991,
          1992,
          1993,
          1994,
          1995,
          1996,
          1997,
          1998,
          1999,
          2000,
          2001,
          2002,
          2003,
          2004,
          2005,
          2006,
          2007,
          2008,
          2009,
          2010,
          2011,
          2012,
          2013,
          2014,
          2015,
          2016,
          2017,
          2018,
          2019
         ],
         "xaxis": "x",
         "y": [
          369731,
          376937,
          377923,
          385475,
          387320,
          395446,
          405853,
          414732,
          424877,
          431846,
          446800,
          457176,
          459569,
          470990,
          468821,
          452544,
          444650,
          436668,
          424037,
          423742,
          422522,
          401908,
          385628,
          370737,
          342915,
          333855,
          321766,
          305776,
          294963,
          300492
         ],
         "yaxis": "y"
        },
        {
         "hovertemplate": "Entity=World Bank Lower Middle Income<br>Year=%{x}<br>Deaths - Malaria - Sex: Both - Age: All Ages (Number)=%{y}<extra></extra>",
         "legendgroup": "World Bank Lower Middle Income",
         "line": {
          "color": "#00cc96",
          "dash": "solid"
         },
         "marker": {
          "symbol": "circle"
         },
         "mode": "lines",
         "name": "World Bank Lower Middle Income",
         "orientation": "v",
         "showlegend": true,
         "type": "scatter",
         "x": [
          1990,
          1991,
          1992,
          1993,
          1994,
          1995,
          1996,
          1997,
          1998,
          1999,
          2000,
          2001,
          2002,
          2003,
          2004,
          2005,
          2006,
          2007,
          2008,
          2009,
          2010,
          2011,
          2012,
          2013,
          2014,
          2015,
          2016,
          2017,
          2018,
          2019
         ],
         "xaxis": "x",
         "y": [
          455394,
          465739,
          463295,
          463878,
          457159,
          455373,
          456547,
          468770,
          466549,
          452775,
          427840,
          448718,
          464214,
          483902,
          487738,
          484110,
          493541,
          500439,
          506424,
          491686,
          484715,
          464136,
          417978,
          378408,
          378942,
          366737,
          336273,
          321334,
          334156,
          339666
         ],
         "yaxis": "y"
        },
        {
         "hovertemplate": "Entity=World Bank Upper Middle Income<br>Year=%{x}<br>Deaths - Malaria - Sex: Both - Age: All Ages (Number)=%{y}<extra></extra>",
         "legendgroup": "World Bank Upper Middle Income",
         "line": {
          "color": "#ab63fa",
          "dash": "solid"
         },
         "marker": {
          "symbol": "circle"
         },
         "mode": "lines",
         "name": "World Bank Upper Middle Income",
         "orientation": "v",
         "showlegend": true,
         "type": "scatter",
         "x": [
          1990,
          1991,
          1992,
          1993,
          1994,
          1995,
          1996,
          1997,
          1998,
          1999,
          2000,
          2001,
          2002,
          2003,
          2004,
          2005,
          2006,
          2007,
          2008,
          2009,
          2010,
          2011,
          2012,
          2013,
          2014,
          2015,
          2016,
          2017,
          2018,
          2019
         ],
         "xaxis": "x",
         "y": [
          15078,
          16158,
          15027,
          12675,
          11120,
          11708,
          9994,
          9350,
          9711,
          9111,
          7393,
          6804,
          5404,
          4761,
          4219,
          3884,
          3553,
          3083,
          2447,
          2363,
          2577,
          2517,
          2571,
          2629,
          2469,
          2296,
          2321,
          2543,
          2448,
          3044
         ],
         "yaxis": "y"
        }
       ],
       "layout": {
        "legend": {
         "title": {
          "text": "Entity"
         },
         "tracegroupgap": 0
        },
        "template": {
         "data": {
          "bar": [
           {
            "error_x": {
             "color": "#2a3f5f"
            },
            "error_y": {
             "color": "#2a3f5f"
            },
            "marker": {
             "line": {
              "color": "#E5ECF6",
              "width": 0.5
             },
             "pattern": {
              "fillmode": "overlay",
              "size": 10,
              "solidity": 0.2
             }
            },
            "type": "bar"
           }
          ],
          "barpolar": [
           {
            "marker": {
             "line": {
              "color": "#E5ECF6",
              "width": 0.5
             },
             "pattern": {
              "fillmode": "overlay",
              "size": 10,
              "solidity": 0.2
             }
            },
            "type": "barpolar"
           }
          ],
          "carpet": [
           {
            "aaxis": {
             "endlinecolor": "#2a3f5f",
             "gridcolor": "white",
             "linecolor": "white",
             "minorgridcolor": "white",
             "startlinecolor": "#2a3f5f"
            },
            "baxis": {
             "endlinecolor": "#2a3f5f",
             "gridcolor": "white",
             "linecolor": "white",
             "minorgridcolor": "white",
             "startlinecolor": "#2a3f5f"
            },
            "type": "carpet"
           }
          ],
          "choropleth": [
           {
            "colorbar": {
             "outlinewidth": 0,
             "ticks": ""
            },
            "type": "choropleth"
           }
          ],
          "contour": [
           {
            "colorbar": {
             "outlinewidth": 0,
             "ticks": ""
            },
            "colorscale": [
             [
              0,
              "#0d0887"
             ],
             [
              0.1111111111111111,
              "#46039f"
             ],
             [
              0.2222222222222222,
              "#7201a8"
             ],
             [
              0.3333333333333333,
              "#9c179e"
             ],
             [
              0.4444444444444444,
              "#bd3786"
             ],
             [
              0.5555555555555556,
              "#d8576b"
             ],
             [
              0.6666666666666666,
              "#ed7953"
             ],
             [
              0.7777777777777778,
              "#fb9f3a"
             ],
             [
              0.8888888888888888,
              "#fdca26"
             ],
             [
              1,
              "#f0f921"
             ]
            ],
            "type": "contour"
           }
          ],
          "contourcarpet": [
           {
            "colorbar": {
             "outlinewidth": 0,
             "ticks": ""
            },
            "type": "contourcarpet"
           }
          ],
          "heatmap": [
           {
            "colorbar": {
             "outlinewidth": 0,
             "ticks": ""
            },
            "colorscale": [
             [
              0,
              "#0d0887"
             ],
             [
              0.1111111111111111,
              "#46039f"
             ],
             [
              0.2222222222222222,
              "#7201a8"
             ],
             [
              0.3333333333333333,
              "#9c179e"
             ],
             [
              0.4444444444444444,
              "#bd3786"
             ],
             [
              0.5555555555555556,
              "#d8576b"
             ],
             [
              0.6666666666666666,
              "#ed7953"
             ],
             [
              0.7777777777777778,
              "#fb9f3a"
             ],
             [
              0.8888888888888888,
              "#fdca26"
             ],
             [
              1,
              "#f0f921"
             ]
            ],
            "type": "heatmap"
           }
          ],
          "heatmapgl": [
           {
            "colorbar": {
             "outlinewidth": 0,
             "ticks": ""
            },
            "colorscale": [
             [
              0,
              "#0d0887"
             ],
             [
              0.1111111111111111,
              "#46039f"
             ],
             [
              0.2222222222222222,
              "#7201a8"
             ],
             [
              0.3333333333333333,
              "#9c179e"
             ],
             [
              0.4444444444444444,
              "#bd3786"
             ],
             [
              0.5555555555555556,
              "#d8576b"
             ],
             [
              0.6666666666666666,
              "#ed7953"
             ],
             [
              0.7777777777777778,
              "#fb9f3a"
             ],
             [
              0.8888888888888888,
              "#fdca26"
             ],
             [
              1,
              "#f0f921"
             ]
            ],
            "type": "heatmapgl"
           }
          ],
          "histogram": [
           {
            "marker": {
             "pattern": {
              "fillmode": "overlay",
              "size": 10,
              "solidity": 0.2
             }
            },
            "type": "histogram"
           }
          ],
          "histogram2d": [
           {
            "colorbar": {
             "outlinewidth": 0,
             "ticks": ""
            },
            "colorscale": [
             [
              0,
              "#0d0887"
             ],
             [
              0.1111111111111111,
              "#46039f"
             ],
             [
              0.2222222222222222,
              "#7201a8"
             ],
             [
              0.3333333333333333,
              "#9c179e"
             ],
             [
              0.4444444444444444,
              "#bd3786"
             ],
             [
              0.5555555555555556,
              "#d8576b"
             ],
             [
              0.6666666666666666,
              "#ed7953"
             ],
             [
              0.7777777777777778,
              "#fb9f3a"
             ],
             [
              0.8888888888888888,
              "#fdca26"
             ],
             [
              1,
              "#f0f921"
             ]
            ],
            "type": "histogram2d"
           }
          ],
          "histogram2dcontour": [
           {
            "colorbar": {
             "outlinewidth": 0,
             "ticks": ""
            },
            "colorscale": [
             [
              0,
              "#0d0887"
             ],
             [
              0.1111111111111111,
              "#46039f"
             ],
             [
              0.2222222222222222,
              "#7201a8"
             ],
             [
              0.3333333333333333,
              "#9c179e"
             ],
             [
              0.4444444444444444,
              "#bd3786"
             ],
             [
              0.5555555555555556,
              "#d8576b"
             ],
             [
              0.6666666666666666,
              "#ed7953"
             ],
             [
              0.7777777777777778,
              "#fb9f3a"
             ],
             [
              0.8888888888888888,
              "#fdca26"
             ],
             [
              1,
              "#f0f921"
             ]
            ],
            "type": "histogram2dcontour"
           }
          ],
          "mesh3d": [
           {
            "colorbar": {
             "outlinewidth": 0,
             "ticks": ""
            },
            "type": "mesh3d"
           }
          ],
          "parcoords": [
           {
            "line": {
             "colorbar": {
              "outlinewidth": 0,
              "ticks": ""
             }
            },
            "type": "parcoords"
           }
          ],
          "pie": [
           {
            "automargin": true,
            "type": "pie"
           }
          ],
          "scatter": [
           {
            "fillpattern": {
             "fillmode": "overlay",
             "size": 10,
             "solidity": 0.2
            },
            "type": "scatter"
           }
          ],
          "scatter3d": [
           {
            "line": {
             "colorbar": {
              "outlinewidth": 0,
              "ticks": ""
             }
            },
            "marker": {
             "colorbar": {
              "outlinewidth": 0,
              "ticks": ""
             }
            },
            "type": "scatter3d"
           }
          ],
          "scattercarpet": [
           {
            "marker": {
             "colorbar": {
              "outlinewidth": 0,
              "ticks": ""
             }
            },
            "type": "scattercarpet"
           }
          ],
          "scattergeo": [
           {
            "marker": {
             "colorbar": {
              "outlinewidth": 0,
              "ticks": ""
             }
            },
            "type": "scattergeo"
           }
          ],
          "scattergl": [
           {
            "marker": {
             "colorbar": {
              "outlinewidth": 0,
              "ticks": ""
             }
            },
            "type": "scattergl"
           }
          ],
          "scattermapbox": [
           {
            "marker": {
             "colorbar": {
              "outlinewidth": 0,
              "ticks": ""
             }
            },
            "type": "scattermapbox"
           }
          ],
          "scatterpolar": [
           {
            "marker": {
             "colorbar": {
              "outlinewidth": 0,
              "ticks": ""
             }
            },
            "type": "scatterpolar"
           }
          ],
          "scatterpolargl": [
           {
            "marker": {
             "colorbar": {
              "outlinewidth": 0,
              "ticks": ""
             }
            },
            "type": "scatterpolargl"
           }
          ],
          "scatterternary": [
           {
            "marker": {
             "colorbar": {
              "outlinewidth": 0,
              "ticks": ""
             }
            },
            "type": "scatterternary"
           }
          ],
          "surface": [
           {
            "colorbar": {
             "outlinewidth": 0,
             "ticks": ""
            },
            "colorscale": [
             [
              0,
              "#0d0887"
             ],
             [
              0.1111111111111111,
              "#46039f"
             ],
             [
              0.2222222222222222,
              "#7201a8"
             ],
             [
              0.3333333333333333,
              "#9c179e"
             ],
             [
              0.4444444444444444,
              "#bd3786"
             ],
             [
              0.5555555555555556,
              "#d8576b"
             ],
             [
              0.6666666666666666,
              "#ed7953"
             ],
             [
              0.7777777777777778,
              "#fb9f3a"
             ],
             [
              0.8888888888888888,
              "#fdca26"
             ],
             [
              1,
              "#f0f921"
             ]
            ],
            "type": "surface"
           }
          ],
          "table": [
           {
            "cells": {
             "fill": {
              "color": "#EBF0F8"
             },
             "line": {
              "color": "white"
             }
            },
            "header": {
             "fill": {
              "color": "#C8D4E3"
             },
             "line": {
              "color": "white"
             }
            },
            "type": "table"
           }
          ]
         },
         "layout": {
          "annotationdefaults": {
           "arrowcolor": "#2a3f5f",
           "arrowhead": 0,
           "arrowwidth": 1
          },
          "autotypenumbers": "strict",
          "coloraxis": {
           "colorbar": {
            "outlinewidth": 0,
            "ticks": ""
           }
          },
          "colorscale": {
           "diverging": [
            [
             0,
             "#8e0152"
            ],
            [
             0.1,
             "#c51b7d"
            ],
            [
             0.2,
             "#de77ae"
            ],
            [
             0.3,
             "#f1b6da"
            ],
            [
             0.4,
             "#fde0ef"
            ],
            [
             0.5,
             "#f7f7f7"
            ],
            [
             0.6,
             "#e6f5d0"
            ],
            [
             0.7,
             "#b8e186"
            ],
            [
             0.8,
             "#7fbc41"
            ],
            [
             0.9,
             "#4d9221"
            ],
            [
             1,
             "#276419"
            ]
           ],
           "sequential": [
            [
             0,
             "#0d0887"
            ],
            [
             0.1111111111111111,
             "#46039f"
            ],
            [
             0.2222222222222222,
             "#7201a8"
            ],
            [
             0.3333333333333333,
             "#9c179e"
            ],
            [
             0.4444444444444444,
             "#bd3786"
            ],
            [
             0.5555555555555556,
             "#d8576b"
            ],
            [
             0.6666666666666666,
             "#ed7953"
            ],
            [
             0.7777777777777778,
             "#fb9f3a"
            ],
            [
             0.8888888888888888,
             "#fdca26"
            ],
            [
             1,
             "#f0f921"
            ]
           ],
           "sequentialminus": [
            [
             0,
             "#0d0887"
            ],
            [
             0.1111111111111111,
             "#46039f"
            ],
            [
             0.2222222222222222,
             "#7201a8"
            ],
            [
             0.3333333333333333,
             "#9c179e"
            ],
            [
             0.4444444444444444,
             "#bd3786"
            ],
            [
             0.5555555555555556,
             "#d8576b"
            ],
            [
             0.6666666666666666,
             "#ed7953"
            ],
            [
             0.7777777777777778,
             "#fb9f3a"
            ],
            [
             0.8888888888888888,
             "#fdca26"
            ],
            [
             1,
             "#f0f921"
            ]
           ]
          },
          "colorway": [
           "#636efa",
           "#EF553B",
           "#00cc96",
           "#ab63fa",
           "#FFA15A",
           "#19d3f3",
           "#FF6692",
           "#B6E880",
           "#FF97FF",
           "#FECB52"
          ],
          "font": {
           "color": "#2a3f5f"
          },
          "geo": {
           "bgcolor": "white",
           "lakecolor": "white",
           "landcolor": "#E5ECF6",
           "showlakes": true,
           "showland": true,
           "subunitcolor": "white"
          },
          "hoverlabel": {
           "align": "left"
          },
          "hovermode": "closest",
          "mapbox": {
           "style": "light"
          },
          "paper_bgcolor": "white",
          "plot_bgcolor": "#E5ECF6",
          "polar": {
           "angularaxis": {
            "gridcolor": "white",
            "linecolor": "white",
            "ticks": ""
           },
           "bgcolor": "#E5ECF6",
           "radialaxis": {
            "gridcolor": "white",
            "linecolor": "white",
            "ticks": ""
           }
          },
          "scene": {
           "xaxis": {
            "backgroundcolor": "#E5ECF6",
            "gridcolor": "white",
            "gridwidth": 2,
            "linecolor": "white",
            "showbackground": true,
            "ticks": "",
            "zerolinecolor": "white"
           },
           "yaxis": {
            "backgroundcolor": "#E5ECF6",
            "gridcolor": "white",
            "gridwidth": 2,
            "linecolor": "white",
            "showbackground": true,
            "ticks": "",
            "zerolinecolor": "white"
           },
           "zaxis": {
            "backgroundcolor": "#E5ECF6",
            "gridcolor": "white",
            "gridwidth": 2,
            "linecolor": "white",
            "showbackground": true,
            "ticks": "",
            "zerolinecolor": "white"
           }
          },
          "shapedefaults": {
           "line": {
            "color": "#2a3f5f"
           }
          },
          "ternary": {
           "aaxis": {
            "gridcolor": "white",
            "linecolor": "white",
            "ticks": ""
           },
           "baxis": {
            "gridcolor": "white",
            "linecolor": "white",
            "ticks": ""
           },
           "bgcolor": "#E5ECF6",
           "caxis": {
            "gridcolor": "white",
            "linecolor": "white",
            "ticks": ""
           }
          },
          "title": {
           "x": 0.05
          },
          "xaxis": {
           "automargin": true,
           "gridcolor": "white",
           "linecolor": "white",
           "ticks": "",
           "title": {
            "standoff": 15
           },
           "zerolinecolor": "white",
           "zerolinewidth": 2
          },
          "yaxis": {
           "automargin": true,
           "gridcolor": "white",
           "linecolor": "white",
           "ticks": "",
           "title": {
            "standoff": 15
           },
           "zerolinecolor": "white",
           "zerolinewidth": 2
          }
         }
        },
        "title": {
         "text": "Muertes por  Malaria según nivel de renta",
         "x": 0.5,
         "xanchor": "center"
        },
        "xaxis": {
         "anchor": "y",
         "domain": [
          0,
          1
         ],
         "title": {
          "text": "Year"
         }
        },
        "yaxis": {
         "anchor": "x",
         "domain": [
          0,
          1
         ],
         "title": {
          "text": "Deaths - Malaria - Sex: Both - Age: All Ages (Number)"
         }
        }
       }
      }
     },
     "metadata": {},
     "output_type": "display_data"
    }
   ],
   "source": [
    "fig=px.line(\n",
    "    data_frame=df_income,\n",
    "    y=\"Deaths - Malaria - Sex: Both - Age: All Ages (Number)\",\n",
    "    x=\"Year\",\n",
    "    color=\"Entity\",\n",
    "    title= \"Muertes por Malaria\"\n",
    "            \n",
    "    )\n",
    "fig.update_layout(\n",
    "    title={\n",
    "        'text': \"Muertes por  Malaria según nivel de renta\",\n",
    "        'x': 0.5,\n",
    "        'xanchor':'center'\n",
    "\n",
    "    }\n",
    ")"
   ]
  },
  {
   "cell_type": "markdown",
   "metadata": {},
   "source": [
    "Afecta fundamentalmete a países de renta baja y medio-baja. No estaría mal ver las cifras por continente ya, que esta enfermedad se genera por las condiciones climáticas de los países."
   ]
  },
  {
   "cell_type": "code",
   "execution_count": 39,
   "metadata": {},
   "outputs": [
    {
     "data": {
      "application/vnd.plotly.v1+json": {
       "config": {
        "plotlyServerURL": "https://plot.ly"
       },
       "data": [
        {
         "hovertemplate": "Entity=African Region (WHO)<br>Year=%{x}<br>Deaths - Malaria - Sex: Both - Age: All Ages (Number)=%{y}<extra></extra>",
         "legendgroup": "African Region (WHO)",
         "line": {
          "color": "#636efa",
          "dash": "solid"
         },
         "marker": {
          "symbol": "circle"
         },
         "mode": "lines",
         "name": "African Region (WHO)",
         "orientation": "v",
         "showlegend": true,
         "type": "scatter",
         "x": [
          1990,
          1991,
          1992,
          1993,
          1994,
          1995,
          1996,
          1997,
          1998,
          1999,
          2000,
          2001,
          2002,
          2003,
          2004,
          2005,
          2006,
          2007,
          2008,
          2009,
          2010,
          2011,
          2012,
          2013,
          2014,
          2015,
          2016,
          2017,
          2018,
          2019
         ],
         "xaxis": "x",
         "y": [
          588508,
          607330,
          620445,
          638935,
          650973,
          668983,
          688268,
          708186,
          726403,
          743180,
          763846,
          793502,
          804507,
          835458,
          841388,
          831177,
          833619,
          835237,
          832282,
          821742,
          804031,
          764244,
          727320,
          694438,
          655614,
          631381,
          604566,
          578326,
          578552,
          590252
         ],
         "yaxis": "y"
        },
        {
         "hovertemplate": "Entity=Eastern Mediterranean Region (WHO)<br>Year=%{x}<br>Deaths - Malaria - Sex: Both - Age: All Ages (Number)=%{y}<extra></extra>",
         "legendgroup": "Eastern Mediterranean Region (WHO)",
         "line": {
          "color": "#EF553B",
          "dash": "solid"
         },
         "marker": {
          "symbol": "circle"
         },
         "mode": "lines",
         "name": "Eastern Mediterranean Region (WHO)",
         "orientation": "v",
         "showlegend": true,
         "type": "scatter",
         "x": [
          1990,
          1991,
          1992,
          1993,
          1994,
          1995,
          1996,
          1997,
          1998,
          1999,
          2000,
          2001,
          2002,
          2003,
          2004,
          2005,
          2006,
          2007,
          2008,
          2009,
          2010,
          2011,
          2012,
          2013,
          2014,
          2015,
          2016,
          2017,
          2018,
          2019
         ],
         "xaxis": "x",
         "y": [
          28031,
          28060,
          27791,
          28898,
          27878,
          28515,
          29663,
          29880,
          29962,
          29105,
          23604,
          22128,
          21003,
          19090,
          14234,
          14909,
          14022,
          13367,
          9805,
          11306,
          16540,
          16939,
          17946,
          12945,
          14150,
          14790,
          15740,
          17047,
          15455,
          15985
         ],
         "yaxis": "y"
        },
        {
         "hovertemplate": "Entity=European Region (WHO)<br>Year=%{x}<br>Deaths - Malaria - Sex: Both - Age: All Ages (Number)=%{y}<extra></extra>",
         "legendgroup": "European Region (WHO)",
         "line": {
          "color": "#00cc96",
          "dash": "solid"
         },
         "marker": {
          "symbol": "circle"
         },
         "mode": "lines",
         "name": "European Region (WHO)",
         "orientation": "v",
         "showlegend": true,
         "type": "scatter",
         "x": [
          1990,
          1991,
          1992,
          1993,
          1994,
          1995,
          1996,
          1997,
          1998,
          1999,
          2000,
          2001,
          2002,
          2003,
          2004,
          2005,
          2006,
          2007,
          2008,
          2009,
          2010,
          2011,
          2012,
          2013,
          2014,
          2015,
          2016,
          2017,
          2018,
          2019
         ],
         "xaxis": "x",
         "y": [
          607,
          571,
          978,
          1183,
          307,
          241,
          284,
          130,
          135,
          94,
          116,
          133,
          95,
          57,
          41,
          137,
          66,
          35,
          20,
          2,
          1,
          1,
          0,
          0,
          0,
          0,
          0,
          0,
          0,
          0
         ],
         "yaxis": "y"
        },
        {
         "hovertemplate": "Entity=Region of the Americas (WHO)<br>Year=%{x}<br>Deaths - Malaria - Sex: Both - Age: All Ages (Number)=%{y}<extra></extra>",
         "legendgroup": "Region of the Americas (WHO)",
         "line": {
          "color": "#ab63fa",
          "dash": "solid"
         },
         "marker": {
          "symbol": "circle"
         },
         "mode": "lines",
         "name": "Region of the Americas (WHO)",
         "orientation": "v",
         "showlegend": true,
         "type": "scatter",
         "x": [
          1990,
          1991,
          1992,
          1993,
          1994,
          1995,
          1996,
          1997,
          1998,
          1999,
          2000,
          2001,
          2002,
          2003,
          2004,
          2005,
          2006,
          2007,
          2008,
          2009,
          2010,
          2011,
          2012,
          2013,
          2014,
          2015,
          2016,
          2017,
          2018,
          2019
         ],
         "xaxis": "x",
         "y": [
          7886,
          9679,
          9210,
          7739,
          7126,
          7424,
          5639,
          4758,
          6893,
          5385,
          5512,
          4298,
          3411,
          2747,
          2123,
          2462,
          2577,
          2215,
          1926,
          2312,
          2675,
          1596,
          1536,
          1339,
          946,
          964,
          1130,
          1116,
          1143,
          1342
         ],
         "yaxis": "y"
        },
        {
         "hovertemplate": "Entity=South-East Asia Region (WHO)<br>Year=%{x}<br>Deaths - Malaria - Sex: Both - Age: All Ages (Number)=%{y}<extra></extra>",
         "legendgroup": "South-East Asia Region (WHO)",
         "line": {
          "color": "#FFA15A",
          "dash": "solid"
         },
         "marker": {
          "symbol": "circle"
         },
         "mode": "lines",
         "name": "South-East Asia Region (WHO)",
         "orientation": "v",
         "showlegend": true,
         "type": "scatter",
         "x": [
          1990,
          1991,
          1992,
          1993,
          1994,
          1995,
          1996,
          1997,
          1998,
          1999,
          2000,
          2001,
          2002,
          2003,
          2004,
          2005,
          2006,
          2007,
          2008,
          2009,
          2010,
          2011,
          2012,
          2013,
          2014,
          2015,
          2016,
          2017,
          2018,
          2019
         ],
         "xaxis": "x",
         "y": [
          210327,
          208098,
          192872,
          180881,
          164724,
          153096,
          144437,
          145656,
          134466,
          112229,
          84823,
          89040,
          96630,
          98151,
          99010,
          88131,
          86899,
          85522,
          84967,
          78144,
          83267,
          83380,
          57188,
          40773,
          51627,
          54421,
          37236,
          31424,
          35186,
          34416
         ],
         "yaxis": "y"
        },
        {
         "hovertemplate": "Entity=Western Pacific Region (WHO)<br>Year=%{x}<br>Deaths - Malaria - Sex: Both - Age: All Ages (Number)=%{y}<extra></extra>",
         "legendgroup": "Western Pacific Region (WHO)",
         "line": {
          "color": "#19d3f3",
          "dash": "solid"
         },
         "marker": {
          "symbol": "circle"
         },
         "mode": "lines",
         "name": "Western Pacific Region (WHO)",
         "orientation": "v",
         "showlegend": true,
         "type": "scatter",
         "x": [
          1990,
          1991,
          1992,
          1993,
          1994,
          1995,
          1996,
          1997,
          1998,
          1999,
          2000,
          2001,
          2002,
          2003,
          2004,
          2005,
          2006,
          2007,
          2008,
          2009,
          2010,
          2011,
          2012,
          2013,
          2014,
          2015,
          2016,
          2017,
          2018,
          2019
         ],
         "xaxis": "x",
         "y": [
          4939,
          5247,
          5123,
          4577,
          4660,
          4366,
          4184,
          4333,
          3477,
          3793,
          4159,
          3609,
          3552,
          4156,
          3987,
          3727,
          4565,
          3819,
          3910,
          4288,
          3304,
          2403,
          2191,
          2282,
          1990,
          1334,
          1691,
          1742,
          1234,
          1208
         ],
         "yaxis": "y"
        }
       ],
       "layout": {
        "legend": {
         "title": {
          "text": "Entity"
         },
         "tracegroupgap": 0
        },
        "template": {
         "data": {
          "bar": [
           {
            "error_x": {
             "color": "#2a3f5f"
            },
            "error_y": {
             "color": "#2a3f5f"
            },
            "marker": {
             "line": {
              "color": "#E5ECF6",
              "width": 0.5
             },
             "pattern": {
              "fillmode": "overlay",
              "size": 10,
              "solidity": 0.2
             }
            },
            "type": "bar"
           }
          ],
          "barpolar": [
           {
            "marker": {
             "line": {
              "color": "#E5ECF6",
              "width": 0.5
             },
             "pattern": {
              "fillmode": "overlay",
              "size": 10,
              "solidity": 0.2
             }
            },
            "type": "barpolar"
           }
          ],
          "carpet": [
           {
            "aaxis": {
             "endlinecolor": "#2a3f5f",
             "gridcolor": "white",
             "linecolor": "white",
             "minorgridcolor": "white",
             "startlinecolor": "#2a3f5f"
            },
            "baxis": {
             "endlinecolor": "#2a3f5f",
             "gridcolor": "white",
             "linecolor": "white",
             "minorgridcolor": "white",
             "startlinecolor": "#2a3f5f"
            },
            "type": "carpet"
           }
          ],
          "choropleth": [
           {
            "colorbar": {
             "outlinewidth": 0,
             "ticks": ""
            },
            "type": "choropleth"
           }
          ],
          "contour": [
           {
            "colorbar": {
             "outlinewidth": 0,
             "ticks": ""
            },
            "colorscale": [
             [
              0,
              "#0d0887"
             ],
             [
              0.1111111111111111,
              "#46039f"
             ],
             [
              0.2222222222222222,
              "#7201a8"
             ],
             [
              0.3333333333333333,
              "#9c179e"
             ],
             [
              0.4444444444444444,
              "#bd3786"
             ],
             [
              0.5555555555555556,
              "#d8576b"
             ],
             [
              0.6666666666666666,
              "#ed7953"
             ],
             [
              0.7777777777777778,
              "#fb9f3a"
             ],
             [
              0.8888888888888888,
              "#fdca26"
             ],
             [
              1,
              "#f0f921"
             ]
            ],
            "type": "contour"
           }
          ],
          "contourcarpet": [
           {
            "colorbar": {
             "outlinewidth": 0,
             "ticks": ""
            },
            "type": "contourcarpet"
           }
          ],
          "heatmap": [
           {
            "colorbar": {
             "outlinewidth": 0,
             "ticks": ""
            },
            "colorscale": [
             [
              0,
              "#0d0887"
             ],
             [
              0.1111111111111111,
              "#46039f"
             ],
             [
              0.2222222222222222,
              "#7201a8"
             ],
             [
              0.3333333333333333,
              "#9c179e"
             ],
             [
              0.4444444444444444,
              "#bd3786"
             ],
             [
              0.5555555555555556,
              "#d8576b"
             ],
             [
              0.6666666666666666,
              "#ed7953"
             ],
             [
              0.7777777777777778,
              "#fb9f3a"
             ],
             [
              0.8888888888888888,
              "#fdca26"
             ],
             [
              1,
              "#f0f921"
             ]
            ],
            "type": "heatmap"
           }
          ],
          "heatmapgl": [
           {
            "colorbar": {
             "outlinewidth": 0,
             "ticks": ""
            },
            "colorscale": [
             [
              0,
              "#0d0887"
             ],
             [
              0.1111111111111111,
              "#46039f"
             ],
             [
              0.2222222222222222,
              "#7201a8"
             ],
             [
              0.3333333333333333,
              "#9c179e"
             ],
             [
              0.4444444444444444,
              "#bd3786"
             ],
             [
              0.5555555555555556,
              "#d8576b"
             ],
             [
              0.6666666666666666,
              "#ed7953"
             ],
             [
              0.7777777777777778,
              "#fb9f3a"
             ],
             [
              0.8888888888888888,
              "#fdca26"
             ],
             [
              1,
              "#f0f921"
             ]
            ],
            "type": "heatmapgl"
           }
          ],
          "histogram": [
           {
            "marker": {
             "pattern": {
              "fillmode": "overlay",
              "size": 10,
              "solidity": 0.2
             }
            },
            "type": "histogram"
           }
          ],
          "histogram2d": [
           {
            "colorbar": {
             "outlinewidth": 0,
             "ticks": ""
            },
            "colorscale": [
             [
              0,
              "#0d0887"
             ],
             [
              0.1111111111111111,
              "#46039f"
             ],
             [
              0.2222222222222222,
              "#7201a8"
             ],
             [
              0.3333333333333333,
              "#9c179e"
             ],
             [
              0.4444444444444444,
              "#bd3786"
             ],
             [
              0.5555555555555556,
              "#d8576b"
             ],
             [
              0.6666666666666666,
              "#ed7953"
             ],
             [
              0.7777777777777778,
              "#fb9f3a"
             ],
             [
              0.8888888888888888,
              "#fdca26"
             ],
             [
              1,
              "#f0f921"
             ]
            ],
            "type": "histogram2d"
           }
          ],
          "histogram2dcontour": [
           {
            "colorbar": {
             "outlinewidth": 0,
             "ticks": ""
            },
            "colorscale": [
             [
              0,
              "#0d0887"
             ],
             [
              0.1111111111111111,
              "#46039f"
             ],
             [
              0.2222222222222222,
              "#7201a8"
             ],
             [
              0.3333333333333333,
              "#9c179e"
             ],
             [
              0.4444444444444444,
              "#bd3786"
             ],
             [
              0.5555555555555556,
              "#d8576b"
             ],
             [
              0.6666666666666666,
              "#ed7953"
             ],
             [
              0.7777777777777778,
              "#fb9f3a"
             ],
             [
              0.8888888888888888,
              "#fdca26"
             ],
             [
              1,
              "#f0f921"
             ]
            ],
            "type": "histogram2dcontour"
           }
          ],
          "mesh3d": [
           {
            "colorbar": {
             "outlinewidth": 0,
             "ticks": ""
            },
            "type": "mesh3d"
           }
          ],
          "parcoords": [
           {
            "line": {
             "colorbar": {
              "outlinewidth": 0,
              "ticks": ""
             }
            },
            "type": "parcoords"
           }
          ],
          "pie": [
           {
            "automargin": true,
            "type": "pie"
           }
          ],
          "scatter": [
           {
            "fillpattern": {
             "fillmode": "overlay",
             "size": 10,
             "solidity": 0.2
            },
            "type": "scatter"
           }
          ],
          "scatter3d": [
           {
            "line": {
             "colorbar": {
              "outlinewidth": 0,
              "ticks": ""
             }
            },
            "marker": {
             "colorbar": {
              "outlinewidth": 0,
              "ticks": ""
             }
            },
            "type": "scatter3d"
           }
          ],
          "scattercarpet": [
           {
            "marker": {
             "colorbar": {
              "outlinewidth": 0,
              "ticks": ""
             }
            },
            "type": "scattercarpet"
           }
          ],
          "scattergeo": [
           {
            "marker": {
             "colorbar": {
              "outlinewidth": 0,
              "ticks": ""
             }
            },
            "type": "scattergeo"
           }
          ],
          "scattergl": [
           {
            "marker": {
             "colorbar": {
              "outlinewidth": 0,
              "ticks": ""
             }
            },
            "type": "scattergl"
           }
          ],
          "scattermapbox": [
           {
            "marker": {
             "colorbar": {
              "outlinewidth": 0,
              "ticks": ""
             }
            },
            "type": "scattermapbox"
           }
          ],
          "scatterpolar": [
           {
            "marker": {
             "colorbar": {
              "outlinewidth": 0,
              "ticks": ""
             }
            },
            "type": "scatterpolar"
           }
          ],
          "scatterpolargl": [
           {
            "marker": {
             "colorbar": {
              "outlinewidth": 0,
              "ticks": ""
             }
            },
            "type": "scatterpolargl"
           }
          ],
          "scatterternary": [
           {
            "marker": {
             "colorbar": {
              "outlinewidth": 0,
              "ticks": ""
             }
            },
            "type": "scatterternary"
           }
          ],
          "surface": [
           {
            "colorbar": {
             "outlinewidth": 0,
             "ticks": ""
            },
            "colorscale": [
             [
              0,
              "#0d0887"
             ],
             [
              0.1111111111111111,
              "#46039f"
             ],
             [
              0.2222222222222222,
              "#7201a8"
             ],
             [
              0.3333333333333333,
              "#9c179e"
             ],
             [
              0.4444444444444444,
              "#bd3786"
             ],
             [
              0.5555555555555556,
              "#d8576b"
             ],
             [
              0.6666666666666666,
              "#ed7953"
             ],
             [
              0.7777777777777778,
              "#fb9f3a"
             ],
             [
              0.8888888888888888,
              "#fdca26"
             ],
             [
              1,
              "#f0f921"
             ]
            ],
            "type": "surface"
           }
          ],
          "table": [
           {
            "cells": {
             "fill": {
              "color": "#EBF0F8"
             },
             "line": {
              "color": "white"
             }
            },
            "header": {
             "fill": {
              "color": "#C8D4E3"
             },
             "line": {
              "color": "white"
             }
            },
            "type": "table"
           }
          ]
         },
         "layout": {
          "annotationdefaults": {
           "arrowcolor": "#2a3f5f",
           "arrowhead": 0,
           "arrowwidth": 1
          },
          "autotypenumbers": "strict",
          "coloraxis": {
           "colorbar": {
            "outlinewidth": 0,
            "ticks": ""
           }
          },
          "colorscale": {
           "diverging": [
            [
             0,
             "#8e0152"
            ],
            [
             0.1,
             "#c51b7d"
            ],
            [
             0.2,
             "#de77ae"
            ],
            [
             0.3,
             "#f1b6da"
            ],
            [
             0.4,
             "#fde0ef"
            ],
            [
             0.5,
             "#f7f7f7"
            ],
            [
             0.6,
             "#e6f5d0"
            ],
            [
             0.7,
             "#b8e186"
            ],
            [
             0.8,
             "#7fbc41"
            ],
            [
             0.9,
             "#4d9221"
            ],
            [
             1,
             "#276419"
            ]
           ],
           "sequential": [
            [
             0,
             "#0d0887"
            ],
            [
             0.1111111111111111,
             "#46039f"
            ],
            [
             0.2222222222222222,
             "#7201a8"
            ],
            [
             0.3333333333333333,
             "#9c179e"
            ],
            [
             0.4444444444444444,
             "#bd3786"
            ],
            [
             0.5555555555555556,
             "#d8576b"
            ],
            [
             0.6666666666666666,
             "#ed7953"
            ],
            [
             0.7777777777777778,
             "#fb9f3a"
            ],
            [
             0.8888888888888888,
             "#fdca26"
            ],
            [
             1,
             "#f0f921"
            ]
           ],
           "sequentialminus": [
            [
             0,
             "#0d0887"
            ],
            [
             0.1111111111111111,
             "#46039f"
            ],
            [
             0.2222222222222222,
             "#7201a8"
            ],
            [
             0.3333333333333333,
             "#9c179e"
            ],
            [
             0.4444444444444444,
             "#bd3786"
            ],
            [
             0.5555555555555556,
             "#d8576b"
            ],
            [
             0.6666666666666666,
             "#ed7953"
            ],
            [
             0.7777777777777778,
             "#fb9f3a"
            ],
            [
             0.8888888888888888,
             "#fdca26"
            ],
            [
             1,
             "#f0f921"
            ]
           ]
          },
          "colorway": [
           "#636efa",
           "#EF553B",
           "#00cc96",
           "#ab63fa",
           "#FFA15A",
           "#19d3f3",
           "#FF6692",
           "#B6E880",
           "#FF97FF",
           "#FECB52"
          ],
          "font": {
           "color": "#2a3f5f"
          },
          "geo": {
           "bgcolor": "white",
           "lakecolor": "white",
           "landcolor": "#E5ECF6",
           "showlakes": true,
           "showland": true,
           "subunitcolor": "white"
          },
          "hoverlabel": {
           "align": "left"
          },
          "hovermode": "closest",
          "mapbox": {
           "style": "light"
          },
          "paper_bgcolor": "white",
          "plot_bgcolor": "#E5ECF6",
          "polar": {
           "angularaxis": {
            "gridcolor": "white",
            "linecolor": "white",
            "ticks": ""
           },
           "bgcolor": "#E5ECF6",
           "radialaxis": {
            "gridcolor": "white",
            "linecolor": "white",
            "ticks": ""
           }
          },
          "scene": {
           "xaxis": {
            "backgroundcolor": "#E5ECF6",
            "gridcolor": "white",
            "gridwidth": 2,
            "linecolor": "white",
            "showbackground": true,
            "ticks": "",
            "zerolinecolor": "white"
           },
           "yaxis": {
            "backgroundcolor": "#E5ECF6",
            "gridcolor": "white",
            "gridwidth": 2,
            "linecolor": "white",
            "showbackground": true,
            "ticks": "",
            "zerolinecolor": "white"
           },
           "zaxis": {
            "backgroundcolor": "#E5ECF6",
            "gridcolor": "white",
            "gridwidth": 2,
            "linecolor": "white",
            "showbackground": true,
            "ticks": "",
            "zerolinecolor": "white"
           }
          },
          "shapedefaults": {
           "line": {
            "color": "#2a3f5f"
           }
          },
          "ternary": {
           "aaxis": {
            "gridcolor": "white",
            "linecolor": "white",
            "ticks": ""
           },
           "baxis": {
            "gridcolor": "white",
            "linecolor": "white",
            "ticks": ""
           },
           "bgcolor": "#E5ECF6",
           "caxis": {
            "gridcolor": "white",
            "linecolor": "white",
            "ticks": ""
           }
          },
          "title": {
           "x": 0.05
          },
          "xaxis": {
           "automargin": true,
           "gridcolor": "white",
           "linecolor": "white",
           "ticks": "",
           "title": {
            "standoff": 15
           },
           "zerolinecolor": "white",
           "zerolinewidth": 2
          },
          "yaxis": {
           "automargin": true,
           "gridcolor": "white",
           "linecolor": "white",
           "ticks": "",
           "title": {
            "standoff": 15
           },
           "zerolinecolor": "white",
           "zerolinewidth": 2
          }
         }
        },
        "title": {
         "text": "Muertes por Malaria por regiones",
         "x": 0.5,
         "xanchor": "center"
        },
        "xaxis": {
         "anchor": "y",
         "domain": [
          0,
          1
         ],
         "title": {
          "text": "Year"
         }
        },
        "yaxis": {
         "anchor": "x",
         "domain": [
          0,
          1
         ],
         "title": {
          "text": "Deaths - Malaria - Sex: Both - Age: All Ages (Number)"
         }
        }
       }
      }
     },
     "metadata": {},
     "output_type": "display_data"
    }
   ],
   "source": [
    "fig=px.line(\n",
    "    data_frame=df_continent,\n",
    "    y=\"Deaths - Malaria - Sex: Both - Age: All Ages (Number)\",\n",
    "    x=\"Year\",\n",
    "    color=\"Entity\",\n",
    "    title= \"Muertes por Malaria\"\n",
    "            \n",
    "    )\n",
    "fig.update_layout(\n",
    "    title={\n",
    "        'text': \"Muertes por Malaria por regiones\",\n",
    "        'x': 0.5,\n",
    "        'xanchor':'center'\n",
    "\n",
    "    }\n",
    ")"
   ]
  },
  {
   "cell_type": "markdown",
   "metadata": {},
   "source": [
    "Analizando esta gráfica podemos llegar a la conclusión de que los niveles de defunción por esta enfermedad está condicionado por las condiciones climáticas, ya que África lidera los niveles con una diferencia sustancial sobre el resto."
   ]
  },
  {
   "cell_type": "code",
   "execution_count": 67,
   "metadata": {},
   "outputs": [
    {
     "data": {
      "text/html": [
       "<div>\n",
       "<style scoped>\n",
       "    .dataframe tbody tr th:only-of-type {\n",
       "        vertical-align: middle;\n",
       "    }\n",
       "\n",
       "    .dataframe tbody tr th {\n",
       "        vertical-align: top;\n",
       "    }\n",
       "\n",
       "    .dataframe thead th {\n",
       "        text-align: right;\n",
       "    }\n",
       "</style>\n",
       "<table border=\"1\" class=\"dataframe\">\n",
       "  <thead>\n",
       "    <tr style=\"text-align: right;\">\n",
       "      <th></th>\n",
       "      <th>Entity</th>\n",
       "      <th>Code</th>\n",
       "      <th>Year</th>\n",
       "      <th>Deaths - Meningitis - Sex: Both - Age: All Ages (Number)</th>\n",
       "      <th>Deaths - Alzheimer's disease and other dementias - Sex: Both - Age: All Ages (Number)</th>\n",
       "      <th>Deaths - Parkinson's disease - Sex: Both - Age: All Ages (Number)</th>\n",
       "      <th>Deaths - Nutritional deficiencies - Sex: Both - Age: All Ages (Number)</th>\n",
       "      <th>Deaths - Malaria - Sex: Both - Age: All Ages (Number)</th>\n",
       "      <th>Deaths - Drowning - Sex: Both - Age: All Ages (Number)</th>\n",
       "      <th>Deaths - Interpersonal violence - Sex: Both - Age: All Ages (Number)</th>\n",
       "      <th>...</th>\n",
       "      <th>Deaths - Diabetes mellitus - Sex: Both - Age: All Ages (Number)</th>\n",
       "      <th>Deaths - Chronic kidney disease - Sex: Both - Age: All Ages (Number)</th>\n",
       "      <th>Deaths - Poisonings - Sex: Both - Age: All Ages (Number)</th>\n",
       "      <th>Deaths - Protein-energy malnutrition - Sex: Both - Age: All Ages (Number)</th>\n",
       "      <th>Deaths - Road injuries - Sex: Both - Age: All Ages (Number)</th>\n",
       "      <th>Deaths - Chronic respiratory diseases - Sex: Both - Age: All Ages (Number)</th>\n",
       "      <th>Deaths - Cirrhosis and other chronic liver diseases - Sex: Both - Age: All Ages (Number)</th>\n",
       "      <th>Deaths - Digestive diseases - Sex: Both - Age: All Ages (Number)</th>\n",
       "      <th>Deaths - Fire, heat, and hot substances - Sex: Both - Age: All Ages (Number)</th>\n",
       "      <th>Deaths - Acute hepatitis - Sex: Both - Age: All Ages (Number)</th>\n",
       "    </tr>\n",
       "  </thead>\n",
       "  <tbody>\n",
       "    <tr>\n",
       "      <th>4188</th>\n",
       "      <td>Nigeria</td>\n",
       "      <td>NGA</td>\n",
       "      <td>2008</td>\n",
       "      <td>56276</td>\n",
       "      <td>8938</td>\n",
       "      <td>2447</td>\n",
       "      <td>8850</td>\n",
       "      <td>280604</td>\n",
       "      <td>3745</td>\n",
       "      <td>10124</td>\n",
       "      <td>...</td>\n",
       "      <td>19065</td>\n",
       "      <td>16136</td>\n",
       "      <td>3870</td>\n",
       "      <td>8301</td>\n",
       "      <td>17507</td>\n",
       "      <td>22244</td>\n",
       "      <td>35955</td>\n",
       "      <td>61813</td>\n",
       "      <td>3986</td>\n",
       "      <td>3501</td>\n",
       "    </tr>\n",
       "    <tr>\n",
       "      <th>4189</th>\n",
       "      <td>Nigeria</td>\n",
       "      <td>NGA</td>\n",
       "      <td>2009</td>\n",
       "      <td>59349</td>\n",
       "      <td>9213</td>\n",
       "      <td>2533</td>\n",
       "      <td>8663</td>\n",
       "      <td>276715</td>\n",
       "      <td>3733</td>\n",
       "      <td>10223</td>\n",
       "      <td>...</td>\n",
       "      <td>19485</td>\n",
       "      <td>16430</td>\n",
       "      <td>3857</td>\n",
       "      <td>8110</td>\n",
       "      <td>17658</td>\n",
       "      <td>22529</td>\n",
       "      <td>36699</td>\n",
       "      <td>62992</td>\n",
       "      <td>4004</td>\n",
       "      <td>3400</td>\n",
       "    </tr>\n",
       "    <tr>\n",
       "      <th>4187</th>\n",
       "      <td>Nigeria</td>\n",
       "      <td>NGA</td>\n",
       "      <td>2007</td>\n",
       "      <td>57314</td>\n",
       "      <td>8602</td>\n",
       "      <td>2342</td>\n",
       "      <td>9382</td>\n",
       "      <td>267368</td>\n",
       "      <td>3883</td>\n",
       "      <td>10074</td>\n",
       "      <td>...</td>\n",
       "      <td>18828</td>\n",
       "      <td>16026</td>\n",
       "      <td>3954</td>\n",
       "      <td>8823</td>\n",
       "      <td>17720</td>\n",
       "      <td>22170</td>\n",
       "      <td>35595</td>\n",
       "      <td>61219</td>\n",
       "      <td>4142</td>\n",
       "      <td>3678</td>\n",
       "    </tr>\n",
       "  </tbody>\n",
       "</table>\n",
       "<p>3 rows × 34 columns</p>\n",
       "</div>"
      ],
      "text/plain": [
       "       Entity Code  Year  \\\n",
       "4188  Nigeria  NGA  2008   \n",
       "4189  Nigeria  NGA  2009   \n",
       "4187  Nigeria  NGA  2007   \n",
       "\n",
       "      Deaths - Meningitis - Sex: Both - Age: All Ages (Number)  \\\n",
       "4188                                              56276          \n",
       "4189                                              59349          \n",
       "4187                                              57314          \n",
       "\n",
       "      Deaths - Alzheimer's disease and other dementias - Sex: Both - Age: All Ages (Number)  \\\n",
       "4188                                               8938                                       \n",
       "4189                                               9213                                       \n",
       "4187                                               8602                                       \n",
       "\n",
       "      Deaths - Parkinson's disease - Sex: Both - Age: All Ages (Number)  \\\n",
       "4188                                               2447                   \n",
       "4189                                               2533                   \n",
       "4187                                               2342                   \n",
       "\n",
       "      Deaths - Nutritional deficiencies - Sex: Both - Age: All Ages (Number)  \\\n",
       "4188                                               8850                        \n",
       "4189                                               8663                        \n",
       "4187                                               9382                        \n",
       "\n",
       "      Deaths - Malaria - Sex: Both - Age: All Ages (Number)  \\\n",
       "4188                                             280604       \n",
       "4189                                             276715       \n",
       "4187                                             267368       \n",
       "\n",
       "      Deaths - Drowning - Sex: Both - Age: All Ages (Number)  \\\n",
       "4188                                               3745        \n",
       "4189                                               3733        \n",
       "4187                                               3883        \n",
       "\n",
       "      Deaths - Interpersonal violence - Sex: Both - Age: All Ages (Number)  \\\n",
       "4188                                              10124                      \n",
       "4189                                              10223                      \n",
       "4187                                              10074                      \n",
       "\n",
       "      ...  Deaths - Diabetes mellitus - Sex: Both - Age: All Ages (Number)  \\\n",
       "4188  ...                                              19065                 \n",
       "4189  ...                                              19485                 \n",
       "4187  ...                                              18828                 \n",
       "\n",
       "      Deaths - Chronic kidney disease - Sex: Both - Age: All Ages (Number)  \\\n",
       "4188                                              16136                      \n",
       "4189                                              16430                      \n",
       "4187                                              16026                      \n",
       "\n",
       "      Deaths - Poisonings - Sex: Both - Age: All Ages (Number)  \\\n",
       "4188                                               3870          \n",
       "4189                                               3857          \n",
       "4187                                               3954          \n",
       "\n",
       "      Deaths - Protein-energy malnutrition - Sex: Both - Age: All Ages (Number)  \\\n",
       "4188                                               8301                           \n",
       "4189                                               8110                           \n",
       "4187                                               8823                           \n",
       "\n",
       "      Deaths - Road injuries - Sex: Both - Age: All Ages (Number)  \\\n",
       "4188                                              17507             \n",
       "4189                                              17658             \n",
       "4187                                              17720             \n",
       "\n",
       "      Deaths - Chronic respiratory diseases - Sex: Both - Age: All Ages (Number)  \\\n",
       "4188                                              22244                            \n",
       "4189                                              22529                            \n",
       "4187                                              22170                            \n",
       "\n",
       "      Deaths - Cirrhosis and other chronic liver diseases - Sex: Both - Age: All Ages (Number)  \\\n",
       "4188                                              35955                                          \n",
       "4189                                              36699                                          \n",
       "4187                                              35595                                          \n",
       "\n",
       "      Deaths - Digestive diseases - Sex: Both - Age: All Ages (Number)  \\\n",
       "4188                                              61813                  \n",
       "4189                                              62992                  \n",
       "4187                                              61219                  \n",
       "\n",
       "      Deaths - Fire, heat, and hot substances - Sex: Both - Age: All Ages (Number)  \\\n",
       "4188                                               3986                              \n",
       "4189                                               4004                              \n",
       "4187                                               4142                              \n",
       "\n",
       "      Deaths - Acute hepatitis - Sex: Both - Age: All Ages (Number)  \n",
       "4188                                               3501              \n",
       "4189                                               3400              \n",
       "4187                                               3678              \n",
       "\n",
       "[3 rows x 34 columns]"
      ]
     },
     "execution_count": 67,
     "metadata": {},
     "output_type": "execute_result"
    }
   ],
   "source": [
    "#El país que lidera las muertes por Malaria es:\n",
    "df.sort_values(by=\"Deaths - Malaria - Sex: Both - Age: All Ages (Number)\", ascending=False).head(3)"
   ]
  },
  {
   "cell_type": "markdown",
   "metadata": {},
   "source": [
    "## Obesidad"
   ]
  },
  {
   "cell_type": "code",
   "execution_count": 40,
   "metadata": {},
   "outputs": [
    {
     "data": {
      "application/vnd.plotly.v1+json": {
       "config": {
        "plotlyServerURL": "https://plot.ly"
       },
       "data": [
        {
         "hovertemplate": "Entity=World Bank High Income<br>Year=%{x}<br>Deaths - Cardiovascular diseases - Sex: Both - Age: All Ages (Number)=%{y}<extra></extra>",
         "legendgroup": "World Bank High Income",
         "line": {
          "color": "#636efa",
          "dash": "solid"
         },
         "marker": {
          "symbol": "circle"
         },
         "mode": "lines",
         "name": "World Bank High Income",
         "orientation": "v",
         "showlegend": true,
         "type": "scatter",
         "x": [
          1990,
          1991,
          1992,
          1993,
          1994,
          1995,
          1996,
          1997,
          1998,
          1999,
          2000,
          2001,
          2002,
          2003,
          2004,
          2005,
          2006,
          2007,
          2008,
          2009,
          2010,
          2011,
          2012,
          2013,
          2014,
          2015,
          2016,
          2017,
          2018,
          2019
         ],
         "xaxis": "x",
         "y": [
          3592573,
          3577793,
          3546205,
          3556836,
          3532386,
          3536632,
          3498899,
          3460710,
          3451714,
          3446015,
          3386468,
          3350083,
          3336445,
          3314306,
          3229057,
          3213382,
          3171841,
          3150975,
          3135523,
          3112355,
          3102488,
          3125732,
          3151427,
          3165952,
          3175341,
          3249318,
          3282276,
          3332457,
          3435746,
          3525196
         ],
         "yaxis": "y"
        },
        {
         "hovertemplate": "Entity=World Bank Low Income<br>Year=%{x}<br>Deaths - Cardiovascular diseases - Sex: Both - Age: All Ages (Number)=%{y}<extra></extra>",
         "legendgroup": "World Bank Low Income",
         "line": {
          "color": "#EF553B",
          "dash": "solid"
         },
         "marker": {
          "symbol": "circle"
         },
         "mode": "lines",
         "name": "World Bank Low Income",
         "orientation": "v",
         "showlegend": true,
         "type": "scatter",
         "x": [
          1990,
          1991,
          1992,
          1993,
          1994,
          1995,
          1996,
          1997,
          1998,
          1999,
          2000,
          2001,
          2002,
          2003,
          2004,
          2005,
          2006,
          2007,
          2008,
          2009,
          2010,
          2011,
          2012,
          2013,
          2014,
          2015,
          2016,
          2017,
          2018,
          2019
         ],
         "xaxis": "x",
         "y": [
          442556,
          451315,
          461244,
          471042,
          480247,
          491028,
          499875,
          507394,
          516444,
          524092,
          531789,
          539543,
          548282,
          558246,
          569830,
          579676,
          591599,
          603553,
          617891,
          631409,
          642426,
          657435,
          672845,
          686978,
          701268,
          718428,
          734742,
          752894,
          773350,
          792037
         ],
         "yaxis": "y"
        },
        {
         "hovertemplate": "Entity=World Bank Lower Middle Income<br>Year=%{x}<br>Deaths - Cardiovascular diseases - Sex: Both - Age: All Ages (Number)=%{y}<extra></extra>",
         "legendgroup": "World Bank Lower Middle Income",
         "line": {
          "color": "#00cc96",
          "dash": "solid"
         },
         "marker": {
          "symbol": "circle"
         },
         "mode": "lines",
         "name": "World Bank Lower Middle Income",
         "orientation": "v",
         "showlegend": true,
         "type": "scatter",
         "x": [
          1990,
          1991,
          1992,
          1993,
          1994,
          1995,
          1996,
          1997,
          1998,
          1999,
          2000,
          2001,
          2002,
          2003,
          2004,
          2005,
          2006,
          2007,
          2008,
          2009,
          2010,
          2011,
          2012,
          2013,
          2014,
          2015,
          2016,
          2017,
          2018,
          2019
         ],
         "xaxis": "x",
         "y": [
          3189411,
          3279605,
          3377225,
          3469426,
          3557202,
          3631816,
          3721485,
          3865989,
          3934783,
          3990781,
          4088216,
          4196330,
          4311989,
          4373877,
          4385793,
          4528066,
          4668128,
          4807317,
          4949185,
          4976345,
          5070578,
          5189665,
          5331986,
          5470216,
          5549551,
          5746363,
          5855152,
          5985475,
          6160202,
          6291011
         ],
         "yaxis": "y"
        },
        {
         "hovertemplate": "Entity=World Bank Upper Middle Income<br>Year=%{x}<br>Deaths - Cardiovascular diseases - Sex: Both - Age: All Ages (Number)=%{y}<extra></extra>",
         "legendgroup": "World Bank Upper Middle Income",
         "line": {
          "color": "#ab63fa",
          "dash": "solid"
         },
         "marker": {
          "symbol": "circle"
         },
         "mode": "lines",
         "name": "World Bank Upper Middle Income",
         "orientation": "v",
         "showlegend": true,
         "type": "scatter",
         "x": [
          1990,
          1991,
          1992,
          1993,
          1994,
          1995,
          1996,
          1997,
          1998,
          1999,
          2000,
          2001,
          2002,
          2003,
          2004,
          2005,
          2006,
          2007,
          2008,
          2009,
          2010,
          2011,
          2012,
          2013,
          2014,
          2015,
          2016,
          2017,
          2018,
          2019
         ],
         "xaxis": "x",
         "y": [
          4837586,
          4911508,
          5053249,
          5304754,
          5456392,
          5469718,
          5493248,
          5505751,
          5558486,
          5759825,
          5950544,
          6099556,
          6304921,
          6464233,
          6561245,
          6674353,
          6560040,
          6555459,
          6699411,
          6832381,
          7022598,
          7065372,
          7088922,
          7166839,
          7289580,
          7375535,
          7526465,
          7614992,
          7744544,
          7943909
         ],
         "yaxis": "y"
        }
       ],
       "layout": {
        "legend": {
         "title": {
          "text": "Entity"
         },
         "tracegroupgap": 0
        },
        "template": {
         "data": {
          "bar": [
           {
            "error_x": {
             "color": "#2a3f5f"
            },
            "error_y": {
             "color": "#2a3f5f"
            },
            "marker": {
             "line": {
              "color": "#E5ECF6",
              "width": 0.5
             },
             "pattern": {
              "fillmode": "overlay",
              "size": 10,
              "solidity": 0.2
             }
            },
            "type": "bar"
           }
          ],
          "barpolar": [
           {
            "marker": {
             "line": {
              "color": "#E5ECF6",
              "width": 0.5
             },
             "pattern": {
              "fillmode": "overlay",
              "size": 10,
              "solidity": 0.2
             }
            },
            "type": "barpolar"
           }
          ],
          "carpet": [
           {
            "aaxis": {
             "endlinecolor": "#2a3f5f",
             "gridcolor": "white",
             "linecolor": "white",
             "minorgridcolor": "white",
             "startlinecolor": "#2a3f5f"
            },
            "baxis": {
             "endlinecolor": "#2a3f5f",
             "gridcolor": "white",
             "linecolor": "white",
             "minorgridcolor": "white",
             "startlinecolor": "#2a3f5f"
            },
            "type": "carpet"
           }
          ],
          "choropleth": [
           {
            "colorbar": {
             "outlinewidth": 0,
             "ticks": ""
            },
            "type": "choropleth"
           }
          ],
          "contour": [
           {
            "colorbar": {
             "outlinewidth": 0,
             "ticks": ""
            },
            "colorscale": [
             [
              0,
              "#0d0887"
             ],
             [
              0.1111111111111111,
              "#46039f"
             ],
             [
              0.2222222222222222,
              "#7201a8"
             ],
             [
              0.3333333333333333,
              "#9c179e"
             ],
             [
              0.4444444444444444,
              "#bd3786"
             ],
             [
              0.5555555555555556,
              "#d8576b"
             ],
             [
              0.6666666666666666,
              "#ed7953"
             ],
             [
              0.7777777777777778,
              "#fb9f3a"
             ],
             [
              0.8888888888888888,
              "#fdca26"
             ],
             [
              1,
              "#f0f921"
             ]
            ],
            "type": "contour"
           }
          ],
          "contourcarpet": [
           {
            "colorbar": {
             "outlinewidth": 0,
             "ticks": ""
            },
            "type": "contourcarpet"
           }
          ],
          "heatmap": [
           {
            "colorbar": {
             "outlinewidth": 0,
             "ticks": ""
            },
            "colorscale": [
             [
              0,
              "#0d0887"
             ],
             [
              0.1111111111111111,
              "#46039f"
             ],
             [
              0.2222222222222222,
              "#7201a8"
             ],
             [
              0.3333333333333333,
              "#9c179e"
             ],
             [
              0.4444444444444444,
              "#bd3786"
             ],
             [
              0.5555555555555556,
              "#d8576b"
             ],
             [
              0.6666666666666666,
              "#ed7953"
             ],
             [
              0.7777777777777778,
              "#fb9f3a"
             ],
             [
              0.8888888888888888,
              "#fdca26"
             ],
             [
              1,
              "#f0f921"
             ]
            ],
            "type": "heatmap"
           }
          ],
          "heatmapgl": [
           {
            "colorbar": {
             "outlinewidth": 0,
             "ticks": ""
            },
            "colorscale": [
             [
              0,
              "#0d0887"
             ],
             [
              0.1111111111111111,
              "#46039f"
             ],
             [
              0.2222222222222222,
              "#7201a8"
             ],
             [
              0.3333333333333333,
              "#9c179e"
             ],
             [
              0.4444444444444444,
              "#bd3786"
             ],
             [
              0.5555555555555556,
              "#d8576b"
             ],
             [
              0.6666666666666666,
              "#ed7953"
             ],
             [
              0.7777777777777778,
              "#fb9f3a"
             ],
             [
              0.8888888888888888,
              "#fdca26"
             ],
             [
              1,
              "#f0f921"
             ]
            ],
            "type": "heatmapgl"
           }
          ],
          "histogram": [
           {
            "marker": {
             "pattern": {
              "fillmode": "overlay",
              "size": 10,
              "solidity": 0.2
             }
            },
            "type": "histogram"
           }
          ],
          "histogram2d": [
           {
            "colorbar": {
             "outlinewidth": 0,
             "ticks": ""
            },
            "colorscale": [
             [
              0,
              "#0d0887"
             ],
             [
              0.1111111111111111,
              "#46039f"
             ],
             [
              0.2222222222222222,
              "#7201a8"
             ],
             [
              0.3333333333333333,
              "#9c179e"
             ],
             [
              0.4444444444444444,
              "#bd3786"
             ],
             [
              0.5555555555555556,
              "#d8576b"
             ],
             [
              0.6666666666666666,
              "#ed7953"
             ],
             [
              0.7777777777777778,
              "#fb9f3a"
             ],
             [
              0.8888888888888888,
              "#fdca26"
             ],
             [
              1,
              "#f0f921"
             ]
            ],
            "type": "histogram2d"
           }
          ],
          "histogram2dcontour": [
           {
            "colorbar": {
             "outlinewidth": 0,
             "ticks": ""
            },
            "colorscale": [
             [
              0,
              "#0d0887"
             ],
             [
              0.1111111111111111,
              "#46039f"
             ],
             [
              0.2222222222222222,
              "#7201a8"
             ],
             [
              0.3333333333333333,
              "#9c179e"
             ],
             [
              0.4444444444444444,
              "#bd3786"
             ],
             [
              0.5555555555555556,
              "#d8576b"
             ],
             [
              0.6666666666666666,
              "#ed7953"
             ],
             [
              0.7777777777777778,
              "#fb9f3a"
             ],
             [
              0.8888888888888888,
              "#fdca26"
             ],
             [
              1,
              "#f0f921"
             ]
            ],
            "type": "histogram2dcontour"
           }
          ],
          "mesh3d": [
           {
            "colorbar": {
             "outlinewidth": 0,
             "ticks": ""
            },
            "type": "mesh3d"
           }
          ],
          "parcoords": [
           {
            "line": {
             "colorbar": {
              "outlinewidth": 0,
              "ticks": ""
             }
            },
            "type": "parcoords"
           }
          ],
          "pie": [
           {
            "automargin": true,
            "type": "pie"
           }
          ],
          "scatter": [
           {
            "fillpattern": {
             "fillmode": "overlay",
             "size": 10,
             "solidity": 0.2
            },
            "type": "scatter"
           }
          ],
          "scatter3d": [
           {
            "line": {
             "colorbar": {
              "outlinewidth": 0,
              "ticks": ""
             }
            },
            "marker": {
             "colorbar": {
              "outlinewidth": 0,
              "ticks": ""
             }
            },
            "type": "scatter3d"
           }
          ],
          "scattercarpet": [
           {
            "marker": {
             "colorbar": {
              "outlinewidth": 0,
              "ticks": ""
             }
            },
            "type": "scattercarpet"
           }
          ],
          "scattergeo": [
           {
            "marker": {
             "colorbar": {
              "outlinewidth": 0,
              "ticks": ""
             }
            },
            "type": "scattergeo"
           }
          ],
          "scattergl": [
           {
            "marker": {
             "colorbar": {
              "outlinewidth": 0,
              "ticks": ""
             }
            },
            "type": "scattergl"
           }
          ],
          "scattermapbox": [
           {
            "marker": {
             "colorbar": {
              "outlinewidth": 0,
              "ticks": ""
             }
            },
            "type": "scattermapbox"
           }
          ],
          "scatterpolar": [
           {
            "marker": {
             "colorbar": {
              "outlinewidth": 0,
              "ticks": ""
             }
            },
            "type": "scatterpolar"
           }
          ],
          "scatterpolargl": [
           {
            "marker": {
             "colorbar": {
              "outlinewidth": 0,
              "ticks": ""
             }
            },
            "type": "scatterpolargl"
           }
          ],
          "scatterternary": [
           {
            "marker": {
             "colorbar": {
              "outlinewidth": 0,
              "ticks": ""
             }
            },
            "type": "scatterternary"
           }
          ],
          "surface": [
           {
            "colorbar": {
             "outlinewidth": 0,
             "ticks": ""
            },
            "colorscale": [
             [
              0,
              "#0d0887"
             ],
             [
              0.1111111111111111,
              "#46039f"
             ],
             [
              0.2222222222222222,
              "#7201a8"
             ],
             [
              0.3333333333333333,
              "#9c179e"
             ],
             [
              0.4444444444444444,
              "#bd3786"
             ],
             [
              0.5555555555555556,
              "#d8576b"
             ],
             [
              0.6666666666666666,
              "#ed7953"
             ],
             [
              0.7777777777777778,
              "#fb9f3a"
             ],
             [
              0.8888888888888888,
              "#fdca26"
             ],
             [
              1,
              "#f0f921"
             ]
            ],
            "type": "surface"
           }
          ],
          "table": [
           {
            "cells": {
             "fill": {
              "color": "#EBF0F8"
             },
             "line": {
              "color": "white"
             }
            },
            "header": {
             "fill": {
              "color": "#C8D4E3"
             },
             "line": {
              "color": "white"
             }
            },
            "type": "table"
           }
          ]
         },
         "layout": {
          "annotationdefaults": {
           "arrowcolor": "#2a3f5f",
           "arrowhead": 0,
           "arrowwidth": 1
          },
          "autotypenumbers": "strict",
          "coloraxis": {
           "colorbar": {
            "outlinewidth": 0,
            "ticks": ""
           }
          },
          "colorscale": {
           "diverging": [
            [
             0,
             "#8e0152"
            ],
            [
             0.1,
             "#c51b7d"
            ],
            [
             0.2,
             "#de77ae"
            ],
            [
             0.3,
             "#f1b6da"
            ],
            [
             0.4,
             "#fde0ef"
            ],
            [
             0.5,
             "#f7f7f7"
            ],
            [
             0.6,
             "#e6f5d0"
            ],
            [
             0.7,
             "#b8e186"
            ],
            [
             0.8,
             "#7fbc41"
            ],
            [
             0.9,
             "#4d9221"
            ],
            [
             1,
             "#276419"
            ]
           ],
           "sequential": [
            [
             0,
             "#0d0887"
            ],
            [
             0.1111111111111111,
             "#46039f"
            ],
            [
             0.2222222222222222,
             "#7201a8"
            ],
            [
             0.3333333333333333,
             "#9c179e"
            ],
            [
             0.4444444444444444,
             "#bd3786"
            ],
            [
             0.5555555555555556,
             "#d8576b"
            ],
            [
             0.6666666666666666,
             "#ed7953"
            ],
            [
             0.7777777777777778,
             "#fb9f3a"
            ],
            [
             0.8888888888888888,
             "#fdca26"
            ],
            [
             1,
             "#f0f921"
            ]
           ],
           "sequentialminus": [
            [
             0,
             "#0d0887"
            ],
            [
             0.1111111111111111,
             "#46039f"
            ],
            [
             0.2222222222222222,
             "#7201a8"
            ],
            [
             0.3333333333333333,
             "#9c179e"
            ],
            [
             0.4444444444444444,
             "#bd3786"
            ],
            [
             0.5555555555555556,
             "#d8576b"
            ],
            [
             0.6666666666666666,
             "#ed7953"
            ],
            [
             0.7777777777777778,
             "#fb9f3a"
            ],
            [
             0.8888888888888888,
             "#fdca26"
            ],
            [
             1,
             "#f0f921"
            ]
           ]
          },
          "colorway": [
           "#636efa",
           "#EF553B",
           "#00cc96",
           "#ab63fa",
           "#FFA15A",
           "#19d3f3",
           "#FF6692",
           "#B6E880",
           "#FF97FF",
           "#FECB52"
          ],
          "font": {
           "color": "#2a3f5f"
          },
          "geo": {
           "bgcolor": "white",
           "lakecolor": "white",
           "landcolor": "#E5ECF6",
           "showlakes": true,
           "showland": true,
           "subunitcolor": "white"
          },
          "hoverlabel": {
           "align": "left"
          },
          "hovermode": "closest",
          "mapbox": {
           "style": "light"
          },
          "paper_bgcolor": "white",
          "plot_bgcolor": "#E5ECF6",
          "polar": {
           "angularaxis": {
            "gridcolor": "white",
            "linecolor": "white",
            "ticks": ""
           },
           "bgcolor": "#E5ECF6",
           "radialaxis": {
            "gridcolor": "white",
            "linecolor": "white",
            "ticks": ""
           }
          },
          "scene": {
           "xaxis": {
            "backgroundcolor": "#E5ECF6",
            "gridcolor": "white",
            "gridwidth": 2,
            "linecolor": "white",
            "showbackground": true,
            "ticks": "",
            "zerolinecolor": "white"
           },
           "yaxis": {
            "backgroundcolor": "#E5ECF6",
            "gridcolor": "white",
            "gridwidth": 2,
            "linecolor": "white",
            "showbackground": true,
            "ticks": "",
            "zerolinecolor": "white"
           },
           "zaxis": {
            "backgroundcolor": "#E5ECF6",
            "gridcolor": "white",
            "gridwidth": 2,
            "linecolor": "white",
            "showbackground": true,
            "ticks": "",
            "zerolinecolor": "white"
           }
          },
          "shapedefaults": {
           "line": {
            "color": "#2a3f5f"
           }
          },
          "ternary": {
           "aaxis": {
            "gridcolor": "white",
            "linecolor": "white",
            "ticks": ""
           },
           "baxis": {
            "gridcolor": "white",
            "linecolor": "white",
            "ticks": ""
           },
           "bgcolor": "#E5ECF6",
           "caxis": {
            "gridcolor": "white",
            "linecolor": "white",
            "ticks": ""
           }
          },
          "title": {
           "x": 0.05
          },
          "xaxis": {
           "automargin": true,
           "gridcolor": "white",
           "linecolor": "white",
           "ticks": "",
           "title": {
            "standoff": 15
           },
           "zerolinecolor": "white",
           "zerolinewidth": 2
          },
          "yaxis": {
           "automargin": true,
           "gridcolor": "white",
           "linecolor": "white",
           "ticks": "",
           "title": {
            "standoff": 15
           },
           "zerolinecolor": "white",
           "zerolinewidth": 2
          }
         }
        },
        "title": {
         "text": "Muertes por  Obesidad sgún nivel de renta",
         "x": 0.5,
         "xanchor": "center"
        },
        "xaxis": {
         "anchor": "y",
         "domain": [
          0,
          1
         ],
         "title": {
          "text": "Year"
         }
        },
        "yaxis": {
         "anchor": "x",
         "domain": [
          0,
          1
         ],
         "title": {
          "text": "Deaths - Cardiovascular diseases - Sex: Both - Age: All Ages (Number)"
         }
        }
       }
      }
     },
     "metadata": {},
     "output_type": "display_data"
    }
   ],
   "source": [
    "fig=px.line(\n",
    "    data_frame=df_income,\n",
    "    y=\"Deaths - Cardiovascular diseases - Sex: Both - Age: All Ages (Number)\",\n",
    "    x=\"Year\",\n",
    "    color=\"Entity\",\n",
    "    title= \"Muertes por Obesidad\"\n",
    "            \n",
    "    )\n",
    "fig.update_layout(\n",
    "    title={\n",
    "        'text': \"Muertes por  Obesidad sgún nivel de renta\",\n",
    "        'x': 0.5,\n",
    "        'xanchor':'center'\n",
    "\n",
    "    }\n",
    ")"
   ]
  },
  {
   "cell_type": "markdown",
   "metadata": {},
   "source": [
    "Analizar con los compañeros, ya que es complicado establecer una relación entre las defunciones por obesidad y el nivel de renta de los países."
   ]
  },
  {
   "cell_type": "code",
   "execution_count": 1,
   "metadata": {},
   "outputs": [
    {
     "ename": "NameError",
     "evalue": "name 'px' is not defined",
     "output_type": "error",
     "traceback": [
      "\u001b[1;31m---------------------------------------------------------------------------\u001b[0m",
      "\u001b[1;31mNameError\u001b[0m                                 Traceback (most recent call last)",
      "Cell \u001b[1;32mIn[1], line 1\u001b[0m\n\u001b[1;32m----> 1\u001b[0m fig\u001b[38;5;241m=\u001b[39mpx\u001b[38;5;241m.\u001b[39mline(\n\u001b[0;32m      2\u001b[0m     data_frame\u001b[38;5;241m=\u001b[39mdf_continent,\n\u001b[0;32m      3\u001b[0m     y\u001b[38;5;241m=\u001b[39m\u001b[38;5;124m\"\u001b[39m\u001b[38;5;124mDeaths - Cardiovascular diseases - Sex: Both - Age: All Ages (Number)\u001b[39m\u001b[38;5;124m\"\u001b[39m,\n\u001b[0;32m      4\u001b[0m     x\u001b[38;5;241m=\u001b[39m\u001b[38;5;124m\"\u001b[39m\u001b[38;5;124mYear\u001b[39m\u001b[38;5;124m\"\u001b[39m,\n\u001b[0;32m      5\u001b[0m     color\u001b[38;5;241m=\u001b[39m\u001b[38;5;124m\"\u001b[39m\u001b[38;5;124mEntity\u001b[39m\u001b[38;5;124m\"\u001b[39m,\n\u001b[0;32m      6\u001b[0m     title\u001b[38;5;241m=\u001b[39m \u001b[38;5;124m\"\u001b[39m\u001b[38;5;124mMuertes por Obesidad\u001b[39m\u001b[38;5;124m\"\u001b[39m\n\u001b[0;32m      7\u001b[0m             \n\u001b[0;32m      8\u001b[0m     )\n\u001b[0;32m      9\u001b[0m fig\u001b[38;5;241m.\u001b[39mupdate_layout(\n\u001b[0;32m     10\u001b[0m     title\u001b[38;5;241m=\u001b[39m{\n\u001b[0;32m     11\u001b[0m         \u001b[38;5;124m'\u001b[39m\u001b[38;5;124mtext\u001b[39m\u001b[38;5;124m'\u001b[39m: \u001b[38;5;124m\"\u001b[39m\u001b[38;5;124mMuertes por  Obesidad por regiones\u001b[39m\u001b[38;5;124m\"\u001b[39m,\n\u001b[1;32m   (...)\u001b[0m\n\u001b[0;32m     15\u001b[0m     }\n\u001b[0;32m     16\u001b[0m )\n",
      "\u001b[1;31mNameError\u001b[0m: name 'px' is not defined"
     ]
    }
   ],
   "source": [
    "fig=px.line(\n",
    "    data_frame=df_continent,\n",
    "    y=\"Deaths - Cardiovascular diseases - Sex: Both - Age: All Ages (Number)\",\n",
    "    x=\"Year\",\n",
    "    color=\"Entity\",\n",
    "    title= \"Muertes por Obesidad\"\n",
    "            \n",
    "    )\n",
    "fig.update_layout(\n",
    "    title={\n",
    "        'text': \"Muertes por  Obesidad por regiones\",\n",
    "        'x': 0.5,\n",
    "        'xanchor':'center'\n",
    "\n",
    "    }\n",
    ")"
   ]
  },
  {
   "cell_type": "markdown",
   "metadata": {},
   "source": [
    "Las regiones con mayor nivel de desarrollo lideran las defunciones por obesidad. Esto se explica por un desajute entre las calorías consumidas y gastadas (superávit calórico) sostenido en el tiempo."
   ]
  },
  {
   "cell_type": "code",
   "execution_count": 68,
   "metadata": {},
   "outputs": [
    {
     "data": {
      "text/html": [
       "<div>\n",
       "<style scoped>\n",
       "    .dataframe tbody tr th:only-of-type {\n",
       "        vertical-align: middle;\n",
       "    }\n",
       "\n",
       "    .dataframe tbody tr th {\n",
       "        vertical-align: top;\n",
       "    }\n",
       "\n",
       "    .dataframe thead th {\n",
       "        text-align: right;\n",
       "    }\n",
       "</style>\n",
       "<table border=\"1\" class=\"dataframe\">\n",
       "  <thead>\n",
       "    <tr style=\"text-align: right;\">\n",
       "      <th></th>\n",
       "      <th>Entity</th>\n",
       "      <th>Code</th>\n",
       "      <th>Year</th>\n",
       "      <th>Deaths - Meningitis - Sex: Both - Age: All Ages (Number)</th>\n",
       "      <th>Deaths - Alzheimer's disease and other dementias - Sex: Both - Age: All Ages (Number)</th>\n",
       "      <th>Deaths - Parkinson's disease - Sex: Both - Age: All Ages (Number)</th>\n",
       "      <th>Deaths - Nutritional deficiencies - Sex: Both - Age: All Ages (Number)</th>\n",
       "      <th>Deaths - Malaria - Sex: Both - Age: All Ages (Number)</th>\n",
       "      <th>Deaths - Drowning - Sex: Both - Age: All Ages (Number)</th>\n",
       "      <th>Deaths - Interpersonal violence - Sex: Both - Age: All Ages (Number)</th>\n",
       "      <th>...</th>\n",
       "      <th>Deaths - Diabetes mellitus - Sex: Both - Age: All Ages (Number)</th>\n",
       "      <th>Deaths - Chronic kidney disease - Sex: Both - Age: All Ages (Number)</th>\n",
       "      <th>Deaths - Poisonings - Sex: Both - Age: All Ages (Number)</th>\n",
       "      <th>Deaths - Protein-energy malnutrition - Sex: Both - Age: All Ages (Number)</th>\n",
       "      <th>Deaths - Road injuries - Sex: Both - Age: All Ages (Number)</th>\n",
       "      <th>Deaths - Chronic respiratory diseases - Sex: Both - Age: All Ages (Number)</th>\n",
       "      <th>Deaths - Cirrhosis and other chronic liver diseases - Sex: Both - Age: All Ages (Number)</th>\n",
       "      <th>Deaths - Digestive diseases - Sex: Both - Age: All Ages (Number)</th>\n",
       "      <th>Deaths - Fire, heat, and hot substances - Sex: Both - Age: All Ages (Number)</th>\n",
       "      <th>Deaths - Acute hepatitis - Sex: Both - Age: All Ages (Number)</th>\n",
       "    </tr>\n",
       "  </thead>\n",
       "  <tbody>\n",
       "    <tr>\n",
       "      <th>1169</th>\n",
       "      <td>China</td>\n",
       "      <td>CHN</td>\n",
       "      <td>2019</td>\n",
       "      <td>6465</td>\n",
       "      <td>320715</td>\n",
       "      <td>76990</td>\n",
       "      <td>16863</td>\n",
       "      <td>0</td>\n",
       "      <td>56524</td>\n",
       "      <td>11970</td>\n",
       "      <td>...</td>\n",
       "      <td>172892</td>\n",
       "      <td>196726</td>\n",
       "      <td>27084</td>\n",
       "      <td>13099</td>\n",
       "      <td>250025</td>\n",
       "      <td>1085273</td>\n",
       "      <td>152262</td>\n",
       "      <td>277142</td>\n",
       "      <td>11096</td>\n",
       "      <td>3726</td>\n",
       "    </tr>\n",
       "    <tr>\n",
       "      <th>1168</th>\n",
       "      <td>China</td>\n",
       "      <td>CHN</td>\n",
       "      <td>2018</td>\n",
       "      <td>6798</td>\n",
       "      <td>306747</td>\n",
       "      <td>73789</td>\n",
       "      <td>16630</td>\n",
       "      <td>0</td>\n",
       "      <td>57898</td>\n",
       "      <td>12197</td>\n",
       "      <td>...</td>\n",
       "      <td>166694</td>\n",
       "      <td>191351</td>\n",
       "      <td>27623</td>\n",
       "      <td>12907</td>\n",
       "      <td>253799</td>\n",
       "      <td>1054610</td>\n",
       "      <td>149792</td>\n",
       "      <td>273223</td>\n",
       "      <td>10914</td>\n",
       "      <td>3843</td>\n",
       "    </tr>\n",
       "    <tr>\n",
       "      <th>1167</th>\n",
       "      <td>China</td>\n",
       "      <td>CHN</td>\n",
       "      <td>2017</td>\n",
       "      <td>7228</td>\n",
       "      <td>291962</td>\n",
       "      <td>71490</td>\n",
       "      <td>16572</td>\n",
       "      <td>0</td>\n",
       "      <td>59354</td>\n",
       "      <td>12523</td>\n",
       "      <td>...</td>\n",
       "      <td>161250</td>\n",
       "      <td>187685</td>\n",
       "      <td>28345</td>\n",
       "      <td>12850</td>\n",
       "      <td>257068</td>\n",
       "      <td>1040384</td>\n",
       "      <td>149472</td>\n",
       "      <td>273724</td>\n",
       "      <td>10829</td>\n",
       "      <td>4080</td>\n",
       "    </tr>\n",
       "  </tbody>\n",
       "</table>\n",
       "<p>3 rows × 34 columns</p>\n",
       "</div>"
      ],
      "text/plain": [
       "     Entity Code  Year  \\\n",
       "1169  China  CHN  2019   \n",
       "1168  China  CHN  2018   \n",
       "1167  China  CHN  2017   \n",
       "\n",
       "      Deaths - Meningitis - Sex: Both - Age: All Ages (Number)  \\\n",
       "1169                                               6465          \n",
       "1168                                               6798          \n",
       "1167                                               7228          \n",
       "\n",
       "      Deaths - Alzheimer's disease and other dementias - Sex: Both - Age: All Ages (Number)  \\\n",
       "1169                                             320715                                       \n",
       "1168                                             306747                                       \n",
       "1167                                             291962                                       \n",
       "\n",
       "      Deaths - Parkinson's disease - Sex: Both - Age: All Ages (Number)  \\\n",
       "1169                                              76990                   \n",
       "1168                                              73789                   \n",
       "1167                                              71490                   \n",
       "\n",
       "      Deaths - Nutritional deficiencies - Sex: Both - Age: All Ages (Number)  \\\n",
       "1169                                              16863                        \n",
       "1168                                              16630                        \n",
       "1167                                              16572                        \n",
       "\n",
       "      Deaths - Malaria - Sex: Both - Age: All Ages (Number)  \\\n",
       "1169                                                  0       \n",
       "1168                                                  0       \n",
       "1167                                                  0       \n",
       "\n",
       "      Deaths - Drowning - Sex: Both - Age: All Ages (Number)  \\\n",
       "1169                                              56524        \n",
       "1168                                              57898        \n",
       "1167                                              59354        \n",
       "\n",
       "      Deaths - Interpersonal violence - Sex: Both - Age: All Ages (Number)  \\\n",
       "1169                                              11970                      \n",
       "1168                                              12197                      \n",
       "1167                                              12523                      \n",
       "\n",
       "      ...  Deaths - Diabetes mellitus - Sex: Both - Age: All Ages (Number)  \\\n",
       "1169  ...                                             172892                 \n",
       "1168  ...                                             166694                 \n",
       "1167  ...                                             161250                 \n",
       "\n",
       "      Deaths - Chronic kidney disease - Sex: Both - Age: All Ages (Number)  \\\n",
       "1169                                             196726                      \n",
       "1168                                             191351                      \n",
       "1167                                             187685                      \n",
       "\n",
       "      Deaths - Poisonings - Sex: Both - Age: All Ages (Number)  \\\n",
       "1169                                              27084          \n",
       "1168                                              27623          \n",
       "1167                                              28345          \n",
       "\n",
       "      Deaths - Protein-energy malnutrition - Sex: Both - Age: All Ages (Number)  \\\n",
       "1169                                              13099                           \n",
       "1168                                              12907                           \n",
       "1167                                              12850                           \n",
       "\n",
       "      Deaths - Road injuries - Sex: Both - Age: All Ages (Number)  \\\n",
       "1169                                             250025             \n",
       "1168                                             253799             \n",
       "1167                                             257068             \n",
       "\n",
       "      Deaths - Chronic respiratory diseases - Sex: Both - Age: All Ages (Number)  \\\n",
       "1169                                            1085273                            \n",
       "1168                                            1054610                            \n",
       "1167                                            1040384                            \n",
       "\n",
       "      Deaths - Cirrhosis and other chronic liver diseases - Sex: Both - Age: All Ages (Number)  \\\n",
       "1169                                             152262                                          \n",
       "1168                                             149792                                          \n",
       "1167                                             149472                                          \n",
       "\n",
       "      Deaths - Digestive diseases - Sex: Both - Age: All Ages (Number)  \\\n",
       "1169                                             277142                  \n",
       "1168                                             273223                  \n",
       "1167                                             273724                  \n",
       "\n",
       "      Deaths - Fire, heat, and hot substances - Sex: Both - Age: All Ages (Number)  \\\n",
       "1169                                              11096                              \n",
       "1168                                              10914                              \n",
       "1167                                              10829                              \n",
       "\n",
       "      Deaths - Acute hepatitis - Sex: Both - Age: All Ages (Number)  \n",
       "1169                                               3726              \n",
       "1168                                               3843              \n",
       "1167                                               4080              \n",
       "\n",
       "[3 rows x 34 columns]"
      ]
     },
     "execution_count": 68,
     "metadata": {},
     "output_type": "execute_result"
    }
   ],
   "source": [
    "# El país que lidera las muertes por obesidad es \n",
    "df.sort_values(by=\"Deaths - Cardiovascular diseases - Sex: Both - Age: All Ages (Number)\", ascending=False).head(3)"
   ]
  },
  {
   "cell_type": "markdown",
   "metadata": {},
   "source": [
    "## Muertes por violencia interpersonal"
   ]
  },
  {
   "cell_type": "code",
   "execution_count": 42,
   "metadata": {},
   "outputs": [
    {
     "data": {
      "application/vnd.plotly.v1+json": {
       "config": {
        "plotlyServerURL": "https://plot.ly"
       },
       "data": [
        {
         "hovertemplate": "Entity=World Bank High Income<br>Year=%{x}<br>Deaths - Interpersonal violence - Sex: Both - Age: All Ages (Number)=%{y}<extra></extra>",
         "legendgroup": "World Bank High Income",
         "line": {
          "color": "#636efa",
          "dash": "solid"
         },
         "marker": {
          "symbol": "circle"
         },
         "mode": "lines",
         "name": "World Bank High Income",
         "orientation": "v",
         "showlegend": true,
         "type": "scatter",
         "x": [
          1990,
          1991,
          1992,
          1993,
          1994,
          1995,
          1996,
          1997,
          1998,
          1999,
          2000,
          2001,
          2002,
          2003,
          2004,
          2005,
          2006,
          2007,
          2008,
          2009,
          2010,
          2011,
          2012,
          2013,
          2014,
          2015,
          2016,
          2017,
          2018,
          2019
         ],
         "xaxis": "x",
         "y": [
          41172,
          42170,
          41688,
          42184,
          41782,
          39937,
          37528,
          35861,
          34715,
          33633,
          33068,
          33465,
          33642,
          33313,
          33054,
          33411,
          33668,
          32769,
          32162,
          31137,
          30087,
          29817,
          29799,
          28570,
          28187,
          29496,
          30363,
          29923,
          29235,
          28841
         ],
         "yaxis": "y"
        },
        {
         "hovertemplate": "Entity=World Bank Low Income<br>Year=%{x}<br>Deaths - Interpersonal violence - Sex: Both - Age: All Ages (Number)=%{y}<extra></extra>",
         "legendgroup": "World Bank Low Income",
         "line": {
          "color": "#EF553B",
          "dash": "solid"
         },
         "marker": {
          "symbol": "circle"
         },
         "mode": "lines",
         "name": "World Bank Low Income",
         "orientation": "v",
         "showlegend": true,
         "type": "scatter",
         "x": [
          1990,
          1991,
          1992,
          1993,
          1994,
          1995,
          1996,
          1997,
          1998,
          1999,
          2000,
          2001,
          2002,
          2003,
          2004,
          2005,
          2006,
          2007,
          2008,
          2009,
          2010,
          2011,
          2012,
          2013,
          2014,
          2015,
          2016,
          2017,
          2018,
          2019
         ],
         "xaxis": "x",
         "y": [
          21065,
          22476,
          27175,
          27492,
          25651,
          27354,
          29116,
          27499,
          29150,
          30682,
          30932,
          30461,
          34444,
          33197,
          32530,
          32865,
          34432,
          34360,
          35229,
          36435,
          36892,
          38195,
          39136,
          39625,
          41283,
          42091,
          44044,
          46384,
          48039,
          45880
         ],
         "yaxis": "y"
        },
        {
         "hovertemplate": "Entity=World Bank Lower Middle Income<br>Year=%{x}<br>Deaths - Interpersonal violence - Sex: Both - Age: All Ages (Number)=%{y}<extra></extra>",
         "legendgroup": "World Bank Lower Middle Income",
         "line": {
          "color": "#00cc96",
          "dash": "solid"
         },
         "marker": {
          "symbol": "circle"
         },
         "mode": "lines",
         "name": "World Bank Lower Middle Income",
         "orientation": "v",
         "showlegend": true,
         "type": "scatter",
         "x": [
          1990,
          1991,
          1992,
          1993,
          1994,
          1995,
          1996,
          1997,
          1998,
          1999,
          2000,
          2001,
          2002,
          2003,
          2004,
          2005,
          2006,
          2007,
          2008,
          2009,
          2010,
          2011,
          2012,
          2013,
          2014,
          2015,
          2016,
          2017,
          2018,
          2019
         ],
         "xaxis": "x",
         "y": [
          102238,
          104704,
          110304,
          116333,
          116029,
          118249,
          118378,
          120665,
          121877,
          124470,
          127230,
          126238,
          125557,
          124221,
          127394,
          129594,
          129566,
          130616,
          131868,
          132081,
          129876,
          129215,
          132412,
          133637,
          132996,
          135522,
          128482,
          129504,
          131765,
          131413
         ],
         "yaxis": "y"
        },
        {
         "hovertemplate": "Entity=World Bank Upper Middle Income<br>Year=%{x}<br>Deaths - Interpersonal violence - Sex: Both - Age: All Ages (Number)=%{y}<extra></extra>",
         "legendgroup": "World Bank Upper Middle Income",
         "line": {
          "color": "#ab63fa",
          "dash": "solid"
         },
         "marker": {
          "symbol": "circle"
         },
         "mode": "lines",
         "name": "World Bank Upper Middle Income",
         "orientation": "v",
         "showlegend": true,
         "type": "scatter",
         "x": [
          1990,
          1991,
          1992,
          1993,
          1994,
          1995,
          1996,
          1997,
          1998,
          1999,
          2000,
          2001,
          2002,
          2003,
          2004,
          2005,
          2006,
          2007,
          2008,
          2009,
          2010,
          2011,
          2012,
          2013,
          2014,
          2015,
          2016,
          2017,
          2018,
          2019
         ],
         "xaxis": "x",
         "y": [
          208394,
          214715,
          228391,
          247252,
          258930,
          259137,
          248081,
          243726,
          246693,
          252305,
          259623,
          261520,
          269173,
          256463,
          248364,
          240579,
          230212,
          222791,
          224066,
          223623,
          221133,
          217228,
          216976,
          214398,
          211566,
          209860,
          210260,
          211988,
          210843,
          208626
         ],
         "yaxis": "y"
        }
       ],
       "layout": {
        "legend": {
         "title": {
          "text": "Entity"
         },
         "tracegroupgap": 0
        },
        "template": {
         "data": {
          "bar": [
           {
            "error_x": {
             "color": "#2a3f5f"
            },
            "error_y": {
             "color": "#2a3f5f"
            },
            "marker": {
             "line": {
              "color": "#E5ECF6",
              "width": 0.5
             },
             "pattern": {
              "fillmode": "overlay",
              "size": 10,
              "solidity": 0.2
             }
            },
            "type": "bar"
           }
          ],
          "barpolar": [
           {
            "marker": {
             "line": {
              "color": "#E5ECF6",
              "width": 0.5
             },
             "pattern": {
              "fillmode": "overlay",
              "size": 10,
              "solidity": 0.2
             }
            },
            "type": "barpolar"
           }
          ],
          "carpet": [
           {
            "aaxis": {
             "endlinecolor": "#2a3f5f",
             "gridcolor": "white",
             "linecolor": "white",
             "minorgridcolor": "white",
             "startlinecolor": "#2a3f5f"
            },
            "baxis": {
             "endlinecolor": "#2a3f5f",
             "gridcolor": "white",
             "linecolor": "white",
             "minorgridcolor": "white",
             "startlinecolor": "#2a3f5f"
            },
            "type": "carpet"
           }
          ],
          "choropleth": [
           {
            "colorbar": {
             "outlinewidth": 0,
             "ticks": ""
            },
            "type": "choropleth"
           }
          ],
          "contour": [
           {
            "colorbar": {
             "outlinewidth": 0,
             "ticks": ""
            },
            "colorscale": [
             [
              0,
              "#0d0887"
             ],
             [
              0.1111111111111111,
              "#46039f"
             ],
             [
              0.2222222222222222,
              "#7201a8"
             ],
             [
              0.3333333333333333,
              "#9c179e"
             ],
             [
              0.4444444444444444,
              "#bd3786"
             ],
             [
              0.5555555555555556,
              "#d8576b"
             ],
             [
              0.6666666666666666,
              "#ed7953"
             ],
             [
              0.7777777777777778,
              "#fb9f3a"
             ],
             [
              0.8888888888888888,
              "#fdca26"
             ],
             [
              1,
              "#f0f921"
             ]
            ],
            "type": "contour"
           }
          ],
          "contourcarpet": [
           {
            "colorbar": {
             "outlinewidth": 0,
             "ticks": ""
            },
            "type": "contourcarpet"
           }
          ],
          "heatmap": [
           {
            "colorbar": {
             "outlinewidth": 0,
             "ticks": ""
            },
            "colorscale": [
             [
              0,
              "#0d0887"
             ],
             [
              0.1111111111111111,
              "#46039f"
             ],
             [
              0.2222222222222222,
              "#7201a8"
             ],
             [
              0.3333333333333333,
              "#9c179e"
             ],
             [
              0.4444444444444444,
              "#bd3786"
             ],
             [
              0.5555555555555556,
              "#d8576b"
             ],
             [
              0.6666666666666666,
              "#ed7953"
             ],
             [
              0.7777777777777778,
              "#fb9f3a"
             ],
             [
              0.8888888888888888,
              "#fdca26"
             ],
             [
              1,
              "#f0f921"
             ]
            ],
            "type": "heatmap"
           }
          ],
          "heatmapgl": [
           {
            "colorbar": {
             "outlinewidth": 0,
             "ticks": ""
            },
            "colorscale": [
             [
              0,
              "#0d0887"
             ],
             [
              0.1111111111111111,
              "#46039f"
             ],
             [
              0.2222222222222222,
              "#7201a8"
             ],
             [
              0.3333333333333333,
              "#9c179e"
             ],
             [
              0.4444444444444444,
              "#bd3786"
             ],
             [
              0.5555555555555556,
              "#d8576b"
             ],
             [
              0.6666666666666666,
              "#ed7953"
             ],
             [
              0.7777777777777778,
              "#fb9f3a"
             ],
             [
              0.8888888888888888,
              "#fdca26"
             ],
             [
              1,
              "#f0f921"
             ]
            ],
            "type": "heatmapgl"
           }
          ],
          "histogram": [
           {
            "marker": {
             "pattern": {
              "fillmode": "overlay",
              "size": 10,
              "solidity": 0.2
             }
            },
            "type": "histogram"
           }
          ],
          "histogram2d": [
           {
            "colorbar": {
             "outlinewidth": 0,
             "ticks": ""
            },
            "colorscale": [
             [
              0,
              "#0d0887"
             ],
             [
              0.1111111111111111,
              "#46039f"
             ],
             [
              0.2222222222222222,
              "#7201a8"
             ],
             [
              0.3333333333333333,
              "#9c179e"
             ],
             [
              0.4444444444444444,
              "#bd3786"
             ],
             [
              0.5555555555555556,
              "#d8576b"
             ],
             [
              0.6666666666666666,
              "#ed7953"
             ],
             [
              0.7777777777777778,
              "#fb9f3a"
             ],
             [
              0.8888888888888888,
              "#fdca26"
             ],
             [
              1,
              "#f0f921"
             ]
            ],
            "type": "histogram2d"
           }
          ],
          "histogram2dcontour": [
           {
            "colorbar": {
             "outlinewidth": 0,
             "ticks": ""
            },
            "colorscale": [
             [
              0,
              "#0d0887"
             ],
             [
              0.1111111111111111,
              "#46039f"
             ],
             [
              0.2222222222222222,
              "#7201a8"
             ],
             [
              0.3333333333333333,
              "#9c179e"
             ],
             [
              0.4444444444444444,
              "#bd3786"
             ],
             [
              0.5555555555555556,
              "#d8576b"
             ],
             [
              0.6666666666666666,
              "#ed7953"
             ],
             [
              0.7777777777777778,
              "#fb9f3a"
             ],
             [
              0.8888888888888888,
              "#fdca26"
             ],
             [
              1,
              "#f0f921"
             ]
            ],
            "type": "histogram2dcontour"
           }
          ],
          "mesh3d": [
           {
            "colorbar": {
             "outlinewidth": 0,
             "ticks": ""
            },
            "type": "mesh3d"
           }
          ],
          "parcoords": [
           {
            "line": {
             "colorbar": {
              "outlinewidth": 0,
              "ticks": ""
             }
            },
            "type": "parcoords"
           }
          ],
          "pie": [
           {
            "automargin": true,
            "type": "pie"
           }
          ],
          "scatter": [
           {
            "fillpattern": {
             "fillmode": "overlay",
             "size": 10,
             "solidity": 0.2
            },
            "type": "scatter"
           }
          ],
          "scatter3d": [
           {
            "line": {
             "colorbar": {
              "outlinewidth": 0,
              "ticks": ""
             }
            },
            "marker": {
             "colorbar": {
              "outlinewidth": 0,
              "ticks": ""
             }
            },
            "type": "scatter3d"
           }
          ],
          "scattercarpet": [
           {
            "marker": {
             "colorbar": {
              "outlinewidth": 0,
              "ticks": ""
             }
            },
            "type": "scattercarpet"
           }
          ],
          "scattergeo": [
           {
            "marker": {
             "colorbar": {
              "outlinewidth": 0,
              "ticks": ""
             }
            },
            "type": "scattergeo"
           }
          ],
          "scattergl": [
           {
            "marker": {
             "colorbar": {
              "outlinewidth": 0,
              "ticks": ""
             }
            },
            "type": "scattergl"
           }
          ],
          "scattermapbox": [
           {
            "marker": {
             "colorbar": {
              "outlinewidth": 0,
              "ticks": ""
             }
            },
            "type": "scattermapbox"
           }
          ],
          "scatterpolar": [
           {
            "marker": {
             "colorbar": {
              "outlinewidth": 0,
              "ticks": ""
             }
            },
            "type": "scatterpolar"
           }
          ],
          "scatterpolargl": [
           {
            "marker": {
             "colorbar": {
              "outlinewidth": 0,
              "ticks": ""
             }
            },
            "type": "scatterpolargl"
           }
          ],
          "scatterternary": [
           {
            "marker": {
             "colorbar": {
              "outlinewidth": 0,
              "ticks": ""
             }
            },
            "type": "scatterternary"
           }
          ],
          "surface": [
           {
            "colorbar": {
             "outlinewidth": 0,
             "ticks": ""
            },
            "colorscale": [
             [
              0,
              "#0d0887"
             ],
             [
              0.1111111111111111,
              "#46039f"
             ],
             [
              0.2222222222222222,
              "#7201a8"
             ],
             [
              0.3333333333333333,
              "#9c179e"
             ],
             [
              0.4444444444444444,
              "#bd3786"
             ],
             [
              0.5555555555555556,
              "#d8576b"
             ],
             [
              0.6666666666666666,
              "#ed7953"
             ],
             [
              0.7777777777777778,
              "#fb9f3a"
             ],
             [
              0.8888888888888888,
              "#fdca26"
             ],
             [
              1,
              "#f0f921"
             ]
            ],
            "type": "surface"
           }
          ],
          "table": [
           {
            "cells": {
             "fill": {
              "color": "#EBF0F8"
             },
             "line": {
              "color": "white"
             }
            },
            "header": {
             "fill": {
              "color": "#C8D4E3"
             },
             "line": {
              "color": "white"
             }
            },
            "type": "table"
           }
          ]
         },
         "layout": {
          "annotationdefaults": {
           "arrowcolor": "#2a3f5f",
           "arrowhead": 0,
           "arrowwidth": 1
          },
          "autotypenumbers": "strict",
          "coloraxis": {
           "colorbar": {
            "outlinewidth": 0,
            "ticks": ""
           }
          },
          "colorscale": {
           "diverging": [
            [
             0,
             "#8e0152"
            ],
            [
             0.1,
             "#c51b7d"
            ],
            [
             0.2,
             "#de77ae"
            ],
            [
             0.3,
             "#f1b6da"
            ],
            [
             0.4,
             "#fde0ef"
            ],
            [
             0.5,
             "#f7f7f7"
            ],
            [
             0.6,
             "#e6f5d0"
            ],
            [
             0.7,
             "#b8e186"
            ],
            [
             0.8,
             "#7fbc41"
            ],
            [
             0.9,
             "#4d9221"
            ],
            [
             1,
             "#276419"
            ]
           ],
           "sequential": [
            [
             0,
             "#0d0887"
            ],
            [
             0.1111111111111111,
             "#46039f"
            ],
            [
             0.2222222222222222,
             "#7201a8"
            ],
            [
             0.3333333333333333,
             "#9c179e"
            ],
            [
             0.4444444444444444,
             "#bd3786"
            ],
            [
             0.5555555555555556,
             "#d8576b"
            ],
            [
             0.6666666666666666,
             "#ed7953"
            ],
            [
             0.7777777777777778,
             "#fb9f3a"
            ],
            [
             0.8888888888888888,
             "#fdca26"
            ],
            [
             1,
             "#f0f921"
            ]
           ],
           "sequentialminus": [
            [
             0,
             "#0d0887"
            ],
            [
             0.1111111111111111,
             "#46039f"
            ],
            [
             0.2222222222222222,
             "#7201a8"
            ],
            [
             0.3333333333333333,
             "#9c179e"
            ],
            [
             0.4444444444444444,
             "#bd3786"
            ],
            [
             0.5555555555555556,
             "#d8576b"
            ],
            [
             0.6666666666666666,
             "#ed7953"
            ],
            [
             0.7777777777777778,
             "#fb9f3a"
            ],
            [
             0.8888888888888888,
             "#fdca26"
            ],
            [
             1,
             "#f0f921"
            ]
           ]
          },
          "colorway": [
           "#636efa",
           "#EF553B",
           "#00cc96",
           "#ab63fa",
           "#FFA15A",
           "#19d3f3",
           "#FF6692",
           "#B6E880",
           "#FF97FF",
           "#FECB52"
          ],
          "font": {
           "color": "#2a3f5f"
          },
          "geo": {
           "bgcolor": "white",
           "lakecolor": "white",
           "landcolor": "#E5ECF6",
           "showlakes": true,
           "showland": true,
           "subunitcolor": "white"
          },
          "hoverlabel": {
           "align": "left"
          },
          "hovermode": "closest",
          "mapbox": {
           "style": "light"
          },
          "paper_bgcolor": "white",
          "plot_bgcolor": "#E5ECF6",
          "polar": {
           "angularaxis": {
            "gridcolor": "white",
            "linecolor": "white",
            "ticks": ""
           },
           "bgcolor": "#E5ECF6",
           "radialaxis": {
            "gridcolor": "white",
            "linecolor": "white",
            "ticks": ""
           }
          },
          "scene": {
           "xaxis": {
            "backgroundcolor": "#E5ECF6",
            "gridcolor": "white",
            "gridwidth": 2,
            "linecolor": "white",
            "showbackground": true,
            "ticks": "",
            "zerolinecolor": "white"
           },
           "yaxis": {
            "backgroundcolor": "#E5ECF6",
            "gridcolor": "white",
            "gridwidth": 2,
            "linecolor": "white",
            "showbackground": true,
            "ticks": "",
            "zerolinecolor": "white"
           },
           "zaxis": {
            "backgroundcolor": "#E5ECF6",
            "gridcolor": "white",
            "gridwidth": 2,
            "linecolor": "white",
            "showbackground": true,
            "ticks": "",
            "zerolinecolor": "white"
           }
          },
          "shapedefaults": {
           "line": {
            "color": "#2a3f5f"
           }
          },
          "ternary": {
           "aaxis": {
            "gridcolor": "white",
            "linecolor": "white",
            "ticks": ""
           },
           "baxis": {
            "gridcolor": "white",
            "linecolor": "white",
            "ticks": ""
           },
           "bgcolor": "#E5ECF6",
           "caxis": {
            "gridcolor": "white",
            "linecolor": "white",
            "ticks": ""
           }
          },
          "title": {
           "x": 0.05
          },
          "xaxis": {
           "automargin": true,
           "gridcolor": "white",
           "linecolor": "white",
           "ticks": "",
           "title": {
            "standoff": 15
           },
           "zerolinecolor": "white",
           "zerolinewidth": 2
          },
          "yaxis": {
           "automargin": true,
           "gridcolor": "white",
           "linecolor": "white",
           "ticks": "",
           "title": {
            "standoff": 15
           },
           "zerolinecolor": "white",
           "zerolinewidth": 2
          }
         }
        },
        "title": {
         "text": "Muertes por  violencia interpersonal según nivel de renta",
         "x": 0.5,
         "xanchor": "center"
        },
        "xaxis": {
         "anchor": "y",
         "domain": [
          0,
          1
         ],
         "title": {
          "text": "Year"
         }
        },
        "yaxis": {
         "anchor": "x",
         "domain": [
          0,
          1
         ],
         "title": {
          "text": "Deaths - Interpersonal violence - Sex: Both - Age: All Ages (Number)"
         }
        }
       }
      }
     },
     "metadata": {},
     "output_type": "display_data"
    }
   ],
   "source": [
    "fig=px.line(\n",
    "    data_frame=df_income,\n",
    "    y=\"Deaths - Interpersonal violence - Sex: Both - Age: All Ages (Number)\",\n",
    "    x=\"Year\",\n",
    "    color=\"Entity\",\n",
    "    title= \"Muertes por violencia interpersonal\"\n",
    "            \n",
    "    )\n",
    "fig.update_layout(\n",
    "    title={\n",
    "        'text': \"Muertes por  violencia interpersonal según nivel de renta\",\n",
    "        'x': 0.5,\n",
    "        'xanchor':'center'\n",
    "\n",
    "    }\n",
    ")"
   ]
  },
  {
   "cell_type": "markdown",
   "metadata": {},
   "source": [
    "Es curioso ya que hay un mayor número de asesinatos en países de renta media alta. Esto se explica porque pese a tener un mayor nivel de renta, hay un mayor nivel de desigualdad en las regiones y, por consiguiente, delincuencia."
   ]
  },
  {
   "cell_type": "code",
   "execution_count": 43,
   "metadata": {},
   "outputs": [
    {
     "data": {
      "application/vnd.plotly.v1+json": {
       "config": {
        "plotlyServerURL": "https://plot.ly"
       },
       "data": [
        {
         "hovertemplate": "Entity=African Region (WHO)<br>Year=%{x}<br>Deaths - Interpersonal violence - Sex: Both - Age: All Ages (Number)=%{y}<extra></extra>",
         "legendgroup": "African Region (WHO)",
         "line": {
          "color": "#636efa",
          "dash": "solid"
         },
         "marker": {
          "symbol": "circle"
         },
         "mode": "lines",
         "name": "African Region (WHO)",
         "orientation": "v",
         "showlegend": true,
         "type": "scatter",
         "x": [
          1990,
          1991,
          1992,
          1993,
          1994,
          1995,
          1996,
          1997,
          1998,
          1999,
          2000,
          2001,
          2002,
          2003,
          2004,
          2005,
          2006,
          2007,
          2008,
          2009,
          2010,
          2011,
          2012,
          2013,
          2014,
          2015,
          2016,
          2017,
          2018,
          2019
         ],
         "xaxis": "x",
         "y": [
          50714,
          52671,
          56013,
          59415,
          58643,
          59011,
          60209,
          61570,
          64521,
          66899,
          69723,
          69003,
          71584,
          70893,
          71582,
          70507,
          71134,
          70464,
          70859,
          70542,
          71445,
          72653,
          72562,
          73762,
          76260,
          75765,
          77100,
          79592,
          82156,
          79735
         ],
         "yaxis": "y"
        },
        {
         "hovertemplate": "Entity=Eastern Mediterranean Region (WHO)<br>Year=%{x}<br>Deaths - Interpersonal violence - Sex: Both - Age: All Ages (Number)=%{y}<extra></extra>",
         "legendgroup": "Eastern Mediterranean Region (WHO)",
         "line": {
          "color": "#EF553B",
          "dash": "solid"
         },
         "marker": {
          "symbol": "circle"
         },
         "mode": "lines",
         "name": "Eastern Mediterranean Region (WHO)",
         "orientation": "v",
         "showlegend": true,
         "type": "scatter",
         "x": [
          1990,
          1991,
          1992,
          1993,
          1994,
          1995,
          1996,
          1997,
          1998,
          1999,
          2000,
          2001,
          2002,
          2003,
          2004,
          2005,
          2006,
          2007,
          2008,
          2009,
          2010,
          2011,
          2012,
          2013,
          2014,
          2015,
          2016,
          2017,
          2018,
          2019
         ],
         "xaxis": "x",
         "y": [
          15488,
          15798,
          20419,
          20929,
          18462,
          18894,
          19614,
          20120,
          20466,
          21250,
          21374,
          21688,
          23185,
          24054,
          25424,
          25769,
          26933,
          28412,
          29397,
          32380,
          31776,
          31976,
          32262,
          33620,
          33065,
          33836,
          33507,
          33617,
          33644,
          32173
         ],
         "yaxis": "y"
        },
        {
         "hovertemplate": "Entity=European Region (WHO)<br>Year=%{x}<br>Deaths - Interpersonal violence - Sex: Both - Age: All Ages (Number)=%{y}<extra></extra>",
         "legendgroup": "European Region (WHO)",
         "line": {
          "color": "#00cc96",
          "dash": "solid"
         },
         "marker": {
          "symbol": "circle"
         },
         "mode": "lines",
         "name": "European Region (WHO)",
         "orientation": "v",
         "showlegend": true,
         "type": "scatter",
         "x": [
          1990,
          1991,
          1992,
          1993,
          1994,
          1995,
          1996,
          1997,
          1998,
          1999,
          2000,
          2001,
          2002,
          2003,
          2004,
          2005,
          2006,
          2007,
          2008,
          2009,
          2010,
          2011,
          2012,
          2013,
          2014,
          2015,
          2016,
          2017,
          2018,
          2019
         ],
         "xaxis": "x",
         "y": [
          53994,
          58298,
          72486,
          88384,
          97787,
          96317,
          85605,
          78652,
          76275,
          81933,
          84195,
          83984,
          84244,
          81442,
          79051,
          77004,
          66778,
          62603,
          59904,
          53364,
          50866,
          47393,
          44925,
          42940,
          42902,
          42080,
          39678,
          38007,
          39731,
          40213
         ],
         "yaxis": "y"
        },
        {
         "hovertemplate": "Entity=Region of the Americas (WHO)<br>Year=%{x}<br>Deaths - Interpersonal violence - Sex: Both - Age: All Ages (Number)=%{y}<extra></extra>",
         "legendgroup": "Region of the Americas (WHO)",
         "line": {
          "color": "#ab63fa",
          "dash": "solid"
         },
         "marker": {
          "symbol": "circle"
         },
         "mode": "lines",
         "name": "Region of the Americas (WHO)",
         "orientation": "v",
         "showlegend": true,
         "type": "scatter",
         "x": [
          1990,
          1991,
          1992,
          1993,
          1994,
          1995,
          1996,
          1997,
          1998,
          1999,
          2000,
          2001,
          2002,
          2003,
          2004,
          2005,
          2006,
          2007,
          2008,
          2009,
          2010,
          2011,
          2012,
          2013,
          2014,
          2015,
          2016,
          2017,
          2018,
          2019
         ],
         "xaxis": "x",
         "y": [
          133089,
          138761,
          139478,
          144408,
          146047,
          147123,
          146189,
          146173,
          149417,
          149258,
          155570,
          159426,
          167862,
          157180,
          152980,
          152075,
          154148,
          152799,
          158857,
          165580,
          165182,
          165798,
          175904,
          174873,
          173833,
          177003,
          174262,
          178158,
          175534,
          173466
         ],
         "yaxis": "y"
        },
        {
         "hovertemplate": "Entity=South-East Asia Region (WHO)<br>Year=%{x}<br>Deaths - Interpersonal violence - Sex: Both - Age: All Ages (Number)=%{y}<extra></extra>",
         "legendgroup": "South-East Asia Region (WHO)",
         "line": {
          "color": "#FFA15A",
          "dash": "solid"
         },
         "marker": {
          "symbol": "circle"
         },
         "mode": "lines",
         "name": "South-East Asia Region (WHO)",
         "orientation": "v",
         "showlegend": true,
         "type": "scatter",
         "x": [
          1990,
          1991,
          1992,
          1993,
          1994,
          1995,
          1996,
          1997,
          1998,
          1999,
          2000,
          2001,
          2002,
          2003,
          2004,
          2005,
          2006,
          2007,
          2008,
          2009,
          2010,
          2011,
          2012,
          2013,
          2014,
          2015,
          2016,
          2017,
          2018,
          2019
         ],
         "xaxis": "x",
         "y": [
          57896,
          57534,
          58572,
          59588,
          59913,
          61784,
          61112,
          61758,
          62535,
          63705,
          63700,
          63097,
          62995,
          61052,
          60214,
          60424,
          60049,
          59526,
          59309,
          57481,
          56769,
          56328,
          53700,
          53428,
          51611,
          52331,
          52683,
          52804,
          53649,
          54092
         ],
         "yaxis": "y"
        },
        {
         "hovertemplate": "Entity=Western Pacific Region (WHO)<br>Year=%{x}<br>Deaths - Interpersonal violence - Sex: Both - Age: All Ages (Number)=%{y}<extra></extra>",
         "legendgroup": "Western Pacific Region (WHO)",
         "line": {
          "color": "#19d3f3",
          "dash": "solid"
         },
         "marker": {
          "symbol": "circle"
         },
         "mode": "lines",
         "name": "Western Pacific Region (WHO)",
         "orientation": "v",
         "showlegend": true,
         "type": "scatter",
         "x": [
          1990,
          1991,
          1992,
          1993,
          1994,
          1995,
          1996,
          1997,
          1998,
          1999,
          2000,
          2001,
          2002,
          2003,
          2004,
          2005,
          2006,
          2007,
          2008,
          2009,
          2010,
          2011,
          2012,
          2013,
          2014,
          2015,
          2016,
          2017,
          2018,
          2019
         ],
         "xaxis": "x",
         "y": [
          60738,
          59937,
          59450,
          59300,
          60341,
          60326,
          59204,
          58372,
          58154,
          57112,
          55328,
          53454,
          51933,
          51562,
          51077,
          49616,
          47779,
          45656,
          43856,
          42646,
          40652,
          38952,
          37634,
          36262,
          35062,
          34751,
          34714,
          34487,
          34057,
          33984
         ],
         "yaxis": "y"
        }
       ],
       "layout": {
        "legend": {
         "title": {
          "text": "Entity"
         },
         "tracegroupgap": 0
        },
        "template": {
         "data": {
          "bar": [
           {
            "error_x": {
             "color": "#2a3f5f"
            },
            "error_y": {
             "color": "#2a3f5f"
            },
            "marker": {
             "line": {
              "color": "#E5ECF6",
              "width": 0.5
             },
             "pattern": {
              "fillmode": "overlay",
              "size": 10,
              "solidity": 0.2
             }
            },
            "type": "bar"
           }
          ],
          "barpolar": [
           {
            "marker": {
             "line": {
              "color": "#E5ECF6",
              "width": 0.5
             },
             "pattern": {
              "fillmode": "overlay",
              "size": 10,
              "solidity": 0.2
             }
            },
            "type": "barpolar"
           }
          ],
          "carpet": [
           {
            "aaxis": {
             "endlinecolor": "#2a3f5f",
             "gridcolor": "white",
             "linecolor": "white",
             "minorgridcolor": "white",
             "startlinecolor": "#2a3f5f"
            },
            "baxis": {
             "endlinecolor": "#2a3f5f",
             "gridcolor": "white",
             "linecolor": "white",
             "minorgridcolor": "white",
             "startlinecolor": "#2a3f5f"
            },
            "type": "carpet"
           }
          ],
          "choropleth": [
           {
            "colorbar": {
             "outlinewidth": 0,
             "ticks": ""
            },
            "type": "choropleth"
           }
          ],
          "contour": [
           {
            "colorbar": {
             "outlinewidth": 0,
             "ticks": ""
            },
            "colorscale": [
             [
              0,
              "#0d0887"
             ],
             [
              0.1111111111111111,
              "#46039f"
             ],
             [
              0.2222222222222222,
              "#7201a8"
             ],
             [
              0.3333333333333333,
              "#9c179e"
             ],
             [
              0.4444444444444444,
              "#bd3786"
             ],
             [
              0.5555555555555556,
              "#d8576b"
             ],
             [
              0.6666666666666666,
              "#ed7953"
             ],
             [
              0.7777777777777778,
              "#fb9f3a"
             ],
             [
              0.8888888888888888,
              "#fdca26"
             ],
             [
              1,
              "#f0f921"
             ]
            ],
            "type": "contour"
           }
          ],
          "contourcarpet": [
           {
            "colorbar": {
             "outlinewidth": 0,
             "ticks": ""
            },
            "type": "contourcarpet"
           }
          ],
          "heatmap": [
           {
            "colorbar": {
             "outlinewidth": 0,
             "ticks": ""
            },
            "colorscale": [
             [
              0,
              "#0d0887"
             ],
             [
              0.1111111111111111,
              "#46039f"
             ],
             [
              0.2222222222222222,
              "#7201a8"
             ],
             [
              0.3333333333333333,
              "#9c179e"
             ],
             [
              0.4444444444444444,
              "#bd3786"
             ],
             [
              0.5555555555555556,
              "#d8576b"
             ],
             [
              0.6666666666666666,
              "#ed7953"
             ],
             [
              0.7777777777777778,
              "#fb9f3a"
             ],
             [
              0.8888888888888888,
              "#fdca26"
             ],
             [
              1,
              "#f0f921"
             ]
            ],
            "type": "heatmap"
           }
          ],
          "heatmapgl": [
           {
            "colorbar": {
             "outlinewidth": 0,
             "ticks": ""
            },
            "colorscale": [
             [
              0,
              "#0d0887"
             ],
             [
              0.1111111111111111,
              "#46039f"
             ],
             [
              0.2222222222222222,
              "#7201a8"
             ],
             [
              0.3333333333333333,
              "#9c179e"
             ],
             [
              0.4444444444444444,
              "#bd3786"
             ],
             [
              0.5555555555555556,
              "#d8576b"
             ],
             [
              0.6666666666666666,
              "#ed7953"
             ],
             [
              0.7777777777777778,
              "#fb9f3a"
             ],
             [
              0.8888888888888888,
              "#fdca26"
             ],
             [
              1,
              "#f0f921"
             ]
            ],
            "type": "heatmapgl"
           }
          ],
          "histogram": [
           {
            "marker": {
             "pattern": {
              "fillmode": "overlay",
              "size": 10,
              "solidity": 0.2
             }
            },
            "type": "histogram"
           }
          ],
          "histogram2d": [
           {
            "colorbar": {
             "outlinewidth": 0,
             "ticks": ""
            },
            "colorscale": [
             [
              0,
              "#0d0887"
             ],
             [
              0.1111111111111111,
              "#46039f"
             ],
             [
              0.2222222222222222,
              "#7201a8"
             ],
             [
              0.3333333333333333,
              "#9c179e"
             ],
             [
              0.4444444444444444,
              "#bd3786"
             ],
             [
              0.5555555555555556,
              "#d8576b"
             ],
             [
              0.6666666666666666,
              "#ed7953"
             ],
             [
              0.7777777777777778,
              "#fb9f3a"
             ],
             [
              0.8888888888888888,
              "#fdca26"
             ],
             [
              1,
              "#f0f921"
             ]
            ],
            "type": "histogram2d"
           }
          ],
          "histogram2dcontour": [
           {
            "colorbar": {
             "outlinewidth": 0,
             "ticks": ""
            },
            "colorscale": [
             [
              0,
              "#0d0887"
             ],
             [
              0.1111111111111111,
              "#46039f"
             ],
             [
              0.2222222222222222,
              "#7201a8"
             ],
             [
              0.3333333333333333,
              "#9c179e"
             ],
             [
              0.4444444444444444,
              "#bd3786"
             ],
             [
              0.5555555555555556,
              "#d8576b"
             ],
             [
              0.6666666666666666,
              "#ed7953"
             ],
             [
              0.7777777777777778,
              "#fb9f3a"
             ],
             [
              0.8888888888888888,
              "#fdca26"
             ],
             [
              1,
              "#f0f921"
             ]
            ],
            "type": "histogram2dcontour"
           }
          ],
          "mesh3d": [
           {
            "colorbar": {
             "outlinewidth": 0,
             "ticks": ""
            },
            "type": "mesh3d"
           }
          ],
          "parcoords": [
           {
            "line": {
             "colorbar": {
              "outlinewidth": 0,
              "ticks": ""
             }
            },
            "type": "parcoords"
           }
          ],
          "pie": [
           {
            "automargin": true,
            "type": "pie"
           }
          ],
          "scatter": [
           {
            "fillpattern": {
             "fillmode": "overlay",
             "size": 10,
             "solidity": 0.2
            },
            "type": "scatter"
           }
          ],
          "scatter3d": [
           {
            "line": {
             "colorbar": {
              "outlinewidth": 0,
              "ticks": ""
             }
            },
            "marker": {
             "colorbar": {
              "outlinewidth": 0,
              "ticks": ""
             }
            },
            "type": "scatter3d"
           }
          ],
          "scattercarpet": [
           {
            "marker": {
             "colorbar": {
              "outlinewidth": 0,
              "ticks": ""
             }
            },
            "type": "scattercarpet"
           }
          ],
          "scattergeo": [
           {
            "marker": {
             "colorbar": {
              "outlinewidth": 0,
              "ticks": ""
             }
            },
            "type": "scattergeo"
           }
          ],
          "scattergl": [
           {
            "marker": {
             "colorbar": {
              "outlinewidth": 0,
              "ticks": ""
             }
            },
            "type": "scattergl"
           }
          ],
          "scattermapbox": [
           {
            "marker": {
             "colorbar": {
              "outlinewidth": 0,
              "ticks": ""
             }
            },
            "type": "scattermapbox"
           }
          ],
          "scatterpolar": [
           {
            "marker": {
             "colorbar": {
              "outlinewidth": 0,
              "ticks": ""
             }
            },
            "type": "scatterpolar"
           }
          ],
          "scatterpolargl": [
           {
            "marker": {
             "colorbar": {
              "outlinewidth": 0,
              "ticks": ""
             }
            },
            "type": "scatterpolargl"
           }
          ],
          "scatterternary": [
           {
            "marker": {
             "colorbar": {
              "outlinewidth": 0,
              "ticks": ""
             }
            },
            "type": "scatterternary"
           }
          ],
          "surface": [
           {
            "colorbar": {
             "outlinewidth": 0,
             "ticks": ""
            },
            "colorscale": [
             [
              0,
              "#0d0887"
             ],
             [
              0.1111111111111111,
              "#46039f"
             ],
             [
              0.2222222222222222,
              "#7201a8"
             ],
             [
              0.3333333333333333,
              "#9c179e"
             ],
             [
              0.4444444444444444,
              "#bd3786"
             ],
             [
              0.5555555555555556,
              "#d8576b"
             ],
             [
              0.6666666666666666,
              "#ed7953"
             ],
             [
              0.7777777777777778,
              "#fb9f3a"
             ],
             [
              0.8888888888888888,
              "#fdca26"
             ],
             [
              1,
              "#f0f921"
             ]
            ],
            "type": "surface"
           }
          ],
          "table": [
           {
            "cells": {
             "fill": {
              "color": "#EBF0F8"
             },
             "line": {
              "color": "white"
             }
            },
            "header": {
             "fill": {
              "color": "#C8D4E3"
             },
             "line": {
              "color": "white"
             }
            },
            "type": "table"
           }
          ]
         },
         "layout": {
          "annotationdefaults": {
           "arrowcolor": "#2a3f5f",
           "arrowhead": 0,
           "arrowwidth": 1
          },
          "autotypenumbers": "strict",
          "coloraxis": {
           "colorbar": {
            "outlinewidth": 0,
            "ticks": ""
           }
          },
          "colorscale": {
           "diverging": [
            [
             0,
             "#8e0152"
            ],
            [
             0.1,
             "#c51b7d"
            ],
            [
             0.2,
             "#de77ae"
            ],
            [
             0.3,
             "#f1b6da"
            ],
            [
             0.4,
             "#fde0ef"
            ],
            [
             0.5,
             "#f7f7f7"
            ],
            [
             0.6,
             "#e6f5d0"
            ],
            [
             0.7,
             "#b8e186"
            ],
            [
             0.8,
             "#7fbc41"
            ],
            [
             0.9,
             "#4d9221"
            ],
            [
             1,
             "#276419"
            ]
           ],
           "sequential": [
            [
             0,
             "#0d0887"
            ],
            [
             0.1111111111111111,
             "#46039f"
            ],
            [
             0.2222222222222222,
             "#7201a8"
            ],
            [
             0.3333333333333333,
             "#9c179e"
            ],
            [
             0.4444444444444444,
             "#bd3786"
            ],
            [
             0.5555555555555556,
             "#d8576b"
            ],
            [
             0.6666666666666666,
             "#ed7953"
            ],
            [
             0.7777777777777778,
             "#fb9f3a"
            ],
            [
             0.8888888888888888,
             "#fdca26"
            ],
            [
             1,
             "#f0f921"
            ]
           ],
           "sequentialminus": [
            [
             0,
             "#0d0887"
            ],
            [
             0.1111111111111111,
             "#46039f"
            ],
            [
             0.2222222222222222,
             "#7201a8"
            ],
            [
             0.3333333333333333,
             "#9c179e"
            ],
            [
             0.4444444444444444,
             "#bd3786"
            ],
            [
             0.5555555555555556,
             "#d8576b"
            ],
            [
             0.6666666666666666,
             "#ed7953"
            ],
            [
             0.7777777777777778,
             "#fb9f3a"
            ],
            [
             0.8888888888888888,
             "#fdca26"
            ],
            [
             1,
             "#f0f921"
            ]
           ]
          },
          "colorway": [
           "#636efa",
           "#EF553B",
           "#00cc96",
           "#ab63fa",
           "#FFA15A",
           "#19d3f3",
           "#FF6692",
           "#B6E880",
           "#FF97FF",
           "#FECB52"
          ],
          "font": {
           "color": "#2a3f5f"
          },
          "geo": {
           "bgcolor": "white",
           "lakecolor": "white",
           "landcolor": "#E5ECF6",
           "showlakes": true,
           "showland": true,
           "subunitcolor": "white"
          },
          "hoverlabel": {
           "align": "left"
          },
          "hovermode": "closest",
          "mapbox": {
           "style": "light"
          },
          "paper_bgcolor": "white",
          "plot_bgcolor": "#E5ECF6",
          "polar": {
           "angularaxis": {
            "gridcolor": "white",
            "linecolor": "white",
            "ticks": ""
           },
           "bgcolor": "#E5ECF6",
           "radialaxis": {
            "gridcolor": "white",
            "linecolor": "white",
            "ticks": ""
           }
          },
          "scene": {
           "xaxis": {
            "backgroundcolor": "#E5ECF6",
            "gridcolor": "white",
            "gridwidth": 2,
            "linecolor": "white",
            "showbackground": true,
            "ticks": "",
            "zerolinecolor": "white"
           },
           "yaxis": {
            "backgroundcolor": "#E5ECF6",
            "gridcolor": "white",
            "gridwidth": 2,
            "linecolor": "white",
            "showbackground": true,
            "ticks": "",
            "zerolinecolor": "white"
           },
           "zaxis": {
            "backgroundcolor": "#E5ECF6",
            "gridcolor": "white",
            "gridwidth": 2,
            "linecolor": "white",
            "showbackground": true,
            "ticks": "",
            "zerolinecolor": "white"
           }
          },
          "shapedefaults": {
           "line": {
            "color": "#2a3f5f"
           }
          },
          "ternary": {
           "aaxis": {
            "gridcolor": "white",
            "linecolor": "white",
            "ticks": ""
           },
           "baxis": {
            "gridcolor": "white",
            "linecolor": "white",
            "ticks": ""
           },
           "bgcolor": "#E5ECF6",
           "caxis": {
            "gridcolor": "white",
            "linecolor": "white",
            "ticks": ""
           }
          },
          "title": {
           "x": 0.05
          },
          "xaxis": {
           "automargin": true,
           "gridcolor": "white",
           "linecolor": "white",
           "ticks": "",
           "title": {
            "standoff": 15
           },
           "zerolinecolor": "white",
           "zerolinewidth": 2
          },
          "yaxis": {
           "automargin": true,
           "gridcolor": "white",
           "linecolor": "white",
           "ticks": "",
           "title": {
            "standoff": 15
           },
           "zerolinecolor": "white",
           "zerolinewidth": 2
          }
         }
        },
        "title": {
         "text": "Muertes por  violencia interpersonal por regiones",
         "x": 0.5,
         "xanchor": "center"
        },
        "xaxis": {
         "anchor": "y",
         "domain": [
          0,
          1
         ],
         "title": {
          "text": "Year"
         }
        },
        "yaxis": {
         "anchor": "x",
         "domain": [
          0,
          1
         ],
         "title": {
          "text": "Deaths - Interpersonal violence - Sex: Both - Age: All Ages (Number)"
         }
        }
       }
      }
     },
     "metadata": {},
     "output_type": "display_data"
    }
   ],
   "source": [
    "fig=px.line(\n",
    "    data_frame=df_continent,\n",
    "    y=\"Deaths - Interpersonal violence - Sex: Both - Age: All Ages (Number)\",\n",
    "    x=\"Year\",\n",
    "    color=\"Entity\",\n",
    "    title= \"Muertes por violencia interpersonal\"\n",
    "            \n",
    "    )\n",
    "fig.update_layout(\n",
    "    title={\n",
    "        'text': \"Muertes por  violencia interpersonal por regiones\",\n",
    "        'x': 0.5,\n",
    "        'xanchor':'center'\n",
    "\n",
    "    }\n",
    ")"
   ]
  },
  {
   "cell_type": "markdown",
   "metadata": {},
   "source": [
    "América encabeza el nivel de asesinatos. Esto se explica entre otras causas por factores culturales y económicos.  El segundo lugar, es ocupado por África que ha tenido un nivel bastante constante en el tiempo. Cabe mencionar que en en Europa ha habido una dismición sorprendente desde los 90 en adelante."
   ]
  },
  {
   "cell_type": "code",
   "execution_count": 69,
   "metadata": {},
   "outputs": [
    {
     "data": {
      "text/html": [
       "<div>\n",
       "<style scoped>\n",
       "    .dataframe tbody tr th:only-of-type {\n",
       "        vertical-align: middle;\n",
       "    }\n",
       "\n",
       "    .dataframe tbody tr th {\n",
       "        vertical-align: top;\n",
       "    }\n",
       "\n",
       "    .dataframe thead th {\n",
       "        text-align: right;\n",
       "    }\n",
       "</style>\n",
       "<table border=\"1\" class=\"dataframe\">\n",
       "  <thead>\n",
       "    <tr style=\"text-align: right;\">\n",
       "      <th></th>\n",
       "      <th>Entity</th>\n",
       "      <th>Code</th>\n",
       "      <th>Year</th>\n",
       "      <th>Deaths - Meningitis - Sex: Both - Age: All Ages (Number)</th>\n",
       "      <th>Deaths - Alzheimer's disease and other dementias - Sex: Both - Age: All Ages (Number)</th>\n",
       "      <th>Deaths - Parkinson's disease - Sex: Both - Age: All Ages (Number)</th>\n",
       "      <th>Deaths - Nutritional deficiencies - Sex: Both - Age: All Ages (Number)</th>\n",
       "      <th>Deaths - Malaria - Sex: Both - Age: All Ages (Number)</th>\n",
       "      <th>Deaths - Drowning - Sex: Both - Age: All Ages (Number)</th>\n",
       "      <th>Deaths - Interpersonal violence - Sex: Both - Age: All Ages (Number)</th>\n",
       "      <th>...</th>\n",
       "      <th>Deaths - Diabetes mellitus - Sex: Both - Age: All Ages (Number)</th>\n",
       "      <th>Deaths - Chronic kidney disease - Sex: Both - Age: All Ages (Number)</th>\n",
       "      <th>Deaths - Poisonings - Sex: Both - Age: All Ages (Number)</th>\n",
       "      <th>Deaths - Protein-energy malnutrition - Sex: Both - Age: All Ages (Number)</th>\n",
       "      <th>Deaths - Road injuries - Sex: Both - Age: All Ages (Number)</th>\n",
       "      <th>Deaths - Chronic respiratory diseases - Sex: Both - Age: All Ages (Number)</th>\n",
       "      <th>Deaths - Cirrhosis and other chronic liver diseases - Sex: Both - Age: All Ages (Number)</th>\n",
       "      <th>Deaths - Digestive diseases - Sex: Both - Age: All Ages (Number)</th>\n",
       "      <th>Deaths - Fire, heat, and hot substances - Sex: Both - Age: All Ages (Number)</th>\n",
       "      <th>Deaths - Acute hepatitis - Sex: Both - Age: All Ages (Number)</th>\n",
       "    </tr>\n",
       "  </thead>\n",
       "  <tbody>\n",
       "    <tr>\n",
       "      <th>806</th>\n",
       "      <td>Brazil</td>\n",
       "      <td>BRA</td>\n",
       "      <td>2016</td>\n",
       "      <td>2194</td>\n",
       "      <td>48321</td>\n",
       "      <td>8828</td>\n",
       "      <td>7930</td>\n",
       "      <td>97</td>\n",
       "      <td>6507</td>\n",
       "      <td>69640</td>\n",
       "      <td>...</td>\n",
       "      <td>60293</td>\n",
       "      <td>39230</td>\n",
       "      <td>198</td>\n",
       "      <td>7355</td>\n",
       "      <td>46213</td>\n",
       "      <td>70594</td>\n",
       "      <td>36644</td>\n",
       "      <td>75023</td>\n",
       "      <td>1683</td>\n",
       "      <td>231</td>\n",
       "    </tr>\n",
       "    <tr>\n",
       "      <th>807</th>\n",
       "      <td>Brazil</td>\n",
       "      <td>BRA</td>\n",
       "      <td>2017</td>\n",
       "      <td>2107</td>\n",
       "      <td>50594</td>\n",
       "      <td>8990</td>\n",
       "      <td>7798</td>\n",
       "      <td>122</td>\n",
       "      <td>6266</td>\n",
       "      <td>69269</td>\n",
       "      <td>...</td>\n",
       "      <td>61107</td>\n",
       "      <td>39789</td>\n",
       "      <td>193</td>\n",
       "      <td>7238</td>\n",
       "      <td>44794</td>\n",
       "      <td>71523</td>\n",
       "      <td>36319</td>\n",
       "      <td>75027</td>\n",
       "      <td>1634</td>\n",
       "      <td>230</td>\n",
       "    </tr>\n",
       "    <tr>\n",
       "      <th>805</th>\n",
       "      <td>Brazil</td>\n",
       "      <td>BRA</td>\n",
       "      <td>2015</td>\n",
       "      <td>2244</td>\n",
       "      <td>45968</td>\n",
       "      <td>8447</td>\n",
       "      <td>7921</td>\n",
       "      <td>114</td>\n",
       "      <td>6597</td>\n",
       "      <td>68068</td>\n",
       "      <td>...</td>\n",
       "      <td>57990</td>\n",
       "      <td>37342</td>\n",
       "      <td>201</td>\n",
       "      <td>7353</td>\n",
       "      <td>46729</td>\n",
       "      <td>67975</td>\n",
       "      <td>35673</td>\n",
       "      <td>72690</td>\n",
       "      <td>1668</td>\n",
       "      <td>234</td>\n",
       "    </tr>\n",
       "  </tbody>\n",
       "</table>\n",
       "<p>3 rows × 34 columns</p>\n",
       "</div>"
      ],
      "text/plain": [
       "     Entity Code  Year  \\\n",
       "806  Brazil  BRA  2016   \n",
       "807  Brazil  BRA  2017   \n",
       "805  Brazil  BRA  2015   \n",
       "\n",
       "     Deaths - Meningitis - Sex: Both - Age: All Ages (Number)  \\\n",
       "806                                               2194          \n",
       "807                                               2107          \n",
       "805                                               2244          \n",
       "\n",
       "     Deaths - Alzheimer's disease and other dementias - Sex: Both - Age: All Ages (Number)  \\\n",
       "806                                              48321                                       \n",
       "807                                              50594                                       \n",
       "805                                              45968                                       \n",
       "\n",
       "     Deaths - Parkinson's disease - Sex: Both - Age: All Ages (Number)  \\\n",
       "806                                               8828                   \n",
       "807                                               8990                   \n",
       "805                                               8447                   \n",
       "\n",
       "     Deaths - Nutritional deficiencies - Sex: Both - Age: All Ages (Number)  \\\n",
       "806                                               7930                        \n",
       "807                                               7798                        \n",
       "805                                               7921                        \n",
       "\n",
       "     Deaths - Malaria - Sex: Both - Age: All Ages (Number)  \\\n",
       "806                                                 97       \n",
       "807                                                122       \n",
       "805                                                114       \n",
       "\n",
       "     Deaths - Drowning - Sex: Both - Age: All Ages (Number)  \\\n",
       "806                                               6507        \n",
       "807                                               6266        \n",
       "805                                               6597        \n",
       "\n",
       "     Deaths - Interpersonal violence - Sex: Both - Age: All Ages (Number)  \\\n",
       "806                                              69640                      \n",
       "807                                              69269                      \n",
       "805                                              68068                      \n",
       "\n",
       "     ...  Deaths - Diabetes mellitus - Sex: Both - Age: All Ages (Number)  \\\n",
       "806  ...                                              60293                 \n",
       "807  ...                                              61107                 \n",
       "805  ...                                              57990                 \n",
       "\n",
       "     Deaths - Chronic kidney disease - Sex: Both - Age: All Ages (Number)  \\\n",
       "806                                              39230                      \n",
       "807                                              39789                      \n",
       "805                                              37342                      \n",
       "\n",
       "     Deaths - Poisonings - Sex: Both - Age: All Ages (Number)  \\\n",
       "806                                                198          \n",
       "807                                                193          \n",
       "805                                                201          \n",
       "\n",
       "     Deaths - Protein-energy malnutrition - Sex: Both - Age: All Ages (Number)  \\\n",
       "806                                               7355                           \n",
       "807                                               7238                           \n",
       "805                                               7353                           \n",
       "\n",
       "     Deaths - Road injuries - Sex: Both - Age: All Ages (Number)  \\\n",
       "806                                              46213             \n",
       "807                                              44794             \n",
       "805                                              46729             \n",
       "\n",
       "     Deaths - Chronic respiratory diseases - Sex: Both - Age: All Ages (Number)  \\\n",
       "806                                              70594                            \n",
       "807                                              71523                            \n",
       "805                                              67975                            \n",
       "\n",
       "     Deaths - Cirrhosis and other chronic liver diseases - Sex: Both - Age: All Ages (Number)  \\\n",
       "806                                              36644                                          \n",
       "807                                              36319                                          \n",
       "805                                              35673                                          \n",
       "\n",
       "     Deaths - Digestive diseases - Sex: Both - Age: All Ages (Number)  \\\n",
       "806                                              75023                  \n",
       "807                                              75027                  \n",
       "805                                              72690                  \n",
       "\n",
       "     Deaths - Fire, heat, and hot substances - Sex: Both - Age: All Ages (Number)  \\\n",
       "806                                               1683                              \n",
       "807                                               1634                              \n",
       "805                                               1668                              \n",
       "\n",
       "     Deaths - Acute hepatitis - Sex: Both - Age: All Ages (Number)  \n",
       "806                                                231              \n",
       "807                                                230              \n",
       "805                                                234              \n",
       "\n",
       "[3 rows x 34 columns]"
      ]
     },
     "execution_count": 69,
     "metadata": {},
     "output_type": "execute_result"
    }
   ],
   "source": [
    "#El país que lidera las muertes por violencia interpersonal es:\n",
    "df.sort_values(by=\"Deaths - Interpersonal violence - Sex: Both - Age: All Ages (Number)\", ascending=False).head(3)"
   ]
  },
  {
   "cell_type": "markdown",
   "metadata": {},
   "source": [
    "## VIH"
   ]
  },
  {
   "cell_type": "code",
   "execution_count": 70,
   "metadata": {},
   "outputs": [
    {
     "data": {
      "application/vnd.plotly.v1+json": {
       "config": {
        "plotlyServerURL": "https://plot.ly"
       },
       "data": [
        {
         "hovertemplate": "Entity=World Bank High Income<br>Year=%{x}<br>Deaths - HIV/AIDS - Sex: Both - Age: All Ages (Number)=%{y}<extra></extra>",
         "legendgroup": "World Bank High Income",
         "line": {
          "color": "#636efa",
          "dash": "solid"
         },
         "marker": {
          "symbol": "circle"
         },
         "mode": "lines",
         "name": "World Bank High Income",
         "orientation": "v",
         "showlegend": true,
         "type": "scatter",
         "x": [
          1990,
          1991,
          1992,
          1993,
          1994,
          1995,
          1996,
          1997,
          1998,
          1999,
          2000,
          2001,
          2002,
          2003,
          2004,
          2005,
          2006,
          2007,
          2008,
          2009,
          2010,
          2011,
          2012,
          2013,
          2014,
          2015,
          2016,
          2017,
          2018,
          2019
         ],
         "xaxis": "x",
         "y": [
          40955,
          48979,
          56210,
          63117,
          70541,
          72807,
          58218,
          34429,
          27401,
          28616,
          27087,
          26331,
          25917,
          25652,
          24519,
          23658,
          22596,
          21678,
          20277,
          18975,
          17324,
          16370,
          15617,
          15075,
          14431,
          14252,
          14599,
          14373,
          14099,
          13795
         ],
         "yaxis": "y"
        },
        {
         "hovertemplate": "Entity=World Bank Low Income<br>Year=%{x}<br>Deaths - HIV/AIDS - Sex: Both - Age: All Ages (Number)=%{y}<extra></extra>",
         "legendgroup": "World Bank Low Income",
         "line": {
          "color": "#EF553B",
          "dash": "solid"
         },
         "marker": {
          "symbol": "circle"
         },
         "mode": "lines",
         "name": "World Bank Low Income",
         "orientation": "v",
         "showlegend": true,
         "type": "scatter",
         "x": [
          1990,
          1991,
          1992,
          1993,
          1994,
          1995,
          1996,
          1997,
          1998,
          1999,
          2000,
          2001,
          2002,
          2003,
          2004,
          2005,
          2006,
          2007,
          2008,
          2009,
          2010,
          2011,
          2012,
          2013,
          2014,
          2015,
          2016,
          2017,
          2018,
          2019
         ],
         "xaxis": "x",
         "y": [
          203770,
          253549,
          308423,
          367068,
          427183,
          486309,
          541327,
          591534,
          635461,
          671661,
          700601,
          720318,
          732593,
          738672,
          736401,
          715394,
          673288,
          621730,
          570600,
          527957,
          489264,
          454559,
          420027,
          384572,
          353348,
          328322,
          307608,
          283489,
          259631,
          247763
         ],
         "yaxis": "y"
        },
        {
         "hovertemplate": "Entity=World Bank Lower Middle Income<br>Year=%{x}<br>Deaths - HIV/AIDS - Sex: Both - Age: All Ages (Number)=%{y}<extra></extra>",
         "legendgroup": "World Bank Lower Middle Income",
         "line": {
          "color": "#00cc96",
          "dash": "solid"
         },
         "marker": {
          "symbol": "circle"
         },
         "mode": "lines",
         "name": "World Bank Lower Middle Income",
         "orientation": "v",
         "showlegend": true,
         "type": "scatter",
         "x": [
          1990,
          1991,
          1992,
          1993,
          1994,
          1995,
          1996,
          1997,
          1998,
          1999,
          2000,
          2001,
          2002,
          2003,
          2004,
          2005,
          2006,
          2007,
          2008,
          2009,
          2010,
          2011,
          2012,
          2013,
          2014,
          2015,
          2016,
          2017,
          2018,
          2019
         ],
         "xaxis": "x",
         "y": [
          65544,
          93519,
          128490,
          170112,
          217098,
          268632,
          322878,
          378468,
          436513,
          494838,
          546644,
          591278,
          628137,
          654699,
          670951,
          671418,
          655488,
          622179,
          581806,
          543020,
          514871,
          490785,
          465313,
          441635,
          420878,
          396463,
          373906,
          354991,
          343433,
          338846
         ],
         "yaxis": "y"
        },
        {
         "hovertemplate": "Entity=World Bank Upper Middle Income<br>Year=%{x}<br>Deaths - HIV/AIDS - Sex: Both - Age: All Ages (Number)=%{y}<extra></extra>",
         "legendgroup": "World Bank Upper Middle Income",
         "line": {
          "color": "#ab63fa",
          "dash": "solid"
         },
         "marker": {
          "symbol": "circle"
         },
         "mode": "lines",
         "name": "World Bank Upper Middle Income",
         "orientation": "v",
         "showlegend": true,
         "type": "scatter",
         "x": [
          1990,
          1991,
          1992,
          1993,
          1994,
          1995,
          1996,
          1997,
          1998,
          1999,
          2000,
          2001,
          2002,
          2003,
          2004,
          2005,
          2006,
          2007,
          2008,
          2009,
          2010,
          2011,
          2012,
          2013,
          2014,
          2015,
          2016,
          2017,
          2018,
          2019
         ],
         "xaxis": "x",
         "y": [
          25797,
          34681,
          46948,
          64166,
          85346,
          110686,
          139153,
          169722,
          204280,
          244660,
          285057,
          324135,
          359454,
          389418,
          411088,
          421604,
          416493,
          403715,
          386811,
          363299,
          343162,
          322003,
          297732,
          284906,
          284308,
          290627,
          299977,
          294151,
          275185,
          262649
         ],
         "yaxis": "y"
        }
       ],
       "layout": {
        "legend": {
         "title": {
          "text": "Entity"
         },
         "tracegroupgap": 0
        },
        "template": {
         "data": {
          "bar": [
           {
            "error_x": {
             "color": "#2a3f5f"
            },
            "error_y": {
             "color": "#2a3f5f"
            },
            "marker": {
             "line": {
              "color": "#E5ECF6",
              "width": 0.5
             },
             "pattern": {
              "fillmode": "overlay",
              "size": 10,
              "solidity": 0.2
             }
            },
            "type": "bar"
           }
          ],
          "barpolar": [
           {
            "marker": {
             "line": {
              "color": "#E5ECF6",
              "width": 0.5
             },
             "pattern": {
              "fillmode": "overlay",
              "size": 10,
              "solidity": 0.2
             }
            },
            "type": "barpolar"
           }
          ],
          "carpet": [
           {
            "aaxis": {
             "endlinecolor": "#2a3f5f",
             "gridcolor": "white",
             "linecolor": "white",
             "minorgridcolor": "white",
             "startlinecolor": "#2a3f5f"
            },
            "baxis": {
             "endlinecolor": "#2a3f5f",
             "gridcolor": "white",
             "linecolor": "white",
             "minorgridcolor": "white",
             "startlinecolor": "#2a3f5f"
            },
            "type": "carpet"
           }
          ],
          "choropleth": [
           {
            "colorbar": {
             "outlinewidth": 0,
             "ticks": ""
            },
            "type": "choropleth"
           }
          ],
          "contour": [
           {
            "colorbar": {
             "outlinewidth": 0,
             "ticks": ""
            },
            "colorscale": [
             [
              0,
              "#0d0887"
             ],
             [
              0.1111111111111111,
              "#46039f"
             ],
             [
              0.2222222222222222,
              "#7201a8"
             ],
             [
              0.3333333333333333,
              "#9c179e"
             ],
             [
              0.4444444444444444,
              "#bd3786"
             ],
             [
              0.5555555555555556,
              "#d8576b"
             ],
             [
              0.6666666666666666,
              "#ed7953"
             ],
             [
              0.7777777777777778,
              "#fb9f3a"
             ],
             [
              0.8888888888888888,
              "#fdca26"
             ],
             [
              1,
              "#f0f921"
             ]
            ],
            "type": "contour"
           }
          ],
          "contourcarpet": [
           {
            "colorbar": {
             "outlinewidth": 0,
             "ticks": ""
            },
            "type": "contourcarpet"
           }
          ],
          "heatmap": [
           {
            "colorbar": {
             "outlinewidth": 0,
             "ticks": ""
            },
            "colorscale": [
             [
              0,
              "#0d0887"
             ],
             [
              0.1111111111111111,
              "#46039f"
             ],
             [
              0.2222222222222222,
              "#7201a8"
             ],
             [
              0.3333333333333333,
              "#9c179e"
             ],
             [
              0.4444444444444444,
              "#bd3786"
             ],
             [
              0.5555555555555556,
              "#d8576b"
             ],
             [
              0.6666666666666666,
              "#ed7953"
             ],
             [
              0.7777777777777778,
              "#fb9f3a"
             ],
             [
              0.8888888888888888,
              "#fdca26"
             ],
             [
              1,
              "#f0f921"
             ]
            ],
            "type": "heatmap"
           }
          ],
          "heatmapgl": [
           {
            "colorbar": {
             "outlinewidth": 0,
             "ticks": ""
            },
            "colorscale": [
             [
              0,
              "#0d0887"
             ],
             [
              0.1111111111111111,
              "#46039f"
             ],
             [
              0.2222222222222222,
              "#7201a8"
             ],
             [
              0.3333333333333333,
              "#9c179e"
             ],
             [
              0.4444444444444444,
              "#bd3786"
             ],
             [
              0.5555555555555556,
              "#d8576b"
             ],
             [
              0.6666666666666666,
              "#ed7953"
             ],
             [
              0.7777777777777778,
              "#fb9f3a"
             ],
             [
              0.8888888888888888,
              "#fdca26"
             ],
             [
              1,
              "#f0f921"
             ]
            ],
            "type": "heatmapgl"
           }
          ],
          "histogram": [
           {
            "marker": {
             "pattern": {
              "fillmode": "overlay",
              "size": 10,
              "solidity": 0.2
             }
            },
            "type": "histogram"
           }
          ],
          "histogram2d": [
           {
            "colorbar": {
             "outlinewidth": 0,
             "ticks": ""
            },
            "colorscale": [
             [
              0,
              "#0d0887"
             ],
             [
              0.1111111111111111,
              "#46039f"
             ],
             [
              0.2222222222222222,
              "#7201a8"
             ],
             [
              0.3333333333333333,
              "#9c179e"
             ],
             [
              0.4444444444444444,
              "#bd3786"
             ],
             [
              0.5555555555555556,
              "#d8576b"
             ],
             [
              0.6666666666666666,
              "#ed7953"
             ],
             [
              0.7777777777777778,
              "#fb9f3a"
             ],
             [
              0.8888888888888888,
              "#fdca26"
             ],
             [
              1,
              "#f0f921"
             ]
            ],
            "type": "histogram2d"
           }
          ],
          "histogram2dcontour": [
           {
            "colorbar": {
             "outlinewidth": 0,
             "ticks": ""
            },
            "colorscale": [
             [
              0,
              "#0d0887"
             ],
             [
              0.1111111111111111,
              "#46039f"
             ],
             [
              0.2222222222222222,
              "#7201a8"
             ],
             [
              0.3333333333333333,
              "#9c179e"
             ],
             [
              0.4444444444444444,
              "#bd3786"
             ],
             [
              0.5555555555555556,
              "#d8576b"
             ],
             [
              0.6666666666666666,
              "#ed7953"
             ],
             [
              0.7777777777777778,
              "#fb9f3a"
             ],
             [
              0.8888888888888888,
              "#fdca26"
             ],
             [
              1,
              "#f0f921"
             ]
            ],
            "type": "histogram2dcontour"
           }
          ],
          "mesh3d": [
           {
            "colorbar": {
             "outlinewidth": 0,
             "ticks": ""
            },
            "type": "mesh3d"
           }
          ],
          "parcoords": [
           {
            "line": {
             "colorbar": {
              "outlinewidth": 0,
              "ticks": ""
             }
            },
            "type": "parcoords"
           }
          ],
          "pie": [
           {
            "automargin": true,
            "type": "pie"
           }
          ],
          "scatter": [
           {
            "fillpattern": {
             "fillmode": "overlay",
             "size": 10,
             "solidity": 0.2
            },
            "type": "scatter"
           }
          ],
          "scatter3d": [
           {
            "line": {
             "colorbar": {
              "outlinewidth": 0,
              "ticks": ""
             }
            },
            "marker": {
             "colorbar": {
              "outlinewidth": 0,
              "ticks": ""
             }
            },
            "type": "scatter3d"
           }
          ],
          "scattercarpet": [
           {
            "marker": {
             "colorbar": {
              "outlinewidth": 0,
              "ticks": ""
             }
            },
            "type": "scattercarpet"
           }
          ],
          "scattergeo": [
           {
            "marker": {
             "colorbar": {
              "outlinewidth": 0,
              "ticks": ""
             }
            },
            "type": "scattergeo"
           }
          ],
          "scattergl": [
           {
            "marker": {
             "colorbar": {
              "outlinewidth": 0,
              "ticks": ""
             }
            },
            "type": "scattergl"
           }
          ],
          "scattermapbox": [
           {
            "marker": {
             "colorbar": {
              "outlinewidth": 0,
              "ticks": ""
             }
            },
            "type": "scattermapbox"
           }
          ],
          "scatterpolar": [
           {
            "marker": {
             "colorbar": {
              "outlinewidth": 0,
              "ticks": ""
             }
            },
            "type": "scatterpolar"
           }
          ],
          "scatterpolargl": [
           {
            "marker": {
             "colorbar": {
              "outlinewidth": 0,
              "ticks": ""
             }
            },
            "type": "scatterpolargl"
           }
          ],
          "scatterternary": [
           {
            "marker": {
             "colorbar": {
              "outlinewidth": 0,
              "ticks": ""
             }
            },
            "type": "scatterternary"
           }
          ],
          "surface": [
           {
            "colorbar": {
             "outlinewidth": 0,
             "ticks": ""
            },
            "colorscale": [
             [
              0,
              "#0d0887"
             ],
             [
              0.1111111111111111,
              "#46039f"
             ],
             [
              0.2222222222222222,
              "#7201a8"
             ],
             [
              0.3333333333333333,
              "#9c179e"
             ],
             [
              0.4444444444444444,
              "#bd3786"
             ],
             [
              0.5555555555555556,
              "#d8576b"
             ],
             [
              0.6666666666666666,
              "#ed7953"
             ],
             [
              0.7777777777777778,
              "#fb9f3a"
             ],
             [
              0.8888888888888888,
              "#fdca26"
             ],
             [
              1,
              "#f0f921"
             ]
            ],
            "type": "surface"
           }
          ],
          "table": [
           {
            "cells": {
             "fill": {
              "color": "#EBF0F8"
             },
             "line": {
              "color": "white"
             }
            },
            "header": {
             "fill": {
              "color": "#C8D4E3"
             },
             "line": {
              "color": "white"
             }
            },
            "type": "table"
           }
          ]
         },
         "layout": {
          "annotationdefaults": {
           "arrowcolor": "#2a3f5f",
           "arrowhead": 0,
           "arrowwidth": 1
          },
          "autotypenumbers": "strict",
          "coloraxis": {
           "colorbar": {
            "outlinewidth": 0,
            "ticks": ""
           }
          },
          "colorscale": {
           "diverging": [
            [
             0,
             "#8e0152"
            ],
            [
             0.1,
             "#c51b7d"
            ],
            [
             0.2,
             "#de77ae"
            ],
            [
             0.3,
             "#f1b6da"
            ],
            [
             0.4,
             "#fde0ef"
            ],
            [
             0.5,
             "#f7f7f7"
            ],
            [
             0.6,
             "#e6f5d0"
            ],
            [
             0.7,
             "#b8e186"
            ],
            [
             0.8,
             "#7fbc41"
            ],
            [
             0.9,
             "#4d9221"
            ],
            [
             1,
             "#276419"
            ]
           ],
           "sequential": [
            [
             0,
             "#0d0887"
            ],
            [
             0.1111111111111111,
             "#46039f"
            ],
            [
             0.2222222222222222,
             "#7201a8"
            ],
            [
             0.3333333333333333,
             "#9c179e"
            ],
            [
             0.4444444444444444,
             "#bd3786"
            ],
            [
             0.5555555555555556,
             "#d8576b"
            ],
            [
             0.6666666666666666,
             "#ed7953"
            ],
            [
             0.7777777777777778,
             "#fb9f3a"
            ],
            [
             0.8888888888888888,
             "#fdca26"
            ],
            [
             1,
             "#f0f921"
            ]
           ],
           "sequentialminus": [
            [
             0,
             "#0d0887"
            ],
            [
             0.1111111111111111,
             "#46039f"
            ],
            [
             0.2222222222222222,
             "#7201a8"
            ],
            [
             0.3333333333333333,
             "#9c179e"
            ],
            [
             0.4444444444444444,
             "#bd3786"
            ],
            [
             0.5555555555555556,
             "#d8576b"
            ],
            [
             0.6666666666666666,
             "#ed7953"
            ],
            [
             0.7777777777777778,
             "#fb9f3a"
            ],
            [
             0.8888888888888888,
             "#fdca26"
            ],
            [
             1,
             "#f0f921"
            ]
           ]
          },
          "colorway": [
           "#636efa",
           "#EF553B",
           "#00cc96",
           "#ab63fa",
           "#FFA15A",
           "#19d3f3",
           "#FF6692",
           "#B6E880",
           "#FF97FF",
           "#FECB52"
          ],
          "font": {
           "color": "#2a3f5f"
          },
          "geo": {
           "bgcolor": "white",
           "lakecolor": "white",
           "landcolor": "#E5ECF6",
           "showlakes": true,
           "showland": true,
           "subunitcolor": "white"
          },
          "hoverlabel": {
           "align": "left"
          },
          "hovermode": "closest",
          "mapbox": {
           "style": "light"
          },
          "paper_bgcolor": "white",
          "plot_bgcolor": "#E5ECF6",
          "polar": {
           "angularaxis": {
            "gridcolor": "white",
            "linecolor": "white",
            "ticks": ""
           },
           "bgcolor": "#E5ECF6",
           "radialaxis": {
            "gridcolor": "white",
            "linecolor": "white",
            "ticks": ""
           }
          },
          "scene": {
           "xaxis": {
            "backgroundcolor": "#E5ECF6",
            "gridcolor": "white",
            "gridwidth": 2,
            "linecolor": "white",
            "showbackground": true,
            "ticks": "",
            "zerolinecolor": "white"
           },
           "yaxis": {
            "backgroundcolor": "#E5ECF6",
            "gridcolor": "white",
            "gridwidth": 2,
            "linecolor": "white",
            "showbackground": true,
            "ticks": "",
            "zerolinecolor": "white"
           },
           "zaxis": {
            "backgroundcolor": "#E5ECF6",
            "gridcolor": "white",
            "gridwidth": 2,
            "linecolor": "white",
            "showbackground": true,
            "ticks": "",
            "zerolinecolor": "white"
           }
          },
          "shapedefaults": {
           "line": {
            "color": "#2a3f5f"
           }
          },
          "ternary": {
           "aaxis": {
            "gridcolor": "white",
            "linecolor": "white",
            "ticks": ""
           },
           "baxis": {
            "gridcolor": "white",
            "linecolor": "white",
            "ticks": ""
           },
           "bgcolor": "#E5ECF6",
           "caxis": {
            "gridcolor": "white",
            "linecolor": "white",
            "ticks": ""
           }
          },
          "title": {
           "x": 0.05
          },
          "xaxis": {
           "automargin": true,
           "gridcolor": "white",
           "linecolor": "white",
           "ticks": "",
           "title": {
            "standoff": 15
           },
           "zerolinecolor": "white",
           "zerolinewidth": 2
          },
          "yaxis": {
           "automargin": true,
           "gridcolor": "white",
           "linecolor": "white",
           "ticks": "",
           "title": {
            "standoff": 15
           },
           "zerolinecolor": "white",
           "zerolinewidth": 2
          }
         }
        },
        "title": {
         "text": "Muertes por  VIH según nivel de renta",
         "x": 0.5,
         "xanchor": "center"
        },
        "xaxis": {
         "anchor": "y",
         "domain": [
          0,
          1
         ],
         "title": {
          "text": "Year"
         }
        },
        "yaxis": {
         "anchor": "x",
         "domain": [
          0,
          1
         ],
         "title": {
          "text": "Deaths - HIV/AIDS - Sex: Both - Age: All Ages (Number)"
         }
        }
       }
      }
     },
     "metadata": {},
     "output_type": "display_data"
    }
   ],
   "source": [
    "fig=px.line(\n",
    "    data_frame=df_income,\n",
    "    y=\"Deaths - HIV/AIDS - Sex: Both - Age: All Ages (Number)\",\n",
    "    x=\"Year\",\n",
    "    color=\"Entity\",\n",
    "    title= \"Muertes por VIH\"\n",
    "            \n",
    "    )\n",
    "fig.update_layout(\n",
    "    title={\n",
    "        'text': \"Muertes por  VIH según nivel de renta\",\n",
    "        'x': 0.5,\n",
    "        'xanchor':'center'\n",
    "\n",
    "    }\n",
    ")"
   ]
  },
  {
   "cell_type": "markdown",
   "metadata": {},
   "source": [
    "Analizar con los compañeros esta tendencia"
   ]
  },
  {
   "cell_type": "code",
   "execution_count": 71,
   "metadata": {},
   "outputs": [
    {
     "data": {
      "application/vnd.plotly.v1+json": {
       "config": {
        "plotlyServerURL": "https://plot.ly"
       },
       "data": [
        {
         "hovertemplate": "Entity=African Region (WHO)<br>Year=%{x}<br>Deaths - HIV/AIDS - Sex: Both - Age: All Ages (Number)=%{y}<extra></extra>",
         "legendgroup": "African Region (WHO)",
         "line": {
          "color": "#636efa",
          "dash": "solid"
         },
         "marker": {
          "symbol": "circle"
         },
         "mode": "lines",
         "name": "African Region (WHO)",
         "orientation": "v",
         "showlegend": true,
         "type": "scatter",
         "x": [
          1990,
          1991,
          1992,
          1993,
          1994,
          1995,
          1996,
          1997,
          1998,
          1999,
          2000,
          2001,
          2002,
          2003,
          2004,
          2005,
          2006,
          2007,
          2008,
          2009,
          2010,
          2011,
          2012,
          2013,
          2014,
          2015,
          2016,
          2017,
          2018,
          2019
         ],
         "xaxis": "x",
         "y": [
          265452,
          343399,
          433895,
          535470,
          645341,
          760306,
          875836,
          989767,
          1101108,
          1203809,
          1294485,
          1369991,
          1430201,
          1473615,
          1491641,
          1470200,
          1407953,
          1318224,
          1218332,
          1129009,
          1056095,
          987518,
          915689,
          852253,
          804418,
          768624,
          742638,
          707227,
          660555,
          635623
         ],
         "yaxis": "y"
        },
        {
         "hovertemplate": "Entity=Eastern Mediterranean Region (WHO)<br>Year=%{x}<br>Deaths - HIV/AIDS - Sex: Both - Age: All Ages (Number)=%{y}<extra></extra>",
         "legendgroup": "Eastern Mediterranean Region (WHO)",
         "line": {
          "color": "#EF553B",
          "dash": "solid"
         },
         "marker": {
          "symbol": "circle"
         },
         "mode": "lines",
         "name": "Eastern Mediterranean Region (WHO)",
         "orientation": "v",
         "showlegend": true,
         "type": "scatter",
         "x": [
          1990,
          1991,
          1992,
          1993,
          1994,
          1995,
          1996,
          1997,
          1998,
          1999,
          2000,
          2001,
          2002,
          2003,
          2004,
          2005,
          2006,
          2007,
          2008,
          2009,
          2010,
          2011,
          2012,
          2013,
          2014,
          2015,
          2016,
          2017,
          2018,
          2019
         ],
         "xaxis": "x",
         "y": [
          981,
          1279,
          1617,
          2036,
          2542,
          3165,
          3903,
          4753,
          5688,
          6680,
          7690,
          8672,
          9587,
          10397,
          11084,
          11673,
          12181,
          12620,
          12890,
          13096,
          13560,
          14141,
          14666,
          15108,
          15530,
          15908,
          16168,
          16415,
          16638,
          16961
         ],
         "yaxis": "y"
        },
        {
         "hovertemplate": "Entity=European Region (WHO)<br>Year=%{x}<br>Deaths - HIV/AIDS - Sex: Both - Age: All Ages (Number)=%{y}<extra></extra>",
         "legendgroup": "European Region (WHO)",
         "line": {
          "color": "#00cc96",
          "dash": "solid"
         },
         "marker": {
          "symbol": "circle"
         },
         "mode": "lines",
         "name": "European Region (WHO)",
         "orientation": "v",
         "showlegend": true,
         "type": "scatter",
         "x": [
          1990,
          1991,
          1992,
          1993,
          1994,
          1995,
          1996,
          1997,
          1998,
          1999,
          2000,
          2001,
          2002,
          2003,
          2004,
          2005,
          2006,
          2007,
          2008,
          2009,
          2010,
          2011,
          2012,
          2013,
          2014,
          2015,
          2016,
          2017,
          2018,
          2019
         ],
         "xaxis": "x",
         "y": [
          15998,
          19404,
          22828,
          26910,
          30868,
          33849,
          32392,
          24819,
          20870,
          23318,
          24053,
          23600,
          23531,
          24704,
          24795,
          28589,
          28348,
          29315,
          30272,
          30006,
          30557,
          31515,
          31421,
          29392,
          32184,
          34287,
          36503,
          33644,
          32358,
          31142
         ],
         "yaxis": "y"
        },
        {
         "hovertemplate": "Entity=Region of the Americas (WHO)<br>Year=%{x}<br>Deaths - HIV/AIDS - Sex: Both - Age: All Ages (Number)=%{y}<extra></extra>",
         "legendgroup": "Region of the Americas (WHO)",
         "line": {
          "color": "#ab63fa",
          "dash": "solid"
         },
         "marker": {
          "symbol": "circle"
         },
         "mode": "lines",
         "name": "Region of the Americas (WHO)",
         "orientation": "v",
         "showlegend": true,
         "type": "scatter",
         "x": [
          1990,
          1991,
          1992,
          1993,
          1994,
          1995,
          1996,
          1997,
          1998,
          1999,
          2000,
          2001,
          2002,
          2003,
          2004,
          2005,
          2006,
          2007,
          2008,
          2009,
          2010,
          2011,
          2012,
          2013,
          2014,
          2015,
          2016,
          2017,
          2018,
          2019
         ],
         "xaxis": "x",
         "y": [
          45969,
          55306,
          64745,
          74802,
          84869,
          90184,
          81243,
          66481,
          63137,
          66179,
          66414,
          67302,
          67989,
          68573,
          67653,
          66491,
          65201,
          63408,
          61728,
          60036,
          58775,
          57579,
          56635,
          56520,
          56317,
          55855,
          54822,
          53399,
          52065,
          51057
         ],
         "yaxis": "y"
        },
        {
         "hovertemplate": "Entity=South-East Asia Region (WHO)<br>Year=%{x}<br>Deaths - HIV/AIDS - Sex: Both - Age: All Ages (Number)=%{y}<extra></extra>",
         "legendgroup": "South-East Asia Region (WHO)",
         "line": {
          "color": "#FFA15A",
          "dash": "solid"
         },
         "marker": {
          "symbol": "circle"
         },
         "mode": "lines",
         "name": "South-East Asia Region (WHO)",
         "orientation": "v",
         "showlegend": true,
         "type": "scatter",
         "x": [
          1990,
          1991,
          1992,
          1993,
          1994,
          1995,
          1996,
          1997,
          1998,
          1999,
          2000,
          2001,
          2002,
          2003,
          2004,
          2005,
          2006,
          2007,
          2008,
          2009,
          2010,
          2011,
          2012,
          2013,
          2014,
          2015,
          2016,
          2017,
          2018,
          2019
         ],
         "xaxis": "x",
         "y": [
          2303,
          4665,
          8868,
          15527,
          24715,
          36824,
          52007,
          70356,
          92078,
          115975,
          139792,
          162013,
          181602,
          195884,
          209778,
          214299,
          212692,
          204966,
          195507,
          181645,
          166299,
          152328,
          140476,
          132305,
          120300,
          106437,
          94706,
          84298,
          78858,
          76749
         ],
         "yaxis": "y"
        },
        {
         "hovertemplate": "Entity=Western Pacific Region (WHO)<br>Year=%{x}<br>Deaths - HIV/AIDS - Sex: Both - Age: All Ages (Number)=%{y}<extra></extra>",
         "legendgroup": "Western Pacific Region (WHO)",
         "line": {
          "color": "#19d3f3",
          "dash": "solid"
         },
         "marker": {
          "symbol": "circle"
         },
         "mode": "lines",
         "name": "Western Pacific Region (WHO)",
         "orientation": "v",
         "showlegend": true,
         "type": "scatter",
         "x": [
          1990,
          1991,
          1992,
          1993,
          1994,
          1995,
          1996,
          1997,
          1998,
          1999,
          2000,
          2001,
          2002,
          2003,
          2004,
          2005,
          2006,
          2007,
          2008,
          2009,
          2010,
          2011,
          2012,
          2013,
          2014,
          2015,
          2016,
          2017,
          2018,
          2019
         ],
         "xaxis": "x",
         "y": [
          4379,
          5527,
          6813,
          8397,
          10081,
          12378,
          14609,
          16980,
          19977,
          22998,
          26205,
          29658,
          32496,
          34657,
          37374,
          40190,
          40917,
          40268,
          40245,
          38981,
          38902,
          40259,
          39477,
          40295,
          43891,
          48266,
          50940,
          51715,
          51573,
          51226
         ],
         "yaxis": "y"
        }
       ],
       "layout": {
        "legend": {
         "title": {
          "text": "Entity"
         },
         "tracegroupgap": 0
        },
        "template": {
         "data": {
          "bar": [
           {
            "error_x": {
             "color": "#2a3f5f"
            },
            "error_y": {
             "color": "#2a3f5f"
            },
            "marker": {
             "line": {
              "color": "#E5ECF6",
              "width": 0.5
             },
             "pattern": {
              "fillmode": "overlay",
              "size": 10,
              "solidity": 0.2
             }
            },
            "type": "bar"
           }
          ],
          "barpolar": [
           {
            "marker": {
             "line": {
              "color": "#E5ECF6",
              "width": 0.5
             },
             "pattern": {
              "fillmode": "overlay",
              "size": 10,
              "solidity": 0.2
             }
            },
            "type": "barpolar"
           }
          ],
          "carpet": [
           {
            "aaxis": {
             "endlinecolor": "#2a3f5f",
             "gridcolor": "white",
             "linecolor": "white",
             "minorgridcolor": "white",
             "startlinecolor": "#2a3f5f"
            },
            "baxis": {
             "endlinecolor": "#2a3f5f",
             "gridcolor": "white",
             "linecolor": "white",
             "minorgridcolor": "white",
             "startlinecolor": "#2a3f5f"
            },
            "type": "carpet"
           }
          ],
          "choropleth": [
           {
            "colorbar": {
             "outlinewidth": 0,
             "ticks": ""
            },
            "type": "choropleth"
           }
          ],
          "contour": [
           {
            "colorbar": {
             "outlinewidth": 0,
             "ticks": ""
            },
            "colorscale": [
             [
              0,
              "#0d0887"
             ],
             [
              0.1111111111111111,
              "#46039f"
             ],
             [
              0.2222222222222222,
              "#7201a8"
             ],
             [
              0.3333333333333333,
              "#9c179e"
             ],
             [
              0.4444444444444444,
              "#bd3786"
             ],
             [
              0.5555555555555556,
              "#d8576b"
             ],
             [
              0.6666666666666666,
              "#ed7953"
             ],
             [
              0.7777777777777778,
              "#fb9f3a"
             ],
             [
              0.8888888888888888,
              "#fdca26"
             ],
             [
              1,
              "#f0f921"
             ]
            ],
            "type": "contour"
           }
          ],
          "contourcarpet": [
           {
            "colorbar": {
             "outlinewidth": 0,
             "ticks": ""
            },
            "type": "contourcarpet"
           }
          ],
          "heatmap": [
           {
            "colorbar": {
             "outlinewidth": 0,
             "ticks": ""
            },
            "colorscale": [
             [
              0,
              "#0d0887"
             ],
             [
              0.1111111111111111,
              "#46039f"
             ],
             [
              0.2222222222222222,
              "#7201a8"
             ],
             [
              0.3333333333333333,
              "#9c179e"
             ],
             [
              0.4444444444444444,
              "#bd3786"
             ],
             [
              0.5555555555555556,
              "#d8576b"
             ],
             [
              0.6666666666666666,
              "#ed7953"
             ],
             [
              0.7777777777777778,
              "#fb9f3a"
             ],
             [
              0.8888888888888888,
              "#fdca26"
             ],
             [
              1,
              "#f0f921"
             ]
            ],
            "type": "heatmap"
           }
          ],
          "heatmapgl": [
           {
            "colorbar": {
             "outlinewidth": 0,
             "ticks": ""
            },
            "colorscale": [
             [
              0,
              "#0d0887"
             ],
             [
              0.1111111111111111,
              "#46039f"
             ],
             [
              0.2222222222222222,
              "#7201a8"
             ],
             [
              0.3333333333333333,
              "#9c179e"
             ],
             [
              0.4444444444444444,
              "#bd3786"
             ],
             [
              0.5555555555555556,
              "#d8576b"
             ],
             [
              0.6666666666666666,
              "#ed7953"
             ],
             [
              0.7777777777777778,
              "#fb9f3a"
             ],
             [
              0.8888888888888888,
              "#fdca26"
             ],
             [
              1,
              "#f0f921"
             ]
            ],
            "type": "heatmapgl"
           }
          ],
          "histogram": [
           {
            "marker": {
             "pattern": {
              "fillmode": "overlay",
              "size": 10,
              "solidity": 0.2
             }
            },
            "type": "histogram"
           }
          ],
          "histogram2d": [
           {
            "colorbar": {
             "outlinewidth": 0,
             "ticks": ""
            },
            "colorscale": [
             [
              0,
              "#0d0887"
             ],
             [
              0.1111111111111111,
              "#46039f"
             ],
             [
              0.2222222222222222,
              "#7201a8"
             ],
             [
              0.3333333333333333,
              "#9c179e"
             ],
             [
              0.4444444444444444,
              "#bd3786"
             ],
             [
              0.5555555555555556,
              "#d8576b"
             ],
             [
              0.6666666666666666,
              "#ed7953"
             ],
             [
              0.7777777777777778,
              "#fb9f3a"
             ],
             [
              0.8888888888888888,
              "#fdca26"
             ],
             [
              1,
              "#f0f921"
             ]
            ],
            "type": "histogram2d"
           }
          ],
          "histogram2dcontour": [
           {
            "colorbar": {
             "outlinewidth": 0,
             "ticks": ""
            },
            "colorscale": [
             [
              0,
              "#0d0887"
             ],
             [
              0.1111111111111111,
              "#46039f"
             ],
             [
              0.2222222222222222,
              "#7201a8"
             ],
             [
              0.3333333333333333,
              "#9c179e"
             ],
             [
              0.4444444444444444,
              "#bd3786"
             ],
             [
              0.5555555555555556,
              "#d8576b"
             ],
             [
              0.6666666666666666,
              "#ed7953"
             ],
             [
              0.7777777777777778,
              "#fb9f3a"
             ],
             [
              0.8888888888888888,
              "#fdca26"
             ],
             [
              1,
              "#f0f921"
             ]
            ],
            "type": "histogram2dcontour"
           }
          ],
          "mesh3d": [
           {
            "colorbar": {
             "outlinewidth": 0,
             "ticks": ""
            },
            "type": "mesh3d"
           }
          ],
          "parcoords": [
           {
            "line": {
             "colorbar": {
              "outlinewidth": 0,
              "ticks": ""
             }
            },
            "type": "parcoords"
           }
          ],
          "pie": [
           {
            "automargin": true,
            "type": "pie"
           }
          ],
          "scatter": [
           {
            "fillpattern": {
             "fillmode": "overlay",
             "size": 10,
             "solidity": 0.2
            },
            "type": "scatter"
           }
          ],
          "scatter3d": [
           {
            "line": {
             "colorbar": {
              "outlinewidth": 0,
              "ticks": ""
             }
            },
            "marker": {
             "colorbar": {
              "outlinewidth": 0,
              "ticks": ""
             }
            },
            "type": "scatter3d"
           }
          ],
          "scattercarpet": [
           {
            "marker": {
             "colorbar": {
              "outlinewidth": 0,
              "ticks": ""
             }
            },
            "type": "scattercarpet"
           }
          ],
          "scattergeo": [
           {
            "marker": {
             "colorbar": {
              "outlinewidth": 0,
              "ticks": ""
             }
            },
            "type": "scattergeo"
           }
          ],
          "scattergl": [
           {
            "marker": {
             "colorbar": {
              "outlinewidth": 0,
              "ticks": ""
             }
            },
            "type": "scattergl"
           }
          ],
          "scattermapbox": [
           {
            "marker": {
             "colorbar": {
              "outlinewidth": 0,
              "ticks": ""
             }
            },
            "type": "scattermapbox"
           }
          ],
          "scatterpolar": [
           {
            "marker": {
             "colorbar": {
              "outlinewidth": 0,
              "ticks": ""
             }
            },
            "type": "scatterpolar"
           }
          ],
          "scatterpolargl": [
           {
            "marker": {
             "colorbar": {
              "outlinewidth": 0,
              "ticks": ""
             }
            },
            "type": "scatterpolargl"
           }
          ],
          "scatterternary": [
           {
            "marker": {
             "colorbar": {
              "outlinewidth": 0,
              "ticks": ""
             }
            },
            "type": "scatterternary"
           }
          ],
          "surface": [
           {
            "colorbar": {
             "outlinewidth": 0,
             "ticks": ""
            },
            "colorscale": [
             [
              0,
              "#0d0887"
             ],
             [
              0.1111111111111111,
              "#46039f"
             ],
             [
              0.2222222222222222,
              "#7201a8"
             ],
             [
              0.3333333333333333,
              "#9c179e"
             ],
             [
              0.4444444444444444,
              "#bd3786"
             ],
             [
              0.5555555555555556,
              "#d8576b"
             ],
             [
              0.6666666666666666,
              "#ed7953"
             ],
             [
              0.7777777777777778,
              "#fb9f3a"
             ],
             [
              0.8888888888888888,
              "#fdca26"
             ],
             [
              1,
              "#f0f921"
             ]
            ],
            "type": "surface"
           }
          ],
          "table": [
           {
            "cells": {
             "fill": {
              "color": "#EBF0F8"
             },
             "line": {
              "color": "white"
             }
            },
            "header": {
             "fill": {
              "color": "#C8D4E3"
             },
             "line": {
              "color": "white"
             }
            },
            "type": "table"
           }
          ]
         },
         "layout": {
          "annotationdefaults": {
           "arrowcolor": "#2a3f5f",
           "arrowhead": 0,
           "arrowwidth": 1
          },
          "autotypenumbers": "strict",
          "coloraxis": {
           "colorbar": {
            "outlinewidth": 0,
            "ticks": ""
           }
          },
          "colorscale": {
           "diverging": [
            [
             0,
             "#8e0152"
            ],
            [
             0.1,
             "#c51b7d"
            ],
            [
             0.2,
             "#de77ae"
            ],
            [
             0.3,
             "#f1b6da"
            ],
            [
             0.4,
             "#fde0ef"
            ],
            [
             0.5,
             "#f7f7f7"
            ],
            [
             0.6,
             "#e6f5d0"
            ],
            [
             0.7,
             "#b8e186"
            ],
            [
             0.8,
             "#7fbc41"
            ],
            [
             0.9,
             "#4d9221"
            ],
            [
             1,
             "#276419"
            ]
           ],
           "sequential": [
            [
             0,
             "#0d0887"
            ],
            [
             0.1111111111111111,
             "#46039f"
            ],
            [
             0.2222222222222222,
             "#7201a8"
            ],
            [
             0.3333333333333333,
             "#9c179e"
            ],
            [
             0.4444444444444444,
             "#bd3786"
            ],
            [
             0.5555555555555556,
             "#d8576b"
            ],
            [
             0.6666666666666666,
             "#ed7953"
            ],
            [
             0.7777777777777778,
             "#fb9f3a"
            ],
            [
             0.8888888888888888,
             "#fdca26"
            ],
            [
             1,
             "#f0f921"
            ]
           ],
           "sequentialminus": [
            [
             0,
             "#0d0887"
            ],
            [
             0.1111111111111111,
             "#46039f"
            ],
            [
             0.2222222222222222,
             "#7201a8"
            ],
            [
             0.3333333333333333,
             "#9c179e"
            ],
            [
             0.4444444444444444,
             "#bd3786"
            ],
            [
             0.5555555555555556,
             "#d8576b"
            ],
            [
             0.6666666666666666,
             "#ed7953"
            ],
            [
             0.7777777777777778,
             "#fb9f3a"
            ],
            [
             0.8888888888888888,
             "#fdca26"
            ],
            [
             1,
             "#f0f921"
            ]
           ]
          },
          "colorway": [
           "#636efa",
           "#EF553B",
           "#00cc96",
           "#ab63fa",
           "#FFA15A",
           "#19d3f3",
           "#FF6692",
           "#B6E880",
           "#FF97FF",
           "#FECB52"
          ],
          "font": {
           "color": "#2a3f5f"
          },
          "geo": {
           "bgcolor": "white",
           "lakecolor": "white",
           "landcolor": "#E5ECF6",
           "showlakes": true,
           "showland": true,
           "subunitcolor": "white"
          },
          "hoverlabel": {
           "align": "left"
          },
          "hovermode": "closest",
          "mapbox": {
           "style": "light"
          },
          "paper_bgcolor": "white",
          "plot_bgcolor": "#E5ECF6",
          "polar": {
           "angularaxis": {
            "gridcolor": "white",
            "linecolor": "white",
            "ticks": ""
           },
           "bgcolor": "#E5ECF6",
           "radialaxis": {
            "gridcolor": "white",
            "linecolor": "white",
            "ticks": ""
           }
          },
          "scene": {
           "xaxis": {
            "backgroundcolor": "#E5ECF6",
            "gridcolor": "white",
            "gridwidth": 2,
            "linecolor": "white",
            "showbackground": true,
            "ticks": "",
            "zerolinecolor": "white"
           },
           "yaxis": {
            "backgroundcolor": "#E5ECF6",
            "gridcolor": "white",
            "gridwidth": 2,
            "linecolor": "white",
            "showbackground": true,
            "ticks": "",
            "zerolinecolor": "white"
           },
           "zaxis": {
            "backgroundcolor": "#E5ECF6",
            "gridcolor": "white",
            "gridwidth": 2,
            "linecolor": "white",
            "showbackground": true,
            "ticks": "",
            "zerolinecolor": "white"
           }
          },
          "shapedefaults": {
           "line": {
            "color": "#2a3f5f"
           }
          },
          "ternary": {
           "aaxis": {
            "gridcolor": "white",
            "linecolor": "white",
            "ticks": ""
           },
           "baxis": {
            "gridcolor": "white",
            "linecolor": "white",
            "ticks": ""
           },
           "bgcolor": "#E5ECF6",
           "caxis": {
            "gridcolor": "white",
            "linecolor": "white",
            "ticks": ""
           }
          },
          "title": {
           "x": 0.05
          },
          "xaxis": {
           "automargin": true,
           "gridcolor": "white",
           "linecolor": "white",
           "ticks": "",
           "title": {
            "standoff": 15
           },
           "zerolinecolor": "white",
           "zerolinewidth": 2
          },
          "yaxis": {
           "automargin": true,
           "gridcolor": "white",
           "linecolor": "white",
           "ticks": "",
           "title": {
            "standoff": 15
           },
           "zerolinecolor": "white",
           "zerolinewidth": 2
          }
         }
        },
        "title": {
         "text": "Muertes por  VIH por regiones",
         "x": 0.5,
         "xanchor": "center"
        },
        "xaxis": {
         "anchor": "y",
         "domain": [
          0,
          1
         ],
         "title": {
          "text": "Year"
         }
        },
        "yaxis": {
         "anchor": "x",
         "domain": [
          0,
          1
         ],
         "title": {
          "text": "Deaths - HIV/AIDS - Sex: Both - Age: All Ages (Number)"
         }
        }
       }
      }
     },
     "metadata": {},
     "output_type": "display_data"
    }
   ],
   "source": [
    "fig=px.line(\n",
    "    data_frame=df_continent,\n",
    "    y=\"Deaths - HIV/AIDS - Sex: Both - Age: All Ages (Number)\",\n",
    "    x=\"Year\",\n",
    "    color=\"Entity\",\n",
    "    title= \"Muertes por VIH\"\n",
    "            \n",
    "    )\n",
    "fig.update_layout(\n",
    "    title={\n",
    "        'text': \"Muertes por  VIH por regiones\",\n",
    "        'x': 0.5,\n",
    "        'xanchor':'center'\n",
    "\n",
    "    }\n",
    ")"
   ]
  },
  {
   "cell_type": "markdown",
   "metadata": {},
   "source": [
    "Como era de esperar la muertes por VIH están lideradas por África con una diferencia sustancial sobre el resto."
   ]
  },
  {
   "cell_type": "code",
   "execution_count": 72,
   "metadata": {},
   "outputs": [
    {
     "data": {
      "text/html": [
       "<div>\n",
       "<style scoped>\n",
       "    .dataframe tbody tr th:only-of-type {\n",
       "        vertical-align: middle;\n",
       "    }\n",
       "\n",
       "    .dataframe tbody tr th {\n",
       "        vertical-align: top;\n",
       "    }\n",
       "\n",
       "    .dataframe thead th {\n",
       "        text-align: right;\n",
       "    }\n",
       "</style>\n",
       "<table border=\"1\" class=\"dataframe\">\n",
       "  <thead>\n",
       "    <tr style=\"text-align: right;\">\n",
       "      <th></th>\n",
       "      <th>Entity</th>\n",
       "      <th>Code</th>\n",
       "      <th>Year</th>\n",
       "      <th>Deaths - Meningitis - Sex: Both - Age: All Ages (Number)</th>\n",
       "      <th>Deaths - Alzheimer's disease and other dementias - Sex: Both - Age: All Ages (Number)</th>\n",
       "      <th>Deaths - Parkinson's disease - Sex: Both - Age: All Ages (Number)</th>\n",
       "      <th>Deaths - Nutritional deficiencies - Sex: Both - Age: All Ages (Number)</th>\n",
       "      <th>Deaths - Malaria - Sex: Both - Age: All Ages (Number)</th>\n",
       "      <th>Deaths - Drowning - Sex: Both - Age: All Ages (Number)</th>\n",
       "      <th>Deaths - Interpersonal violence - Sex: Both - Age: All Ages (Number)</th>\n",
       "      <th>...</th>\n",
       "      <th>Deaths - Diabetes mellitus - Sex: Both - Age: All Ages (Number)</th>\n",
       "      <th>Deaths - Chronic kidney disease - Sex: Both - Age: All Ages (Number)</th>\n",
       "      <th>Deaths - Poisonings - Sex: Both - Age: All Ages (Number)</th>\n",
       "      <th>Deaths - Protein-energy malnutrition - Sex: Both - Age: All Ages (Number)</th>\n",
       "      <th>Deaths - Road injuries - Sex: Both - Age: All Ages (Number)</th>\n",
       "      <th>Deaths - Chronic respiratory diseases - Sex: Both - Age: All Ages (Number)</th>\n",
       "      <th>Deaths - Cirrhosis and other chronic liver diseases - Sex: Both - Age: All Ages (Number)</th>\n",
       "      <th>Deaths - Digestive diseases - Sex: Both - Age: All Ages (Number)</th>\n",
       "      <th>Deaths - Fire, heat, and hot substances - Sex: Both - Age: All Ages (Number)</th>\n",
       "      <th>Deaths - Acute hepatitis - Sex: Both - Age: All Ages (Number)</th>\n",
       "    </tr>\n",
       "  </thead>\n",
       "  <tbody>\n",
       "    <tr>\n",
       "      <th>5476</th>\n",
       "      <td>South Africa</td>\n",
       "      <td>ZAF</td>\n",
       "      <td>2006</td>\n",
       "      <td>3505</td>\n",
       "      <td>4675</td>\n",
       "      <td>1040</td>\n",
       "      <td>2658</td>\n",
       "      <td>101</td>\n",
       "      <td>2090</td>\n",
       "      <td>24926</td>\n",
       "      <td>...</td>\n",
       "      <td>22122</td>\n",
       "      <td>10084</td>\n",
       "      <td>737</td>\n",
       "      <td>2574</td>\n",
       "      <td>25217</td>\n",
       "      <td>21099</td>\n",
       "      <td>7188</td>\n",
       "      <td>15171</td>\n",
       "      <td>2638</td>\n",
       "      <td>158</td>\n",
       "    </tr>\n",
       "    <tr>\n",
       "      <th>5475</th>\n",
       "      <td>South Africa</td>\n",
       "      <td>ZAF</td>\n",
       "      <td>2005</td>\n",
       "      <td>3390</td>\n",
       "      <td>4530</td>\n",
       "      <td>992</td>\n",
       "      <td>2695</td>\n",
       "      <td>67</td>\n",
       "      <td>2138</td>\n",
       "      <td>25736</td>\n",
       "      <td>...</td>\n",
       "      <td>20744</td>\n",
       "      <td>9660</td>\n",
       "      <td>767</td>\n",
       "      <td>2602</td>\n",
       "      <td>25240</td>\n",
       "      <td>20893</td>\n",
       "      <td>7095</td>\n",
       "      <td>14881</td>\n",
       "      <td>2652</td>\n",
       "      <td>156</td>\n",
       "    </tr>\n",
       "    <tr>\n",
       "      <th>5477</th>\n",
       "      <td>South Africa</td>\n",
       "      <td>ZAF</td>\n",
       "      <td>2007</td>\n",
       "      <td>3429</td>\n",
       "      <td>4797</td>\n",
       "      <td>1061</td>\n",
       "      <td>2562</td>\n",
       "      <td>43</td>\n",
       "      <td>1957</td>\n",
       "      <td>23833</td>\n",
       "      <td>...</td>\n",
       "      <td>22678</td>\n",
       "      <td>10138</td>\n",
       "      <td>677</td>\n",
       "      <td>2486</td>\n",
       "      <td>24069</td>\n",
       "      <td>20414</td>\n",
       "      <td>6949</td>\n",
       "      <td>14817</td>\n",
       "      <td>2553</td>\n",
       "      <td>153</td>\n",
       "    </tr>\n",
       "  </tbody>\n",
       "</table>\n",
       "<p>3 rows × 34 columns</p>\n",
       "</div>"
      ],
      "text/plain": [
       "            Entity Code  Year  \\\n",
       "5476  South Africa  ZAF  2006   \n",
       "5475  South Africa  ZAF  2005   \n",
       "5477  South Africa  ZAF  2007   \n",
       "\n",
       "      Deaths - Meningitis - Sex: Both - Age: All Ages (Number)  \\\n",
       "5476                                               3505          \n",
       "5475                                               3390          \n",
       "5477                                               3429          \n",
       "\n",
       "      Deaths - Alzheimer's disease and other dementias - Sex: Both - Age: All Ages (Number)  \\\n",
       "5476                                               4675                                       \n",
       "5475                                               4530                                       \n",
       "5477                                               4797                                       \n",
       "\n",
       "      Deaths - Parkinson's disease - Sex: Both - Age: All Ages (Number)  \\\n",
       "5476                                               1040                   \n",
       "5475                                                992                   \n",
       "5477                                               1061                   \n",
       "\n",
       "      Deaths - Nutritional deficiencies - Sex: Both - Age: All Ages (Number)  \\\n",
       "5476                                               2658                        \n",
       "5475                                               2695                        \n",
       "5477                                               2562                        \n",
       "\n",
       "      Deaths - Malaria - Sex: Both - Age: All Ages (Number)  \\\n",
       "5476                                                101       \n",
       "5475                                                 67       \n",
       "5477                                                 43       \n",
       "\n",
       "      Deaths - Drowning - Sex: Both - Age: All Ages (Number)  \\\n",
       "5476                                               2090        \n",
       "5475                                               2138        \n",
       "5477                                               1957        \n",
       "\n",
       "      Deaths - Interpersonal violence - Sex: Both - Age: All Ages (Number)  \\\n",
       "5476                                              24926                      \n",
       "5475                                              25736                      \n",
       "5477                                              23833                      \n",
       "\n",
       "      ...  Deaths - Diabetes mellitus - Sex: Both - Age: All Ages (Number)  \\\n",
       "5476  ...                                              22122                 \n",
       "5475  ...                                              20744                 \n",
       "5477  ...                                              22678                 \n",
       "\n",
       "      Deaths - Chronic kidney disease - Sex: Both - Age: All Ages (Number)  \\\n",
       "5476                                              10084                      \n",
       "5475                                               9660                      \n",
       "5477                                              10138                      \n",
       "\n",
       "      Deaths - Poisonings - Sex: Both - Age: All Ages (Number)  \\\n",
       "5476                                                737          \n",
       "5475                                                767          \n",
       "5477                                                677          \n",
       "\n",
       "      Deaths - Protein-energy malnutrition - Sex: Both - Age: All Ages (Number)  \\\n",
       "5476                                               2574                           \n",
       "5475                                               2602                           \n",
       "5477                                               2486                           \n",
       "\n",
       "      Deaths - Road injuries - Sex: Both - Age: All Ages (Number)  \\\n",
       "5476                                              25217             \n",
       "5475                                              25240             \n",
       "5477                                              24069             \n",
       "\n",
       "      Deaths - Chronic respiratory diseases - Sex: Both - Age: All Ages (Number)  \\\n",
       "5476                                              21099                            \n",
       "5475                                              20893                            \n",
       "5477                                              20414                            \n",
       "\n",
       "      Deaths - Cirrhosis and other chronic liver diseases - Sex: Both - Age: All Ages (Number)  \\\n",
       "5476                                               7188                                          \n",
       "5475                                               7095                                          \n",
       "5477                                               6949                                          \n",
       "\n",
       "      Deaths - Digestive diseases - Sex: Both - Age: All Ages (Number)  \\\n",
       "5476                                              15171                  \n",
       "5475                                              14881                  \n",
       "5477                                              14817                  \n",
       "\n",
       "      Deaths - Fire, heat, and hot substances - Sex: Both - Age: All Ages (Number)  \\\n",
       "5476                                               2638                              \n",
       "5475                                               2652                              \n",
       "5477                                               2553                              \n",
       "\n",
       "      Deaths - Acute hepatitis - Sex: Both - Age: All Ages (Number)  \n",
       "5476                                                158              \n",
       "5475                                                156              \n",
       "5477                                                153              \n",
       "\n",
       "[3 rows x 34 columns]"
      ]
     },
     "execution_count": 72,
     "metadata": {},
     "output_type": "execute_result"
    }
   ],
   "source": [
    "#El país que lidera las muestes por VIH es:\n",
    "df.sort_values(by=\"Deaths - HIV/AIDS - Sex: Both - Age: All Ages (Number)\", ascending=False).head(3)"
   ]
  },
  {
   "cell_type": "markdown",
   "metadata": {},
   "source": [
    "## Desorden en el uso de drogas"
   ]
  },
  {
   "cell_type": "code",
   "execution_count": 47,
   "metadata": {},
   "outputs": [
    {
     "data": {
      "application/vnd.plotly.v1+json": {
       "config": {
        "plotlyServerURL": "https://plot.ly"
       },
       "data": [
        {
         "hovertemplate": "Entity=World Bank High Income<br>Year=%{x}<br>Deaths - Drug use disorders - Sex: Both - Age: All Ages (Number)=%{y}<extra></extra>",
         "legendgroup": "World Bank High Income",
         "line": {
          "color": "#636efa",
          "dash": "solid"
         },
         "marker": {
          "symbol": "circle"
         },
         "mode": "lines",
         "name": "World Bank High Income",
         "orientation": "v",
         "showlegend": true,
         "type": "scatter",
         "x": [
          1990,
          1991,
          1992,
          1993,
          1994,
          1995,
          1996,
          1997,
          1998,
          1999,
          2000,
          2001,
          2002,
          2003,
          2004,
          2005,
          2006,
          2007,
          2008,
          2009,
          2010,
          2011,
          2012,
          2013,
          2014,
          2015,
          2016,
          2017,
          2018,
          2019
         ],
         "xaxis": "x",
         "y": [
          13219,
          14345,
          15399,
          16561,
          17756,
          18907,
          19988,
          21385,
          23013,
          25051,
          26985,
          28900,
          31235,
          33583,
          35594,
          37964,
          39842,
          41199,
          42575,
          43978,
          45310,
          47676,
          50061,
          53478,
          58062,
          64253,
          71638,
          76520,
          79288,
          82588
         ],
         "yaxis": "y"
        },
        {
         "hovertemplate": "Entity=World Bank Low Income<br>Year=%{x}<br>Deaths - Drug use disorders - Sex: Both - Age: All Ages (Number)=%{y}<extra></extra>",
         "legendgroup": "World Bank Low Income",
         "line": {
          "color": "#EF553B",
          "dash": "solid"
         },
         "marker": {
          "symbol": "circle"
         },
         "mode": "lines",
         "name": "World Bank Low Income",
         "orientation": "v",
         "showlegend": true,
         "type": "scatter",
         "x": [
          1990,
          1991,
          1992,
          1993,
          1994,
          1995,
          1996,
          1997,
          1998,
          1999,
          2000,
          2001,
          2002,
          2003,
          2004,
          2005,
          2006,
          2007,
          2008,
          2009,
          2010,
          2011,
          2012,
          2013,
          2014,
          2015,
          2016,
          2017,
          2018,
          2019
         ],
         "xaxis": "x",
         "y": [
          776,
          806,
          844,
          880,
          910,
          941,
          968,
          993,
          1019,
          1039,
          1053,
          1066,
          1082,
          1112,
          1147,
          1181,
          1215,
          1262,
          1326,
          1399,
          1442,
          1506,
          1563,
          1633,
          1706,
          1775,
          1864,
          1958,
          2055,
          2144
         ],
         "yaxis": "y"
        },
        {
         "hovertemplate": "Entity=World Bank Lower Middle Income<br>Year=%{x}<br>Deaths - Drug use disorders - Sex: Both - Age: All Ages (Number)=%{y}<extra></extra>",
         "legendgroup": "World Bank Lower Middle Income",
         "line": {
          "color": "#00cc96",
          "dash": "solid"
         },
         "marker": {
          "symbol": "circle"
         },
         "mode": "lines",
         "name": "World Bank Lower Middle Income",
         "orientation": "v",
         "showlegend": true,
         "type": "scatter",
         "x": [
          1990,
          1991,
          1992,
          1993,
          1994,
          1995,
          1996,
          1997,
          1998,
          1999,
          2000,
          2001,
          2002,
          2003,
          2004,
          2005,
          2006,
          2007,
          2008,
          2009,
          2010,
          2011,
          2012,
          2013,
          2014,
          2015,
          2016,
          2017,
          2018,
          2019
         ],
         "xaxis": "x",
         "y": [
          7129,
          7423,
          7721,
          8058,
          8436,
          8776,
          9052,
          9513,
          9728,
          10066,
          10345,
          10559,
          10839,
          11058,
          11491,
          12354,
          12149,
          12326,
          12482,
          12407,
          12357,
          12451,
          12413,
          13092,
          13371,
          14289,
          14796,
          15294,
          15993,
          16585
         ],
         "yaxis": "y"
        },
        {
         "hovertemplate": "Entity=World Bank Upper Middle Income<br>Year=%{x}<br>Deaths - Drug use disorders - Sex: Both - Age: All Ages (Number)=%{y}<extra></extra>",
         "legendgroup": "World Bank Upper Middle Income",
         "line": {
          "color": "#ab63fa",
          "dash": "solid"
         },
         "marker": {
          "symbol": "circle"
         },
         "mode": "lines",
         "name": "World Bank Upper Middle Income",
         "orientation": "v",
         "showlegend": true,
         "type": "scatter",
         "x": [
          1990,
          1991,
          1992,
          1993,
          1994,
          1995,
          1996,
          1997,
          1998,
          1999,
          2000,
          2001,
          2002,
          2003,
          2004,
          2005,
          2006,
          2007,
          2008,
          2009,
          2010,
          2011,
          2012,
          2013,
          2014,
          2015,
          2016,
          2017,
          2018,
          2019
         ],
         "xaxis": "x",
         "y": [
          35009,
          39314,
          42857,
          46104,
          49627,
          51367,
          51703,
          50689,
          51320,
          51180,
          51306,
          46799,
          41594,
          36502,
          33613,
          33497,
          32217,
          31177,
          30695,
          29246,
          28969,
          27690,
          26902,
          26363,
          26151,
          25086,
          24572,
          24554,
          25763,
          26734
         ],
         "yaxis": "y"
        }
       ],
       "layout": {
        "legend": {
         "title": {
          "text": "Entity"
         },
         "tracegroupgap": 0
        },
        "template": {
         "data": {
          "bar": [
           {
            "error_x": {
             "color": "#2a3f5f"
            },
            "error_y": {
             "color": "#2a3f5f"
            },
            "marker": {
             "line": {
              "color": "#E5ECF6",
              "width": 0.5
             },
             "pattern": {
              "fillmode": "overlay",
              "size": 10,
              "solidity": 0.2
             }
            },
            "type": "bar"
           }
          ],
          "barpolar": [
           {
            "marker": {
             "line": {
              "color": "#E5ECF6",
              "width": 0.5
             },
             "pattern": {
              "fillmode": "overlay",
              "size": 10,
              "solidity": 0.2
             }
            },
            "type": "barpolar"
           }
          ],
          "carpet": [
           {
            "aaxis": {
             "endlinecolor": "#2a3f5f",
             "gridcolor": "white",
             "linecolor": "white",
             "minorgridcolor": "white",
             "startlinecolor": "#2a3f5f"
            },
            "baxis": {
             "endlinecolor": "#2a3f5f",
             "gridcolor": "white",
             "linecolor": "white",
             "minorgridcolor": "white",
             "startlinecolor": "#2a3f5f"
            },
            "type": "carpet"
           }
          ],
          "choropleth": [
           {
            "colorbar": {
             "outlinewidth": 0,
             "ticks": ""
            },
            "type": "choropleth"
           }
          ],
          "contour": [
           {
            "colorbar": {
             "outlinewidth": 0,
             "ticks": ""
            },
            "colorscale": [
             [
              0,
              "#0d0887"
             ],
             [
              0.1111111111111111,
              "#46039f"
             ],
             [
              0.2222222222222222,
              "#7201a8"
             ],
             [
              0.3333333333333333,
              "#9c179e"
             ],
             [
              0.4444444444444444,
              "#bd3786"
             ],
             [
              0.5555555555555556,
              "#d8576b"
             ],
             [
              0.6666666666666666,
              "#ed7953"
             ],
             [
              0.7777777777777778,
              "#fb9f3a"
             ],
             [
              0.8888888888888888,
              "#fdca26"
             ],
             [
              1,
              "#f0f921"
             ]
            ],
            "type": "contour"
           }
          ],
          "contourcarpet": [
           {
            "colorbar": {
             "outlinewidth": 0,
             "ticks": ""
            },
            "type": "contourcarpet"
           }
          ],
          "heatmap": [
           {
            "colorbar": {
             "outlinewidth": 0,
             "ticks": ""
            },
            "colorscale": [
             [
              0,
              "#0d0887"
             ],
             [
              0.1111111111111111,
              "#46039f"
             ],
             [
              0.2222222222222222,
              "#7201a8"
             ],
             [
              0.3333333333333333,
              "#9c179e"
             ],
             [
              0.4444444444444444,
              "#bd3786"
             ],
             [
              0.5555555555555556,
              "#d8576b"
             ],
             [
              0.6666666666666666,
              "#ed7953"
             ],
             [
              0.7777777777777778,
              "#fb9f3a"
             ],
             [
              0.8888888888888888,
              "#fdca26"
             ],
             [
              1,
              "#f0f921"
             ]
            ],
            "type": "heatmap"
           }
          ],
          "heatmapgl": [
           {
            "colorbar": {
             "outlinewidth": 0,
             "ticks": ""
            },
            "colorscale": [
             [
              0,
              "#0d0887"
             ],
             [
              0.1111111111111111,
              "#46039f"
             ],
             [
              0.2222222222222222,
              "#7201a8"
             ],
             [
              0.3333333333333333,
              "#9c179e"
             ],
             [
              0.4444444444444444,
              "#bd3786"
             ],
             [
              0.5555555555555556,
              "#d8576b"
             ],
             [
              0.6666666666666666,
              "#ed7953"
             ],
             [
              0.7777777777777778,
              "#fb9f3a"
             ],
             [
              0.8888888888888888,
              "#fdca26"
             ],
             [
              1,
              "#f0f921"
             ]
            ],
            "type": "heatmapgl"
           }
          ],
          "histogram": [
           {
            "marker": {
             "pattern": {
              "fillmode": "overlay",
              "size": 10,
              "solidity": 0.2
             }
            },
            "type": "histogram"
           }
          ],
          "histogram2d": [
           {
            "colorbar": {
             "outlinewidth": 0,
             "ticks": ""
            },
            "colorscale": [
             [
              0,
              "#0d0887"
             ],
             [
              0.1111111111111111,
              "#46039f"
             ],
             [
              0.2222222222222222,
              "#7201a8"
             ],
             [
              0.3333333333333333,
              "#9c179e"
             ],
             [
              0.4444444444444444,
              "#bd3786"
             ],
             [
              0.5555555555555556,
              "#d8576b"
             ],
             [
              0.6666666666666666,
              "#ed7953"
             ],
             [
              0.7777777777777778,
              "#fb9f3a"
             ],
             [
              0.8888888888888888,
              "#fdca26"
             ],
             [
              1,
              "#f0f921"
             ]
            ],
            "type": "histogram2d"
           }
          ],
          "histogram2dcontour": [
           {
            "colorbar": {
             "outlinewidth": 0,
             "ticks": ""
            },
            "colorscale": [
             [
              0,
              "#0d0887"
             ],
             [
              0.1111111111111111,
              "#46039f"
             ],
             [
              0.2222222222222222,
              "#7201a8"
             ],
             [
              0.3333333333333333,
              "#9c179e"
             ],
             [
              0.4444444444444444,
              "#bd3786"
             ],
             [
              0.5555555555555556,
              "#d8576b"
             ],
             [
              0.6666666666666666,
              "#ed7953"
             ],
             [
              0.7777777777777778,
              "#fb9f3a"
             ],
             [
              0.8888888888888888,
              "#fdca26"
             ],
             [
              1,
              "#f0f921"
             ]
            ],
            "type": "histogram2dcontour"
           }
          ],
          "mesh3d": [
           {
            "colorbar": {
             "outlinewidth": 0,
             "ticks": ""
            },
            "type": "mesh3d"
           }
          ],
          "parcoords": [
           {
            "line": {
             "colorbar": {
              "outlinewidth": 0,
              "ticks": ""
             }
            },
            "type": "parcoords"
           }
          ],
          "pie": [
           {
            "automargin": true,
            "type": "pie"
           }
          ],
          "scatter": [
           {
            "fillpattern": {
             "fillmode": "overlay",
             "size": 10,
             "solidity": 0.2
            },
            "type": "scatter"
           }
          ],
          "scatter3d": [
           {
            "line": {
             "colorbar": {
              "outlinewidth": 0,
              "ticks": ""
             }
            },
            "marker": {
             "colorbar": {
              "outlinewidth": 0,
              "ticks": ""
             }
            },
            "type": "scatter3d"
           }
          ],
          "scattercarpet": [
           {
            "marker": {
             "colorbar": {
              "outlinewidth": 0,
              "ticks": ""
             }
            },
            "type": "scattercarpet"
           }
          ],
          "scattergeo": [
           {
            "marker": {
             "colorbar": {
              "outlinewidth": 0,
              "ticks": ""
             }
            },
            "type": "scattergeo"
           }
          ],
          "scattergl": [
           {
            "marker": {
             "colorbar": {
              "outlinewidth": 0,
              "ticks": ""
             }
            },
            "type": "scattergl"
           }
          ],
          "scattermapbox": [
           {
            "marker": {
             "colorbar": {
              "outlinewidth": 0,
              "ticks": ""
             }
            },
            "type": "scattermapbox"
           }
          ],
          "scatterpolar": [
           {
            "marker": {
             "colorbar": {
              "outlinewidth": 0,
              "ticks": ""
             }
            },
            "type": "scatterpolar"
           }
          ],
          "scatterpolargl": [
           {
            "marker": {
             "colorbar": {
              "outlinewidth": 0,
              "ticks": ""
             }
            },
            "type": "scatterpolargl"
           }
          ],
          "scatterternary": [
           {
            "marker": {
             "colorbar": {
              "outlinewidth": 0,
              "ticks": ""
             }
            },
            "type": "scatterternary"
           }
          ],
          "surface": [
           {
            "colorbar": {
             "outlinewidth": 0,
             "ticks": ""
            },
            "colorscale": [
             [
              0,
              "#0d0887"
             ],
             [
              0.1111111111111111,
              "#46039f"
             ],
             [
              0.2222222222222222,
              "#7201a8"
             ],
             [
              0.3333333333333333,
              "#9c179e"
             ],
             [
              0.4444444444444444,
              "#bd3786"
             ],
             [
              0.5555555555555556,
              "#d8576b"
             ],
             [
              0.6666666666666666,
              "#ed7953"
             ],
             [
              0.7777777777777778,
              "#fb9f3a"
             ],
             [
              0.8888888888888888,
              "#fdca26"
             ],
             [
              1,
              "#f0f921"
             ]
            ],
            "type": "surface"
           }
          ],
          "table": [
           {
            "cells": {
             "fill": {
              "color": "#EBF0F8"
             },
             "line": {
              "color": "white"
             }
            },
            "header": {
             "fill": {
              "color": "#C8D4E3"
             },
             "line": {
              "color": "white"
             }
            },
            "type": "table"
           }
          ]
         },
         "layout": {
          "annotationdefaults": {
           "arrowcolor": "#2a3f5f",
           "arrowhead": 0,
           "arrowwidth": 1
          },
          "autotypenumbers": "strict",
          "coloraxis": {
           "colorbar": {
            "outlinewidth": 0,
            "ticks": ""
           }
          },
          "colorscale": {
           "diverging": [
            [
             0,
             "#8e0152"
            ],
            [
             0.1,
             "#c51b7d"
            ],
            [
             0.2,
             "#de77ae"
            ],
            [
             0.3,
             "#f1b6da"
            ],
            [
             0.4,
             "#fde0ef"
            ],
            [
             0.5,
             "#f7f7f7"
            ],
            [
             0.6,
             "#e6f5d0"
            ],
            [
             0.7,
             "#b8e186"
            ],
            [
             0.8,
             "#7fbc41"
            ],
            [
             0.9,
             "#4d9221"
            ],
            [
             1,
             "#276419"
            ]
           ],
           "sequential": [
            [
             0,
             "#0d0887"
            ],
            [
             0.1111111111111111,
             "#46039f"
            ],
            [
             0.2222222222222222,
             "#7201a8"
            ],
            [
             0.3333333333333333,
             "#9c179e"
            ],
            [
             0.4444444444444444,
             "#bd3786"
            ],
            [
             0.5555555555555556,
             "#d8576b"
            ],
            [
             0.6666666666666666,
             "#ed7953"
            ],
            [
             0.7777777777777778,
             "#fb9f3a"
            ],
            [
             0.8888888888888888,
             "#fdca26"
            ],
            [
             1,
             "#f0f921"
            ]
           ],
           "sequentialminus": [
            [
             0,
             "#0d0887"
            ],
            [
             0.1111111111111111,
             "#46039f"
            ],
            [
             0.2222222222222222,
             "#7201a8"
            ],
            [
             0.3333333333333333,
             "#9c179e"
            ],
            [
             0.4444444444444444,
             "#bd3786"
            ],
            [
             0.5555555555555556,
             "#d8576b"
            ],
            [
             0.6666666666666666,
             "#ed7953"
            ],
            [
             0.7777777777777778,
             "#fb9f3a"
            ],
            [
             0.8888888888888888,
             "#fdca26"
            ],
            [
             1,
             "#f0f921"
            ]
           ]
          },
          "colorway": [
           "#636efa",
           "#EF553B",
           "#00cc96",
           "#ab63fa",
           "#FFA15A",
           "#19d3f3",
           "#FF6692",
           "#B6E880",
           "#FF97FF",
           "#FECB52"
          ],
          "font": {
           "color": "#2a3f5f"
          },
          "geo": {
           "bgcolor": "white",
           "lakecolor": "white",
           "landcolor": "#E5ECF6",
           "showlakes": true,
           "showland": true,
           "subunitcolor": "white"
          },
          "hoverlabel": {
           "align": "left"
          },
          "hovermode": "closest",
          "mapbox": {
           "style": "light"
          },
          "paper_bgcolor": "white",
          "plot_bgcolor": "#E5ECF6",
          "polar": {
           "angularaxis": {
            "gridcolor": "white",
            "linecolor": "white",
            "ticks": ""
           },
           "bgcolor": "#E5ECF6",
           "radialaxis": {
            "gridcolor": "white",
            "linecolor": "white",
            "ticks": ""
           }
          },
          "scene": {
           "xaxis": {
            "backgroundcolor": "#E5ECF6",
            "gridcolor": "white",
            "gridwidth": 2,
            "linecolor": "white",
            "showbackground": true,
            "ticks": "",
            "zerolinecolor": "white"
           },
           "yaxis": {
            "backgroundcolor": "#E5ECF6",
            "gridcolor": "white",
            "gridwidth": 2,
            "linecolor": "white",
            "showbackground": true,
            "ticks": "",
            "zerolinecolor": "white"
           },
           "zaxis": {
            "backgroundcolor": "#E5ECF6",
            "gridcolor": "white",
            "gridwidth": 2,
            "linecolor": "white",
            "showbackground": true,
            "ticks": "",
            "zerolinecolor": "white"
           }
          },
          "shapedefaults": {
           "line": {
            "color": "#2a3f5f"
           }
          },
          "ternary": {
           "aaxis": {
            "gridcolor": "white",
            "linecolor": "white",
            "ticks": ""
           },
           "baxis": {
            "gridcolor": "white",
            "linecolor": "white",
            "ticks": ""
           },
           "bgcolor": "#E5ECF6",
           "caxis": {
            "gridcolor": "white",
            "linecolor": "white",
            "ticks": ""
           }
          },
          "title": {
           "x": 0.05
          },
          "xaxis": {
           "automargin": true,
           "gridcolor": "white",
           "linecolor": "white",
           "ticks": "",
           "title": {
            "standoff": 15
           },
           "zerolinecolor": "white",
           "zerolinewidth": 2
          },
          "yaxis": {
           "automargin": true,
           "gridcolor": "white",
           "linecolor": "white",
           "ticks": "",
           "title": {
            "standoff": 15
           },
           "zerolinecolor": "white",
           "zerolinewidth": 2
          }
         }
        },
        "title": {
         "text": "Muertes por  uso de drogas según nivel de renta",
         "x": 0.5,
         "xanchor": "center"
        },
        "xaxis": {
         "anchor": "y",
         "domain": [
          0,
          1
         ],
         "title": {
          "text": "Year"
         }
        },
        "yaxis": {
         "anchor": "x",
         "domain": [
          0,
          1
         ],
         "title": {
          "text": "Deaths - Drug use disorders - Sex: Both - Age: All Ages (Number)"
         }
        }
       }
      }
     },
     "metadata": {},
     "output_type": "display_data"
    }
   ],
   "source": [
    "fig=px.line(\n",
    "    data_frame=df_income,\n",
    "    y=\"Deaths - Drug use disorders - Sex: Both - Age: All Ages (Number)\",\n",
    "    x=\"Year\",\n",
    "    color=\"Entity\",\n",
    "    title= \"Muertes por uso de drogas\"\n",
    "            \n",
    "    )\n",
    "fig.update_layout(\n",
    "    title={\n",
    "        'text': \"Muertes por  uso de drogas según nivel de renta\",\n",
    "        'x': 0.5,\n",
    "        'xanchor':'center'\n",
    "\n",
    "    }\n",
    ")"
   ]
  },
  {
   "cell_type": "markdown",
   "metadata": {},
   "source": [
    "Como se puede ver en el gráfico los países con mayor nivel de renta registran un mayor nivel de defunciones por consumo de drogas.  Esto se explica por un factor cultural y que por lo general para poder consumir drogas es necesario tener un mayor nivel de renta que el correspondiente a satisfacer las necesidades básicas."
   ]
  },
  {
   "cell_type": "code",
   "execution_count": 48,
   "metadata": {},
   "outputs": [
    {
     "data": {
      "application/vnd.plotly.v1+json": {
       "config": {
        "plotlyServerURL": "https://plot.ly"
       },
       "data": [
        {
         "hovertemplate": "Entity=African Region (WHO)<br>Year=%{x}<br>Deaths - Drug use disorders - Sex: Both - Age: All Ages (Number)=%{y}<extra></extra>",
         "legendgroup": "African Region (WHO)",
         "line": {
          "color": "#636efa",
          "dash": "solid"
         },
         "marker": {
          "symbol": "circle"
         },
         "mode": "lines",
         "name": "African Region (WHO)",
         "orientation": "v",
         "showlegend": true,
         "type": "scatter",
         "x": [
          1990,
          1991,
          1992,
          1993,
          1994,
          1995,
          1996,
          1997,
          1998,
          1999,
          2000,
          2001,
          2002,
          2003,
          2004,
          2005,
          2006,
          2007,
          2008,
          2009,
          2010,
          2011,
          2012,
          2013,
          2014,
          2015,
          2016,
          2017,
          2018,
          2019
         ],
         "xaxis": "x",
         "y": [
          1068,
          1121,
          1199,
          1225,
          1290,
          1340,
          1373,
          1461,
          1509,
          1543,
          1596,
          1607,
          1639,
          1670,
          1698,
          1721,
          1754,
          1785,
          1839,
          1906,
          1940,
          2000,
          2062,
          2140,
          2226,
          2297,
          2382,
          2483,
          2600,
          2703
         ],
         "yaxis": "y"
        },
        {
         "hovertemplate": "Entity=Eastern Mediterranean Region (WHO)<br>Year=%{x}<br>Deaths - Drug use disorders - Sex: Both - Age: All Ages (Number)=%{y}<extra></extra>",
         "legendgroup": "Eastern Mediterranean Region (WHO)",
         "line": {
          "color": "#EF553B",
          "dash": "solid"
         },
         "marker": {
          "symbol": "circle"
         },
         "mode": "lines",
         "name": "Eastern Mediterranean Region (WHO)",
         "orientation": "v",
         "showlegend": true,
         "type": "scatter",
         "x": [
          1990,
          1991,
          1992,
          1993,
          1994,
          1995,
          1996,
          1997,
          1998,
          1999,
          2000,
          2001,
          2002,
          2003,
          2004,
          2005,
          2006,
          2007,
          2008,
          2009,
          2010,
          2011,
          2012,
          2013,
          2014,
          2015,
          2016,
          2017,
          2018,
          2019
         ],
         "xaxis": "x",
         "y": [
          2042,
          2165,
          2312,
          2485,
          2659,
          2864,
          3102,
          3351,
          3611,
          3876,
          4201,
          4538,
          4876,
          5235,
          5619,
          5927,
          6234,
          6625,
          6942,
          7095,
          7180,
          7188,
          7149,
          7070,
          7094,
          7089,
          7170,
          7307,
          7487,
          7645
         ],
         "yaxis": "y"
        },
        {
         "hovertemplate": "Entity=European Region (WHO)<br>Year=%{x}<br>Deaths - Drug use disorders - Sex: Both - Age: All Ages (Number)=%{y}<extra></extra>",
         "legendgroup": "European Region (WHO)",
         "line": {
          "color": "#00cc96",
          "dash": "solid"
         },
         "marker": {
          "symbol": "circle"
         },
         "mode": "lines",
         "name": "European Region (WHO)",
         "orientation": "v",
         "showlegend": true,
         "type": "scatter",
         "x": [
          1990,
          1991,
          1992,
          1993,
          1994,
          1995,
          1996,
          1997,
          1998,
          1999,
          2000,
          2001,
          2002,
          2003,
          2004,
          2005,
          2006,
          2007,
          2008,
          2009,
          2010,
          2011,
          2012,
          2013,
          2014,
          2015,
          2016,
          2017,
          2018,
          2019
         ],
         "xaxis": "x",
         "y": [
          12206,
          13545,
          15054,
          16965,
          18444,
          18884,
          18938,
          18957,
          19561,
          21157,
          22422,
          22189,
          21932,
          22463,
          23238,
          25124,
          25171,
          25095,
          25141,
          23716,
          23258,
          22091,
          21712,
          21562,
          21403,
          21138,
          20569,
          20021,
          20150,
          20329
         ],
         "yaxis": "y"
        },
        {
         "hovertemplate": "Entity=Region of the Americas (WHO)<br>Year=%{x}<br>Deaths - Drug use disorders - Sex: Both - Age: All Ages (Number)=%{y}<extra></extra>",
         "legendgroup": "Region of the Americas (WHO)",
         "line": {
          "color": "#ab63fa",
          "dash": "solid"
         },
         "marker": {
          "symbol": "circle"
         },
         "mode": "lines",
         "name": "Region of the Americas (WHO)",
         "orientation": "v",
         "showlegend": true,
         "type": "scatter",
         "x": [
          1990,
          1991,
          1992,
          1993,
          1994,
          1995,
          1996,
          1997,
          1998,
          1999,
          2000,
          2001,
          2002,
          2003,
          2004,
          2005,
          2006,
          2007,
          2008,
          2009,
          2010,
          2011,
          2012,
          2013,
          2014,
          2015,
          2016,
          2017,
          2018,
          2019
         ],
         "xaxis": "x",
         "y": [
          7264,
          7624,
          8154,
          8945,
          9623,
          10299,
          11043,
          12129,
          13400,
          15125,
          16861,
          18869,
          21424,
          23898,
          25963,
          28216,
          29975,
          31086,
          32242,
          33643,
          35125,
          37625,
          40089,
          43441,
          47860,
          53714,
          60930,
          65662,
          68179,
          71205
         ],
         "yaxis": "y"
        },
        {
         "hovertemplate": "Entity=South-East Asia Region (WHO)<br>Year=%{x}<br>Deaths - Drug use disorders - Sex: Both - Age: All Ages (Number)=%{y}<extra></extra>",
         "legendgroup": "South-East Asia Region (WHO)",
         "line": {
          "color": "#FFA15A",
          "dash": "solid"
         },
         "marker": {
          "symbol": "circle"
         },
         "mode": "lines",
         "name": "South-East Asia Region (WHO)",
         "orientation": "v",
         "showlegend": true,
         "type": "scatter",
         "x": [
          1990,
          1991,
          1992,
          1993,
          1994,
          1995,
          1996,
          1997,
          1998,
          1999,
          2000,
          2001,
          2002,
          2003,
          2004,
          2005,
          2006,
          2007,
          2008,
          2009,
          2010,
          2011,
          2012,
          2013,
          2014,
          2015,
          2016,
          2017,
          2018,
          2019
         ],
         "xaxis": "x",
         "y": [
          4660,
          4755,
          4845,
          5032,
          5274,
          5440,
          5755,
          6229,
          6496,
          6778,
          6928,
          7067,
          7235,
          7327,
          7464,
          8100,
          7840,
          7796,
          7798,
          7865,
          7884,
          7891,
          7711,
          8198,
          8379,
          8785,
          9174,
          9528,
          10115,
          10566
         ],
         "yaxis": "y"
        },
        {
         "hovertemplate": "Entity=Western Pacific Region (WHO)<br>Year=%{x}<br>Deaths - Drug use disorders - Sex: Both - Age: All Ages (Number)=%{y}<extra></extra>",
         "legendgroup": "Western Pacific Region (WHO)",
         "line": {
          "color": "#19d3f3",
          "dash": "solid"
         },
         "marker": {
          "symbol": "circle"
         },
         "mode": "lines",
         "name": "Western Pacific Region (WHO)",
         "orientation": "v",
         "showlegend": true,
         "type": "scatter",
         "x": [
          1990,
          1991,
          1992,
          1993,
          1994,
          1995,
          1996,
          1997,
          1998,
          1999,
          2000,
          2001,
          2002,
          2003,
          2004,
          2005,
          2006,
          2007,
          2008,
          2009,
          2010,
          2011,
          2012,
          2013,
          2014,
          2015,
          2016,
          2017,
          2018,
          2019
         ],
         "xaxis": "x",
         "y": [
          28772,
          32537,
          35092,
          36747,
          39176,
          40825,
          41122,
          40015,
          40018,
          38379,
          37190,
          32574,
          27217,
          21288,
          17542,
          15610,
          14177,
          13329,
          12896,
          12608,
          12522,
          12371,
          12075,
          12024,
          12204,
          12265,
          12528,
          13207,
          14449,
          15482
         ],
         "yaxis": "y"
        }
       ],
       "layout": {
        "legend": {
         "title": {
          "text": "Entity"
         },
         "tracegroupgap": 0
        },
        "template": {
         "data": {
          "bar": [
           {
            "error_x": {
             "color": "#2a3f5f"
            },
            "error_y": {
             "color": "#2a3f5f"
            },
            "marker": {
             "line": {
              "color": "#E5ECF6",
              "width": 0.5
             },
             "pattern": {
              "fillmode": "overlay",
              "size": 10,
              "solidity": 0.2
             }
            },
            "type": "bar"
           }
          ],
          "barpolar": [
           {
            "marker": {
             "line": {
              "color": "#E5ECF6",
              "width": 0.5
             },
             "pattern": {
              "fillmode": "overlay",
              "size": 10,
              "solidity": 0.2
             }
            },
            "type": "barpolar"
           }
          ],
          "carpet": [
           {
            "aaxis": {
             "endlinecolor": "#2a3f5f",
             "gridcolor": "white",
             "linecolor": "white",
             "minorgridcolor": "white",
             "startlinecolor": "#2a3f5f"
            },
            "baxis": {
             "endlinecolor": "#2a3f5f",
             "gridcolor": "white",
             "linecolor": "white",
             "minorgridcolor": "white",
             "startlinecolor": "#2a3f5f"
            },
            "type": "carpet"
           }
          ],
          "choropleth": [
           {
            "colorbar": {
             "outlinewidth": 0,
             "ticks": ""
            },
            "type": "choropleth"
           }
          ],
          "contour": [
           {
            "colorbar": {
             "outlinewidth": 0,
             "ticks": ""
            },
            "colorscale": [
             [
              0,
              "#0d0887"
             ],
             [
              0.1111111111111111,
              "#46039f"
             ],
             [
              0.2222222222222222,
              "#7201a8"
             ],
             [
              0.3333333333333333,
              "#9c179e"
             ],
             [
              0.4444444444444444,
              "#bd3786"
             ],
             [
              0.5555555555555556,
              "#d8576b"
             ],
             [
              0.6666666666666666,
              "#ed7953"
             ],
             [
              0.7777777777777778,
              "#fb9f3a"
             ],
             [
              0.8888888888888888,
              "#fdca26"
             ],
             [
              1,
              "#f0f921"
             ]
            ],
            "type": "contour"
           }
          ],
          "contourcarpet": [
           {
            "colorbar": {
             "outlinewidth": 0,
             "ticks": ""
            },
            "type": "contourcarpet"
           }
          ],
          "heatmap": [
           {
            "colorbar": {
             "outlinewidth": 0,
             "ticks": ""
            },
            "colorscale": [
             [
              0,
              "#0d0887"
             ],
             [
              0.1111111111111111,
              "#46039f"
             ],
             [
              0.2222222222222222,
              "#7201a8"
             ],
             [
              0.3333333333333333,
              "#9c179e"
             ],
             [
              0.4444444444444444,
              "#bd3786"
             ],
             [
              0.5555555555555556,
              "#d8576b"
             ],
             [
              0.6666666666666666,
              "#ed7953"
             ],
             [
              0.7777777777777778,
              "#fb9f3a"
             ],
             [
              0.8888888888888888,
              "#fdca26"
             ],
             [
              1,
              "#f0f921"
             ]
            ],
            "type": "heatmap"
           }
          ],
          "heatmapgl": [
           {
            "colorbar": {
             "outlinewidth": 0,
             "ticks": ""
            },
            "colorscale": [
             [
              0,
              "#0d0887"
             ],
             [
              0.1111111111111111,
              "#46039f"
             ],
             [
              0.2222222222222222,
              "#7201a8"
             ],
             [
              0.3333333333333333,
              "#9c179e"
             ],
             [
              0.4444444444444444,
              "#bd3786"
             ],
             [
              0.5555555555555556,
              "#d8576b"
             ],
             [
              0.6666666666666666,
              "#ed7953"
             ],
             [
              0.7777777777777778,
              "#fb9f3a"
             ],
             [
              0.8888888888888888,
              "#fdca26"
             ],
             [
              1,
              "#f0f921"
             ]
            ],
            "type": "heatmapgl"
           }
          ],
          "histogram": [
           {
            "marker": {
             "pattern": {
              "fillmode": "overlay",
              "size": 10,
              "solidity": 0.2
             }
            },
            "type": "histogram"
           }
          ],
          "histogram2d": [
           {
            "colorbar": {
             "outlinewidth": 0,
             "ticks": ""
            },
            "colorscale": [
             [
              0,
              "#0d0887"
             ],
             [
              0.1111111111111111,
              "#46039f"
             ],
             [
              0.2222222222222222,
              "#7201a8"
             ],
             [
              0.3333333333333333,
              "#9c179e"
             ],
             [
              0.4444444444444444,
              "#bd3786"
             ],
             [
              0.5555555555555556,
              "#d8576b"
             ],
             [
              0.6666666666666666,
              "#ed7953"
             ],
             [
              0.7777777777777778,
              "#fb9f3a"
             ],
             [
              0.8888888888888888,
              "#fdca26"
             ],
             [
              1,
              "#f0f921"
             ]
            ],
            "type": "histogram2d"
           }
          ],
          "histogram2dcontour": [
           {
            "colorbar": {
             "outlinewidth": 0,
             "ticks": ""
            },
            "colorscale": [
             [
              0,
              "#0d0887"
             ],
             [
              0.1111111111111111,
              "#46039f"
             ],
             [
              0.2222222222222222,
              "#7201a8"
             ],
             [
              0.3333333333333333,
              "#9c179e"
             ],
             [
              0.4444444444444444,
              "#bd3786"
             ],
             [
              0.5555555555555556,
              "#d8576b"
             ],
             [
              0.6666666666666666,
              "#ed7953"
             ],
             [
              0.7777777777777778,
              "#fb9f3a"
             ],
             [
              0.8888888888888888,
              "#fdca26"
             ],
             [
              1,
              "#f0f921"
             ]
            ],
            "type": "histogram2dcontour"
           }
          ],
          "mesh3d": [
           {
            "colorbar": {
             "outlinewidth": 0,
             "ticks": ""
            },
            "type": "mesh3d"
           }
          ],
          "parcoords": [
           {
            "line": {
             "colorbar": {
              "outlinewidth": 0,
              "ticks": ""
             }
            },
            "type": "parcoords"
           }
          ],
          "pie": [
           {
            "automargin": true,
            "type": "pie"
           }
          ],
          "scatter": [
           {
            "fillpattern": {
             "fillmode": "overlay",
             "size": 10,
             "solidity": 0.2
            },
            "type": "scatter"
           }
          ],
          "scatter3d": [
           {
            "line": {
             "colorbar": {
              "outlinewidth": 0,
              "ticks": ""
             }
            },
            "marker": {
             "colorbar": {
              "outlinewidth": 0,
              "ticks": ""
             }
            },
            "type": "scatter3d"
           }
          ],
          "scattercarpet": [
           {
            "marker": {
             "colorbar": {
              "outlinewidth": 0,
              "ticks": ""
             }
            },
            "type": "scattercarpet"
           }
          ],
          "scattergeo": [
           {
            "marker": {
             "colorbar": {
              "outlinewidth": 0,
              "ticks": ""
             }
            },
            "type": "scattergeo"
           }
          ],
          "scattergl": [
           {
            "marker": {
             "colorbar": {
              "outlinewidth": 0,
              "ticks": ""
             }
            },
            "type": "scattergl"
           }
          ],
          "scattermapbox": [
           {
            "marker": {
             "colorbar": {
              "outlinewidth": 0,
              "ticks": ""
             }
            },
            "type": "scattermapbox"
           }
          ],
          "scatterpolar": [
           {
            "marker": {
             "colorbar": {
              "outlinewidth": 0,
              "ticks": ""
             }
            },
            "type": "scatterpolar"
           }
          ],
          "scatterpolargl": [
           {
            "marker": {
             "colorbar": {
              "outlinewidth": 0,
              "ticks": ""
             }
            },
            "type": "scatterpolargl"
           }
          ],
          "scatterternary": [
           {
            "marker": {
             "colorbar": {
              "outlinewidth": 0,
              "ticks": ""
             }
            },
            "type": "scatterternary"
           }
          ],
          "surface": [
           {
            "colorbar": {
             "outlinewidth": 0,
             "ticks": ""
            },
            "colorscale": [
             [
              0,
              "#0d0887"
             ],
             [
              0.1111111111111111,
              "#46039f"
             ],
             [
              0.2222222222222222,
              "#7201a8"
             ],
             [
              0.3333333333333333,
              "#9c179e"
             ],
             [
              0.4444444444444444,
              "#bd3786"
             ],
             [
              0.5555555555555556,
              "#d8576b"
             ],
             [
              0.6666666666666666,
              "#ed7953"
             ],
             [
              0.7777777777777778,
              "#fb9f3a"
             ],
             [
              0.8888888888888888,
              "#fdca26"
             ],
             [
              1,
              "#f0f921"
             ]
            ],
            "type": "surface"
           }
          ],
          "table": [
           {
            "cells": {
             "fill": {
              "color": "#EBF0F8"
             },
             "line": {
              "color": "white"
             }
            },
            "header": {
             "fill": {
              "color": "#C8D4E3"
             },
             "line": {
              "color": "white"
             }
            },
            "type": "table"
           }
          ]
         },
         "layout": {
          "annotationdefaults": {
           "arrowcolor": "#2a3f5f",
           "arrowhead": 0,
           "arrowwidth": 1
          },
          "autotypenumbers": "strict",
          "coloraxis": {
           "colorbar": {
            "outlinewidth": 0,
            "ticks": ""
           }
          },
          "colorscale": {
           "diverging": [
            [
             0,
             "#8e0152"
            ],
            [
             0.1,
             "#c51b7d"
            ],
            [
             0.2,
             "#de77ae"
            ],
            [
             0.3,
             "#f1b6da"
            ],
            [
             0.4,
             "#fde0ef"
            ],
            [
             0.5,
             "#f7f7f7"
            ],
            [
             0.6,
             "#e6f5d0"
            ],
            [
             0.7,
             "#b8e186"
            ],
            [
             0.8,
             "#7fbc41"
            ],
            [
             0.9,
             "#4d9221"
            ],
            [
             1,
             "#276419"
            ]
           ],
           "sequential": [
            [
             0,
             "#0d0887"
            ],
            [
             0.1111111111111111,
             "#46039f"
            ],
            [
             0.2222222222222222,
             "#7201a8"
            ],
            [
             0.3333333333333333,
             "#9c179e"
            ],
            [
             0.4444444444444444,
             "#bd3786"
            ],
            [
             0.5555555555555556,
             "#d8576b"
            ],
            [
             0.6666666666666666,
             "#ed7953"
            ],
            [
             0.7777777777777778,
             "#fb9f3a"
            ],
            [
             0.8888888888888888,
             "#fdca26"
            ],
            [
             1,
             "#f0f921"
            ]
           ],
           "sequentialminus": [
            [
             0,
             "#0d0887"
            ],
            [
             0.1111111111111111,
             "#46039f"
            ],
            [
             0.2222222222222222,
             "#7201a8"
            ],
            [
             0.3333333333333333,
             "#9c179e"
            ],
            [
             0.4444444444444444,
             "#bd3786"
            ],
            [
             0.5555555555555556,
             "#d8576b"
            ],
            [
             0.6666666666666666,
             "#ed7953"
            ],
            [
             0.7777777777777778,
             "#fb9f3a"
            ],
            [
             0.8888888888888888,
             "#fdca26"
            ],
            [
             1,
             "#f0f921"
            ]
           ]
          },
          "colorway": [
           "#636efa",
           "#EF553B",
           "#00cc96",
           "#ab63fa",
           "#FFA15A",
           "#19d3f3",
           "#FF6692",
           "#B6E880",
           "#FF97FF",
           "#FECB52"
          ],
          "font": {
           "color": "#2a3f5f"
          },
          "geo": {
           "bgcolor": "white",
           "lakecolor": "white",
           "landcolor": "#E5ECF6",
           "showlakes": true,
           "showland": true,
           "subunitcolor": "white"
          },
          "hoverlabel": {
           "align": "left"
          },
          "hovermode": "closest",
          "mapbox": {
           "style": "light"
          },
          "paper_bgcolor": "white",
          "plot_bgcolor": "#E5ECF6",
          "polar": {
           "angularaxis": {
            "gridcolor": "white",
            "linecolor": "white",
            "ticks": ""
           },
           "bgcolor": "#E5ECF6",
           "radialaxis": {
            "gridcolor": "white",
            "linecolor": "white",
            "ticks": ""
           }
          },
          "scene": {
           "xaxis": {
            "backgroundcolor": "#E5ECF6",
            "gridcolor": "white",
            "gridwidth": 2,
            "linecolor": "white",
            "showbackground": true,
            "ticks": "",
            "zerolinecolor": "white"
           },
           "yaxis": {
            "backgroundcolor": "#E5ECF6",
            "gridcolor": "white",
            "gridwidth": 2,
            "linecolor": "white",
            "showbackground": true,
            "ticks": "",
            "zerolinecolor": "white"
           },
           "zaxis": {
            "backgroundcolor": "#E5ECF6",
            "gridcolor": "white",
            "gridwidth": 2,
            "linecolor": "white",
            "showbackground": true,
            "ticks": "",
            "zerolinecolor": "white"
           }
          },
          "shapedefaults": {
           "line": {
            "color": "#2a3f5f"
           }
          },
          "ternary": {
           "aaxis": {
            "gridcolor": "white",
            "linecolor": "white",
            "ticks": ""
           },
           "baxis": {
            "gridcolor": "white",
            "linecolor": "white",
            "ticks": ""
           },
           "bgcolor": "#E5ECF6",
           "caxis": {
            "gridcolor": "white",
            "linecolor": "white",
            "ticks": ""
           }
          },
          "title": {
           "x": 0.05
          },
          "xaxis": {
           "automargin": true,
           "gridcolor": "white",
           "linecolor": "white",
           "ticks": "",
           "title": {
            "standoff": 15
           },
           "zerolinecolor": "white",
           "zerolinewidth": 2
          },
          "yaxis": {
           "automargin": true,
           "gridcolor": "white",
           "linecolor": "white",
           "ticks": "",
           "title": {
            "standoff": 15
           },
           "zerolinecolor": "white",
           "zerolinewidth": 2
          }
         }
        },
        "title": {
         "text": "Muertes por  uso de drogas por regiones",
         "x": 0.5,
         "xanchor": "center"
        },
        "xaxis": {
         "anchor": "y",
         "domain": [
          0,
          1
         ],
         "title": {
          "text": "Year"
         }
        },
        "yaxis": {
         "anchor": "x",
         "domain": [
          0,
          1
         ],
         "title": {
          "text": "Deaths - Drug use disorders - Sex: Both - Age: All Ages (Number)"
         }
        }
       }
      }
     },
     "metadata": {},
     "output_type": "display_data"
    }
   ],
   "source": [
    "fig=px.line(\n",
    "    data_frame=df_continent,\n",
    "    y=\"Deaths - Drug use disorders - Sex: Both - Age: All Ages (Number)\",\n",
    "    x=\"Year\",\n",
    "    color=\"Entity\",\n",
    "    title= \"Muertes por uso de drogas\"\n",
    "            \n",
    "    )\n",
    "fig.update_layout(\n",
    "    title={\n",
    "        'text': \"Muertes por  uso de drogas por regiones\",\n",
    "        'x': 0.5,\n",
    "        'xanchor':'center'\n",
    "\n",
    "    }\n",
    ")"
   ]
  },
  {
   "cell_type": "markdown",
   "metadata": {},
   "source": [
    "Encabezado por América y Europa"
   ]
  },
  {
   "cell_type": "code",
   "execution_count": 73,
   "metadata": {},
   "outputs": [
    {
     "data": {
      "text/html": [
       "<div>\n",
       "<style scoped>\n",
       "    .dataframe tbody tr th:only-of-type {\n",
       "        vertical-align: middle;\n",
       "    }\n",
       "\n",
       "    .dataframe tbody tr th {\n",
       "        vertical-align: top;\n",
       "    }\n",
       "\n",
       "    .dataframe thead th {\n",
       "        text-align: right;\n",
       "    }\n",
       "</style>\n",
       "<table border=\"1\" class=\"dataframe\">\n",
       "  <thead>\n",
       "    <tr style=\"text-align: right;\">\n",
       "      <th></th>\n",
       "      <th>Entity</th>\n",
       "      <th>Code</th>\n",
       "      <th>Year</th>\n",
       "      <th>Deaths - Meningitis - Sex: Both - Age: All Ages (Number)</th>\n",
       "      <th>Deaths - Alzheimer's disease and other dementias - Sex: Both - Age: All Ages (Number)</th>\n",
       "      <th>Deaths - Parkinson's disease - Sex: Both - Age: All Ages (Number)</th>\n",
       "      <th>Deaths - Nutritional deficiencies - Sex: Both - Age: All Ages (Number)</th>\n",
       "      <th>Deaths - Malaria - Sex: Both - Age: All Ages (Number)</th>\n",
       "      <th>Deaths - Drowning - Sex: Both - Age: All Ages (Number)</th>\n",
       "      <th>Deaths - Interpersonal violence - Sex: Both - Age: All Ages (Number)</th>\n",
       "      <th>...</th>\n",
       "      <th>Deaths - Diabetes mellitus - Sex: Both - Age: All Ages (Number)</th>\n",
       "      <th>Deaths - Chronic kidney disease - Sex: Both - Age: All Ages (Number)</th>\n",
       "      <th>Deaths - Poisonings - Sex: Both - Age: All Ages (Number)</th>\n",
       "      <th>Deaths - Protein-energy malnutrition - Sex: Both - Age: All Ages (Number)</th>\n",
       "      <th>Deaths - Road injuries - Sex: Both - Age: All Ages (Number)</th>\n",
       "      <th>Deaths - Chronic respiratory diseases - Sex: Both - Age: All Ages (Number)</th>\n",
       "      <th>Deaths - Cirrhosis and other chronic liver diseases - Sex: Both - Age: All Ages (Number)</th>\n",
       "      <th>Deaths - Digestive diseases - Sex: Both - Age: All Ages (Number)</th>\n",
       "      <th>Deaths - Fire, heat, and hot substances - Sex: Both - Age: All Ages (Number)</th>\n",
       "      <th>Deaths - Acute hepatitis - Sex: Both - Age: All Ages (Number)</th>\n",
       "    </tr>\n",
       "  </thead>\n",
       "  <tbody>\n",
       "    <tr>\n",
       "      <th>6359</th>\n",
       "      <td>United States</td>\n",
       "      <td>USA</td>\n",
       "      <td>2019</td>\n",
       "      <td>1146</td>\n",
       "      <td>143919</td>\n",
       "      <td>32211</td>\n",
       "      <td>6090</td>\n",
       "      <td>0</td>\n",
       "      <td>3615</td>\n",
       "      <td>17709</td>\n",
       "      <td>...</td>\n",
       "      <td>77719</td>\n",
       "      <td>106954</td>\n",
       "      <td>1528</td>\n",
       "      <td>5710</td>\n",
       "      <td>41362</td>\n",
       "      <td>224988</td>\n",
       "      <td>67286</td>\n",
       "      <td>129343</td>\n",
       "      <td>3616</td>\n",
       "      <td>131</td>\n",
       "    </tr>\n",
       "    <tr>\n",
       "      <th>6358</th>\n",
       "      <td>United States</td>\n",
       "      <td>USA</td>\n",
       "      <td>2018</td>\n",
       "      <td>1142</td>\n",
       "      <td>141681</td>\n",
       "      <td>31277</td>\n",
       "      <td>5934</td>\n",
       "      <td>0</td>\n",
       "      <td>3687</td>\n",
       "      <td>18086</td>\n",
       "      <td>...</td>\n",
       "      <td>75081</td>\n",
       "      <td>104364</td>\n",
       "      <td>1562</td>\n",
       "      <td>5565</td>\n",
       "      <td>41792</td>\n",
       "      <td>218546</td>\n",
       "      <td>66816</td>\n",
       "      <td>127040</td>\n",
       "      <td>3683</td>\n",
       "      <td>129</td>\n",
       "    </tr>\n",
       "    <tr>\n",
       "      <th>6357</th>\n",
       "      <td>United States</td>\n",
       "      <td>USA</td>\n",
       "      <td>2017</td>\n",
       "      <td>1137</td>\n",
       "      <td>138750</td>\n",
       "      <td>30014</td>\n",
       "      <td>5814</td>\n",
       "      <td>0</td>\n",
       "      <td>3769</td>\n",
       "      <td>18831</td>\n",
       "      <td>...</td>\n",
       "      <td>72239</td>\n",
       "      <td>101751</td>\n",
       "      <td>1599</td>\n",
       "      <td>5453</td>\n",
       "      <td>42206</td>\n",
       "      <td>211269</td>\n",
       "      <td>65977</td>\n",
       "      <td>124473</td>\n",
       "      <td>3577</td>\n",
       "      <td>124</td>\n",
       "    </tr>\n",
       "  </tbody>\n",
       "</table>\n",
       "<p>3 rows × 34 columns</p>\n",
       "</div>"
      ],
      "text/plain": [
       "             Entity Code  Year  \\\n",
       "6359  United States  USA  2019   \n",
       "6358  United States  USA  2018   \n",
       "6357  United States  USA  2017   \n",
       "\n",
       "      Deaths - Meningitis - Sex: Both - Age: All Ages (Number)  \\\n",
       "6359                                               1146          \n",
       "6358                                               1142          \n",
       "6357                                               1137          \n",
       "\n",
       "      Deaths - Alzheimer's disease and other dementias - Sex: Both - Age: All Ages (Number)  \\\n",
       "6359                                             143919                                       \n",
       "6358                                             141681                                       \n",
       "6357                                             138750                                       \n",
       "\n",
       "      Deaths - Parkinson's disease - Sex: Both - Age: All Ages (Number)  \\\n",
       "6359                                              32211                   \n",
       "6358                                              31277                   \n",
       "6357                                              30014                   \n",
       "\n",
       "      Deaths - Nutritional deficiencies - Sex: Both - Age: All Ages (Number)  \\\n",
       "6359                                               6090                        \n",
       "6358                                               5934                        \n",
       "6357                                               5814                        \n",
       "\n",
       "      Deaths - Malaria - Sex: Both - Age: All Ages (Number)  \\\n",
       "6359                                                  0       \n",
       "6358                                                  0       \n",
       "6357                                                  0       \n",
       "\n",
       "      Deaths - Drowning - Sex: Both - Age: All Ages (Number)  \\\n",
       "6359                                               3615        \n",
       "6358                                               3687        \n",
       "6357                                               3769        \n",
       "\n",
       "      Deaths - Interpersonal violence - Sex: Both - Age: All Ages (Number)  \\\n",
       "6359                                              17709                      \n",
       "6358                                              18086                      \n",
       "6357                                              18831                      \n",
       "\n",
       "      ...  Deaths - Diabetes mellitus - Sex: Both - Age: All Ages (Number)  \\\n",
       "6359  ...                                              77719                 \n",
       "6358  ...                                              75081                 \n",
       "6357  ...                                              72239                 \n",
       "\n",
       "      Deaths - Chronic kidney disease - Sex: Both - Age: All Ages (Number)  \\\n",
       "6359                                             106954                      \n",
       "6358                                             104364                      \n",
       "6357                                             101751                      \n",
       "\n",
       "      Deaths - Poisonings - Sex: Both - Age: All Ages (Number)  \\\n",
       "6359                                               1528          \n",
       "6358                                               1562          \n",
       "6357                                               1599          \n",
       "\n",
       "      Deaths - Protein-energy malnutrition - Sex: Both - Age: All Ages (Number)  \\\n",
       "6359                                               5710                           \n",
       "6358                                               5565                           \n",
       "6357                                               5453                           \n",
       "\n",
       "      Deaths - Road injuries - Sex: Both - Age: All Ages (Number)  \\\n",
       "6359                                              41362             \n",
       "6358                                              41792             \n",
       "6357                                              42206             \n",
       "\n",
       "      Deaths - Chronic respiratory diseases - Sex: Both - Age: All Ages (Number)  \\\n",
       "6359                                             224988                            \n",
       "6358                                             218546                            \n",
       "6357                                             211269                            \n",
       "\n",
       "      Deaths - Cirrhosis and other chronic liver diseases - Sex: Both - Age: All Ages (Number)  \\\n",
       "6359                                              67286                                          \n",
       "6358                                              66816                                          \n",
       "6357                                              65977                                          \n",
       "\n",
       "      Deaths - Digestive diseases - Sex: Both - Age: All Ages (Number)  \\\n",
       "6359                                             129343                  \n",
       "6358                                             127040                  \n",
       "6357                                             124473                  \n",
       "\n",
       "      Deaths - Fire, heat, and hot substances - Sex: Both - Age: All Ages (Number)  \\\n",
       "6359                                               3616                              \n",
       "6358                                               3683                              \n",
       "6357                                               3577                              \n",
       "\n",
       "      Deaths - Acute hepatitis - Sex: Both - Age: All Ages (Number)  \n",
       "6359                                                131              \n",
       "6358                                                129              \n",
       "6357                                                124              \n",
       "\n",
       "[3 rows x 34 columns]"
      ]
     },
     "execution_count": 73,
     "metadata": {},
     "output_type": "execute_result"
    }
   ],
   "source": [
    "#El país que lidera las muestes por uso de drogas es:\n",
    "df.sort_values(by=\"Deaths - Drug use disorders - Sex: Both - Age: All Ages (Number)\", ascending=False).head(3)"
   ]
  },
  {
   "cell_type": "markdown",
   "metadata": {},
   "source": [
    "## Suicidio"
   ]
  },
  {
   "cell_type": "code",
   "execution_count": 49,
   "metadata": {},
   "outputs": [
    {
     "data": {
      "application/vnd.plotly.v1+json": {
       "config": {
        "plotlyServerURL": "https://plot.ly"
       },
       "data": [
        {
         "hovertemplate": "Entity=World Bank High Income<br>Year=%{x}<br>Deaths - Self-harm - Sex: Both - Age: All Ages (Number)=%{y}<extra></extra>",
         "legendgroup": "World Bank High Income",
         "line": {
          "color": "#636efa",
          "dash": "solid"
         },
         "marker": {
          "symbol": "circle"
         },
         "mode": "lines",
         "name": "World Bank High Income",
         "orientation": "v",
         "showlegend": true,
         "type": "scatter",
         "x": [
          1990,
          1991,
          1992,
          1993,
          1994,
          1995,
          1996,
          1997,
          1998,
          1999,
          2000,
          2001,
          2002,
          2003,
          2004,
          2005,
          2006,
          2007,
          2008,
          2009,
          2010,
          2011,
          2012,
          2013,
          2014,
          2015,
          2016,
          2017,
          2018,
          2019
         ],
         "xaxis": "x",
         "y": [
          155850,
          156594,
          156661,
          157811,
          158577,
          159796,
          159155,
          160051,
          162664,
          163490,
          163238,
          164200,
          165718,
          167502,
          166967,
          168746,
          169245,
          170961,
          172902,
          174515,
          174280,
          174280,
          172761,
          171300,
          169749,
          169786,
          168883,
          167064,
          166643,
          165947
         ],
         "yaxis": "y"
        },
        {
         "hovertemplate": "Entity=World Bank Low Income<br>Year=%{x}<br>Deaths - Self-harm - Sex: Both - Age: All Ages (Number)=%{y}<extra></extra>",
         "legendgroup": "World Bank Low Income",
         "line": {
          "color": "#EF553B",
          "dash": "solid"
         },
         "marker": {
          "symbol": "circle"
         },
         "mode": "lines",
         "name": "World Bank Low Income",
         "orientation": "v",
         "showlegend": true,
         "type": "scatter",
         "x": [
          1990,
          1991,
          1992,
          1993,
          1994,
          1995,
          1996,
          1997,
          1998,
          1999,
          2000,
          2001,
          2002,
          2003,
          2004,
          2005,
          2006,
          2007,
          2008,
          2009,
          2010,
          2011,
          2012,
          2013,
          2014,
          2015,
          2016,
          2017,
          2018,
          2019
         ],
         "xaxis": "x",
         "y": [
          28478,
          28981,
          29595,
          30173,
          30745,
          31402,
          31995,
          32522,
          33233,
          33691,
          33960,
          34233,
          34501,
          35001,
          35538,
          36002,
          36481,
          37055,
          37733,
          38470,
          39108,
          39826,
          40446,
          41125,
          41960,
          42714,
          43779,
          44809,
          45995,
          47027
         ],
         "yaxis": "y"
        },
        {
         "hovertemplate": "Entity=World Bank Lower Middle Income<br>Year=%{x}<br>Deaths - Self-harm - Sex: Both - Age: All Ages (Number)=%{y}<extra></extra>",
         "legendgroup": "World Bank Lower Middle Income",
         "line": {
          "color": "#00cc96",
          "dash": "solid"
         },
         "marker": {
          "symbol": "circle"
         },
         "mode": "lines",
         "name": "World Bank Lower Middle Income",
         "orientation": "v",
         "showlegend": true,
         "type": "scatter",
         "x": [
          1990,
          1991,
          1992,
          1993,
          1994,
          1995,
          1996,
          1997,
          1998,
          1999,
          2000,
          2001,
          2002,
          2003,
          2004,
          2005,
          2006,
          2007,
          2008,
          2009,
          2010,
          2011,
          2012,
          2013,
          2014,
          2015,
          2016,
          2017,
          2018,
          2019
         ],
         "xaxis": "x",
         "y": [
          232340,
          238790,
          245397,
          249130,
          254810,
          259811,
          264944,
          276992,
          283394,
          292243,
          296388,
          294140,
          291113,
          284906,
          285606,
          292146,
          295387,
          294022,
          292891,
          287691,
          291470,
          295671,
          295733,
          291618,
          283902,
          285735,
          286917,
          290065,
          300230,
          304890
         ],
         "yaxis": "y"
        },
        {
         "hovertemplate": "Entity=World Bank Upper Middle Income<br>Year=%{x}<br>Deaths - Self-harm - Sex: Both - Age: All Ages (Number)=%{y}<extra></extra>",
         "legendgroup": "World Bank Upper Middle Income",
         "line": {
          "color": "#ab63fa",
          "dash": "solid"
         },
         "marker": {
          "symbol": "circle"
         },
         "mode": "lines",
         "name": "World Bank Upper Middle Income",
         "orientation": "v",
         "showlegend": true,
         "type": "scatter",
         "x": [
          1990,
          1991,
          1992,
          1993,
          1994,
          1995,
          1996,
          1997,
          1998,
          1999,
          2000,
          2001,
          2002,
          2003,
          2004,
          2005,
          2006,
          2007,
          2008,
          2009,
          2010,
          2011,
          2012,
          2013,
          2014,
          2015,
          2016,
          2017,
          2018,
          2019
         ],
         "xaxis": "x",
         "y": [
          322130,
          328214,
          338631,
          354787,
          373547,
          374914,
          364039,
          353084,
          350546,
          351427,
          345654,
          328170,
          319868,
          327119,
          331170,
          329231,
          313024,
          300487,
          294043,
          285208,
          279599,
          267437,
          258076,
          251516,
          249137,
          244403,
          243349,
          241681,
          242255,
          240832
         ],
         "yaxis": "y"
        }
       ],
       "layout": {
        "legend": {
         "title": {
          "text": "Entity"
         },
         "tracegroupgap": 0
        },
        "template": {
         "data": {
          "bar": [
           {
            "error_x": {
             "color": "#2a3f5f"
            },
            "error_y": {
             "color": "#2a3f5f"
            },
            "marker": {
             "line": {
              "color": "#E5ECF6",
              "width": 0.5
             },
             "pattern": {
              "fillmode": "overlay",
              "size": 10,
              "solidity": 0.2
             }
            },
            "type": "bar"
           }
          ],
          "barpolar": [
           {
            "marker": {
             "line": {
              "color": "#E5ECF6",
              "width": 0.5
             },
             "pattern": {
              "fillmode": "overlay",
              "size": 10,
              "solidity": 0.2
             }
            },
            "type": "barpolar"
           }
          ],
          "carpet": [
           {
            "aaxis": {
             "endlinecolor": "#2a3f5f",
             "gridcolor": "white",
             "linecolor": "white",
             "minorgridcolor": "white",
             "startlinecolor": "#2a3f5f"
            },
            "baxis": {
             "endlinecolor": "#2a3f5f",
             "gridcolor": "white",
             "linecolor": "white",
             "minorgridcolor": "white",
             "startlinecolor": "#2a3f5f"
            },
            "type": "carpet"
           }
          ],
          "choropleth": [
           {
            "colorbar": {
             "outlinewidth": 0,
             "ticks": ""
            },
            "type": "choropleth"
           }
          ],
          "contour": [
           {
            "colorbar": {
             "outlinewidth": 0,
             "ticks": ""
            },
            "colorscale": [
             [
              0,
              "#0d0887"
             ],
             [
              0.1111111111111111,
              "#46039f"
             ],
             [
              0.2222222222222222,
              "#7201a8"
             ],
             [
              0.3333333333333333,
              "#9c179e"
             ],
             [
              0.4444444444444444,
              "#bd3786"
             ],
             [
              0.5555555555555556,
              "#d8576b"
             ],
             [
              0.6666666666666666,
              "#ed7953"
             ],
             [
              0.7777777777777778,
              "#fb9f3a"
             ],
             [
              0.8888888888888888,
              "#fdca26"
             ],
             [
              1,
              "#f0f921"
             ]
            ],
            "type": "contour"
           }
          ],
          "contourcarpet": [
           {
            "colorbar": {
             "outlinewidth": 0,
             "ticks": ""
            },
            "type": "contourcarpet"
           }
          ],
          "heatmap": [
           {
            "colorbar": {
             "outlinewidth": 0,
             "ticks": ""
            },
            "colorscale": [
             [
              0,
              "#0d0887"
             ],
             [
              0.1111111111111111,
              "#46039f"
             ],
             [
              0.2222222222222222,
              "#7201a8"
             ],
             [
              0.3333333333333333,
              "#9c179e"
             ],
             [
              0.4444444444444444,
              "#bd3786"
             ],
             [
              0.5555555555555556,
              "#d8576b"
             ],
             [
              0.6666666666666666,
              "#ed7953"
             ],
             [
              0.7777777777777778,
              "#fb9f3a"
             ],
             [
              0.8888888888888888,
              "#fdca26"
             ],
             [
              1,
              "#f0f921"
             ]
            ],
            "type": "heatmap"
           }
          ],
          "heatmapgl": [
           {
            "colorbar": {
             "outlinewidth": 0,
             "ticks": ""
            },
            "colorscale": [
             [
              0,
              "#0d0887"
             ],
             [
              0.1111111111111111,
              "#46039f"
             ],
             [
              0.2222222222222222,
              "#7201a8"
             ],
             [
              0.3333333333333333,
              "#9c179e"
             ],
             [
              0.4444444444444444,
              "#bd3786"
             ],
             [
              0.5555555555555556,
              "#d8576b"
             ],
             [
              0.6666666666666666,
              "#ed7953"
             ],
             [
              0.7777777777777778,
              "#fb9f3a"
             ],
             [
              0.8888888888888888,
              "#fdca26"
             ],
             [
              1,
              "#f0f921"
             ]
            ],
            "type": "heatmapgl"
           }
          ],
          "histogram": [
           {
            "marker": {
             "pattern": {
              "fillmode": "overlay",
              "size": 10,
              "solidity": 0.2
             }
            },
            "type": "histogram"
           }
          ],
          "histogram2d": [
           {
            "colorbar": {
             "outlinewidth": 0,
             "ticks": ""
            },
            "colorscale": [
             [
              0,
              "#0d0887"
             ],
             [
              0.1111111111111111,
              "#46039f"
             ],
             [
              0.2222222222222222,
              "#7201a8"
             ],
             [
              0.3333333333333333,
              "#9c179e"
             ],
             [
              0.4444444444444444,
              "#bd3786"
             ],
             [
              0.5555555555555556,
              "#d8576b"
             ],
             [
              0.6666666666666666,
              "#ed7953"
             ],
             [
              0.7777777777777778,
              "#fb9f3a"
             ],
             [
              0.8888888888888888,
              "#fdca26"
             ],
             [
              1,
              "#f0f921"
             ]
            ],
            "type": "histogram2d"
           }
          ],
          "histogram2dcontour": [
           {
            "colorbar": {
             "outlinewidth": 0,
             "ticks": ""
            },
            "colorscale": [
             [
              0,
              "#0d0887"
             ],
             [
              0.1111111111111111,
              "#46039f"
             ],
             [
              0.2222222222222222,
              "#7201a8"
             ],
             [
              0.3333333333333333,
              "#9c179e"
             ],
             [
              0.4444444444444444,
              "#bd3786"
             ],
             [
              0.5555555555555556,
              "#d8576b"
             ],
             [
              0.6666666666666666,
              "#ed7953"
             ],
             [
              0.7777777777777778,
              "#fb9f3a"
             ],
             [
              0.8888888888888888,
              "#fdca26"
             ],
             [
              1,
              "#f0f921"
             ]
            ],
            "type": "histogram2dcontour"
           }
          ],
          "mesh3d": [
           {
            "colorbar": {
             "outlinewidth": 0,
             "ticks": ""
            },
            "type": "mesh3d"
           }
          ],
          "parcoords": [
           {
            "line": {
             "colorbar": {
              "outlinewidth": 0,
              "ticks": ""
             }
            },
            "type": "parcoords"
           }
          ],
          "pie": [
           {
            "automargin": true,
            "type": "pie"
           }
          ],
          "scatter": [
           {
            "fillpattern": {
             "fillmode": "overlay",
             "size": 10,
             "solidity": 0.2
            },
            "type": "scatter"
           }
          ],
          "scatter3d": [
           {
            "line": {
             "colorbar": {
              "outlinewidth": 0,
              "ticks": ""
             }
            },
            "marker": {
             "colorbar": {
              "outlinewidth": 0,
              "ticks": ""
             }
            },
            "type": "scatter3d"
           }
          ],
          "scattercarpet": [
           {
            "marker": {
             "colorbar": {
              "outlinewidth": 0,
              "ticks": ""
             }
            },
            "type": "scattercarpet"
           }
          ],
          "scattergeo": [
           {
            "marker": {
             "colorbar": {
              "outlinewidth": 0,
              "ticks": ""
             }
            },
            "type": "scattergeo"
           }
          ],
          "scattergl": [
           {
            "marker": {
             "colorbar": {
              "outlinewidth": 0,
              "ticks": ""
             }
            },
            "type": "scattergl"
           }
          ],
          "scattermapbox": [
           {
            "marker": {
             "colorbar": {
              "outlinewidth": 0,
              "ticks": ""
             }
            },
            "type": "scattermapbox"
           }
          ],
          "scatterpolar": [
           {
            "marker": {
             "colorbar": {
              "outlinewidth": 0,
              "ticks": ""
             }
            },
            "type": "scatterpolar"
           }
          ],
          "scatterpolargl": [
           {
            "marker": {
             "colorbar": {
              "outlinewidth": 0,
              "ticks": ""
             }
            },
            "type": "scatterpolargl"
           }
          ],
          "scatterternary": [
           {
            "marker": {
             "colorbar": {
              "outlinewidth": 0,
              "ticks": ""
             }
            },
            "type": "scatterternary"
           }
          ],
          "surface": [
           {
            "colorbar": {
             "outlinewidth": 0,
             "ticks": ""
            },
            "colorscale": [
             [
              0,
              "#0d0887"
             ],
             [
              0.1111111111111111,
              "#46039f"
             ],
             [
              0.2222222222222222,
              "#7201a8"
             ],
             [
              0.3333333333333333,
              "#9c179e"
             ],
             [
              0.4444444444444444,
              "#bd3786"
             ],
             [
              0.5555555555555556,
              "#d8576b"
             ],
             [
              0.6666666666666666,
              "#ed7953"
             ],
             [
              0.7777777777777778,
              "#fb9f3a"
             ],
             [
              0.8888888888888888,
              "#fdca26"
             ],
             [
              1,
              "#f0f921"
             ]
            ],
            "type": "surface"
           }
          ],
          "table": [
           {
            "cells": {
             "fill": {
              "color": "#EBF0F8"
             },
             "line": {
              "color": "white"
             }
            },
            "header": {
             "fill": {
              "color": "#C8D4E3"
             },
             "line": {
              "color": "white"
             }
            },
            "type": "table"
           }
          ]
         },
         "layout": {
          "annotationdefaults": {
           "arrowcolor": "#2a3f5f",
           "arrowhead": 0,
           "arrowwidth": 1
          },
          "autotypenumbers": "strict",
          "coloraxis": {
           "colorbar": {
            "outlinewidth": 0,
            "ticks": ""
           }
          },
          "colorscale": {
           "diverging": [
            [
             0,
             "#8e0152"
            ],
            [
             0.1,
             "#c51b7d"
            ],
            [
             0.2,
             "#de77ae"
            ],
            [
             0.3,
             "#f1b6da"
            ],
            [
             0.4,
             "#fde0ef"
            ],
            [
             0.5,
             "#f7f7f7"
            ],
            [
             0.6,
             "#e6f5d0"
            ],
            [
             0.7,
             "#b8e186"
            ],
            [
             0.8,
             "#7fbc41"
            ],
            [
             0.9,
             "#4d9221"
            ],
            [
             1,
             "#276419"
            ]
           ],
           "sequential": [
            [
             0,
             "#0d0887"
            ],
            [
             0.1111111111111111,
             "#46039f"
            ],
            [
             0.2222222222222222,
             "#7201a8"
            ],
            [
             0.3333333333333333,
             "#9c179e"
            ],
            [
             0.4444444444444444,
             "#bd3786"
            ],
            [
             0.5555555555555556,
             "#d8576b"
            ],
            [
             0.6666666666666666,
             "#ed7953"
            ],
            [
             0.7777777777777778,
             "#fb9f3a"
            ],
            [
             0.8888888888888888,
             "#fdca26"
            ],
            [
             1,
             "#f0f921"
            ]
           ],
           "sequentialminus": [
            [
             0,
             "#0d0887"
            ],
            [
             0.1111111111111111,
             "#46039f"
            ],
            [
             0.2222222222222222,
             "#7201a8"
            ],
            [
             0.3333333333333333,
             "#9c179e"
            ],
            [
             0.4444444444444444,
             "#bd3786"
            ],
            [
             0.5555555555555556,
             "#d8576b"
            ],
            [
             0.6666666666666666,
             "#ed7953"
            ],
            [
             0.7777777777777778,
             "#fb9f3a"
            ],
            [
             0.8888888888888888,
             "#fdca26"
            ],
            [
             1,
             "#f0f921"
            ]
           ]
          },
          "colorway": [
           "#636efa",
           "#EF553B",
           "#00cc96",
           "#ab63fa",
           "#FFA15A",
           "#19d3f3",
           "#FF6692",
           "#B6E880",
           "#FF97FF",
           "#FECB52"
          ],
          "font": {
           "color": "#2a3f5f"
          },
          "geo": {
           "bgcolor": "white",
           "lakecolor": "white",
           "landcolor": "#E5ECF6",
           "showlakes": true,
           "showland": true,
           "subunitcolor": "white"
          },
          "hoverlabel": {
           "align": "left"
          },
          "hovermode": "closest",
          "mapbox": {
           "style": "light"
          },
          "paper_bgcolor": "white",
          "plot_bgcolor": "#E5ECF6",
          "polar": {
           "angularaxis": {
            "gridcolor": "white",
            "linecolor": "white",
            "ticks": ""
           },
           "bgcolor": "#E5ECF6",
           "radialaxis": {
            "gridcolor": "white",
            "linecolor": "white",
            "ticks": ""
           }
          },
          "scene": {
           "xaxis": {
            "backgroundcolor": "#E5ECF6",
            "gridcolor": "white",
            "gridwidth": 2,
            "linecolor": "white",
            "showbackground": true,
            "ticks": "",
            "zerolinecolor": "white"
           },
           "yaxis": {
            "backgroundcolor": "#E5ECF6",
            "gridcolor": "white",
            "gridwidth": 2,
            "linecolor": "white",
            "showbackground": true,
            "ticks": "",
            "zerolinecolor": "white"
           },
           "zaxis": {
            "backgroundcolor": "#E5ECF6",
            "gridcolor": "white",
            "gridwidth": 2,
            "linecolor": "white",
            "showbackground": true,
            "ticks": "",
            "zerolinecolor": "white"
           }
          },
          "shapedefaults": {
           "line": {
            "color": "#2a3f5f"
           }
          },
          "ternary": {
           "aaxis": {
            "gridcolor": "white",
            "linecolor": "white",
            "ticks": ""
           },
           "baxis": {
            "gridcolor": "white",
            "linecolor": "white",
            "ticks": ""
           },
           "bgcolor": "#E5ECF6",
           "caxis": {
            "gridcolor": "white",
            "linecolor": "white",
            "ticks": ""
           }
          },
          "title": {
           "x": 0.05
          },
          "xaxis": {
           "automargin": true,
           "gridcolor": "white",
           "linecolor": "white",
           "ticks": "",
           "title": {
            "standoff": 15
           },
           "zerolinecolor": "white",
           "zerolinewidth": 2
          },
          "yaxis": {
           "automargin": true,
           "gridcolor": "white",
           "linecolor": "white",
           "ticks": "",
           "title": {
            "standoff": 15
           },
           "zerolinecolor": "white",
           "zerolinewidth": 2
          }
         }
        },
        "title": {
         "text": "Muertes por  suicidios según nivel de renta",
         "x": 0.5,
         "xanchor": "center"
        },
        "xaxis": {
         "anchor": "y",
         "domain": [
          0,
          1
         ],
         "title": {
          "text": "Year"
         }
        },
        "yaxis": {
         "anchor": "x",
         "domain": [
          0,
          1
         ],
         "title": {
          "text": "Deaths - Self-harm - Sex: Both - Age: All Ages (Number)"
         }
        }
       }
      }
     },
     "metadata": {},
     "output_type": "display_data"
    }
   ],
   "source": [
    "fig=px.line(\n",
    "    data_frame=df_income,\n",
    "    y=\"Deaths - Self-harm - Sex: Both - Age: All Ages (Number)\",\n",
    "    x=\"Year\",\n",
    "    color=\"Entity\",\n",
    "    title= \"Muertes por suicidios\"\n",
    "            \n",
    "    )\n",
    "fig.update_layout(\n",
    "    title={\n",
    "        'text': \"Muertes por  suicidios según nivel de renta\",\n",
    "        'x': 0.5,\n",
    "        'xanchor':'center'\n",
    "\n",
    "    }\n",
    ")"
   ]
  },
  {
   "cell_type": "markdown",
   "metadata": {},
   "source": [
    "No se puede establecer una relación clara entre muerte por suicidos y nivel de renta"
   ]
  },
  {
   "cell_type": "code",
   "execution_count": 50,
   "metadata": {},
   "outputs": [
    {
     "data": {
      "application/vnd.plotly.v1+json": {
       "config": {
        "plotlyServerURL": "https://plot.ly"
       },
       "data": [
        {
         "hovertemplate": "Entity=African Region (WHO)<br>Year=%{x}<br>Deaths - Self-harm - Sex: Both - Age: All Ages (Number)=%{y}<extra></extra>",
         "legendgroup": "African Region (WHO)",
         "line": {
          "color": "#636efa",
          "dash": "solid"
         },
         "marker": {
          "symbol": "circle"
         },
         "mode": "lines",
         "name": "African Region (WHO)",
         "orientation": "v",
         "showlegend": true,
         "type": "scatter",
         "x": [
          1990,
          1991,
          1992,
          1993,
          1994,
          1995,
          1996,
          1997,
          1998,
          1999,
          2000,
          2001,
          2002,
          2003,
          2004,
          2005,
          2006,
          2007,
          2008,
          2009,
          2010,
          2011,
          2012,
          2013,
          2014,
          2015,
          2016,
          2017,
          2018,
          2019
         ],
         "xaxis": "x",
         "y": [
          40058,
          41029,
          42534,
          42902,
          44173,
          45298,
          46115,
          48221,
          50023,
          51001,
          52486,
          53194,
          54425,
          55796,
          56686,
          57189,
          57820,
          58014,
          58492,
          59195,
          59715,
          60078,
          60815,
          61688,
          62792,
          63572,
          64565,
          65978,
          67819,
          69367
         ],
         "yaxis": "y"
        },
        {
         "hovertemplate": "Entity=Eastern Mediterranean Region (WHO)<br>Year=%{x}<br>Deaths - Self-harm - Sex: Both - Age: All Ages (Number)=%{y}<extra></extra>",
         "legendgroup": "Eastern Mediterranean Region (WHO)",
         "line": {
          "color": "#EF553B",
          "dash": "solid"
         },
         "marker": {
          "symbol": "circle"
         },
         "mode": "lines",
         "name": "Eastern Mediterranean Region (WHO)",
         "orientation": "v",
         "showlegend": true,
         "type": "scatter",
         "x": [
          1990,
          1991,
          1992,
          1993,
          1994,
          1995,
          1996,
          1997,
          1998,
          1999,
          2000,
          2001,
          2002,
          2003,
          2004,
          2005,
          2006,
          2007,
          2008,
          2009,
          2010,
          2011,
          2012,
          2013,
          2014,
          2015,
          2016,
          2017,
          2018,
          2019
         ],
         "xaxis": "x",
         "y": [
          20208,
          20847,
          21711,
          22678,
          23662,
          24676,
          25543,
          26452,
          27074,
          27792,
          28461,
          29357,
          30052,
          30695,
          31239,
          31658,
          32129,
          32626,
          33456,
          34186,
          34903,
          35586,
          36251,
          36953,
          37634,
          38229,
          38974,
          39615,
          40170,
          40638
         ],
         "yaxis": "y"
        },
        {
         "hovertemplate": "Entity=European Region (WHO)<br>Year=%{x}<br>Deaths - Self-harm - Sex: Both - Age: All Ages (Number)=%{y}<extra></extra>",
         "legendgroup": "European Region (WHO)",
         "line": {
          "color": "#00cc96",
          "dash": "solid"
         },
         "marker": {
          "symbol": "circle"
         },
         "mode": "lines",
         "name": "European Region (WHO)",
         "orientation": "v",
         "showlegend": true,
         "type": "scatter",
         "x": [
          1990,
          1991,
          1992,
          1993,
          1994,
          1995,
          1996,
          1997,
          1998,
          1999,
          2000,
          2001,
          2002,
          2003,
          2004,
          2005,
          2006,
          2007,
          2008,
          2009,
          2010,
          2011,
          2012,
          2013,
          2014,
          2015,
          2016,
          2017,
          2018,
          2019
         ],
         "xaxis": "x",
         "y": [
          158570,
          163569,
          173672,
          191607,
          204090,
          203652,
          196015,
          188154,
          184580,
          190693,
          192910,
          190173,
          188116,
          186201,
          182081,
          183701,
          174019,
          168729,
          166345,
          159135,
          156854,
          151024,
          148150,
          146157,
          144887,
          146846,
          142819,
          139026,
          138486,
          137266
         ],
         "yaxis": "y"
        },
        {
         "hovertemplate": "Entity=Region of the Americas (WHO)<br>Year=%{x}<br>Deaths - Self-harm - Sex: Both - Age: All Ages (Number)=%{y}<extra></extra>",
         "legendgroup": "Region of the Americas (WHO)",
         "line": {
          "color": "#ab63fa",
          "dash": "solid"
         },
         "marker": {
          "symbol": "circle"
         },
         "mode": "lines",
         "name": "Region of the Americas (WHO)",
         "orientation": "v",
         "showlegend": true,
         "type": "scatter",
         "x": [
          1990,
          1991,
          1992,
          1993,
          1994,
          1995,
          1996,
          1997,
          1998,
          1999,
          2000,
          2001,
          2002,
          2003,
          2004,
          2005,
          2006,
          2007,
          2008,
          2009,
          2010,
          2011,
          2012,
          2013,
          2014,
          2015,
          2016,
          2017,
          2018,
          2019
         ],
         "xaxis": "x",
         "y": [
          65140,
          65722,
          66653,
          68700,
          69914,
          70818,
          71169,
          71944,
          72906,
          73389,
          73987,
          75277,
          76739,
          77592,
          77953,
          79373,
          80882,
          82392,
          84284,
          86140,
          86783,
          88193,
          89442,
          90837,
          92385,
          94305,
          96641,
          96408,
          95716,
          94784
         ],
         "yaxis": "y"
        },
        {
         "hovertemplate": "Entity=South-East Asia Region (WHO)<br>Year=%{x}<br>Deaths - Self-harm - Sex: Both - Age: All Ages (Number)=%{y}<extra></extra>",
         "legendgroup": "South-East Asia Region (WHO)",
         "line": {
          "color": "#FFA15A",
          "dash": "solid"
         },
         "marker": {
          "symbol": "circle"
         },
         "mode": "lines",
         "name": "South-East Asia Region (WHO)",
         "orientation": "v",
         "showlegend": true,
         "type": "scatter",
         "x": [
          1990,
          1991,
          1992,
          1993,
          1994,
          1995,
          1996,
          1997,
          1998,
          1999,
          2000,
          2001,
          2002,
          2003,
          2004,
          2005,
          2006,
          2007,
          2008,
          2009,
          2010,
          2011,
          2012,
          2013,
          2014,
          2015,
          2016,
          2017,
          2018,
          2019
         ],
         "xaxis": "x",
         "y": [
          193744,
          198654,
          203193,
          204999,
          208499,
          211081,
          215853,
          226461,
          232283,
          239671,
          241692,
          238259,
          234354,
          227428,
          226217,
          231249,
          234721,
          232294,
          230490,
          226239,
          229833,
          233382,
          232171,
          226338,
          217536,
          213951,
          214388,
          217082,
          226697,
          230453
         ],
         "yaxis": "y"
        },
        {
         "hovertemplate": "Entity=Western Pacific Region (WHO)<br>Year=%{x}<br>Deaths - Self-harm - Sex: Both - Age: All Ages (Number)=%{y}<extra></extra>",
         "legendgroup": "Western Pacific Region (WHO)",
         "line": {
          "color": "#19d3f3",
          "dash": "solid"
         },
         "marker": {
          "symbol": "circle"
         },
         "mode": "lines",
         "name": "Western Pacific Region (WHO)",
         "orientation": "v",
         "showlegend": true,
         "type": "scatter",
         "x": [
          1990,
          1991,
          1992,
          1993,
          1994,
          1995,
          1996,
          1997,
          1998,
          1999,
          2000,
          2001,
          2002,
          2003,
          2004,
          2005,
          2006,
          2007,
          2008,
          2009,
          2010,
          2011,
          2012,
          2013,
          2014,
          2015,
          2016,
          2017,
          2018,
          2019
         ],
         "xaxis": "x",
         "y": [
          259823,
          261483,
          261230,
          259687,
          266036,
          269069,
          264125,
          260075,
          261605,
          256957,
          248348,
          233122,
          226157,
          235403,
          243667,
          241539,
          233201,
          227137,
          223191,
          219674,
          215097,
          207719,
          198973,
          192357,
          188296,
          184508,
          184299,
          184251,
          184966,
          184918
         ],
         "yaxis": "y"
        }
       ],
       "layout": {
        "legend": {
         "title": {
          "text": "Entity"
         },
         "tracegroupgap": 0
        },
        "template": {
         "data": {
          "bar": [
           {
            "error_x": {
             "color": "#2a3f5f"
            },
            "error_y": {
             "color": "#2a3f5f"
            },
            "marker": {
             "line": {
              "color": "#E5ECF6",
              "width": 0.5
             },
             "pattern": {
              "fillmode": "overlay",
              "size": 10,
              "solidity": 0.2
             }
            },
            "type": "bar"
           }
          ],
          "barpolar": [
           {
            "marker": {
             "line": {
              "color": "#E5ECF6",
              "width": 0.5
             },
             "pattern": {
              "fillmode": "overlay",
              "size": 10,
              "solidity": 0.2
             }
            },
            "type": "barpolar"
           }
          ],
          "carpet": [
           {
            "aaxis": {
             "endlinecolor": "#2a3f5f",
             "gridcolor": "white",
             "linecolor": "white",
             "minorgridcolor": "white",
             "startlinecolor": "#2a3f5f"
            },
            "baxis": {
             "endlinecolor": "#2a3f5f",
             "gridcolor": "white",
             "linecolor": "white",
             "minorgridcolor": "white",
             "startlinecolor": "#2a3f5f"
            },
            "type": "carpet"
           }
          ],
          "choropleth": [
           {
            "colorbar": {
             "outlinewidth": 0,
             "ticks": ""
            },
            "type": "choropleth"
           }
          ],
          "contour": [
           {
            "colorbar": {
             "outlinewidth": 0,
             "ticks": ""
            },
            "colorscale": [
             [
              0,
              "#0d0887"
             ],
             [
              0.1111111111111111,
              "#46039f"
             ],
             [
              0.2222222222222222,
              "#7201a8"
             ],
             [
              0.3333333333333333,
              "#9c179e"
             ],
             [
              0.4444444444444444,
              "#bd3786"
             ],
             [
              0.5555555555555556,
              "#d8576b"
             ],
             [
              0.6666666666666666,
              "#ed7953"
             ],
             [
              0.7777777777777778,
              "#fb9f3a"
             ],
             [
              0.8888888888888888,
              "#fdca26"
             ],
             [
              1,
              "#f0f921"
             ]
            ],
            "type": "contour"
           }
          ],
          "contourcarpet": [
           {
            "colorbar": {
             "outlinewidth": 0,
             "ticks": ""
            },
            "type": "contourcarpet"
           }
          ],
          "heatmap": [
           {
            "colorbar": {
             "outlinewidth": 0,
             "ticks": ""
            },
            "colorscale": [
             [
              0,
              "#0d0887"
             ],
             [
              0.1111111111111111,
              "#46039f"
             ],
             [
              0.2222222222222222,
              "#7201a8"
             ],
             [
              0.3333333333333333,
              "#9c179e"
             ],
             [
              0.4444444444444444,
              "#bd3786"
             ],
             [
              0.5555555555555556,
              "#d8576b"
             ],
             [
              0.6666666666666666,
              "#ed7953"
             ],
             [
              0.7777777777777778,
              "#fb9f3a"
             ],
             [
              0.8888888888888888,
              "#fdca26"
             ],
             [
              1,
              "#f0f921"
             ]
            ],
            "type": "heatmap"
           }
          ],
          "heatmapgl": [
           {
            "colorbar": {
             "outlinewidth": 0,
             "ticks": ""
            },
            "colorscale": [
             [
              0,
              "#0d0887"
             ],
             [
              0.1111111111111111,
              "#46039f"
             ],
             [
              0.2222222222222222,
              "#7201a8"
             ],
             [
              0.3333333333333333,
              "#9c179e"
             ],
             [
              0.4444444444444444,
              "#bd3786"
             ],
             [
              0.5555555555555556,
              "#d8576b"
             ],
             [
              0.6666666666666666,
              "#ed7953"
             ],
             [
              0.7777777777777778,
              "#fb9f3a"
             ],
             [
              0.8888888888888888,
              "#fdca26"
             ],
             [
              1,
              "#f0f921"
             ]
            ],
            "type": "heatmapgl"
           }
          ],
          "histogram": [
           {
            "marker": {
             "pattern": {
              "fillmode": "overlay",
              "size": 10,
              "solidity": 0.2
             }
            },
            "type": "histogram"
           }
          ],
          "histogram2d": [
           {
            "colorbar": {
             "outlinewidth": 0,
             "ticks": ""
            },
            "colorscale": [
             [
              0,
              "#0d0887"
             ],
             [
              0.1111111111111111,
              "#46039f"
             ],
             [
              0.2222222222222222,
              "#7201a8"
             ],
             [
              0.3333333333333333,
              "#9c179e"
             ],
             [
              0.4444444444444444,
              "#bd3786"
             ],
             [
              0.5555555555555556,
              "#d8576b"
             ],
             [
              0.6666666666666666,
              "#ed7953"
             ],
             [
              0.7777777777777778,
              "#fb9f3a"
             ],
             [
              0.8888888888888888,
              "#fdca26"
             ],
             [
              1,
              "#f0f921"
             ]
            ],
            "type": "histogram2d"
           }
          ],
          "histogram2dcontour": [
           {
            "colorbar": {
             "outlinewidth": 0,
             "ticks": ""
            },
            "colorscale": [
             [
              0,
              "#0d0887"
             ],
             [
              0.1111111111111111,
              "#46039f"
             ],
             [
              0.2222222222222222,
              "#7201a8"
             ],
             [
              0.3333333333333333,
              "#9c179e"
             ],
             [
              0.4444444444444444,
              "#bd3786"
             ],
             [
              0.5555555555555556,
              "#d8576b"
             ],
             [
              0.6666666666666666,
              "#ed7953"
             ],
             [
              0.7777777777777778,
              "#fb9f3a"
             ],
             [
              0.8888888888888888,
              "#fdca26"
             ],
             [
              1,
              "#f0f921"
             ]
            ],
            "type": "histogram2dcontour"
           }
          ],
          "mesh3d": [
           {
            "colorbar": {
             "outlinewidth": 0,
             "ticks": ""
            },
            "type": "mesh3d"
           }
          ],
          "parcoords": [
           {
            "line": {
             "colorbar": {
              "outlinewidth": 0,
              "ticks": ""
             }
            },
            "type": "parcoords"
           }
          ],
          "pie": [
           {
            "automargin": true,
            "type": "pie"
           }
          ],
          "scatter": [
           {
            "fillpattern": {
             "fillmode": "overlay",
             "size": 10,
             "solidity": 0.2
            },
            "type": "scatter"
           }
          ],
          "scatter3d": [
           {
            "line": {
             "colorbar": {
              "outlinewidth": 0,
              "ticks": ""
             }
            },
            "marker": {
             "colorbar": {
              "outlinewidth": 0,
              "ticks": ""
             }
            },
            "type": "scatter3d"
           }
          ],
          "scattercarpet": [
           {
            "marker": {
             "colorbar": {
              "outlinewidth": 0,
              "ticks": ""
             }
            },
            "type": "scattercarpet"
           }
          ],
          "scattergeo": [
           {
            "marker": {
             "colorbar": {
              "outlinewidth": 0,
              "ticks": ""
             }
            },
            "type": "scattergeo"
           }
          ],
          "scattergl": [
           {
            "marker": {
             "colorbar": {
              "outlinewidth": 0,
              "ticks": ""
             }
            },
            "type": "scattergl"
           }
          ],
          "scattermapbox": [
           {
            "marker": {
             "colorbar": {
              "outlinewidth": 0,
              "ticks": ""
             }
            },
            "type": "scattermapbox"
           }
          ],
          "scatterpolar": [
           {
            "marker": {
             "colorbar": {
              "outlinewidth": 0,
              "ticks": ""
             }
            },
            "type": "scatterpolar"
           }
          ],
          "scatterpolargl": [
           {
            "marker": {
             "colorbar": {
              "outlinewidth": 0,
              "ticks": ""
             }
            },
            "type": "scatterpolargl"
           }
          ],
          "scatterternary": [
           {
            "marker": {
             "colorbar": {
              "outlinewidth": 0,
              "ticks": ""
             }
            },
            "type": "scatterternary"
           }
          ],
          "surface": [
           {
            "colorbar": {
             "outlinewidth": 0,
             "ticks": ""
            },
            "colorscale": [
             [
              0,
              "#0d0887"
             ],
             [
              0.1111111111111111,
              "#46039f"
             ],
             [
              0.2222222222222222,
              "#7201a8"
             ],
             [
              0.3333333333333333,
              "#9c179e"
             ],
             [
              0.4444444444444444,
              "#bd3786"
             ],
             [
              0.5555555555555556,
              "#d8576b"
             ],
             [
              0.6666666666666666,
              "#ed7953"
             ],
             [
              0.7777777777777778,
              "#fb9f3a"
             ],
             [
              0.8888888888888888,
              "#fdca26"
             ],
             [
              1,
              "#f0f921"
             ]
            ],
            "type": "surface"
           }
          ],
          "table": [
           {
            "cells": {
             "fill": {
              "color": "#EBF0F8"
             },
             "line": {
              "color": "white"
             }
            },
            "header": {
             "fill": {
              "color": "#C8D4E3"
             },
             "line": {
              "color": "white"
             }
            },
            "type": "table"
           }
          ]
         },
         "layout": {
          "annotationdefaults": {
           "arrowcolor": "#2a3f5f",
           "arrowhead": 0,
           "arrowwidth": 1
          },
          "autotypenumbers": "strict",
          "coloraxis": {
           "colorbar": {
            "outlinewidth": 0,
            "ticks": ""
           }
          },
          "colorscale": {
           "diverging": [
            [
             0,
             "#8e0152"
            ],
            [
             0.1,
             "#c51b7d"
            ],
            [
             0.2,
             "#de77ae"
            ],
            [
             0.3,
             "#f1b6da"
            ],
            [
             0.4,
             "#fde0ef"
            ],
            [
             0.5,
             "#f7f7f7"
            ],
            [
             0.6,
             "#e6f5d0"
            ],
            [
             0.7,
             "#b8e186"
            ],
            [
             0.8,
             "#7fbc41"
            ],
            [
             0.9,
             "#4d9221"
            ],
            [
             1,
             "#276419"
            ]
           ],
           "sequential": [
            [
             0,
             "#0d0887"
            ],
            [
             0.1111111111111111,
             "#46039f"
            ],
            [
             0.2222222222222222,
             "#7201a8"
            ],
            [
             0.3333333333333333,
             "#9c179e"
            ],
            [
             0.4444444444444444,
             "#bd3786"
            ],
            [
             0.5555555555555556,
             "#d8576b"
            ],
            [
             0.6666666666666666,
             "#ed7953"
            ],
            [
             0.7777777777777778,
             "#fb9f3a"
            ],
            [
             0.8888888888888888,
             "#fdca26"
            ],
            [
             1,
             "#f0f921"
            ]
           ],
           "sequentialminus": [
            [
             0,
             "#0d0887"
            ],
            [
             0.1111111111111111,
             "#46039f"
            ],
            [
             0.2222222222222222,
             "#7201a8"
            ],
            [
             0.3333333333333333,
             "#9c179e"
            ],
            [
             0.4444444444444444,
             "#bd3786"
            ],
            [
             0.5555555555555556,
             "#d8576b"
            ],
            [
             0.6666666666666666,
             "#ed7953"
            ],
            [
             0.7777777777777778,
             "#fb9f3a"
            ],
            [
             0.8888888888888888,
             "#fdca26"
            ],
            [
             1,
             "#f0f921"
            ]
           ]
          },
          "colorway": [
           "#636efa",
           "#EF553B",
           "#00cc96",
           "#ab63fa",
           "#FFA15A",
           "#19d3f3",
           "#FF6692",
           "#B6E880",
           "#FF97FF",
           "#FECB52"
          ],
          "font": {
           "color": "#2a3f5f"
          },
          "geo": {
           "bgcolor": "white",
           "lakecolor": "white",
           "landcolor": "#E5ECF6",
           "showlakes": true,
           "showland": true,
           "subunitcolor": "white"
          },
          "hoverlabel": {
           "align": "left"
          },
          "hovermode": "closest",
          "mapbox": {
           "style": "light"
          },
          "paper_bgcolor": "white",
          "plot_bgcolor": "#E5ECF6",
          "polar": {
           "angularaxis": {
            "gridcolor": "white",
            "linecolor": "white",
            "ticks": ""
           },
           "bgcolor": "#E5ECF6",
           "radialaxis": {
            "gridcolor": "white",
            "linecolor": "white",
            "ticks": ""
           }
          },
          "scene": {
           "xaxis": {
            "backgroundcolor": "#E5ECF6",
            "gridcolor": "white",
            "gridwidth": 2,
            "linecolor": "white",
            "showbackground": true,
            "ticks": "",
            "zerolinecolor": "white"
           },
           "yaxis": {
            "backgroundcolor": "#E5ECF6",
            "gridcolor": "white",
            "gridwidth": 2,
            "linecolor": "white",
            "showbackground": true,
            "ticks": "",
            "zerolinecolor": "white"
           },
           "zaxis": {
            "backgroundcolor": "#E5ECF6",
            "gridcolor": "white",
            "gridwidth": 2,
            "linecolor": "white",
            "showbackground": true,
            "ticks": "",
            "zerolinecolor": "white"
           }
          },
          "shapedefaults": {
           "line": {
            "color": "#2a3f5f"
           }
          },
          "ternary": {
           "aaxis": {
            "gridcolor": "white",
            "linecolor": "white",
            "ticks": ""
           },
           "baxis": {
            "gridcolor": "white",
            "linecolor": "white",
            "ticks": ""
           },
           "bgcolor": "#E5ECF6",
           "caxis": {
            "gridcolor": "white",
            "linecolor": "white",
            "ticks": ""
           }
          },
          "title": {
           "x": 0.05
          },
          "xaxis": {
           "automargin": true,
           "gridcolor": "white",
           "linecolor": "white",
           "ticks": "",
           "title": {
            "standoff": 15
           },
           "zerolinecolor": "white",
           "zerolinewidth": 2
          },
          "yaxis": {
           "automargin": true,
           "gridcolor": "white",
           "linecolor": "white",
           "ticks": "",
           "title": {
            "standoff": 15
           },
           "zerolinecolor": "white",
           "zerolinewidth": 2
          }
         }
        },
        "title": {
         "text": "Muertes por  suicidios por regiones",
         "x": 0.5,
         "xanchor": "center"
        },
        "xaxis": {
         "anchor": "y",
         "domain": [
          0,
          1
         ],
         "title": {
          "text": "Year"
         }
        },
        "yaxis": {
         "anchor": "x",
         "domain": [
          0,
          1
         ],
         "title": {
          "text": "Deaths - Self-harm - Sex: Both - Age: All Ages (Number)"
         }
        }
       }
      }
     },
     "metadata": {},
     "output_type": "display_data"
    }
   ],
   "source": [
    "fig=px.line(\n",
    "    data_frame=df_continent,\n",
    "    y=\"Deaths - Self-harm - Sex: Both - Age: All Ages (Number)\",\n",
    "    x=\"Year\",\n",
    "    color=\"Entity\",\n",
    "    title= \"Muertes por suicidios\"\n",
    "            \n",
    "    )\n",
    "fig.update_layout(\n",
    "    title={\n",
    "        'text': \"Muertes por  suicidios por regiones\",\n",
    "        'x': 0.5,\n",
    "        'xanchor':'center'\n",
    "\n",
    "    }\n",
    ")"
   ]
  },
  {
   "cell_type": "markdown",
   "metadata": {},
   "source": [
    "El orden es el siguiente: Sudeste asiático, Región Pacífica Oeste y Europa."
   ]
  },
  {
   "cell_type": "code",
   "execution_count": 74,
   "metadata": {},
   "outputs": [
    {
     "data": {
      "text/html": [
       "<div>\n",
       "<style scoped>\n",
       "    .dataframe tbody tr th:only-of-type {\n",
       "        vertical-align: middle;\n",
       "    }\n",
       "\n",
       "    .dataframe tbody tr th {\n",
       "        vertical-align: top;\n",
       "    }\n",
       "\n",
       "    .dataframe thead th {\n",
       "        text-align: right;\n",
       "    }\n",
       "</style>\n",
       "<table border=\"1\" class=\"dataframe\">\n",
       "  <thead>\n",
       "    <tr style=\"text-align: right;\">\n",
       "      <th></th>\n",
       "      <th>Entity</th>\n",
       "      <th>Code</th>\n",
       "      <th>Year</th>\n",
       "      <th>Deaths - Meningitis - Sex: Both - Age: All Ages (Number)</th>\n",
       "      <th>Deaths - Alzheimer's disease and other dementias - Sex: Both - Age: All Ages (Number)</th>\n",
       "      <th>Deaths - Parkinson's disease - Sex: Both - Age: All Ages (Number)</th>\n",
       "      <th>Deaths - Nutritional deficiencies - Sex: Both - Age: All Ages (Number)</th>\n",
       "      <th>Deaths - Malaria - Sex: Both - Age: All Ages (Number)</th>\n",
       "      <th>Deaths - Drowning - Sex: Both - Age: All Ages (Number)</th>\n",
       "      <th>Deaths - Interpersonal violence - Sex: Both - Age: All Ages (Number)</th>\n",
       "      <th>...</th>\n",
       "      <th>Deaths - Diabetes mellitus - Sex: Both - Age: All Ages (Number)</th>\n",
       "      <th>Deaths - Chronic kidney disease - Sex: Both - Age: All Ages (Number)</th>\n",
       "      <th>Deaths - Poisonings - Sex: Both - Age: All Ages (Number)</th>\n",
       "      <th>Deaths - Protein-energy malnutrition - Sex: Both - Age: All Ages (Number)</th>\n",
       "      <th>Deaths - Road injuries - Sex: Both - Age: All Ages (Number)</th>\n",
       "      <th>Deaths - Chronic respiratory diseases - Sex: Both - Age: All Ages (Number)</th>\n",
       "      <th>Deaths - Cirrhosis and other chronic liver diseases - Sex: Both - Age: All Ages (Number)</th>\n",
       "      <th>Deaths - Digestive diseases - Sex: Both - Age: All Ages (Number)</th>\n",
       "      <th>Deaths - Fire, heat, and hot substances - Sex: Both - Age: All Ages (Number)</th>\n",
       "      <th>Deaths - Acute hepatitis - Sex: Both - Age: All Ages (Number)</th>\n",
       "    </tr>\n",
       "  </thead>\n",
       "  <tbody>\n",
       "    <tr>\n",
       "      <th>1145</th>\n",
       "      <td>China</td>\n",
       "      <td>CHN</td>\n",
       "      <td>1995</td>\n",
       "      <td>29319</td>\n",
       "      <td>106958</td>\n",
       "      <td>35450</td>\n",
       "      <td>29567</td>\n",
       "      <td>1068</td>\n",
       "      <td>136083</td>\n",
       "      <td>37763</td>\n",
       "      <td>...</td>\n",
       "      <td>77685</td>\n",
       "      <td>103512</td>\n",
       "      <td>20746</td>\n",
       "      <td>27874</td>\n",
       "      <td>240786</td>\n",
       "      <td>1360352</td>\n",
       "      <td>166990</td>\n",
       "      <td>311593</td>\n",
       "      <td>15467</td>\n",
       "      <td>19407</td>\n",
       "    </tr>\n",
       "    <tr>\n",
       "      <th>1144</th>\n",
       "      <td>China</td>\n",
       "      <td>CHN</td>\n",
       "      <td>1994</td>\n",
       "      <td>31752</td>\n",
       "      <td>103621</td>\n",
       "      <td>34680</td>\n",
       "      <td>32825</td>\n",
       "      <td>1146</td>\n",
       "      <td>138993</td>\n",
       "      <td>38146</td>\n",
       "      <td>...</td>\n",
       "      <td>75643</td>\n",
       "      <td>101945</td>\n",
       "      <td>20528</td>\n",
       "      <td>31078</td>\n",
       "      <td>233459</td>\n",
       "      <td>1366039</td>\n",
       "      <td>167640</td>\n",
       "      <td>315647</td>\n",
       "      <td>16504</td>\n",
       "      <td>20915</td>\n",
       "    </tr>\n",
       "    <tr>\n",
       "      <th>1141</th>\n",
       "      <td>China</td>\n",
       "      <td>CHN</td>\n",
       "      <td>1991</td>\n",
       "      <td>36834</td>\n",
       "      <td>95470</td>\n",
       "      <td>32607</td>\n",
       "      <td>42446</td>\n",
       "      <td>2245</td>\n",
       "      <td>150399</td>\n",
       "      <td>39187</td>\n",
       "      <td>...</td>\n",
       "      <td>70488</td>\n",
       "      <td>98875</td>\n",
       "      <td>21944</td>\n",
       "      <td>40380</td>\n",
       "      <td>226876</td>\n",
       "      <td>1324798</td>\n",
       "      <td>169742</td>\n",
       "      <td>325511</td>\n",
       "      <td>17205</td>\n",
       "      <td>25305</td>\n",
       "    </tr>\n",
       "  </tbody>\n",
       "</table>\n",
       "<p>3 rows × 34 columns</p>\n",
       "</div>"
      ],
      "text/plain": [
       "     Entity Code  Year  \\\n",
       "1145  China  CHN  1995   \n",
       "1144  China  CHN  1994   \n",
       "1141  China  CHN  1991   \n",
       "\n",
       "      Deaths - Meningitis - Sex: Both - Age: All Ages (Number)  \\\n",
       "1145                                              29319          \n",
       "1144                                              31752          \n",
       "1141                                              36834          \n",
       "\n",
       "      Deaths - Alzheimer's disease and other dementias - Sex: Both - Age: All Ages (Number)  \\\n",
       "1145                                             106958                                       \n",
       "1144                                             103621                                       \n",
       "1141                                              95470                                       \n",
       "\n",
       "      Deaths - Parkinson's disease - Sex: Both - Age: All Ages (Number)  \\\n",
       "1145                                              35450                   \n",
       "1144                                              34680                   \n",
       "1141                                              32607                   \n",
       "\n",
       "      Deaths - Nutritional deficiencies - Sex: Both - Age: All Ages (Number)  \\\n",
       "1145                                              29567                        \n",
       "1144                                              32825                        \n",
       "1141                                              42446                        \n",
       "\n",
       "      Deaths - Malaria - Sex: Both - Age: All Ages (Number)  \\\n",
       "1145                                               1068       \n",
       "1144                                               1146       \n",
       "1141                                               2245       \n",
       "\n",
       "      Deaths - Drowning - Sex: Both - Age: All Ages (Number)  \\\n",
       "1145                                             136083        \n",
       "1144                                             138993        \n",
       "1141                                             150399        \n",
       "\n",
       "      Deaths - Interpersonal violence - Sex: Both - Age: All Ages (Number)  \\\n",
       "1145                                              37763                      \n",
       "1144                                              38146                      \n",
       "1141                                              39187                      \n",
       "\n",
       "      ...  Deaths - Diabetes mellitus - Sex: Both - Age: All Ages (Number)  \\\n",
       "1145  ...                                              77685                 \n",
       "1144  ...                                              75643                 \n",
       "1141  ...                                              70488                 \n",
       "\n",
       "      Deaths - Chronic kidney disease - Sex: Both - Age: All Ages (Number)  \\\n",
       "1145                                             103512                      \n",
       "1144                                             101945                      \n",
       "1141                                              98875                      \n",
       "\n",
       "      Deaths - Poisonings - Sex: Both - Age: All Ages (Number)  \\\n",
       "1145                                              20746          \n",
       "1144                                              20528          \n",
       "1141                                              21944          \n",
       "\n",
       "      Deaths - Protein-energy malnutrition - Sex: Both - Age: All Ages (Number)  \\\n",
       "1145                                              27874                           \n",
       "1144                                              31078                           \n",
       "1141                                              40380                           \n",
       "\n",
       "      Deaths - Road injuries - Sex: Both - Age: All Ages (Number)  \\\n",
       "1145                                             240786             \n",
       "1144                                             233459             \n",
       "1141                                             226876             \n",
       "\n",
       "      Deaths - Chronic respiratory diseases - Sex: Both - Age: All Ages (Number)  \\\n",
       "1145                                            1360352                            \n",
       "1144                                            1366039                            \n",
       "1141                                            1324798                            \n",
       "\n",
       "      Deaths - Cirrhosis and other chronic liver diseases - Sex: Both - Age: All Ages (Number)  \\\n",
       "1145                                             166990                                          \n",
       "1144                                             167640                                          \n",
       "1141                                             169742                                          \n",
       "\n",
       "      Deaths - Digestive diseases - Sex: Both - Age: All Ages (Number)  \\\n",
       "1145                                             311593                  \n",
       "1144                                             315647                  \n",
       "1141                                             325511                  \n",
       "\n",
       "      Deaths - Fire, heat, and hot substances - Sex: Both - Age: All Ages (Number)  \\\n",
       "1145                                              15467                              \n",
       "1144                                              16504                              \n",
       "1141                                              17205                              \n",
       "\n",
       "      Deaths - Acute hepatitis - Sex: Both - Age: All Ages (Number)  \n",
       "1145                                              19407              \n",
       "1144                                              20915              \n",
       "1141                                              25305              \n",
       "\n",
       "[3 rows x 34 columns]"
      ]
     },
     "execution_count": 74,
     "metadata": {},
     "output_type": "execute_result"
    }
   ],
   "source": [
    "#El país que lidera las muestes por suicidios es:\n",
    "df.sort_values(by=\"Deaths - Self-harm - Sex: Both - Age: All Ages (Number)\", ascending=False).head(3)"
   ]
  },
  {
   "cell_type": "code",
   "execution_count": null,
   "metadata": {},
   "outputs": [],
   "source": []
  }
 ],
 "metadata": {
  "kernelspec": {
   "display_name": "base",
   "language": "python",
   "name": "python3"
  },
  "language_info": {
   "codemirror_mode": {
    "name": "ipython",
    "version": 3
   },
   "file_extension": ".py",
   "mimetype": "text/x-python",
   "name": "python",
   "nbconvert_exporter": "python",
   "pygments_lexer": "ipython3",
   "version": "3.11.5"
  }
 },
 "nbformat": 4,
 "nbformat_minor": 2
}
